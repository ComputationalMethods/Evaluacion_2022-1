{
  "cells": [
    {
      "cell_type": "code",
      "execution_count": 27,
      "id": "98d2b606",
      "metadata": {},
      "outputs": [],
      "source": [
        "# Importaciones\n",
        "import numpy as np\n",
        "import scipy as sci\n",
        "import sympy as sp\n",
        "import pandas as pd\n",
        "import requests\n",
        "import json\n",
        "from math import *"
      ]
    },
    {
      "cell_type": "markdown",
      "metadata": {
        "colab_type": "text",
        "id": "view-in-github"
      },
      "source": [
        "<a href=\"https://colab.research.google.com/github/ComputationalMethods/Evaluacion_2022-1/blob/main/Examenes/Examen_2022_1_02_enunciado.ipynb\" target=\"_parent\"><img src=\"https://colab.research.google.com/assets/colab-badge.svg\" alt=\"Open In Colab\"/></a>"
      ]
    },
    {
      "cell_type": "markdown",
      "id": "a3f0c1b2-a69e-4149-b747-97a5863134d9",
      "metadata": {
        "id": "a3f0c1b2-a69e-4149-b747-97a5863134d9"
      },
      "source": [
        "# Examen 2: Métodos computacionales\n",
        "A)\n",
        "1. Usando su número de cédula cómo semilla, obtenga un numero entero aleatorio, $n$, entre 2 y 20.\n",
        "2. Usando el $n$ obtenido, haga una estimación de la siguiente integral hasta dos cifras significativas, usando el método `quad` del módulo `integrate` de Scipy\n",
        "$$\n",
        "\\int_0^\\infty \\sin(x^n)\\operatorname{d}x\n",
        "$$\n",
        "Sugerencia. Compare con el valor obtenido desde https://www.wolframalpha.com/ o [sympy](https://stackoverflow.com/questions/65862611/integration-of-sin-x-dx-problem-in-python-programming-implementation)"
      ]
    },
    {
      "cell_type": "code",
      "execution_count": 28,
      "id": "62cbc669-9ed6-4f54-b4c9-5ac10f7c15d6",
      "metadata": {
        "id": "62cbc669-9ed6-4f54-b4c9-5ac10f7c15d6"
      },
      "outputs": [
        {
          "data": {
            "text/plain": [
              "7"
            ]
          },
          "execution_count": 28,
          "metadata": {},
          "output_type": "execute_result"
        }
      ],
      "source": [
        "# Punto 1 \n",
        "np.random.seed(1214748203)\n",
        "Valn = np.random.randint(2,20)\n",
        "Valn"
      ]
    },
    {
      "cell_type": "code",
      "execution_count": 29,
      "id": "4db4c013",
      "metadata": {},
      "outputs": [],
      "source": [
        "x = sp.symbols('x')\n",
        "λ = Valn\n",
        "inf = float(\"inf\")\n",
        "test = lambda x: sp.sin(x**λ)\n",
        "def I(f):\n",
        "    return sp.integrate(test(x),(x,0,inf))"
      ]
    },
    {
      "cell_type": "code",
      "execution_count": 30,
      "id": "c601220d",
      "metadata": {},
      "outputs": [
        {
          "name": "stdout",
          "output_type": "stream",
          "text": [
            "2**(1/7)*sqrt(pi)*gamma(4/7)/(14*gamma(13/14))\n"
          ]
        }
      ],
      "source": [
        "print(I(test).subs(λ,7))"
      ]
    },
    {
      "cell_type": "code",
      "execution_count": 31,
      "id": "cab28606",
      "metadata": {},
      "outputs": [
        {
          "data": {
            "text/plain": [
              "0.20815444015266787"
            ]
          },
          "execution_count": 31,
          "metadata": {},
          "output_type": "execute_result"
        }
      ],
      "source": [
        "resultado = ( 2**(1/7)*sqrt(pi)*sci.special.gamma(4/7) ) / (14*sci.special.gamma(13/14))\n",
        "resultado"
      ]
    },
    {
      "cell_type": "markdown",
      "id": "56c21538",
      "metadata": {},
      "source": [
        "Valor obtenido en https://www.wolframalpha.com/ es: \n",
        "\n",
        "![](resultadoWA.PNG)"
      ]
    },
    {
      "cell_type": "markdown",
      "id": "0949b7a5-6d81-4e98-adc7-a7a1867266a3",
      "metadata": {
        "id": "0949b7a5-6d81-4e98-adc7-a7a1867266a3"
      },
      "source": [
        "B) Cargue los datos disponibles en:\n",
        "\n",
        "https://raw.githubusercontent.com/ComputationalMethods/Evaluacion_2022-1/main/data/lista_pares.json\n",
        "\n",
        "como un DataFrame de pandas. Este contendrá dos columnas. La columna `lista`, con una lista de 8 enteros (algunos de ellos repetidos) y una columna `pares` correspondiente a un diccionario\n",
        "con dos items: un entero rotulado con `'S'` y una lista de pares de enteros routulada con `'ψ'`. Note que el resultado de la suma en valor absoluto de los dos enteros en cada uno de los pares reproduce el valor del correspondiente `'S'` \n",
        "\n",
        "Seleccione la fila del DataFrame con el índice correspondiente a los dos últimos dígitos de su cédula y desarrolle los siguientes puntos con la correspondiente  `lista` y `pares`:\n",
        "1. Construya una matrix $8\\times 8$ _simétrica_ donde cada fila y la correspondiente columna correspondan a un entero de la `lista` (incluyendo los repetidos); de manera que en los cruces de filas y columnas definidos por los pares de enteros de `'ψ'`, se genere una entrada aleatoria mayor que cero y menor o igual que 1, con las demas entradas iguales a cero.\n",
        "1. Calcule el determinante y establezca explícitamente si es diferente cero (tenga en cuenta la precisión numérica). Recuerde que si el determinante es cero, se espera que al menos uno de los autovalores sea cero\n",
        "2. Organize los autovalores y autovectores de menor a mayor en valor absoluto y compruebe que las matriz de autovectores organizada da lugar a los autovalores en el orden correcto. \n",
        "3. Establezca explícitamente _cuantos_ autovalores son degenerados en valor absoluto."
      ]
    },
    {
      "cell_type": "code",
      "execution_count": null,
      "id": "2df48495-196b-4fa4-8206-466cd33658e2",
      "metadata": {
        "id": "2df48495-196b-4fa4-8206-466cd33658e2"
      },
      "outputs": [],
      "source": [
        "Pagina = \"https://raw.githubusercontent.com/ComputationalMethods/Evaluacion_2022-1/main/data/lista_pares.json\"\n",
        "Archivo = json.loads(requests.get(Pagina).text)\n",
        "Df = pd.DataFrame(Archivo)\n",
        "Df"
      ]
    },
    {
      "cell_type": "code",
      "execution_count": null,
      "id": "7ec49d64",
      "metadata": {},
      "outputs": [],
      "source": [
        "MisDatos = Df.iloc[3,:]\n",
        "Lista = MisDatos[\"lista\"]\n",
        "Pares = MisDatos[\"pares\"]\n",
        "print(Lista)\n",
        "print(Pares)"
      ]
    },
    {
      "cell_type": "code",
      "execution_count": null,
      "id": "b78e16a4",
      "metadata": {},
      "outputs": [],
      "source": [
        "# Testeando como crear una matriz para la comparación\n",
        "\n",
        "Objetivo = np.zeros((8,8))\n",
        "for i in range(0,len(Objetivo[0,:])):\n",
        "    Objetivo[abs(Pares['ψ'][i][0])-1,abs(Pares['ψ'][i][1])-1] = 1\n",
        "\n",
        "Objetivo"
      ]
    },
    {
      "cell_type": "code",
      "execution_count": null,
      "id": "a40da09c",
      "metadata": {},
      "outputs": [],
      "source": [
        "Test = np.array([Lista,Lista,Lista,Lista,Lista,Lista,Lista,Lista])"
      ]
    },
    {
      "cell_type": "code",
      "execution_count": null,
      "id": "9196a4aa",
      "metadata": {},
      "outputs": [],
      "source": [
        "(Test+Test.transpose())/2\n"
      ]
    },
    {
      "cell_type": "code",
      "execution_count": null,
      "id": "8c91e97c",
      "metadata": {},
      "outputs": [],
      "source": []
    }
  ],
  "metadata": {
    "colab": {
      "include_colab_link": true,
      "provenance": []
    },
    "kernelspec": {
      "display_name": "Python 3.10.8 64-bit",
      "language": "python",
      "name": "python3"
    },
    "language_info": {
      "codemirror_mode": {
        "name": "ipython",
        "version": 3
      },
      "file_extension": ".py",
      "mimetype": "text/x-python",
      "name": "python",
      "nbconvert_exporter": "python",
      "pygments_lexer": "ipython3",
      "version": "3.10.8"
    },
    "vscode": {
      "interpreter": {
        "hash": "26de051ba29f2982a8de78e945f0abaf191376122a1563185a90213a26c5da77"
      }
    }
  },
  "nbformat": 4,
  "nbformat_minor": 5
}
