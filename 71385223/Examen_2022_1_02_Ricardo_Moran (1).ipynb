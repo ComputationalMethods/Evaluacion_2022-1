{
  "cells": [
    {
      "cell_type": "markdown",
      "id": "a3f0c1b2-a69e-4149-b747-97a5863134d9",
      "metadata": {
        "id": "a3f0c1b2-a69e-4149-b747-97a5863134d9"
      },
      "source": [
        "# Examen 2: Métodos computacionales\n",
        "A)\n",
        "1. Usando su número de cédula cómo semilla, obtenga un numero entero aleatorio, $n$, entre 2 y 20.\n",
        "2. Usando el $n$ obtenido, haga una estimación de la siguiente integral hasta dos cifras significativas, usando el método `quad` del módulo `integrate` de Scipy\n",
        "$$\n",
        "\\int_0^\\infty \\sin(x^n)\\operatorname{d}x\n",
        "$$\n",
        "Sugerencia. Compare con el valor obtenido desde https://www.wolframalpha.com/ o [sympy](https://stackoverflow.com/questions/65862611/integration-of-sin-x-dx-problem-in-python-programming-implementation)"
      ]
    },
    {
      "cell_type": "code",
      "execution_count": 143,
      "id": "62cbc669-9ed6-4f54-b4c9-5ac10f7c15d6",
      "metadata": {
        "id": "62cbc669-9ed6-4f54-b4c9-5ac10f7c15d6",
        "outputId": "7be9484c-b207-41a6-a177-7ab93299ad26",
        "colab": {
          "base_uri": "https://localhost:8080/"
        }
      },
      "outputs": [
        {
          "output_type": "execute_result",
          "data": {
            "text/plain": [
              "6"
            ]
          },
          "metadata": {},
          "execution_count": 143
        }
      ],
      "source": [
        "import scipy as sc\n",
        "import random\n",
        "import numpy as np\n",
        "import sympy as sp\n",
        "from IPython.display import display, Latex\n",
        "from scipy import linalg\n",
        "from scipy import integrate\n",
        "from IPython.display import display, Latex\n",
        "\n",
        "random.seed(71385223) \n",
        "n = random.randrange(2, 21,1)\n",
        "n"
      ]
    },
    {
      "cell_type": "code",
      "source": [
        "v = integrate.quad(lambda x: np.sin((x**n)),0,1)[0] + integrate.quad(lambda x: np.sin(((1/x)**n))/x**2,0.2,1)[0]\n",
        "vw = 0.34\n",
        "print(v,vw)"
      ],
      "metadata": {
        "id": "GwPnN_rL4sLz",
        "outputId": "7aa2ea5c-4ad6-49eb-b117-abb7989658a2",
        "colab": {
          "base_uri": "https://localhost:8080/"
        }
      },
      "id": "GwPnN_rL4sLz",
      "execution_count": 144,
      "outputs": [
        {
          "output_type": "stream",
          "name": "stdout",
          "text": [
            "0.3151203347092446 0.34\n"
          ]
        },
        {
          "output_type": "stream",
          "name": "stderr",
          "text": [
            "/usr/local/lib/python3.7/dist-packages/ipykernel_launcher.py:1: IntegrationWarning: The integral is probably divergent, or slowly convergent.\n",
            "  \"\"\"Entry point for launching an IPython kernel.\n"
          ]
        }
      ]
    },
    {
      "cell_type": "markdown",
      "id": "0949b7a5-6d81-4e98-adc7-a7a1867266a3",
      "metadata": {
        "id": "0949b7a5-6d81-4e98-adc7-a7a1867266a3"
      },
      "source": [
        "B) Cargue los datos disponibles en:\n",
        "\n",
        "https://raw.githubusercontent.com/ComputationalMethods/Evaluacion_2022-1/main/data/lista_pares.json\n",
        "\n",
        "como un DataFrame de pandas. Este contendrá dos columnas. La columna `lista`, con una lista de 8 enteros (algunos de ellos repetidos) y una columna `pares` correspondiente a un diccionario\n",
        "con dos items: un entero rotulado con `'S'` y una lista de pares de enteros routulada con `'ψ'`. Note que el resultado de la suma en valor absoluto de los dos enteros en cada uno de los pares reproduce el valor del correspondiente `'S'` \n",
        "\n",
        "Seleccione la fila del DataFrame con el índice correspondiente a los dos últimos dígitos de su cédula y desarrolle los siguientes puntos con la correspondiente  `lista` y `pares`:\n",
        "1. Construya una matrix $8\\times 8$ _simétrica_ donde cada fila y la correspondiente columna correspondan a un entero de la `lista` (incluyendo los repetidos); de manera que en los cruces de filas y columnas definidos por los pares de enteros de `'ψ'`, se genere una entrada aleatoria mayor que cero y menor o igual que 1, con las demas entradas iguales a cero.\n",
        "1. Calcule el determinante y establezca explícitamente si es diferente cero (tenga en cuenta la precisión numérica). Recuerde que si el determinante es cero, se espera que al menos uno de los autovalores sea cero\n",
        "2. Organize los autovalores y autovectores de menor a mayor en valor absoluto y compruebe que las matriz de autovectores organizada da lugar a los autovalores en el orden correcto. \n",
        "3. Establezca explícitamente _cuantos_ autovalores son degenerados en valor absoluto."
      ]
    },
    {
      "cell_type": "code",
      "source": [
        "# Carga de datos como un DataFrame"
      ],
      "metadata": {
        "id": "A3O47WnqmqiJ"
      },
      "id": "A3O47WnqmqiJ",
      "execution_count": 145,
      "outputs": []
    },
    {
      "cell_type": "code",
      "execution_count": 146,
      "id": "2df48495-196b-4fa4-8206-466cd33658e2",
      "metadata": {
        "id": "2df48495-196b-4fa4-8206-466cd33658e2"
      },
      "outputs": [],
      "source": [
        "import pandas as pd\n",
        "import requests\n",
        "import json"
      ]
    },
    {
      "cell_type": "code",
      "source": [
        "df=pd.read_json('https://raw.githubusercontent.com/ComputationalMethods/Evaluacion_2022-1/main/data/lista_pares.json')\n",
        "dataframe=df.iloc[23]\n",
        "print('Lista: ',dataframe.lista)\n",
        "print('Pares: ', dataframe.pares)\n",
        "df\n"
      ],
      "metadata": {
        "id": "ZCsD8OLQnB5V",
        "outputId": "79c64d91-da54-4183-ac3c-f31a060ea70b",
        "colab": {
          "base_uri": "https://localhost:8080/",
          "height": 458
        }
      },
      "id": "ZCsD8OLQnB5V",
      "execution_count": 147,
      "outputs": [
        {
          "output_type": "stream",
          "name": "stdout",
          "text": [
            "Lista:  [1, 1, 3, -4, 6, -8, -10, 11]\n",
            "Pares:  {'S': 7, 'ψ': [[-4, 11], [1, 6], [3, -10], [1, -8], [11, -4], [6, 1], [-10, 3], [-8, 1]]}\n"
          ]
        },
        {
          "output_type": "execute_result",
          "data": {
            "text/plain": [
              "                                 lista  \\\n",
              "0          [1, 1, 2, 3, -4, -4, -5, 6]   \n",
              "1          [1, 2, 2, 2, -3, -5, -6, 7]   \n",
              "2         [1, -2, -2, 4, 5, -7, -7, 8]   \n",
              "3          [1, 2, 2, 4, -5, -5, -7, 8]   \n",
              "4         [2, -3, -4, 5, -6, 7, 7, -8]   \n",
              "..                                 ...   \n",
              "240  [2, -4, -5, 10, 11, -16, -17, 19]   \n",
              "241  [5, -7, -7, 11, 13, -17, -17, 19]   \n",
              "242   [4, -5, -7, 8, -17, 18, 18, -19]   \n",
              "243    [2, 2, 5, -7, 10, -14, -17, 19]   \n",
              "244   [2, -3, -3, 6, 10, -13, -18, 19]   \n",
              "\n",
              "                                                 pares  \n",
              "0    {'S': 2, 'ψ': [[3, -5], [2, -4], [-4, 6], [1, ...  \n",
              "1    {'S': 4, 'ψ': [[2, 2], [-3, 7], [1, -5], [2, -...  \n",
              "2    {'S': 9, 'ψ': [[4, 5], [1, 8], [-2, -7], [5, 4...  \n",
              "3    {'S': 3, 'ψ': [[4, -7], [-5, 8], [2, -5], [1, ...  \n",
              "4    {'S': 1, 'ψ': [[-6, 7], [7, -8], [5, -6], [2, ...  \n",
              "..                                                 ...  \n",
              "240  {'S': 21, 'ψ': [[-4, -17], [-5, -16], [10, 11]...  \n",
              "241  {'S': 24, 'ψ': [[5, 19], [-7, -17], [11, 13], ...  \n",
              "242  {'S': 1, 'ψ': [[-7, 8], [4, -5], [-17, 18], [1...  \n",
              "243  {'S': 12, 'ψ': [[2, -14], [2, 10], [-7, 19], [...  \n",
              "244  {'S': 16, 'ψ': [[-3, -13], [6, 10], [2, -18], ...  \n",
              "\n",
              "[245 rows x 2 columns]"
            ],
            "text/html": [
              "\n",
              "  <div id=\"df-a28cd3d5-ddca-48f0-a193-82d0ca794840\">\n",
              "    <div class=\"colab-df-container\">\n",
              "      <div>\n",
              "<style scoped>\n",
              "    .dataframe tbody tr th:only-of-type {\n",
              "        vertical-align: middle;\n",
              "    }\n",
              "\n",
              "    .dataframe tbody tr th {\n",
              "        vertical-align: top;\n",
              "    }\n",
              "\n",
              "    .dataframe thead th {\n",
              "        text-align: right;\n",
              "    }\n",
              "</style>\n",
              "<table border=\"1\" class=\"dataframe\">\n",
              "  <thead>\n",
              "    <tr style=\"text-align: right;\">\n",
              "      <th></th>\n",
              "      <th>lista</th>\n",
              "      <th>pares</th>\n",
              "    </tr>\n",
              "  </thead>\n",
              "  <tbody>\n",
              "    <tr>\n",
              "      <th>0</th>\n",
              "      <td>[1, 1, 2, 3, -4, -4, -5, 6]</td>\n",
              "      <td>{'S': 2, 'ψ': [[3, -5], [2, -4], [-4, 6], [1, ...</td>\n",
              "    </tr>\n",
              "    <tr>\n",
              "      <th>1</th>\n",
              "      <td>[1, 2, 2, 2, -3, -5, -6, 7]</td>\n",
              "      <td>{'S': 4, 'ψ': [[2, 2], [-3, 7], [1, -5], [2, -...</td>\n",
              "    </tr>\n",
              "    <tr>\n",
              "      <th>2</th>\n",
              "      <td>[1, -2, -2, 4, 5, -7, -7, 8]</td>\n",
              "      <td>{'S': 9, 'ψ': [[4, 5], [1, 8], [-2, -7], [5, 4...</td>\n",
              "    </tr>\n",
              "    <tr>\n",
              "      <th>3</th>\n",
              "      <td>[1, 2, 2, 4, -5, -5, -7, 8]</td>\n",
              "      <td>{'S': 3, 'ψ': [[4, -7], [-5, 8], [2, -5], [1, ...</td>\n",
              "    </tr>\n",
              "    <tr>\n",
              "      <th>4</th>\n",
              "      <td>[2, -3, -4, 5, -6, 7, 7, -8]</td>\n",
              "      <td>{'S': 1, 'ψ': [[-6, 7], [7, -8], [5, -6], [2, ...</td>\n",
              "    </tr>\n",
              "    <tr>\n",
              "      <th>...</th>\n",
              "      <td>...</td>\n",
              "      <td>...</td>\n",
              "    </tr>\n",
              "    <tr>\n",
              "      <th>240</th>\n",
              "      <td>[2, -4, -5, 10, 11, -16, -17, 19]</td>\n",
              "      <td>{'S': 21, 'ψ': [[-4, -17], [-5, -16], [10, 11]...</td>\n",
              "    </tr>\n",
              "    <tr>\n",
              "      <th>241</th>\n",
              "      <td>[5, -7, -7, 11, 13, -17, -17, 19]</td>\n",
              "      <td>{'S': 24, 'ψ': [[5, 19], [-7, -17], [11, 13], ...</td>\n",
              "    </tr>\n",
              "    <tr>\n",
              "      <th>242</th>\n",
              "      <td>[4, -5, -7, 8, -17, 18, 18, -19]</td>\n",
              "      <td>{'S': 1, 'ψ': [[-7, 8], [4, -5], [-17, 18], [1...</td>\n",
              "    </tr>\n",
              "    <tr>\n",
              "      <th>243</th>\n",
              "      <td>[2, 2, 5, -7, 10, -14, -17, 19]</td>\n",
              "      <td>{'S': 12, 'ψ': [[2, -14], [2, 10], [-7, 19], [...</td>\n",
              "    </tr>\n",
              "    <tr>\n",
              "      <th>244</th>\n",
              "      <td>[2, -3, -3, 6, 10, -13, -18, 19]</td>\n",
              "      <td>{'S': 16, 'ψ': [[-3, -13], [6, 10], [2, -18], ...</td>\n",
              "    </tr>\n",
              "  </tbody>\n",
              "</table>\n",
              "<p>245 rows × 2 columns</p>\n",
              "</div>\n",
              "      <button class=\"colab-df-convert\" onclick=\"convertToInteractive('df-a28cd3d5-ddca-48f0-a193-82d0ca794840')\"\n",
              "              title=\"Convert this dataframe to an interactive table.\"\n",
              "              style=\"display:none;\">\n",
              "        \n",
              "  <svg xmlns=\"http://www.w3.org/2000/svg\" height=\"24px\"viewBox=\"0 0 24 24\"\n",
              "       width=\"24px\">\n",
              "    <path d=\"M0 0h24v24H0V0z\" fill=\"none\"/>\n",
              "    <path d=\"M18.56 5.44l.94 2.06.94-2.06 2.06-.94-2.06-.94-.94-2.06-.94 2.06-2.06.94zm-11 1L8.5 8.5l.94-2.06 2.06-.94-2.06-.94L8.5 2.5l-.94 2.06-2.06.94zm10 10l.94 2.06.94-2.06 2.06-.94-2.06-.94-.94-2.06-.94 2.06-2.06.94z\"/><path d=\"M17.41 7.96l-1.37-1.37c-.4-.4-.92-.59-1.43-.59-.52 0-1.04.2-1.43.59L10.3 9.45l-7.72 7.72c-.78.78-.78 2.05 0 2.83L4 21.41c.39.39.9.59 1.41.59.51 0 1.02-.2 1.41-.59l7.78-7.78 2.81-2.81c.8-.78.8-2.07 0-2.86zM5.41 20L4 18.59l7.72-7.72 1.47 1.35L5.41 20z\"/>\n",
              "  </svg>\n",
              "      </button>\n",
              "      \n",
              "  <style>\n",
              "    .colab-df-container {\n",
              "      display:flex;\n",
              "      flex-wrap:wrap;\n",
              "      gap: 12px;\n",
              "    }\n",
              "\n",
              "    .colab-df-convert {\n",
              "      background-color: #E8F0FE;\n",
              "      border: none;\n",
              "      border-radius: 50%;\n",
              "      cursor: pointer;\n",
              "      display: none;\n",
              "      fill: #1967D2;\n",
              "      height: 32px;\n",
              "      padding: 0 0 0 0;\n",
              "      width: 32px;\n",
              "    }\n",
              "\n",
              "    .colab-df-convert:hover {\n",
              "      background-color: #E2EBFA;\n",
              "      box-shadow: 0px 1px 2px rgba(60, 64, 67, 0.3), 0px 1px 3px 1px rgba(60, 64, 67, 0.15);\n",
              "      fill: #174EA6;\n",
              "    }\n",
              "\n",
              "    [theme=dark] .colab-df-convert {\n",
              "      background-color: #3B4455;\n",
              "      fill: #D2E3FC;\n",
              "    }\n",
              "\n",
              "    [theme=dark] .colab-df-convert:hover {\n",
              "      background-color: #434B5C;\n",
              "      box-shadow: 0px 1px 3px 1px rgba(0, 0, 0, 0.15);\n",
              "      filter: drop-shadow(0px 1px 2px rgba(0, 0, 0, 0.3));\n",
              "      fill: #FFFFFF;\n",
              "    }\n",
              "  </style>\n",
              "\n",
              "      <script>\n",
              "        const buttonEl =\n",
              "          document.querySelector('#df-a28cd3d5-ddca-48f0-a193-82d0ca794840 button.colab-df-convert');\n",
              "        buttonEl.style.display =\n",
              "          google.colab.kernel.accessAllowed ? 'block' : 'none';\n",
              "\n",
              "        async function convertToInteractive(key) {\n",
              "          const element = document.querySelector('#df-a28cd3d5-ddca-48f0-a193-82d0ca794840');\n",
              "          const dataTable =\n",
              "            await google.colab.kernel.invokeFunction('convertToInteractive',\n",
              "                                                     [key], {});\n",
              "          if (!dataTable) return;\n",
              "\n",
              "          const docLinkHtml = 'Like what you see? Visit the ' +\n",
              "            '<a target=\"_blank\" href=https://colab.research.google.com/notebooks/data_table.ipynb>data table notebook</a>'\n",
              "            + ' to learn more about interactive tables.';\n",
              "          element.innerHTML = '';\n",
              "          dataTable['output_type'] = 'display_data';\n",
              "          await google.colab.output.renderOutput(dataTable, element);\n",
              "          const docLink = document.createElement('div');\n",
              "          docLink.innerHTML = docLinkHtml;\n",
              "          element.appendChild(docLink);\n",
              "        }\n",
              "      </script>\n",
              "    </div>\n",
              "  </div>\n",
              "  "
            ]
          },
          "metadata": {},
          "execution_count": 147
        }
      ]
    },
    {
      "cell_type": "code",
      "source": [
        "#B. 1) Construcción de la matriz"
      ],
      "metadata": {
        "id": "gKmadMStnHU6"
      },
      "id": "gKmadMStnHU6",
      "execution_count": 148,
      "outputs": []
    },
    {
      "cell_type": "code",
      "source": [
        "J= df.lista[23]\n",
        "W= df.pares[23]['ψ']\n",
        "lista0=[]\n",
        "for i in J:\n",
        "  lista=[]\n",
        "  for j in J:\n",
        "    if [i, j] in df.pares[23]['ψ']:\n",
        "      lista. append(round(random.random(),2))\n",
        "    else:\n",
        "        lista.append(0)\n",
        "\n",
        "  lista0.append(lista)\n",
        "A=np.array(lista0)\n",
        "B=sp.Matrix(A)\n",
        "B"
      ],
      "metadata": {
        "colab": {
          "base_uri": "https://localhost:8080/",
          "height": 180
        },
        "id": "e6mnaSSjMGso",
        "outputId": "bb173a4f-f6c2-498e-a73b-5fe3f90b284f"
      },
      "id": "e6mnaSSjMGso",
      "execution_count": 149,
      "outputs": [
        {
          "output_type": "execute_result",
          "data": {
            "text/plain": [
              "Matrix([\n",
              "[ 0.0,  0.0, 0.0,  0.0, 0.59, 0.77,  0.0,  0.0],\n",
              "[ 0.0,  0.0, 0.0,  0.0, 0.91, 0.31,  0.0,  0.0],\n",
              "[ 0.0,  0.0, 0.0,  0.0,  0.0,  0.0, 0.19,  0.0],\n",
              "[ 0.0,  0.0, 0.0,  0.0,  0.0,  0.0,  0.0, 0.91],\n",
              "[0.98, 0.72, 0.0,  0.0,  0.0,  0.0,  0.0,  0.0],\n",
              "[0.62, 0.78, 0.0,  0.0,  0.0,  0.0,  0.0,  0.0],\n",
              "[ 0.0,  0.0, 0.0,  0.0,  0.0,  0.0,  0.0,  0.0],\n",
              "[ 0.0,  0.0, 0.0, 0.06,  0.0,  0.0,  0.0,  0.0]])"
            ],
            "text/latex": "$\\displaystyle \\left[\\begin{matrix}0.0 & 0.0 & 0.0 & 0.0 & 0.59 & 0.77 & 0.0 & 0.0\\\\0.0 & 0.0 & 0.0 & 0.0 & 0.91 & 0.31 & 0.0 & 0.0\\\\0.0 & 0.0 & 0.0 & 0.0 & 0.0 & 0.0 & 0.19 & 0.0\\\\0.0 & 0.0 & 0.0 & 0.0 & 0.0 & 0.0 & 0.0 & 0.91\\\\0.98 & 0.72 & 0.0 & 0.0 & 0.0 & 0.0 & 0.0 & 0.0\\\\0.62 & 0.78 & 0.0 & 0.0 & 0.0 & 0.0 & 0.0 & 0.0\\\\0.0 & 0.0 & 0.0 & 0.0 & 0.0 & 0.0 & 0.0 & 0.0\\\\0.0 & 0.0 & 0.0 & 0.06 & 0.0 & 0.0 & 0.0 & 0.0\\end{matrix}\\right]$"
          },
          "metadata": {},
          "execution_count": 149
        }
      ]
    },
    {
      "cell_type": "code",
      "source": [
        "# 2) Cálculo del determinante"
      ],
      "metadata": {
        "id": "id0KSBXgxsav"
      },
      "id": "id0KSBXgxsav",
      "execution_count": 150,
      "outputs": []
    },
    {
      "cell_type": "code",
      "source": [
        "det = np.linalg.det(A)\n",
        "print(r'El determinante de la matriz M, es: %.3f'%det)"
      ],
      "metadata": {
        "id": "b7_Oyi97yRnu",
        "outputId": "1802e3cc-ab92-4fe6-a785-86822c416587",
        "colab": {
          "base_uri": "https://localhost:8080/"
        }
      },
      "id": "b7_Oyi97yRnu",
      "execution_count": 151,
      "outputs": [
        {
          "output_type": "stream",
          "name": "stdout",
          "text": [
            "El determinante de la matriz M, es: 0.000\n"
          ]
        }
      ]
    },
    {
      "cell_type": "code",
      "source": [
        "# 3) Autovalores y autovectores"
      ],
      "metadata": {
        "id": "5QJk-WxJ2Iqz"
      },
      "id": "5QJk-WxJ2Iqz",
      "execution_count": 152,
      "outputs": []
    },
    {
      "cell_type": "code",
      "source": [
        "autovalor, autovector = np.linalg.eig(A)\n",
        "diag=np.diag(autovalor)\n",
        "\n",
        "print(np.sort( np.abs(autovalor)))\n",
        "v_abs=abs(autovector)\n",
        "np.c_[ tuple( [ np.c_[v_abs[:,i]]    for i in range(8) ] ) ]\n",
        "U=np.c_[ tuple( [ np.c_[v_abs[:,i]]    for i in np.abs(autovalor).argsort() ] ) ]\n",
        "\n",
        "print('''Autovectores: \\n''', U)\n",
        "#sp.Matrix((U.transpose()@B@U).round(14)) Parece que mi versión está desactualizada y no me permite ejecutar este comando para organizar los vectores\n"
      ],
      "metadata": {
        "colab": {
          "base_uri": "https://localhost:8080/"
        },
        "id": "87oSsjZuPMgI",
        "outputId": "7d40e289-8548-47b1-f40b-0bcf77fe1110"
      },
      "id": "87oSsjZuPMgI",
      "execution_count": 153,
      "outputs": [
        {
          "output_type": "stream",
          "name": "stdout",
          "text": [
            "[0.         0.         0.23366643 0.23366643 0.28455414 0.28455414\n",
            " 1.42603333 1.42603333]\n",
            "Autovectores: \n",
            " [[0.00000000e+000 0.00000000e+000 1.36375143e-016 5.17965520e-017\n",
            "  5.44243286e-001 5.44243286e-001 4.88507032e-001 4.88507032e-001]\n",
            " [0.00000000e+000 0.00000000e+000 3.33825045e-016 2.59358529e-016\n",
            "  6.03248652e-001 6.03248652e-001 4.65911585e-001 4.65911585e-001]\n",
            " [1.00000000e+000 1.00000000e+000 0.00000000e+000 0.00000000e+000\n",
            "  0.00000000e+000 0.00000000e+000 0.00000000e+000 0.00000000e+000]\n",
            " [0.00000000e+000 0.00000000e+000 9.68578510e-001 9.68578510e-001\n",
            "  0.00000000e+000 0.00000000e+000 0.00000000e+000 0.00000000e+000]\n",
            " [0.00000000e+000 0.00000000e+000 4.21598327e-017 6.56721941e-017\n",
            "  3.47980850e-001 3.47980850e-001 5.70949651e-001 5.70949651e-001]\n",
            " [0.00000000e+000 0.00000000e+000 1.25380991e-017 2.55819204e-017\n",
            "  4.67760235e-001 4.67760235e-001 4.67229890e-001 4.67229890e-001]\n",
            " [0.00000000e+000 4.21930181e-291 0.00000000e+000 0.00000000e+000\n",
            "  0.00000000e+000 0.00000000e+000 0.00000000e+000 0.00000000e+000]\n",
            " [0.00000000e+000 0.00000000e+000 2.48708002e-001 2.48708002e-001\n",
            "  0.00000000e+000 0.00000000e+000 0.00000000e+000 0.00000000e+000]]\n"
          ]
        }
      ]
    },
    {
      "cell_type": "code",
      "source": [
        "# 4) Autovalores degenerados en valor absoluto"
      ],
      "metadata": {
        "id": "wcTXgiCI-WwW"
      },
      "id": "wcTXgiCI-WwW",
      "execution_count": 154,
      "outputs": []
    },
    {
      "cell_type": "code",
      "source": [
        "#sp.Matrix(np.diag(( U.transpose()@B@U).round(14)))==sp.Matrix((np.sort(np.abs(autovalor).round(14))))"
      ],
      "metadata": {
        "id": "i3HlWXtbVjUx"
      },
      "id": "i3HlWXtbVjUx",
      "execution_count": 155,
      "outputs": []
    },
    {
      "cell_type": "code",
      "source": [
        "print('Autovalores degenerados: ', autovalor)\n",
        "print('Autovalores con valor absoluto: ', v_abs)\n"
      ],
      "metadata": {
        "id": "PWNzYzNQ-iSW",
        "outputId": "da6126bd-b35b-4b67-dc69-f13651632c34",
        "colab": {
          "base_uri": "https://localhost:8080/"
        }
      },
      "id": "PWNzYzNQ-iSW",
      "execution_count": 156,
      "outputs": [
        {
          "output_type": "stream",
          "name": "stdout",
          "text": [
            "Autovalores degenerados:  [ 1.42603333e+00+0.j         -1.42603333e+00+0.j\n",
            "  8.69031801e-18+0.28455414j  8.69031801e-18-0.28455414j\n",
            " -2.33666429e-01+0.j          2.33666429e-01+0.j\n",
            "  0.00000000e+00+0.j          0.00000000e+00+0.j        ]\n",
            "Autovalores con valor absoluto:  [[4.88507032e-001 4.88507032e-001 5.44243286e-001 5.44243286e-001\n",
            "  1.36375143e-016 5.17965520e-017 0.00000000e+000 0.00000000e+000]\n",
            " [4.65911585e-001 4.65911585e-001 6.03248652e-001 6.03248652e-001\n",
            "  3.33825045e-016 2.59358529e-016 0.00000000e+000 0.00000000e+000]\n",
            " [0.00000000e+000 0.00000000e+000 0.00000000e+000 0.00000000e+000\n",
            "  0.00000000e+000 0.00000000e+000 1.00000000e+000 1.00000000e+000]\n",
            " [0.00000000e+000 0.00000000e+000 0.00000000e+000 0.00000000e+000\n",
            "  9.68578510e-001 9.68578510e-001 0.00000000e+000 0.00000000e+000]\n",
            " [5.70949651e-001 5.70949651e-001 3.47980850e-001 3.47980850e-001\n",
            "  4.21598327e-017 6.56721941e-017 0.00000000e+000 0.00000000e+000]\n",
            " [4.67229890e-001 4.67229890e-001 4.67760235e-001 4.67760235e-001\n",
            "  1.25380991e-017 2.55819204e-017 0.00000000e+000 0.00000000e+000]\n",
            " [0.00000000e+000 0.00000000e+000 0.00000000e+000 0.00000000e+000\n",
            "  0.00000000e+000 0.00000000e+000 0.00000000e+000 4.21930181e-291]\n",
            " [0.00000000e+000 0.00000000e+000 0.00000000e+000 0.00000000e+000\n",
            "  2.48708002e-001 2.48708002e-001 0.00000000e+000 0.00000000e+000]]\n"
          ]
        }
      ]
    }
  ],
  "metadata": {
    "kernelspec": {
      "display_name": "Python 3 (ipykernel)",
      "language": "python",
      "name": "python3"
    },
    "language_info": {
      "codemirror_mode": {
        "name": "ipython",
        "version": 3
      },
      "file_extension": ".py",
      "mimetype": "text/x-python",
      "name": "python",
      "nbconvert_exporter": "python",
      "pygments_lexer": "ipython3",
      "version": "3.9.2"
    },
    "colab": {
      "provenance": [],
      "collapsed_sections": []
    }
  },
  "nbformat": 4,
  "nbformat_minor": 5
}