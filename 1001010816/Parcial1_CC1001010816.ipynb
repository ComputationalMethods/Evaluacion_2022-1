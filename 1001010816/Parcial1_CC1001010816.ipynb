{
  "nbformat": 4,
  "nbformat_minor": 0,
  "metadata": {
    "colab": {
      "name": "Parcial1_CC1001010816.ipynb",
      "provenance": [],
      "collapsed_sections": []
    },
    "kernelspec": {
      "name": "python3",
      "display_name": "Python 3"
    },
    "language_info": {
      "name": "python"
    }
  },
  "cells": [
    {
      "cell_type": "code",
      "execution_count": 1,
      "metadata": {
        "id": "bC6Pa5mixZqg"
      },
      "outputs": [],
      "source": [
        "import numpy as np\n",
        "import matplotlib.pyplot as plt\n",
        "import pandas as pd"
      ]
    },
    {
      "cell_type": "markdown",
      "source": [
        "# **1)**"
      ],
      "metadata": {
        "id": "EZzYbn9s8imU"
      }
    },
    {
      "cell_type": "markdown",
      "source": [
        "Se extrae un país al azar"
      ],
      "metadata": {
        "id": "4_TfpQ6sWVM3"
      }
    },
    {
      "cell_type": "code",
      "source": [
        "h=pd.read_json('https://datahub.io/core/country-list/r/data.json')\n",
        "h"
      ],
      "metadata": {
        "id": "v0wULOuX8lIV",
        "colab": {
          "base_uri": "https://localhost:8080/",
          "height": 424
        },
        "outputId": "3c6c586d-59ae-439d-f640-79ba90bfc74c"
      },
      "execution_count": 2,
      "outputs": [
        {
          "output_type": "execute_result",
          "data": {
            "text/plain": [
              "    Code               Name\n",
              "0     AF        Afghanistan\n",
              "1     AX      Åland Islands\n",
              "2     AL            Albania\n",
              "3     DZ            Algeria\n",
              "4     AS     American Samoa\n",
              "..   ...                ...\n",
              "244   WF  Wallis and Futuna\n",
              "245   EH     Western Sahara\n",
              "246   YE              Yemen\n",
              "247   ZM             Zambia\n",
              "248   ZW           Zimbabwe\n",
              "\n",
              "[249 rows x 2 columns]"
            ],
            "text/html": [
              "\n",
              "  <div id=\"df-ad368852-807c-4578-9aba-31fa21c84f43\">\n",
              "    <div class=\"colab-df-container\">\n",
              "      <div>\n",
              "<style scoped>\n",
              "    .dataframe tbody tr th:only-of-type {\n",
              "        vertical-align: middle;\n",
              "    }\n",
              "\n",
              "    .dataframe tbody tr th {\n",
              "        vertical-align: top;\n",
              "    }\n",
              "\n",
              "    .dataframe thead th {\n",
              "        text-align: right;\n",
              "    }\n",
              "</style>\n",
              "<table border=\"1\" class=\"dataframe\">\n",
              "  <thead>\n",
              "    <tr style=\"text-align: right;\">\n",
              "      <th></th>\n",
              "      <th>Code</th>\n",
              "      <th>Name</th>\n",
              "    </tr>\n",
              "  </thead>\n",
              "  <tbody>\n",
              "    <tr>\n",
              "      <th>0</th>\n",
              "      <td>AF</td>\n",
              "      <td>Afghanistan</td>\n",
              "    </tr>\n",
              "    <tr>\n",
              "      <th>1</th>\n",
              "      <td>AX</td>\n",
              "      <td>Åland Islands</td>\n",
              "    </tr>\n",
              "    <tr>\n",
              "      <th>2</th>\n",
              "      <td>AL</td>\n",
              "      <td>Albania</td>\n",
              "    </tr>\n",
              "    <tr>\n",
              "      <th>3</th>\n",
              "      <td>DZ</td>\n",
              "      <td>Algeria</td>\n",
              "    </tr>\n",
              "    <tr>\n",
              "      <th>4</th>\n",
              "      <td>AS</td>\n",
              "      <td>American Samoa</td>\n",
              "    </tr>\n",
              "    <tr>\n",
              "      <th>...</th>\n",
              "      <td>...</td>\n",
              "      <td>...</td>\n",
              "    </tr>\n",
              "    <tr>\n",
              "      <th>244</th>\n",
              "      <td>WF</td>\n",
              "      <td>Wallis and Futuna</td>\n",
              "    </tr>\n",
              "    <tr>\n",
              "      <th>245</th>\n",
              "      <td>EH</td>\n",
              "      <td>Western Sahara</td>\n",
              "    </tr>\n",
              "    <tr>\n",
              "      <th>246</th>\n",
              "      <td>YE</td>\n",
              "      <td>Yemen</td>\n",
              "    </tr>\n",
              "    <tr>\n",
              "      <th>247</th>\n",
              "      <td>ZM</td>\n",
              "      <td>Zambia</td>\n",
              "    </tr>\n",
              "    <tr>\n",
              "      <th>248</th>\n",
              "      <td>ZW</td>\n",
              "      <td>Zimbabwe</td>\n",
              "    </tr>\n",
              "  </tbody>\n",
              "</table>\n",
              "<p>249 rows × 2 columns</p>\n",
              "</div>\n",
              "      <button class=\"colab-df-convert\" onclick=\"convertToInteractive('df-ad368852-807c-4578-9aba-31fa21c84f43')\"\n",
              "              title=\"Convert this dataframe to an interactive table.\"\n",
              "              style=\"display:none;\">\n",
              "        \n",
              "  <svg xmlns=\"http://www.w3.org/2000/svg\" height=\"24px\"viewBox=\"0 0 24 24\"\n",
              "       width=\"24px\">\n",
              "    <path d=\"M0 0h24v24H0V0z\" fill=\"none\"/>\n",
              "    <path d=\"M18.56 5.44l.94 2.06.94-2.06 2.06-.94-2.06-.94-.94-2.06-.94 2.06-2.06.94zm-11 1L8.5 8.5l.94-2.06 2.06-.94-2.06-.94L8.5 2.5l-.94 2.06-2.06.94zm10 10l.94 2.06.94-2.06 2.06-.94-2.06-.94-.94-2.06-.94 2.06-2.06.94z\"/><path d=\"M17.41 7.96l-1.37-1.37c-.4-.4-.92-.59-1.43-.59-.52 0-1.04.2-1.43.59L10.3 9.45l-7.72 7.72c-.78.78-.78 2.05 0 2.83L4 21.41c.39.39.9.59 1.41.59.51 0 1.02-.2 1.41-.59l7.78-7.78 2.81-2.81c.8-.78.8-2.07 0-2.86zM5.41 20L4 18.59l7.72-7.72 1.47 1.35L5.41 20z\"/>\n",
              "  </svg>\n",
              "      </button>\n",
              "      \n",
              "  <style>\n",
              "    .colab-df-container {\n",
              "      display:flex;\n",
              "      flex-wrap:wrap;\n",
              "      gap: 12px;\n",
              "    }\n",
              "\n",
              "    .colab-df-convert {\n",
              "      background-color: #E8F0FE;\n",
              "      border: none;\n",
              "      border-radius: 50%;\n",
              "      cursor: pointer;\n",
              "      display: none;\n",
              "      fill: #1967D2;\n",
              "      height: 32px;\n",
              "      padding: 0 0 0 0;\n",
              "      width: 32px;\n",
              "    }\n",
              "\n",
              "    .colab-df-convert:hover {\n",
              "      background-color: #E2EBFA;\n",
              "      box-shadow: 0px 1px 2px rgba(60, 64, 67, 0.3), 0px 1px 3px 1px rgba(60, 64, 67, 0.15);\n",
              "      fill: #174EA6;\n",
              "    }\n",
              "\n",
              "    [theme=dark] .colab-df-convert {\n",
              "      background-color: #3B4455;\n",
              "      fill: #D2E3FC;\n",
              "    }\n",
              "\n",
              "    [theme=dark] .colab-df-convert:hover {\n",
              "      background-color: #434B5C;\n",
              "      box-shadow: 0px 1px 3px 1px rgba(0, 0, 0, 0.15);\n",
              "      filter: drop-shadow(0px 1px 2px rgba(0, 0, 0, 0.3));\n",
              "      fill: #FFFFFF;\n",
              "    }\n",
              "  </style>\n",
              "\n",
              "      <script>\n",
              "        const buttonEl =\n",
              "          document.querySelector('#df-ad368852-807c-4578-9aba-31fa21c84f43 button.colab-df-convert');\n",
              "        buttonEl.style.display =\n",
              "          google.colab.kernel.accessAllowed ? 'block' : 'none';\n",
              "\n",
              "        async function convertToInteractive(key) {\n",
              "          const element = document.querySelector('#df-ad368852-807c-4578-9aba-31fa21c84f43');\n",
              "          const dataTable =\n",
              "            await google.colab.kernel.invokeFunction('convertToInteractive',\n",
              "                                                     [key], {});\n",
              "          if (!dataTable) return;\n",
              "\n",
              "          const docLinkHtml = 'Like what you see? Visit the ' +\n",
              "            '<a target=\"_blank\" href=https://colab.research.google.com/notebooks/data_table.ipynb>data table notebook</a>'\n",
              "            + ' to learn more about interactive tables.';\n",
              "          element.innerHTML = '';\n",
              "          dataTable['output_type'] = 'display_data';\n",
              "          await google.colab.output.renderOutput(dataTable, element);\n",
              "          const docLink = document.createElement('div');\n",
              "          docLink.innerHTML = docLinkHtml;\n",
              "          element.appendChild(docLink);\n",
              "        }\n",
              "      </script>\n",
              "    </div>\n",
              "  </div>\n",
              "  "
            ]
          },
          "metadata": {},
          "execution_count": 2
        }
      ]
    },
    {
      "cell_type": "code",
      "source": [
        "np.random.seed(0)\n",
        "pais=np.random.randint(0,248)\n",
        "print('el país es:', h.Name[pais])"
      ],
      "metadata": {
        "colab": {
          "base_uri": "https://localhost:8080/"
        },
        "id": "qd_2T8aW_5p9",
        "outputId": "14623289-e296-4bb3-d453-f79ff7ff35bd"
      },
      "execution_count": 3,
      "outputs": [
        {
          "output_type": "stream",
          "name": "stdout",
          "text": [
            "el país es: Paraguay\n"
          ]
        }
      ]
    },
    {
      "cell_type": "markdown",
      "source": [
        "## **a)**"
      ],
      "metadata": {
        "id": "ZCngnEpKAi0V"
      }
    },
    {
      "cell_type": "markdown",
      "source": [
        "Se escoge la primera institución con publicaciones"
      ],
      "metadata": {
        "id": "rosGaLdHWggT"
      }
    },
    {
      "cell_type": "code",
      "source": [
        "inst=pd.read_json('https://inspirehep.net/api/institutions?q=paraguay')\n",
        "l=inst.hits.hits\n",
        "institucion=''\n",
        "for i in range(0,len(l)):\n",
        "  if l[i]['metadata']['number_of_papers'] > 0:\n",
        "    institucion=l[i]['metadata']['legacy_ICN']\n",
        "    break\n",
        "print('La universidad es:', institucion)"
      ],
      "metadata": {
        "colab": {
          "base_uri": "https://localhost:8080/"
        },
        "id": "5NnPJKBBAiJx",
        "outputId": "9f25ebc0-8fe5-48fb-f05b-95113f998554"
      },
      "execution_count": 4,
      "outputs": [
        {
          "output_type": "stream",
          "name": "stdout",
          "text": [
            "La universidad es: Asuncion Natl. U.\n"
          ]
        }
      ]
    },
    {
      "cell_type": "markdown",
      "source": [
        "## **b)**"
      ],
      "metadata": {
        "id": "PZHBeziNCpZo"
      }
    },
    {
      "cell_type": "markdown",
      "source": [
        "Se busca una publicación con menos de 10 autores"
      ],
      "metadata": {
        "id": "Or40_vc4WvGX"
      }
    },
    {
      "cell_type": "code",
      "source": [
        "lit=pd.read_json('https://inspirehep.net/api/literature?sort=mostrecent&page=1&q=aff+Asuncion+Natl.+U.')\n",
        "m=lit.hits.hits"
      ],
      "metadata": {
        "id": "EKy8FmBDJCT-"
      },
      "execution_count": 6,
      "outputs": []
    },
    {
      "cell_type": "code",
      "source": [
        "g=[]\n",
        "for i in range(len(lit)):\n",
        "  if len(m[i]['metadata']['authors']) < 10:\n",
        "    g=(m[i]['metadata']['authors'])\n",
        "    break"
      ],
      "metadata": {
        "id": "fiRF3_eiQyF-"
      },
      "execution_count": 7,
      "outputs": []
    },
    {
      "cell_type": "markdown",
      "source": [
        "## **c)**"
      ],
      "metadata": {
        "id": "I81-fGBjSHGd"
      }
    },
    {
      "cell_type": "markdown",
      "source": [
        "Se extraen el último URL de cada autor"
      ],
      "metadata": {
        "id": "LEwEweK5W32F"
      }
    },
    {
      "cell_type": "code",
      "source": [
        "url=[]\n",
        "for i in range(len(g)):\n",
        "  url.append(g[i]['affiliations'][0]['record']['$ref'])\n",
        "\n",
        "print(url)"
      ],
      "metadata": {
        "colab": {
          "base_uri": "https://localhost:8080/"
        },
        "id": "4dFKBV_UTF8z",
        "outputId": "f39cf729-b4fa-4058-e60c-7ba10eb506d9"
      },
      "execution_count": 52,
      "outputs": [
        {
          "output_type": "stream",
          "name": "stdout",
          "text": [
            "['https://inspirehep.net/api/institutions/902796', 'https://inspirehep.net/api/institutions/905474', 'https://inspirehep.net/api/institutions/902796', 'https://inspirehep.net/api/institutions/902758', 'https://inspirehep.net/api/institutions/902796', 'https://inspirehep.net/api/institutions/902796']\n"
          ]
        }
      ]
    },
    {
      "cell_type": "markdown",
      "source": [
        "## **d)**"
      ],
      "metadata": {
        "id": "qTnUuSVJUvq0"
      }
    },
    {
      "cell_type": "markdown",
      "source": [
        "Se construye una tabla con los datos proporcionados.\n"
      ],
      "metadata": {
        "id": "01-qA1mvXFWc"
      }
    },
    {
      "cell_type": "code",
      "source": [
        "names=[]\n",
        "for i in range(len(g)):\n",
        "  names.append(g[i]['full_name'])"
      ],
      "metadata": {
        "id": "vquOjOO4T6KO"
      },
      "execution_count": 58,
      "outputs": []
    },
    {
      "cell_type": "code",
      "source": [
        "df=pd.DataFrame({'Nombre Completo':names,\n",
        "                 'URL':url,\n",
        "                 'Institución':institucion})\n",
        "\n",
        "df"
      ],
      "metadata": {
        "colab": {
          "base_uri": "https://localhost:8080/",
          "height": 238
        },
        "id": "8Wojep6IUzuw",
        "outputId": "3e0a5d3c-ea75-4075-af69-3c14ac754530"
      },
      "execution_count": 60,
      "outputs": [
        {
          "output_type": "execute_result",
          "data": {
            "text/plain": [
              "               Nombre Completo  \\\n",
              "0           Chavez, Claudio R.   \n",
              "1          Chierchie, Fernando   \n",
              "2            Sofo-Haro, Miguel   \n",
              "3             Lipovetzky, Jose   \n",
              "4  Fernandez-Moroni, Guillermo   \n",
              "5                Estrada, Juan   \n",
              "\n",
              "                                              URL        Institución  \n",
              "0  https://inspirehep.net/api/institutions/902796  Asuncion Natl. U.  \n",
              "1  https://inspirehep.net/api/institutions/905474  Asuncion Natl. U.  \n",
              "2  https://inspirehep.net/api/institutions/902796  Asuncion Natl. U.  \n",
              "3  https://inspirehep.net/api/institutions/902758  Asuncion Natl. U.  \n",
              "4  https://inspirehep.net/api/institutions/902796  Asuncion Natl. U.  \n",
              "5  https://inspirehep.net/api/institutions/902796  Asuncion Natl. U.  "
            ],
            "text/html": [
              "\n",
              "  <div id=\"df-e004d49d-7724-41c6-8419-e70cb4ab8c96\">\n",
              "    <div class=\"colab-df-container\">\n",
              "      <div>\n",
              "<style scoped>\n",
              "    .dataframe tbody tr th:only-of-type {\n",
              "        vertical-align: middle;\n",
              "    }\n",
              "\n",
              "    .dataframe tbody tr th {\n",
              "        vertical-align: top;\n",
              "    }\n",
              "\n",
              "    .dataframe thead th {\n",
              "        text-align: right;\n",
              "    }\n",
              "</style>\n",
              "<table border=\"1\" class=\"dataframe\">\n",
              "  <thead>\n",
              "    <tr style=\"text-align: right;\">\n",
              "      <th></th>\n",
              "      <th>Nombre Completo</th>\n",
              "      <th>URL</th>\n",
              "      <th>Institución</th>\n",
              "    </tr>\n",
              "  </thead>\n",
              "  <tbody>\n",
              "    <tr>\n",
              "      <th>0</th>\n",
              "      <td>Chavez, Claudio R.</td>\n",
              "      <td>https://inspirehep.net/api/institutions/902796</td>\n",
              "      <td>Asuncion Natl. U.</td>\n",
              "    </tr>\n",
              "    <tr>\n",
              "      <th>1</th>\n",
              "      <td>Chierchie, Fernando</td>\n",
              "      <td>https://inspirehep.net/api/institutions/905474</td>\n",
              "      <td>Asuncion Natl. U.</td>\n",
              "    </tr>\n",
              "    <tr>\n",
              "      <th>2</th>\n",
              "      <td>Sofo-Haro, Miguel</td>\n",
              "      <td>https://inspirehep.net/api/institutions/902796</td>\n",
              "      <td>Asuncion Natl. U.</td>\n",
              "    </tr>\n",
              "    <tr>\n",
              "      <th>3</th>\n",
              "      <td>Lipovetzky, Jose</td>\n",
              "      <td>https://inspirehep.net/api/institutions/902758</td>\n",
              "      <td>Asuncion Natl. U.</td>\n",
              "    </tr>\n",
              "    <tr>\n",
              "      <th>4</th>\n",
              "      <td>Fernandez-Moroni, Guillermo</td>\n",
              "      <td>https://inspirehep.net/api/institutions/902796</td>\n",
              "      <td>Asuncion Natl. U.</td>\n",
              "    </tr>\n",
              "    <tr>\n",
              "      <th>5</th>\n",
              "      <td>Estrada, Juan</td>\n",
              "      <td>https://inspirehep.net/api/institutions/902796</td>\n",
              "      <td>Asuncion Natl. U.</td>\n",
              "    </tr>\n",
              "  </tbody>\n",
              "</table>\n",
              "</div>\n",
              "      <button class=\"colab-df-convert\" onclick=\"convertToInteractive('df-e004d49d-7724-41c6-8419-e70cb4ab8c96')\"\n",
              "              title=\"Convert this dataframe to an interactive table.\"\n",
              "              style=\"display:none;\">\n",
              "        \n",
              "  <svg xmlns=\"http://www.w3.org/2000/svg\" height=\"24px\"viewBox=\"0 0 24 24\"\n",
              "       width=\"24px\">\n",
              "    <path d=\"M0 0h24v24H0V0z\" fill=\"none\"/>\n",
              "    <path d=\"M18.56 5.44l.94 2.06.94-2.06 2.06-.94-2.06-.94-.94-2.06-.94 2.06-2.06.94zm-11 1L8.5 8.5l.94-2.06 2.06-.94-2.06-.94L8.5 2.5l-.94 2.06-2.06.94zm10 10l.94 2.06.94-2.06 2.06-.94-2.06-.94-.94-2.06-.94 2.06-2.06.94z\"/><path d=\"M17.41 7.96l-1.37-1.37c-.4-.4-.92-.59-1.43-.59-.52 0-1.04.2-1.43.59L10.3 9.45l-7.72 7.72c-.78.78-.78 2.05 0 2.83L4 21.41c.39.39.9.59 1.41.59.51 0 1.02-.2 1.41-.59l7.78-7.78 2.81-2.81c.8-.78.8-2.07 0-2.86zM5.41 20L4 18.59l7.72-7.72 1.47 1.35L5.41 20z\"/>\n",
              "  </svg>\n",
              "      </button>\n",
              "      \n",
              "  <style>\n",
              "    .colab-df-container {\n",
              "      display:flex;\n",
              "      flex-wrap:wrap;\n",
              "      gap: 12px;\n",
              "    }\n",
              "\n",
              "    .colab-df-convert {\n",
              "      background-color: #E8F0FE;\n",
              "      border: none;\n",
              "      border-radius: 50%;\n",
              "      cursor: pointer;\n",
              "      display: none;\n",
              "      fill: #1967D2;\n",
              "      height: 32px;\n",
              "      padding: 0 0 0 0;\n",
              "      width: 32px;\n",
              "    }\n",
              "\n",
              "    .colab-df-convert:hover {\n",
              "      background-color: #E2EBFA;\n",
              "      box-shadow: 0px 1px 2px rgba(60, 64, 67, 0.3), 0px 1px 3px 1px rgba(60, 64, 67, 0.15);\n",
              "      fill: #174EA6;\n",
              "    }\n",
              "\n",
              "    [theme=dark] .colab-df-convert {\n",
              "      background-color: #3B4455;\n",
              "      fill: #D2E3FC;\n",
              "    }\n",
              "\n",
              "    [theme=dark] .colab-df-convert:hover {\n",
              "      background-color: #434B5C;\n",
              "      box-shadow: 0px 1px 3px 1px rgba(0, 0, 0, 0.15);\n",
              "      filter: drop-shadow(0px 1px 2px rgba(0, 0, 0, 0.3));\n",
              "      fill: #FFFFFF;\n",
              "    }\n",
              "  </style>\n",
              "\n",
              "      <script>\n",
              "        const buttonEl =\n",
              "          document.querySelector('#df-e004d49d-7724-41c6-8419-e70cb4ab8c96 button.colab-df-convert');\n",
              "        buttonEl.style.display =\n",
              "          google.colab.kernel.accessAllowed ? 'block' : 'none';\n",
              "\n",
              "        async function convertToInteractive(key) {\n",
              "          const element = document.querySelector('#df-e004d49d-7724-41c6-8419-e70cb4ab8c96');\n",
              "          const dataTable =\n",
              "            await google.colab.kernel.invokeFunction('convertToInteractive',\n",
              "                                                     [key], {});\n",
              "          if (!dataTable) return;\n",
              "\n",
              "          const docLinkHtml = 'Like what you see? Visit the ' +\n",
              "            '<a target=\"_blank\" href=https://colab.research.google.com/notebooks/data_table.ipynb>data table notebook</a>'\n",
              "            + ' to learn more about interactive tables.';\n",
              "          element.innerHTML = '';\n",
              "          dataTable['output_type'] = 'display_data';\n",
              "          await google.colab.output.renderOutput(dataTable, element);\n",
              "          const docLink = document.createElement('div');\n",
              "          docLink.innerHTML = docLinkHtml;\n",
              "          element.appendChild(docLink);\n",
              "        }\n",
              "      </script>\n",
              "    </div>\n",
              "  </div>\n",
              "  "
            ]
          },
          "metadata": {},
          "execution_count": 60
        }
      ]
    },
    {
      "cell_type": "markdown",
      "source": [
        "# **2)**"
      ],
      "metadata": {
        "id": "gHO0dFivyAhO"
      }
    },
    {
      "cell_type": "markdown",
      "source": [
        "## **a)** Definición del polinomio"
      ],
      "metadata": {
        "id": "1LjYYq-fyVgd"
      }
    },
    {
      "cell_type": "code",
      "source": [
        "np.random.seed(0)\n",
        "r=[] #lista donde quedaran las raíces\n",
        "for i in range(3):\n",
        "  r.append(np.random.uniform(1,6)) #CC 1001010816\n",
        "print('las racices son:')\n",
        "for j in range(len(r)):\n",
        "  print(r[j])"
      ],
      "metadata": {
        "colab": {
          "base_uri": "https://localhost:8080/"
        },
        "id": "4Wkjb9D1yDnu",
        "outputId": "027d0e6a-9ee1-44a6-b3ba-2716d4d926e1"
      },
      "execution_count": 65,
      "outputs": [
        {
          "output_type": "stream",
          "name": "stdout",
          "text": [
            "las racices son:\n",
            "3.7440675196366238\n",
            "4.5759468318620975\n",
            "4.0138168803582195\n"
          ]
        }
      ]
    },
    {
      "cell_type": "code",
      "source": [
        "p=np.poly1d(r,r=True)\n",
        "print('El polinomio es:')\n",
        "print(p)"
      ],
      "metadata": {
        "colab": {
          "base_uri": "https://localhost:8080/"
        },
        "id": "R0E_GZnBzKT9",
        "outputId": "12dcefa6-3253-471e-d9c8-289951950e3f"
      },
      "execution_count": 66,
      "outputs": [
        {
          "output_type": "stream",
          "name": "stdout",
          "text": [
            "El polinomio es:\n",
            "   3         2\n",
            "1 x - 12.33 x + 50.53 x - 68.77\n"
          ]
        }
      ]
    },
    {
      "cell_type": "markdown",
      "source": [
        "## **b)** Puntos críticos"
      ],
      "metadata": {
        "id": "r4tpF8w33LCX"
      }
    },
    {
      "cell_type": "code",
      "source": [
        "dp=np.polyder(p)\n",
        "r2=dp.roots\n",
        "print('Los puntos críticos son:')\n",
        "for i in r2:\n",
        "  print(i)"
      ],
      "metadata": {
        "colab": {
          "base_uri": "https://localhost:8080/"
        },
        "id": "m70CtxJy3JHf",
        "outputId": "cf29e754-7ad0-42da-b942-ffc16c63596c"
      },
      "execution_count": 67,
      "outputs": [
        {
          "output_type": "stream",
          "name": "stdout",
          "text": [
            "Los puntos críticos son:\n",
            "4.356314261549608\n",
            "3.866239893021685\n"
          ]
        }
      ]
    },
    {
      "cell_type": "markdown",
      "source": [
        "## **c)** Máximos y mínimos"
      ],
      "metadata": {
        "id": "KJ7wQGlh4LMt"
      }
    },
    {
      "cell_type": "code",
      "source": [
        "x=np.arange(3,5,0.01)\n",
        "plt.figure(figsize=(20,10))\n",
        "plt.title('Máximos y mínimos', size=20)\n",
        "plt.plot(x,p(x),'r',label='$P(x)$')\n",
        "plt.plot(x,dp(x),'g',label='P´(x)')\n",
        "plt.plot(min(r2),p(min(r2)),'ob',markersize=10,label='P. C. menor')\n",
        "plt.plot(max(r2),p(max(r2)),'ok',markersize=10,label='P. C. mayor')\n",
        "plt.xlabel('$x$',size=15)\n",
        "plt.ylabel('$P(x)$',size=15)\n",
        "plt.legend()\n",
        "plt.grid()\n",
        "plt.show()"
      ],
      "metadata": {
        "colab": {
          "base_uri": "https://localhost:8080/",
          "height": 633
        },
        "id": "tuPD5o1a3n4F",
        "outputId": "1540ef54-e170-4d0f-cfed-ce704f552d3a"
      },
      "execution_count": 78,
      "outputs": [
        {
          "output_type": "display_data",
          "data": {
            "text/plain": [
              "<Figure size 1440x720 with 1 Axes>"
            ],
            "image/png": "[encoded data removed]"
          },
          "metadata": {
            "needs_background": "light"
          }
        }
      ]
    },
    {
      "cell_type": "markdown",
      "source": [
        "De la gráfica se puede ver que en este caso el punto crítico mayor ccorresponde a un mínimos global y el punto critíco menor a un máximo."
      ],
      "metadata": {
        "id": "cfojq10KYS4_"
      }
    },
    {
      "cell_type": "markdown",
      "source": [
        "## **d)** Gráfica"
      ],
      "metadata": {
        "id": "1A7TCK4g4Yp-"
      }
    },
    {
      "cell_type": "code",
      "source": [
        "plt.figure(figsize=(20,10))\n",
        "plt.title('Gráfica del plonimio P(x)',size=20)\n",
        "plt.plot(x,p(x),'r',label='$P(x)$')\n",
        "for i in range(len(r)):\n",
        "  plt.plot(r,p(r),'*b',markersize=15)\n",
        "plt.xlabel('$x$',size=15)\n",
        "plt.ylabel('$P(x)$', size=15)\n",
        "plt.legend()\n",
        "plt.grid()\n",
        "plt.show()"
      ],
      "metadata": {
        "colab": {
          "base_uri": "https://localhost:8080/",
          "height": 633
        },
        "id": "_AzlEiwx4bKF",
        "outputId": "0cde02b0-97f3-48c7-ac95-a0141520a770"
      },
      "execution_count": 80,
      "outputs": [
        {
          "output_type": "display_data",
          "data": {
            "text/plain": [
              "<Figure size 1440x720 with 1 Axes>"
            ],
            "image/png": "[encoded data removed]"
          },
          "metadata": {
            "needs_background": "light"
          }
        }
      ]
    },
    {
      "cell_type": "markdown",
      "source": [
        "De la gráfica se puede notar que las raíces realmente corresponden a los puntos donde la función pasa por x=0"
      ],
      "metadata": {
        "id": "ScHN8jA7ZcYL"
      }
    },
    {
      "cell_type": "code",
      "source": [
        ""
      ],
      "metadata": {
        "id": "BOXlbVv0Zowh"
      },
      "execution_count": null,
      "outputs": []
    }
  ]
}