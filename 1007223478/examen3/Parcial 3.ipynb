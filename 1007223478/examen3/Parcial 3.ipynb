{
 "cells": [
  {
   "cell_type": "markdown",
   "id": "5bb9edfe",
   "metadata": {},
   "source": [
    "# Parcial 3\n",
    "\n",
    "### Juan José Tabares García 1007223478 "
   ]
  },
  {
   "cell_type": "code",
   "execution_count": 11,
   "id": "a24f6788",
   "metadata": {},
   "outputs": [],
   "source": [
    "import requests\n",
    "import matplotlib.pyplot as plt\n",
    "import numpy as np\n",
    "import pandas as pd\n",
    "from scipy.optimize import curve_fit"
   ]
  },
  {
   "cell_type": "markdown",
   "id": "c3dfd4c8",
   "metadata": {},
   "source": [
    "### Punto 2)\n",
    "\n",
    "Request para obtener los datos, son organizados en un dataframe:"
   ]
  },
  {
   "cell_type": "code",
   "execution_count": 12,
   "id": "58fdbb37",
   "metadata": {},
   "outputs": [
    {
     "data": {
      "text/html": [
       "<div>\n",
       "<style scoped>\n",
       "    .dataframe tbody tr th:only-of-type {\n",
       "        vertical-align: middle;\n",
       "    }\n",
       "\n",
       "    .dataframe tbody tr th {\n",
       "        vertical-align: top;\n",
       "    }\n",
       "\n",
       "    .dataframe thead th {\n",
       "        text-align: right;\n",
       "    }\n",
       "</style>\n",
       "<table border=\"1\" class=\"dataframe\">\n",
       "  <thead>\n",
       "    <tr style=\"text-align: right;\">\n",
       "      <th></th>\n",
       "      <th>t</th>\n",
       "      <th>N(t)</th>\n",
       "    </tr>\n",
       "  </thead>\n",
       "  <tbody>\n",
       "    <tr>\n",
       "      <th>0</th>\n",
       "      <td>0</td>\n",
       "      <td>1000</td>\n",
       "    </tr>\n",
       "    <tr>\n",
       "      <th>1</th>\n",
       "      <td>10</td>\n",
       "      <td>809</td>\n",
       "    </tr>\n",
       "    <tr>\n",
       "      <th>2</th>\n",
       "      <td>22</td>\n",
       "      <td>564</td>\n",
       "    </tr>\n",
       "    <tr>\n",
       "      <th>3</th>\n",
       "      <td>33</td>\n",
       "      <td>480</td>\n",
       "    </tr>\n",
       "    <tr>\n",
       "      <th>4</th>\n",
       "      <td>40</td>\n",
       "      <td>370</td>\n",
       "    </tr>\n",
       "    <tr>\n",
       "      <th>5</th>\n",
       "      <td>50</td>\n",
       "      <td>285</td>\n",
       "    </tr>\n",
       "    <tr>\n",
       "      <th>6</th>\n",
       "      <td>60</td>\n",
       "      <td>199</td>\n",
       "    </tr>\n",
       "    <tr>\n",
       "      <th>7</th>\n",
       "      <td>70</td>\n",
       "      <td>169</td>\n",
       "    </tr>\n",
       "    <tr>\n",
       "      <th>8</th>\n",
       "      <td>80</td>\n",
       "      <td>131</td>\n",
       "    </tr>\n",
       "    <tr>\n",
       "      <th>9</th>\n",
       "      <td>99</td>\n",
       "      <td>101</td>\n",
       "    </tr>\n",
       "    <tr>\n",
       "      <th>10</th>\n",
       "      <td>111</td>\n",
       "      <td>70</td>\n",
       "    </tr>\n",
       "    <tr>\n",
       "      <th>11</th>\n",
       "      <td>110</td>\n",
       "      <td>54</td>\n",
       "    </tr>\n",
       "    <tr>\n",
       "      <th>12</th>\n",
       "      <td>133</td>\n",
       "      <td>42</td>\n",
       "    </tr>\n",
       "    <tr>\n",
       "      <th>13</th>\n",
       "      <td>130</td>\n",
       "      <td>32</td>\n",
       "    </tr>\n",
       "    <tr>\n",
       "      <th>14</th>\n",
       "      <td>140</td>\n",
       "      <td>25</td>\n",
       "    </tr>\n",
       "    <tr>\n",
       "      <th>15</th>\n",
       "      <td>166</td>\n",
       "      <td>21</td>\n",
       "    </tr>\n",
       "    <tr>\n",
       "      <th>16</th>\n",
       "      <td>177</td>\n",
       "      <td>16</td>\n",
       "    </tr>\n",
       "    <tr>\n",
       "      <th>17</th>\n",
       "      <td>170</td>\n",
       "      <td>13</td>\n",
       "    </tr>\n",
       "    <tr>\n",
       "      <th>18</th>\n",
       "      <td>199</td>\n",
       "      <td>9</td>\n",
       "    </tr>\n",
       "    <tr>\n",
       "      <th>19</th>\n",
       "      <td>200</td>\n",
       "      <td>7</td>\n",
       "    </tr>\n",
       "  </tbody>\n",
       "</table>\n",
       "</div>"
      ],
      "text/plain": [
       "      t  N(t)\n",
       "0     0  1000\n",
       "1    10   809\n",
       "2    22   564\n",
       "3    33   480\n",
       "4    40   370\n",
       "5    50   285\n",
       "6    60   199\n",
       "7    70   169\n",
       "8    80   131\n",
       "9    99   101\n",
       "10  111    70\n",
       "11  110    54\n",
       "12  133    42\n",
       "13  130    32\n",
       "14  140    25\n",
       "15  166    21\n",
       "16  177    16\n",
       "17  170    13\n",
       "18  199     9\n",
       "19  200     7"
      ]
     },
     "execution_count": 12,
     "metadata": {},
     "output_type": "execute_result"
    }
   ],
   "source": [
    "response = requests.get(\"https://raw.githubusercontent.com/restrepo/ComputationalMethods/master/data/strontium.json\")\n",
    "rawjson = response.json()\n",
    "data = pd.DataFrame(rawjson)\n",
    "data"
   ]
  },
  {
   "cell_type": "code",
   "execution_count": 19,
   "id": "194594a3",
   "metadata": {},
   "outputs": [
    {
     "name": "stdout",
     "output_type": "stream",
     "text": [
      "λ =  0.025074357656264475\n"
     ]
    },
    {
     "name": "stderr",
     "output_type": "stream",
     "text": [
      "C:\\Users\\pegan\\anaconda3\\lib\\site-packages\\pandas\\core\\arraylike.py:397: RuntimeWarning: overflow encountered in exp\n",
      "  result = getattr(ufunc, method)(*inputs, **kwargs)\n"
     ]
    }
   ],
   "source": [
    "#1) Ajuste y Tiempo de vida medio\n",
    "\n",
    "#Definimos la ecuacion que describe el comportamiento del decaimiento\n",
    "def Nt(t,N0,λ):\n",
    "    return N0*np.exp(-λ*t)\n",
    "\n",
    "#Usamos curve_fit para obtener el valor de lambda en el ajuste, el valor de N0 tambien es entregado en la posicion 1\n",
    "popt, pcov = curve_fit(Nt,data[\"t\"],data[\"N(t)\"])\n",
    "\n",
    "λ = popt[1]\n",
    "print(\"λ = \",λ)"
   ]
  },
  {
   "cell_type": "markdown",
   "id": "ec3f6b83",
   "metadata": {},
   "source": [
    "Recordemos que:\n",
    "\n",
    "$$ \\lambda=\\frac{\\ln(2)}{\\tau} $$\n",
    "\n",
    "Y sabiendo que: \n",
    "\n",
    "$$ \\lambda = 0.025074357656264475 $$\n",
    "\n",
    "Podemos despejar $\\tau$ como:\n",
    "\n",
    "$$ \\tau = \\frac{\\ln(2)}{0.025074357656264475} $$\n",
    "\n",
    "El tiempo de vida medio es: "
   ]
  },
  {
   "cell_type": "code",
   "execution_count": 20,
   "id": "62a7c354",
   "metadata": {},
   "outputs": [
    {
     "name": "stdout",
     "output_type": "stream",
     "text": [
      "τ =  27.643666492360662\n"
     ]
    }
   ],
   "source": [
    "print(\"τ = \", np.log(2)/λ) "
   ]
  },
  {
   "cell_type": "code",
   "execution_count": 22,
   "id": "7981d494",
   "metadata": {},
   "outputs": [
    {
     "data": {
      "text/plain": [
       "<matplotlib.legend.Legend at 0x23da3672520>"
      ]
     },
     "execution_count": 22,
     "metadata": {},
     "output_type": "execute_result"
    },
    {
     "data": {
      "image/png": "[encoded data removed]",
      "text/plain": [
       "<Figure size 432x288 with 1 Axes>"
      ]
     },
     "metadata": {
      "needs_background": "light"
     },
     "output_type": "display_data"
    }
   ],
   "source": [
    "# 2) Graficacion\n",
    "xaxis = np.linspace(0,200,1000)\n",
    "\n",
    "plt.plot(data[\"t\"],data[\"N(t)\"],\"b.\",label=\"datos\")\n",
    "plt.plot(xaxis,[Nt(x,1000,λ) for x in xaxis],\"r-\",label=\"ajuste\")\n",
    "plt.xlabel(\"t\")\n",
    "plt.ylabel(\"N(t)\")\n",
    "plt.legend()"
   ]
  },
  {
   "cell_type": "code",
   "execution_count": null,
   "id": "8aeb99f2",
   "metadata": {},
   "outputs": [],
   "source": []
  }
 ],
 "metadata": {
  "kernelspec": {
   "display_name": "Python 3 (ipykernel)",
   "language": "python",
   "name": "python3"
  },
  "language_info": {
   "codemirror_mode": {
    "name": "ipython",
    "version": 3
   },
   "file_extension": ".py",
   "mimetype": "text/x-python",
   "name": "python",
   "nbconvert_exporter": "python",
   "pygments_lexer": "ipython3",
   "version": "3.9.12"
  }
 },
 "nbformat": 4,
 "nbformat_minor": 5
}
