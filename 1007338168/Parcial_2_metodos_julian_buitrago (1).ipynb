{
  "nbformat": 4,
  "nbformat_minor": 0,
  "metadata": {
    "colab": {
      "provenance": [],
      "collapsed_sections": []
    },
    "kernelspec": {
      "name": "python3",
      "display_name": "Python 3"
    },
    "language_info": {
      "name": "python"
    }
  },
  "cells": [
    {
      "cell_type": "code",
      "execution_count": 145,
      "metadata": {
        "id": "6Z1-3R4DIHmw"
      },
      "outputs": [],
      "source": [
        "import pandas as pd\n",
        "import numpy as np\n",
        "import matplotlib.pyplot as plt\n",
        "from scipy.optimize import *\n",
        "import random\n",
        "import sympy as sy\n",
        "import scipy.linalg as linalg\n",
        "import scipy\n",
        "from scipy import integrate\n",
        "import math"
      ]
    },
    {
      "cell_type": "markdown",
      "source": [
        "- Usando su número de cédula cómo semilla, obtenga un numero entero aleatorio, n, entre 2 y 20."
      ],
      "metadata": {
        "id": "QfmUIbPJLKuQ"
      }
    },
    {
      "cell_type": "code",
      "source": [
        "random.seed(1007338168)\n",
        " \n",
        "\n",
        "nn = random.randint(2, 20)\n",
        "\n",
        "nn"
      ],
      "metadata": {
        "colab": {
          "base_uri": "https://localhost:8080/"
        },
        "id": "agXENOkyJ5CC",
        "outputId": "5dcc27e2-bf8c-4575-95c4-9f9d11456024"
      },
      "execution_count": 91,
      "outputs": [
        {
          "output_type": "execute_result",
          "data": {
            "text/plain": [
              "2"
            ]
          },
          "metadata": {},
          "execution_count": 91
        }
      ]
    },
    {
      "cell_type": "markdown",
      "source": [
        "- Usando el  obtenido, haga una estimación de la siguiente integral hasta dos cifras significativas, usando el método quad del módulo integrate de Scipy\n",
        "\n",
        "$$\\int_0^\\infty \\sin(x^n)\\operatorname{d}x$$"
      ],
      "metadata": {
        "id": "Vf1vq6q8MSF1"
      }
    },
    {
      "cell_type": "code",
      "source": [
        "w=integrate.quad(lambda x: np.sin(x**2),0,np.Inf)[0]\n",
        "\n",
        "w"
      ],
      "metadata": {
        "colab": {
          "base_uri": "https://localhost:8080/"
        },
        "id": "g_2R4bhJjaBN",
        "outputId": "ba8fd114-124c-4ee9-b699-49f396f4cf1e"
      },
      "execution_count": 85,
      "outputs": [
        {
          "output_type": "stream",
          "name": "stderr",
          "text": [
            "/usr/local/lib/python3.7/dist-packages/ipykernel_launcher.py:1: IntegrationWarning: The integral is probably divergent, or slowly convergent.\n",
            "  \"\"\"Entry point for launching an IPython kernel.\n"
          ]
        },
        {
          "output_type": "execute_result",
          "data": {
            "text/plain": [
              "-2395.5825842271347"
            ]
          },
          "metadata": {},
          "execution_count": 85
        }
      ]
    },
    {
      "cell_type": "code",
      "source": [
        "def f(x):\n",
        "  return np.sin(x**2)\n",
        "\n",
        "z= integrate.quad(f, 0, np.inf)\n",
        "\n",
        "res= np.around(z, decimals=2, out=None)\n",
        "\n",
        "res"
      ],
      "metadata": {
        "colab": {
          "base_uri": "https://localhost:8080/"
        },
        "id": "Cc4vXEDtKUYw",
        "outputId": "1a678b75-916a-4afb-d726-3f42de7f787f"
      },
      "execution_count": 112,
      "outputs": [
        {
          "output_type": "stream",
          "name": "stderr",
          "text": [
            "/usr/local/lib/python3.7/dist-packages/ipykernel_launcher.py:4: IntegrationWarning: The integral is probably divergent, or slowly convergent.\n",
            "  after removing the cwd from sys.path.\n"
          ]
        },
        {
          "output_type": "execute_result",
          "data": {
            "text/plain": [
              "array([-2395.58,  2193.57])"
            ]
          },
          "metadata": {},
          "execution_count": 112
        }
      ]
    },
    {
      "cell_type": "markdown",
      "source": [
        "La integral da un numero totalmente incorecto, pues deberia ser 0.626657. sto es evidenciado en el alto error, que puede ser por la naturaleza de la función a integrar y el como la maneja \"quad\""
      ],
      "metadata": {
        "id": "0ej_WrZ4b6oY"
      }
    },
    {
      "cell_type": "code",
      "source": [
        "def f(x):\n",
        "  return np.sin(x**2)\n",
        "\n",
        "z= integrate.quad(f, 0, 6.981)\n",
        "\n",
        "res= np.around(z, decimals=2, out=None)\n",
        "\n",
        "res"
      ],
      "metadata": {
        "colab": {
          "base_uri": "https://localhost:8080/"
        },
        "id": "nZuXEEtYtIoF",
        "outputId": "60f27b0c-37ff-44d6-81cc-31dfd854e842"
      },
      "execution_count": 113,
      "outputs": [
        {
          "output_type": "execute_result",
          "data": {
            "text/plain": [
              "array([0.62, 0.  ])"
            ]
          },
          "metadata": {},
          "execution_count": 113
        }
      ]
    },
    {
      "cell_type": "markdown",
      "source": [
        "Mirando el limite superior, podemos ver que se hace mas preciso, lo que da a pensar que el error tiene que ver con la función en si misma y sus puntos"
      ],
      "metadata": {
        "id": "Ox6-AmxPsoCH"
      }
    },
    {
      "cell_type": "markdown",
      "source": [
        "B) Cargue los datos disponibles en:\n",
        "\n",
        "https://raw.githubusercontent.com/ComputationalMethods/Evaluacion_2022-1/main/data/lista_pares.json\n",
        "\n",
        "como un DataFrame de pandas. Este contendrá dos columnas. La columna lista, con una lista de 8 enteros (algunos de ellos repetidos) y una columna pares correspondiente a un diccionario con dos items: un entero rotulado con 'S' y una lista de pares de enteros routulada con 'ψ'. Note que el resultado de la suma en valor absoluto de los dos enteros en cada uno de los pares reproduce el valor del correspondiente 'S'\n",
        "\n",
        "Seleccione la fila del DataFrame con el índice correspondiente a los dos últimos dígitos de su cédula y desarrolle los siguientes puntos con la correspondiente lista y pares:"
      ],
      "metadata": {
        "id": "n8fHvlfXt-Jj"
      }
    },
    {
      "cell_type": "code",
      "source": [
        "from google.colab import drive \n",
        "drive.mount(\"/content/gdrive\", force_remount=True)\n",
        "\n",
        "!cp '/content/gdrive/MyDrive/Colab Notebooks/lista_pares.json' 'lista_pares.json'"
      ],
      "metadata": {
        "colab": {
          "base_uri": "https://localhost:8080/"
        },
        "id": "X-ZC7NZDds6D",
        "outputId": "8d20d464-0cf3-43d7-c49d-3e1df2b16c54"
      },
      "execution_count": 60,
      "outputs": [
        {
          "output_type": "stream",
          "name": "stdout",
          "text": [
            "Mounted at /content/gdrive\n"
          ]
        }
      ]
    },
    {
      "cell_type": "code",
      "source": [
        "dat= pd.read_json('lista_pares.json')"
      ],
      "metadata": {
        "id": "xw71rH52jpA0"
      },
      "execution_count": 120,
      "outputs": []
    },
    {
      "cell_type": "code",
      "source": [
        "df= pd.DataFrame.from_dict(dat)\n",
        "df"
      ],
      "metadata": {
        "colab": {
          "base_uri": "https://localhost:8080/",
          "height": 424
        },
        "id": "9AuapRWqklJ6",
        "outputId": "3133aa1a-fb7b-4f76-c512-2f3caf85fa29"
      },
      "execution_count": 150,
      "outputs": [
        {
          "output_type": "execute_result",
          "data": {
            "text/plain": [
              "                                 lista  \\\n",
              "0          [1, 1, 2, 3, -4, -4, -5, 6]   \n",
              "1          [1, 2, 2, 2, -3, -5, -6, 7]   \n",
              "2         [1, -2, -2, 4, 5, -7, -7, 8]   \n",
              "3          [1, 2, 2, 4, -5, -5, -7, 8]   \n",
              "4         [2, -3, -4, 5, -6, 7, 7, -8]   \n",
              "..                                 ...   \n",
              "240  [2, -4, -5, 10, 11, -16, -17, 19]   \n",
              "241  [5, -7, -7, 11, 13, -17, -17, 19]   \n",
              "242   [4, -5, -7, 8, -17, 18, 18, -19]   \n",
              "243    [2, 2, 5, -7, 10, -14, -17, 19]   \n",
              "244   [2, -3, -3, 6, 10, -13, -18, 19]   \n",
              "\n",
              "                                                 pares  \n",
              "0    {'S': 2, 'ψ': [[3, -5], [2, -4], [-4, 6], [1, ...  \n",
              "1    {'S': 4, 'ψ': [[2, 2], [-3, 7], [1, -5], [2, -...  \n",
              "2    {'S': 9, 'ψ': [[4, 5], [1, 8], [-2, -7], [5, 4...  \n",
              "3    {'S': 3, 'ψ': [[4, -7], [-5, 8], [2, -5], [1, ...  \n",
              "4    {'S': 1, 'ψ': [[-6, 7], [7, -8], [5, -6], [2, ...  \n",
              "..                                                 ...  \n",
              "240  {'S': 21, 'ψ': [[-4, -17], [-5, -16], [10, 11]...  \n",
              "241  {'S': 24, 'ψ': [[5, 19], [-7, -17], [11, 13], ...  \n",
              "242  {'S': 1, 'ψ': [[-7, 8], [4, -5], [-17, 18], [1...  \n",
              "243  {'S': 12, 'ψ': [[2, -14], [2, 10], [-7, 19], [...  \n",
              "244  {'S': 16, 'ψ': [[-3, -13], [6, 10], [2, -18], ...  \n",
              "\n",
              "[245 rows x 2 columns]"
            ],
            "text/html": [
              "\n",
              "  <div id=\"df-703f4bc1-5dbd-4468-9954-c39f57fede80\">\n",
              "    <div class=\"colab-df-container\">\n",
              "      <div>\n",
              "<style scoped>\n",
              "    .dataframe tbody tr th:only-of-type {\n",
              "        vertical-align: middle;\n",
              "    }\n",
              "\n",
              "    .dataframe tbody tr th {\n",
              "        vertical-align: top;\n",
              "    }\n",
              "\n",
              "    .dataframe thead th {\n",
              "        text-align: right;\n",
              "    }\n",
              "</style>\n",
              "<table border=\"1\" class=\"dataframe\">\n",
              "  <thead>\n",
              "    <tr style=\"text-align: right;\">\n",
              "      <th></th>\n",
              "      <th>lista</th>\n",
              "      <th>pares</th>\n",
              "    </tr>\n",
              "  </thead>\n",
              "  <tbody>\n",
              "    <tr>\n",
              "      <th>0</th>\n",
              "      <td>[1, 1, 2, 3, -4, -4, -5, 6]</td>\n",
              "      <td>{'S': 2, 'ψ': [[3, -5], [2, -4], [-4, 6], [1, ...</td>\n",
              "    </tr>\n",
              "    <tr>\n",
              "      <th>1</th>\n",
              "      <td>[1, 2, 2, 2, -3, -5, -6, 7]</td>\n",
              "      <td>{'S': 4, 'ψ': [[2, 2], [-3, 7], [1, -5], [2, -...</td>\n",
              "    </tr>\n",
              "    <tr>\n",
              "      <th>2</th>\n",
              "      <td>[1, -2, -2, 4, 5, -7, -7, 8]</td>\n",
              "      <td>{'S': 9, 'ψ': [[4, 5], [1, 8], [-2, -7], [5, 4...</td>\n",
              "    </tr>\n",
              "    <tr>\n",
              "      <th>3</th>\n",
              "      <td>[1, 2, 2, 4, -5, -5, -7, 8]</td>\n",
              "      <td>{'S': 3, 'ψ': [[4, -7], [-5, 8], [2, -5], [1, ...</td>\n",
              "    </tr>\n",
              "    <tr>\n",
              "      <th>4</th>\n",
              "      <td>[2, -3, -4, 5, -6, 7, 7, -8]</td>\n",
              "      <td>{'S': 1, 'ψ': [[-6, 7], [7, -8], [5, -6], [2, ...</td>\n",
              "    </tr>\n",
              "    <tr>\n",
              "      <th>...</th>\n",
              "      <td>...</td>\n",
              "      <td>...</td>\n",
              "    </tr>\n",
              "    <tr>\n",
              "      <th>240</th>\n",
              "      <td>[2, -4, -5, 10, 11, -16, -17, 19]</td>\n",
              "      <td>{'S': 21, 'ψ': [[-4, -17], [-5, -16], [10, 11]...</td>\n",
              "    </tr>\n",
              "    <tr>\n",
              "      <th>241</th>\n",
              "      <td>[5, -7, -7, 11, 13, -17, -17, 19]</td>\n",
              "      <td>{'S': 24, 'ψ': [[5, 19], [-7, -17], [11, 13], ...</td>\n",
              "    </tr>\n",
              "    <tr>\n",
              "      <th>242</th>\n",
              "      <td>[4, -5, -7, 8, -17, 18, 18, -19]</td>\n",
              "      <td>{'S': 1, 'ψ': [[-7, 8], [4, -5], [-17, 18], [1...</td>\n",
              "    </tr>\n",
              "    <tr>\n",
              "      <th>243</th>\n",
              "      <td>[2, 2, 5, -7, 10, -14, -17, 19]</td>\n",
              "      <td>{'S': 12, 'ψ': [[2, -14], [2, 10], [-7, 19], [...</td>\n",
              "    </tr>\n",
              "    <tr>\n",
              "      <th>244</th>\n",
              "      <td>[2, -3, -3, 6, 10, -13, -18, 19]</td>\n",
              "      <td>{'S': 16, 'ψ': [[-3, -13], [6, 10], [2, -18], ...</td>\n",
              "    </tr>\n",
              "  </tbody>\n",
              "</table>\n",
              "<p>245 rows × 2 columns</p>\n",
              "</div>\n",
              "      <button class=\"colab-df-convert\" onclick=\"convertToInteractive('df-703f4bc1-5dbd-4468-9954-c39f57fede80')\"\n",
              "              title=\"Convert this dataframe to an interactive table.\"\n",
              "              style=\"display:none;\">\n",
              "        \n",
              "  <svg xmlns=\"http://www.w3.org/2000/svg\" height=\"24px\"viewBox=\"0 0 24 24\"\n",
              "       width=\"24px\">\n",
              "    <path d=\"M0 0h24v24H0V0z\" fill=\"none\"/>\n",
              "    <path d=\"M18.56 5.44l.94 2.06.94-2.06 2.06-.94-2.06-.94-.94-2.06-.94 2.06-2.06.94zm-11 1L8.5 8.5l.94-2.06 2.06-.94-2.06-.94L8.5 2.5l-.94 2.06-2.06.94zm10 10l.94 2.06.94-2.06 2.06-.94-2.06-.94-.94-2.06-.94 2.06-2.06.94z\"/><path d=\"M17.41 7.96l-1.37-1.37c-.4-.4-.92-.59-1.43-.59-.52 0-1.04.2-1.43.59L10.3 9.45l-7.72 7.72c-.78.78-.78 2.05 0 2.83L4 21.41c.39.39.9.59 1.41.59.51 0 1.02-.2 1.41-.59l7.78-7.78 2.81-2.81c.8-.78.8-2.07 0-2.86zM5.41 20L4 18.59l7.72-7.72 1.47 1.35L5.41 20z\"/>\n",
              "  </svg>\n",
              "      </button>\n",
              "      \n",
              "  <style>\n",
              "    .colab-df-container {\n",
              "      display:flex;\n",
              "      flex-wrap:wrap;\n",
              "      gap: 12px;\n",
              "    }\n",
              "\n",
              "    .colab-df-convert {\n",
              "      background-color: #E8F0FE;\n",
              "      border: none;\n",
              "      border-radius: 50%;\n",
              "      cursor: pointer;\n",
              "      display: none;\n",
              "      fill: #1967D2;\n",
              "      height: 32px;\n",
              "      padding: 0 0 0 0;\n",
              "      width: 32px;\n",
              "    }\n",
              "\n",
              "    .colab-df-convert:hover {\n",
              "      background-color: #E2EBFA;\n",
              "      box-shadow: 0px 1px 2px rgba(60, 64, 67, 0.3), 0px 1px 3px 1px rgba(60, 64, 67, 0.15);\n",
              "      fill: #174EA6;\n",
              "    }\n",
              "\n",
              "    [theme=dark] .colab-df-convert {\n",
              "      background-color: #3B4455;\n",
              "      fill: #D2E3FC;\n",
              "    }\n",
              "\n",
              "    [theme=dark] .colab-df-convert:hover {\n",
              "      background-color: #434B5C;\n",
              "      box-shadow: 0px 1px 3px 1px rgba(0, 0, 0, 0.15);\n",
              "      filter: drop-shadow(0px 1px 2px rgba(0, 0, 0, 0.3));\n",
              "      fill: #FFFFFF;\n",
              "    }\n",
              "  </style>\n",
              "\n",
              "      <script>\n",
              "        const buttonEl =\n",
              "          document.querySelector('#df-703f4bc1-5dbd-4468-9954-c39f57fede80 button.colab-df-convert');\n",
              "        buttonEl.style.display =\n",
              "          google.colab.kernel.accessAllowed ? 'block' : 'none';\n",
              "\n",
              "        async function convertToInteractive(key) {\n",
              "          const element = document.querySelector('#df-703f4bc1-5dbd-4468-9954-c39f57fede80');\n",
              "          const dataTable =\n",
              "            await google.colab.kernel.invokeFunction('convertToInteractive',\n",
              "                                                     [key], {});\n",
              "          if (!dataTable) return;\n",
              "\n",
              "          const docLinkHtml = 'Like what you see? Visit the ' +\n",
              "            '<a target=\"_blank\" href=https://colab.research.google.com/notebooks/data_table.ipynb>data table notebook</a>'\n",
              "            + ' to learn more about interactive tables.';\n",
              "          element.innerHTML = '';\n",
              "          dataTable['output_type'] = 'display_data';\n",
              "          await google.colab.output.renderOutput(dataTable, element);\n",
              "          const docLink = document.createElement('div');\n",
              "          docLink.innerHTML = docLinkHtml;\n",
              "          element.appendChild(docLink);\n",
              "        }\n",
              "      </script>\n",
              "    </div>\n",
              "  </div>\n",
              "  "
            ]
          },
          "metadata": {},
          "execution_count": 150
        }
      ]
    },
    {
      "cell_type": "markdown",
      "source": [
        "En mis caso seria el 68\n"
      ],
      "metadata": {
        "id": "AvO8Ro4IlOVh"
      }
    },
    {
      "cell_type": "code",
      "source": [
        "#lista\n",
        "\n",
        "[4,-5,-6,9,9,-12,-13,14]\t\n",
        "\n",
        "#pares\n",
        "\n",
        "{'S': 18, 'ψ': [[-6, -12], [-5, -13], [4, 14], [9, 9], [-12, -6], [-13, -5], [14, 4]]}"
      ],
      "metadata": {
        "id": "sApa9aE7mDM_"
      },
      "execution_count": null,
      "outputs": []
    },
    {
      "cell_type": "code",
      "source": [
        "Datos = df.loc[68,:]\n",
        "l = Datos[\"lista\"]\n",
        "p = Datos[\"pares\"]\n",
        "\n",
        "print(l)\n",
        "print(p)"
      ],
      "metadata": {
        "colab": {
          "base_uri": "https://localhost:8080/"
        },
        "id": "ajQTVB4cr6wi",
        "outputId": "e2a2f4b9-56a6-4910-e214-31ccdae9a5c9"
      },
      "execution_count": 127,
      "outputs": [
        {
          "output_type": "stream",
          "name": "stdout",
          "text": [
            "[4, -5, -6, 9, 9, -12, -13, 14]\n",
            "{'S': 18, 'ψ': [[-6, -12], [-5, -13], [4, 14], [9, 9], [-12, -6], [-13, -5], [14, 4]]}\n"
          ]
        }
      ]
    },
    {
      "cell_type": "markdown",
      "source": [
        "1. Construya una matrix 8x8 simétrica donde cada fila y la correspondiente columna correspondan a un entero de la lista (incluyendo los repetidos); de manera que en los cruces de filas y columnas definidos por los pares de enteros de 'ψ', se genere una entrada aleatoria mayor que cero y menor o igual que 1, con las demas entradas iguales a cero."
      ],
      "metadata": {
        "id": "6FpzyTdjuDjC"
      }
    },
    {
      "cell_type": "code",
      "source": [
        "m= np.zeros((8,8))\n",
        "m"
      ],
      "metadata": {
        "colab": {
          "base_uri": "https://localhost:8080/"
        },
        "id": "nT28A5cQuIbC",
        "outputId": "ae5360b4-c28c-4c70-e31f-34081264bd98"
      },
      "execution_count": 140,
      "outputs": [
        {
          "output_type": "execute_result",
          "data": {
            "text/plain": [
              "array([[0., 0., 0., 0., 0., 0., 0., 0.],\n",
              "       [0., 0., 0., 0., 0., 0., 0., 0.],\n",
              "       [0., 0., 0., 0., 0., 0., 0., 0.],\n",
              "       [0., 0., 0., 0., 0., 0., 0., 0.],\n",
              "       [0., 0., 0., 0., 0., 0., 0., 0.],\n",
              "       [0., 0., 0., 0., 0., 0., 0., 0.],\n",
              "       [0., 0., 0., 0., 0., 0., 0., 0.],\n",
              "       [0., 0., 0., 0., 0., 0., 0., 0.]])"
            ]
          },
          "metadata": {},
          "execution_count": 140
        }
      ]
    },
    {
      "cell_type": "code",
      "source": [
        "m2=  ([[0., 0., 0., 0., 0., 0., 0., 1.],\n",
        "       [0., 0., 0., 0., 0., 0., 1., 0.],\n",
        "       [0., 0., 0., 0., 0., 1., 0., 0.],\n",
        "       [0., 0., 0., 0., 1., 0., 0., 0.],\n",
        "       [0., 0., 0., 1., 0., 0., 0., 0.],\n",
        "       [0., 0., 1., 0., 0., 0., 0., 0.],\n",
        "       [0., 1., 0., 0., 0., 0., 0., 0.],\n",
        "       [1., 0., 0., 0., 0., 0., 0., 0.]])\n",
        "\n",
        "for i in range(0,8):\n",
        "    for j in range(0,8):\n",
        "        a=np.random.random()\n",
        "        m2[i][j]=m2[i][j]*a\n",
        "        m2[j][i]=m2[j][i]*a\n",
        "\n",
        "sy.Matrix(m2)"
      ],
      "metadata": {
        "colab": {
          "base_uri": "https://localhost:8080/",
          "height": 200
        },
        "id": "ikqTGdlszP8G",
        "outputId": "4a66a16d-5e37-4739-8748-86088ac7516e"
      },
      "execution_count": 144,
      "outputs": [
        {
          "output_type": "execute_result",
          "data": {
            "text/plain": [
              "Matrix([\n",
              "[              0.0,               0.0,                0.0,               0.0,               0.0,                0.0,               0.0, 0.364158533226711],\n",
              "[              0.0,               0.0,                0.0,               0.0,               0.0,                0.0, 0.408722994717722,               0.0],\n",
              "[              0.0,               0.0,                0.0,               0.0,               0.0, 0.0976262495142644,               0.0,               0.0],\n",
              "[              0.0,               0.0,                0.0,               0.0, 0.037626380581173,                0.0,               0.0,               0.0],\n",
              "[              0.0,               0.0,                0.0, 0.037626380581173,               0.0,                0.0,               0.0,               0.0],\n",
              "[              0.0,               0.0, 0.0976262495142644,               0.0,               0.0,                0.0,               0.0,               0.0],\n",
              "[              0.0, 0.408722994717722,                0.0,               0.0,               0.0,                0.0,               0.0,               0.0],\n",
              "[0.364158533226711,               0.0,                0.0,               0.0,               0.0,                0.0,               0.0,               0.0]])"
            ],
            "text/latex": "$\\displaystyle \\left[\\begin{matrix}0.0 & 0.0 & 0.0 & 0.0 & 0.0 & 0.0 & 0.0 & 0.364158533226711\\\\0.0 & 0.0 & 0.0 & 0.0 & 0.0 & 0.0 & 0.408722994717722 & 0.0\\\\0.0 & 0.0 & 0.0 & 0.0 & 0.0 & 0.0976262495142644 & 0.0 & 0.0\\\\0.0 & 0.0 & 0.0 & 0.0 & 0.037626380581173 & 0.0 & 0.0 & 0.0\\\\0.0 & 0.0 & 0.0 & 0.037626380581173 & 0.0 & 0.0 & 0.0 & 0.0\\\\0.0 & 0.0 & 0.0976262495142644 & 0.0 & 0.0 & 0.0 & 0.0 & 0.0\\\\0.0 & 0.408722994717722 & 0.0 & 0.0 & 0.0 & 0.0 & 0.0 & 0.0\\\\0.364158533226711 & 0.0 & 0.0 & 0.0 & 0.0 & 0.0 & 0.0 & 0.0\\end{matrix}\\right]$"
          },
          "metadata": {},
          "execution_count": 144
        }
      ]
    },
    {
      "cell_type": "markdown",
      "source": [
        "2. Calcule el determinante y establezca explícitamente si es diferente cero (tenga en cuenta la precisión numérica). Recuerde que si el determinante es cero, se espera que al menos uno de los autovalores sea cero"
      ],
      "metadata": {
        "id": "lUo1Wt412tW3"
      }
    },
    {
      "cell_type": "code",
      "source": [
        "m2"
      ],
      "metadata": {
        "colab": {
          "base_uri": "https://localhost:8080/"
        },
        "id": "UHq6Fb132sdd",
        "outputId": "7cd54e08-f408-47a8-d9fa-f4e9505f8226"
      },
      "execution_count": 146,
      "outputs": [
        {
          "output_type": "execute_result",
          "data": {
            "text/plain": [
              "[[0.0, 0.0, 0.0, 0.0, 0.0, 0.0, 0.0, 0.3641585332267115],\n",
              " [0.0, 0.0, 0.0, 0.0, 0.0, 0.0, 0.40872299471772194, 0.0],\n",
              " [0.0, 0.0, 0.0, 0.0, 0.0, 0.09762624951426443, 0.0, 0.0],\n",
              " [0.0, 0.0, 0.0, 0.0, 0.03762638058117296, 0.0, 0.0, 0.0],\n",
              " [0.0, 0.0, 0.0, 0.03762638058117296, 0.0, 0.0, 0.0, 0.0],\n",
              " [0.0, 0.0, 0.09762624951426443, 0.0, 0.0, 0.0, 0.0, 0.0],\n",
              " [0.0, 0.40872299471772194, 0.0, 0.0, 0.0, 0.0, 0.0, 0.0],\n",
              " [0.3641585332267115, 0.0, 0.0, 0.0, 0.0, 0.0, 0.0, 0.0]]"
            ]
          },
          "metadata": {},
          "execution_count": 146
        }
      ]
    },
    {
      "cell_type": "code",
      "source": [
        "dt=np.linalg.det(m2)\n",
        "dt"
      ],
      "metadata": {
        "colab": {
          "base_uri": "https://localhost:8080/"
        },
        "id": "bwecQ0Mh3Rh8",
        "outputId": "305930d9-2e3b-4bc4-8ce6-2e4fc21c3507"
      },
      "execution_count": 149,
      "outputs": [
        {
          "output_type": "execute_result",
          "data": {
            "text/plain": [
              "2.989215493182443e-07"
            ]
          },
          "metadata": {},
          "execution_count": 149
        }
      ]
    },
    {
      "cell_type": "markdown",
      "source": [
        "El determinante es diferente de 0"
      ],
      "metadata": {
        "id": "L1ArHY-f35pC"
      }
    },
    {
      "cell_type": "markdown",
      "source": [
        "Organize los autovalores y autovectores de menor a mayor en valor absoluto y compruebe que las matriz de autovectores organizada da lugar a los autovalores en el orden correcto."
      ],
      "metadata": {
        "id": "nX2-tGfh4AU6"
      }
    },
    {
      "cell_type": "code",
      "source": [
        "W, V= np.linalg.eig(m2)"
      ],
      "metadata": {
        "id": "QT7irIlU6esE"
      },
      "execution_count": 164,
      "outputs": []
    },
    {
      "cell_type": "code",
      "source": [
        "#autovectores\n",
        "\n",
        "b = abs(V)\n",
        "\n",
        "b.sort()\n",
        "\n",
        "print(b)"
      ],
      "metadata": {
        "colab": {
          "base_uri": "https://localhost:8080/"
        },
        "id": "Uz8ygol27r-5",
        "outputId": "40594577-3cb0-4ded-c873-9a20f5bb478b"
      },
      "execution_count": 165,
      "outputs": [
        {
          "output_type": "stream",
          "name": "stdout",
          "text": [
            "[[0.         0.         0.         0.         0.         0.\n",
            "  0.70710678 0.70710678]\n",
            " [0.         0.         0.         0.         0.         0.\n",
            "  0.70710678 0.70710678]\n",
            " [0.         0.         0.         0.         0.         0.\n",
            "  0.70710678 0.70710678]\n",
            " [0.         0.         0.         0.         0.         0.\n",
            "  0.70710678 0.70710678]\n",
            " [0.         0.         0.         0.         0.         0.\n",
            "  0.70710678 0.70710678]\n",
            " [0.         0.         0.         0.         0.         0.\n",
            "  0.70710678 0.70710678]\n",
            " [0.         0.         0.         0.         0.         0.\n",
            "  0.70710678 0.70710678]\n",
            " [0.         0.         0.         0.         0.         0.\n",
            "  0.70710678 0.70710678]]\n"
          ]
        }
      ]
    },
    {
      "cell_type": "code",
      "source": [
        "#autovalores\n",
        "\n",
        "b2 = abs(W)\n",
        "\n",
        "b2.sort()\n",
        "\n",
        "print(b2)"
      ],
      "metadata": {
        "colab": {
          "base_uri": "https://localhost:8080/"
        },
        "id": "qeX_HAl-8fU3",
        "outputId": "cd477950-14f0-4d07-8ed3-83830e8d1bde"
      },
      "execution_count": 167,
      "outputs": [
        {
          "output_type": "stream",
          "name": "stdout",
          "text": [
            "[0.03762638 0.03762638 0.09762625 0.09762625 0.36415853 0.36415853\n",
            " 0.40872299 0.40872299]\n"
          ]
        }
      ]
    },
    {
      "cell_type": "markdown",
      "source": [
        "Establezca explícitamente cuantos autovalores son degenerados en valor absoluto."
      ],
      "metadata": {
        "id": "B9BOxd479mB0"
      }
    },
    {
      "cell_type": "markdown",
      "source": [
        "en valor absoluto serian 4 autovalores"
      ],
      "metadata": {
        "id": "UIP20txF9nG0"
      }
    }
  ]
}