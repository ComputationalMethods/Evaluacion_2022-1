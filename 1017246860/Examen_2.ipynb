{
 "cells": [
  {
   "cell_type": "code",
   "execution_count": 352,
   "id": "15d7c367-54d6-4139-9bed-fd7b7f507c76",
   "metadata": {},
   "outputs": [],
   "source": [
    "import pandas as pd\n",
    "import numpy as np\n",
    "import sympy as sy\n",
    "from scipy import integrate\n",
    "from sympy import oo\n",
    "import math as mt\n",
    "from numpy import linalg"
   ]
  },
  {
   "cell_type": "markdown",
   "id": "998c5780-dd99-4747-8664-007a93962bd6",
   "metadata": {},
   "source": [
    "### Examen número 2: Métodos computacionales \n",
    "A) Para aproximar el valor de la integral se toma las singularidades del integrando, como n = 4 se sustituye el valor\n",
    "$$ \\int_{0}^{\\infty}\\sin(x^4)dx = \\int_{0}^{1}\\sin(x^4) dx + \\int_{1}^{\\infty}\\sin(x^4) dx$$, la primer a integral se resuelve sin ningún inconveniente. \n",
    "\n",
    "Para resolver la segunda integral se quita la singularidad a derecha, cambiando a $x = \\frac{1}{t^{1/4}}$ se deriva y se obtiene $dx = \\frac{-1}{4} t^{-3/4} dt$, reemplazando en la integral se llega a que $$ \\frac{1}{4} \\int_{0}^{1} t^{-3/4} \\sin(\\frac{1}{t}) dx $$ \n",
    "\n",
    "Como ya se tiene una singularidad a izquierda se puede aproximar el integrando y así hallar el valor aproximado:\n"
   ]
  },
  {
   "cell_type": "code",
   "execution_count": null,
   "id": "13c083c0-4963-4f64-8700-b0fae75b870d",
   "metadata": {},
   "outputs": [],
   "source": [
    "#1. Número entero aleatorio\n",
    "np.random.seed(1017246860)\n",
    "n = np.random.randint(2,20)\n",
    "print(\"El número aleatorio con el número de cédula es \",n)"
   ]
  },
  {
   "cell_type": "code",
   "execution_count": null,
   "id": "a12a4604-5a83-4c48-89d1-be2b17b16be5",
   "metadata": {},
   "outputs": [],
   "source": [
    "#Solución por medio de sympy para validar el resultado\n",
    "x = sy.symbols(\"x\") #Construye la variable independiente\n",
    "#Integrando\n",
    "def sin_(x,n):\n",
    "    \"\"\"\n",
    "    x = variable independiente\n",
    "    n = potencia de x\n",
    "    \"\"\"\n",
    "    s = sy.sin(x**n)\n",
    "    return s\n",
    "#Integración de la expresión en forma simbolica \n",
    "int1 = sy.integrate(sin_(x,n),(x,0,oo))\n",
    "print(f\"El valor con dos cifras significativas de la integral con sympy es {int1.n():.2}\")"
   ]
  },
  {
   "cell_type": "code",
   "execution_count": null,
   "id": "28315528-18f6-4019-bc61-812b03cd6984",
   "metadata": {},
   "outputs": [],
   "source": [
    "#2. Hallar el valor de la integral con integrate.quad\n",
    "#Se define la primera integral\n",
    "def sin_(t):\n",
    "    s = np.sin(t**4)\n",
    "    return s\n",
    "integral = integrate.quad(sin_,0,1)\n",
    "#============================================================================\n",
    "def sin1(t):\n",
    "    s = ((1/t)-(1/mt.factorial(3))*(1/t**3)) * (t**(-3/4))* 1/4\n",
    "    return s\n",
    "#Primera integral que corresponde al poliniomio de grado 4 de taylor\n",
    "# De la función sin(1/t)\n",
    "integral1 = integrate.quad(sin1,0,1)\n",
    "\n",
    "#============================================================================\n",
    "def sin2(t):\n",
    "    s = (np.sin(1/t)-((1/t)-(1/mt.factorial(3))*(1/t**3)) ) * (t**(-3/4))* 1/4\n",
    "    return s\n",
    "integral2 = integrate.quad(sin2,0,1)\n",
    "#EL valor de la integral es la suma de la integral + integral2\n",
    "inte = integral[0]+integral1[0] + integral2[0]"
   ]
  },
  {
   "cell_type": "code",
   "execution_count": null,
   "id": "d07862be-00e3-4f1f-be10-95cb108f1c50",
   "metadata": {},
   "outputs": [],
   "source": [
    "print(f\"El valor de la integral con dos cifras significativas es {inte:.2}\")"
   ]
  },
  {
   "cell_type": "markdown",
   "id": "f86acc67-4a50-490f-ab1f-a7cff89e27c8",
   "metadata": {},
   "source": [
    "B)"
   ]
  },
  {
   "cell_type": "code",
   "execution_count": 230,
   "id": "35fe2a38-28d3-4e53-86ee-4bba483d10f2",
   "metadata": {},
   "outputs": [
    {
     "data": {
      "text/html": [
       "<div>\n",
       "<style scoped>\n",
       "    .dataframe tbody tr th:only-of-type {\n",
       "        vertical-align: middle;\n",
       "    }\n",
       "\n",
       "    .dataframe tbody tr th {\n",
       "        vertical-align: top;\n",
       "    }\n",
       "\n",
       "    .dataframe thead th {\n",
       "        text-align: right;\n",
       "    }\n",
       "</style>\n",
       "<table border=\"1\" class=\"dataframe\">\n",
       "  <thead>\n",
       "    <tr style=\"text-align: right;\">\n",
       "      <th></th>\n",
       "      <th>lista</th>\n",
       "      <th>pares</th>\n",
       "    </tr>\n",
       "  </thead>\n",
       "  <tbody>\n",
       "    <tr>\n",
       "      <th>6</th>\n",
       "      <td>[1, -3, -4, -5, 6, 6, 8, -9]</td>\n",
       "      <td>{'S': 3, 'ψ': [[-3, 6], [-5, 8], [1, -4], [6, ...</td>\n",
       "    </tr>\n",
       "    <tr>\n",
       "      <th>0</th>\n",
       "      <td>[1, 1, 2, 3, -4, -4, -5, 6]</td>\n",
       "      <td>{'S': 2, 'ψ': [[3, -5], [2, -4], [-4, 6], [1, ...</td>\n",
       "    </tr>\n",
       "  </tbody>\n",
       "</table>\n",
       "</div>"
      ],
      "text/plain": [
       "                          lista  \\\n",
       "6  [1, -3, -4, -5, 6, 6, 8, -9]   \n",
       "0   [1, 1, 2, 3, -4, -4, -5, 6]   \n",
       "\n",
       "                                               pares  \n",
       "6  {'S': 3, 'ψ': [[-3, 6], [-5, 8], [1, -4], [6, ...  \n",
       "0  {'S': 2, 'ψ': [[3, -5], [2, -4], [-4, 6], [1, ...  "
      ]
     },
     "execution_count": 230,
     "metadata": {},
     "output_type": "execute_result"
    }
   ],
   "source": [
    "url = \"https://raw.githubusercontent.com/ComputationalMethods/Evaluacion_2022-1/main/data/lista_pares.json\"\n",
    "df = pd.read_json(url)\n",
    "df1 = df.iloc[[6,0]]\n",
    "df1"
   ]
  },
  {
   "cell_type": "code",
   "execution_count": 231,
   "id": "9b9e9627-59be-43b7-98b0-595e50c442be",
   "metadata": {},
   "outputs": [],
   "source": [
    "df2 = df1[\"pares\"][6]\n",
    "df3 = df1[\"pares\"][0]"
   ]
  },
  {
   "cell_type": "code",
   "execution_count": 232,
   "id": "6d0a9abe-ec5a-40ec-a36e-6def9321d584",
   "metadata": {},
   "outputs": [
    {
     "data": {
      "text/plain": [
       "[[3, -5], [2, -4], [-4, 6], [1, 1], [-5, 3], [-4, 2], [6, -4]]"
      ]
     },
     "execution_count": 232,
     "metadata": {},
     "output_type": "execute_result"
    }
   ],
   "source": [
    "df2[\"ψ\"]\n",
    "df3[\"ψ\"]"
   ]
  },
  {
   "cell_type": "code",
   "execution_count": 325,
   "id": "19566fcf-6e3b-4c52-868d-0669c25d1e0e",
   "metadata": {},
   "outputs": [
    {
     "name": "stdout",
     "output_type": "stream",
     "text": [
      "[3, -5, 2, -4, -4, 6, 1, 1, -5, 3, -4, 2, 6, -4, 2, 3]\n",
      "[1, 1, 2, 3, -4, -4, -5, 6]\n",
      "[1, -3, -4, -5, 6, 6, 8, -9]\n",
      "[-3, 6, -5, 8, 1, -4, 6, -9, 6, -3, 8, -5, -4, 1, -9, 6]\n"
     ]
    }
   ],
   "source": [
    "a = []\n",
    "b = []\n",
    "for i in df2[\"ψ\"]:\n",
    "    for k in i:\n",
    "        a.append(k)\n",
    "\n",
    "for i in df3[\"ψ\"]:\n",
    "    for k in i:\n",
    "        b.append(k)\n",
    "        \n",
    "\n",
    "e = df1[\"lista\"][0]\n",
    "f = df1[\"lista\"][6]\n",
    "c = [df3[\"S\"],df2[\"S\"]]\n",
    "c1 = b.extend(c)\n",
    "print(b)\n",
    "print(e)\n",
    "print(f)\n",
    "print(a)\n",
    "r1 = np.reshape(b,(2,8))\n",
    "r2= np.reshape(a,(2,8))\n",
    "filas = 8\n",
    "columna = 8 \n",
    "A = np.zeros([filas,columna])\n",
    "B1 = np.array([r1[0],r1[1],r2[0],r2[1],f,e])"
   ]
  },
  {
   "cell_type": "code",
   "execution_count": 283,
   "id": "0b44f99a-b927-4824-b056-42f81964ea6e",
   "metadata": {},
   "outputs": [],
   "source": [
    "f = 8\n",
    "c = 8\n",
    "B = np.array([[0 for x in range(c)] for y in range(f)])\n",
    "for i in range(1,f):\n",
    "    for j in range(1,c):\n",
    "        B[i][j] = (i+1)*(j+1)"
   ]
  },
  {
   "cell_type": "code",
   "execution_count": 341,
   "id": "ed5e3dfa-c262-4acc-be28-7902d5238e3c",
   "metadata": {},
   "outputs": [],
   "source": [
    "f = 8\n",
    "c = 8\n",
    "B = np.zeros((f,c))\n",
    "for i in range(1,f):\n",
    "    for j in range(1,c):\n",
    "        B[i][j] = (i+1)*(j+1)"
   ]
  },
  {
   "cell_type": "code",
   "execution_count": null,
   "id": "382ce7c1-8add-4732-9a23-19be166a7b7e",
   "metadata": {},
   "outputs": [],
   "source": []
  },
  {
   "cell_type": "code",
   "execution_count": 359,
   "id": "d33fef64-7784-4b97-8f7d-74887ce10c8b",
   "metadata": {},
   "outputs": [],
   "source": [
    "L = np.zeros((8,8))\n",
    "for i in range(1,len(B1)):\n",
    "    for k in B1[i]:\n",
    "        L[i] = k"
   ]
  },
  {
   "cell_type": "code",
   "execution_count": 361,
   "id": "0bd0e3ca-e000-4bf8-b446-6cc1e699af6c",
   "metadata": {},
   "outputs": [
    {
     "data": {
      "text/plain": [
       "array([[ 0.,  0.,  0.,  0.,  0.,  0.,  0.,  0.],\n",
       "       [ 3.,  3.,  3.,  3.,  3.,  3.,  3.,  3.],\n",
       "       [-9., -9., -9., -9., -9., -9., -9., -9.],\n",
       "       [ 6.,  6.,  6.,  6.,  6.,  6.,  6.,  6.],\n",
       "       [-9., -9., -9., -9., -9., -9., -9., -9.],\n",
       "       [ 6.,  6.,  6.,  6.,  6.,  6.,  6.,  6.],\n",
       "       [ 0.,  0.,  0.,  0.,  0.,  0.,  0.,  0.],\n",
       "       [ 0.,  0.,  0.,  0.,  0.,  0.,  0.,  0.]])"
      ]
     },
     "execution_count": 361,
     "metadata": {},
     "output_type": "execute_result"
    }
   ],
   "source": [
    "L"
   ]
  },
  {
   "cell_type": "code",
   "execution_count": 363,
   "id": "e3b32e2e-36cd-4860-881d-efacb5c09df0",
   "metadata": {},
   "outputs": [
    {
     "name": "stdout",
     "output_type": "stream",
     "text": [
      "El determinante es igual a cero \n"
     ]
    }
   ],
   "source": [
    "#Determinante\n",
    "linalg.det(L)\n",
    "print(\"El determinante es igual a cero \")"
   ]
  },
  {
   "cell_type": "code",
   "execution_count": 364,
   "id": "52ae4aac-7d26-4196-a115-9ffd51528f97",
   "metadata": {},
   "outputs": [],
   "source": [
    "#Autovalores \n",
    "autovectores, autovalores = linalg.eig(L)"
   ]
  },
  {
   "cell_type": "code",
   "execution_count": 366,
   "id": "62298d41-fedb-4586-a546-70a2a75524f2",
   "metadata": {},
   "outputs": [
    {
     "data": {
      "text/plain": [
       "array([[ 0.        ,  0.        ,  0.        ,  0.        ,  0.        ,\n",
       "         0.5771294 ,  0.        ,  0.        ],\n",
       "       [ 0.19245009,  0.29140358, -0.06441774, -0.54920265,  0.06441774,\n",
       "        -0.07470565, -0.07470565, -0.07470565],\n",
       "       [-0.57735027, -0.54541234, -0.44094427, -0.20151712,  0.44094427,\n",
       "        -0.51136583, -0.51136583, -0.51136583],\n",
       "       [ 0.38490018,  0.41699741,  0.19098398,  0.76228327, -0.19098398,\n",
       "         0.22148532,  0.22148532,  0.22148532],\n",
       "       [-0.57735027, -0.54541234, -0.44094427, -0.20151712,  0.44094427,\n",
       "        -0.51136583, -0.51136583, -0.51136583],\n",
       "       [ 0.38490018,  0.38242369,  0.7553223 ,  0.18995362, -0.7553223 ,\n",
       "         0.29882261,  0.29882261,  0.29882261],\n",
       "       [ 0.        ,  0.        ,  0.        ,  0.        ,  0.        ,\n",
       "         0.        ,  0.5771294 ,  0.        ],\n",
       "       [ 0.        ,  0.        ,  0.        ,  0.        ,  0.        ,\n",
       "         0.        ,  0.        ,  0.5771294 ]])"
      ]
     },
     "execution_count": 366,
     "metadata": {},
     "output_type": "execute_result"
    }
   ],
   "source": [
    "#Autovalores\n",
    "autovalores"
   ]
  },
  {
   "cell_type": "code",
   "execution_count": 367,
   "id": "448f52c4-91cd-4ace-a802-9823a66fdd32",
   "metadata": {},
   "outputs": [
    {
     "data": {
      "text/plain": [
       "array([-3.0000000e+00,  1.3723028e-14,  0.0000000e+00, -8.8817842e-16,\n",
       "        0.0000000e+00,  0.0000000e+00,  0.0000000e+00,  0.0000000e+00])"
      ]
     },
     "execution_count": 367,
     "metadata": {},
     "output_type": "execute_result"
    }
   ],
   "source": [
    "#Autovectores\n",
    "autovectores"
   ]
  },
  {
   "cell_type": "code",
   "execution_count": null,
   "id": "99dd26ec-7210-4bd2-b0a0-8d16111f5496",
   "metadata": {},
   "outputs": [],
   "source": []
  }
 ],
 "metadata": {
  "kernelspec": {
   "display_name": "Python 3 (ipykernel)",
   "language": "python",
   "name": "python3"
  },
  "language_info": {
   "codemirror_mode": {
    "name": "ipython",
    "version": 3
   },
   "file_extension": ".py",
   "mimetype": "text/x-python",
   "name": "python",
   "nbconvert_exporter": "python",
   "pygments_lexer": "ipython3",
   "version": "3.9.12"
  }
 },
 "nbformat": 4,
 "nbformat_minor": 5
}
