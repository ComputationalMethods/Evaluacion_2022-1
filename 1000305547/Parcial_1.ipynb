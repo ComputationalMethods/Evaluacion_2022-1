{
  "nbformat": 4,
  "nbformat_minor": 0,
  "metadata": {
    "colab": {
      "provenance": []
    },
    "kernelspec": {
      "name": "python3",
      "display_name": "Python 3"
    },
    "language_info": {
      "name": "python"
    }
  },
  "cells": [
    {
      "cell_type": "markdown",
      "source": [
        "Punto 1\n"
      ],
      "metadata": {
        "id": "s7LG-4shBW8J"
      }
    },
    {
      "cell_type": "code",
      "execution_count": null,
      "metadata": {
        "id": "b_DUW43E4mZF"
      },
      "outputs": [],
      "source": [
        "#Importar paquetes y lectura de Json\n",
        "\n",
        "import requests\n",
        "import random\n",
        "import numpy as np\n",
        "import pandas as pd\n",
        "from sympy import *\n",
        "import matplotlib.pyplot as plt\n",
        "\n",
        "r = requests.get( 'https://datahub.io/core/country-list/r/data.json' )\n",
        "countries = r.json()"
      ]
    },
    {
      "cell_type": "code",
      "source": [
        "#Funciones para elejir un pais al azar \n",
        "\n",
        "def getRandomCountry():\n",
        "  country = []\n",
        "  country = random.choice(countries)\n",
        "  name = country['Name']\n",
        "  re = requests.get('https://inspirehep.net/api/institutions?q=' + name)\n",
        "  papers = re.json()\n",
        "  list_institutions = []\n",
        "  institutions = papers['hits']['hits']\n",
        "  for element in institutions:\n",
        "    list_institutions.append({'country': name, 'number_of_papers': element['metadata']['number_of_papers'], 'legacy_ICN': element['metadata']['legacy_ICN'] })\n",
        "  return list_institutions\n",
        "\n",
        "def getIcn(countryInstitutions):\n",
        "  for institution in countryInstitutions:\n",
        "    if institution['number_of_papers'] > 0:\n",
        "      return institution['legacy_ICN']\n",
        "  return getIcn(getRandomCountry())"
      ],
      "metadata": {
        "id": "fuMikVo38FNG"
      },
      "execution_count": null,
      "outputs": []
    },
    {
      "cell_type": "code",
      "source": [
        "#Seleccion de autores y lectura de datos\n",
        "\n",
        "icn = getIcn(getRandomCountry())\n",
        "icn = icn.replace(' ', '+')\n",
        "re2 = requests.get('https://inspirehep.net/api/literature?sort=mostrecent&page=1&q=aff+' + icn + '+and+ac+1->+10')\n",
        "json_data = re2.json()\n",
        "choice = random.choice(json_data['hits']['hits'])\n",
        "authorURLs = []\n",
        "\n",
        "for author in choice['metadata']['authors']:\n",
        "  if author.get('record') != None:\n",
        "    authorURLs.append(author['record']['$ref'])"
      ],
      "metadata": {
        "id": "LKpe7jbFI6IF"
      },
      "execution_count": null,
      "outputs": []
    },
    {
      "cell_type": "code",
      "source": [
        "#Recoleccion de datos y construccion de la tabla\n",
        "\n",
        "def filter_info (data,field):\n",
        "  value = 'Sin datos'\n",
        "  val_to_check = data.get(field)\n",
        "  if type(val_to_check) == list and len(val_to_check) > 0: \n",
        "    val_to_check = val_to_check[0]\n",
        "  if val_to_check != None:\n",
        "    value = val_to_check['value']\n",
        "  return value\n",
        "\n",
        "authorInfoList = []\n",
        "i = 0\n",
        "for authorUrl in authorURLs:\n",
        "  i = i+1\n",
        "  data = requests.get(authorUrl).json()['metadata']\n",
        "  if data.get('positions') != None:\n",
        "    if data['positions'][0].get('institution') != None:\n",
        "      institution = data['positions'][0]['institution']\n",
        "    else:\n",
        "      institution = 'Sin datos'\n",
        "    if data['positions'][0].get('start_date') != None:\n",
        "      s_date = data['positions'][0]['start_date']\n",
        "    else:\n",
        "      s_date = 'Sin datos'\n",
        "    if data['positions'][0].get('end_date') != None:\n",
        "      e_date = data['positions'][0]['end_date']\n",
        "    else:\n",
        "      e_date = 'Sin datos'\n",
        "    if data['positions'][0].get('rank') != None:\n",
        "      rank = data['positions'][0]['rank']\n",
        "    else:\n",
        "      rank = 'Sin datos'\n",
        "  else:\n",
        "    rank = 'Sin datos'\n",
        "    institution = 'Sin datos'\n",
        "    s_date = 'Sin datos'\n",
        "    e_date = 'Sin datos'\n",
        "  authorInfoList.append(\n",
        "      {\n",
        "       'Autor':i,\n",
        "       'Nombre completo': filter_info(data, 'name'),\n",
        "       'Correo electronico': filter_info(data, 'email_addresses'),\n",
        "       'Rango de la ultima posicion': rank,\n",
        "       'Institucion de la ultima posicion': institution,\n",
        "       'Fecha de inicio de la ultima posicion': s_date,\n",
        "       'Fecha de finalizacion de la ultima posicion': e_date,\n",
        "      }\n",
        "  )\n",
        "\n",
        "pd.DataFrame(authorInfoList)"
      ],
      "metadata": {
        "colab": {
          "base_uri": "https://localhost:8080/",
          "height": 141
        },
        "id": "I9W-mXCGI66Y",
        "outputId": "d25de776-8608-43a1-c22e-6a6d71571a05"
      },
      "execution_count": null,
      "outputs": [
        {
          "output_type": "execute_result",
          "data": {
            "text/plain": [
              "   Autor Nombre completo Correo electronico Rango de la ultima posicion  \\\n",
              "0      1  Dothan, Yossef          Sin datos                   Sin datos   \n",
              "\n",
              "  Institucion de la ultima posicion Fecha de inicio de la ultima posicion  \\\n",
              "0                       Tel Aviv U.                             Sin datos   \n",
              "\n",
              "  Fecha de finalizacion de la ultima posicion  \n",
              "0                                   Sin datos  "
            ],
            "text/html": [
              "\n",
              "  <div id=\"df-5ad5d161-fa8a-4cc7-89e6-a929141edecf\">\n",
              "    <div class=\"colab-df-container\">\n",
              "      <div>\n",
              "<style scoped>\n",
              "    .dataframe tbody tr th:only-of-type {\n",
              "        vertical-align: middle;\n",
              "    }\n",
              "\n",
              "    .dataframe tbody tr th {\n",
              "        vertical-align: top;\n",
              "    }\n",
              "\n",
              "    .dataframe thead th {\n",
              "        text-align: right;\n",
              "    }\n",
              "</style>\n",
              "<table border=\"1\" class=\"dataframe\">\n",
              "  <thead>\n",
              "    <tr style=\"text-align: right;\">\n",
              "      <th></th>\n",
              "      <th>Autor</th>\n",
              "      <th>Nombre completo</th>\n",
              "      <th>Correo electronico</th>\n",
              "      <th>Rango de la ultima posicion</th>\n",
              "      <th>Institucion de la ultima posicion</th>\n",
              "      <th>Fecha de inicio de la ultima posicion</th>\n",
              "      <th>Fecha de finalizacion de la ultima posicion</th>\n",
              "    </tr>\n",
              "  </thead>\n",
              "  <tbody>\n",
              "    <tr>\n",
              "      <th>0</th>\n",
              "      <td>1</td>\n",
              "      <td>Dothan, Yossef</td>\n",
              "      <td>Sin datos</td>\n",
              "      <td>Sin datos</td>\n",
              "      <td>Tel Aviv U.</td>\n",
              "      <td>Sin datos</td>\n",
              "      <td>Sin datos</td>\n",
              "    </tr>\n",
              "  </tbody>\n",
              "</table>\n",
              "</div>\n",
              "      <button class=\"colab-df-convert\" onclick=\"convertToInteractive('df-5ad5d161-fa8a-4cc7-89e6-a929141edecf')\"\n",
              "              title=\"Convert this dataframe to an interactive table.\"\n",
              "              style=\"display:none;\">\n",
              "        \n",
              "  <svg xmlns=\"http://www.w3.org/2000/svg\" height=\"24px\"viewBox=\"0 0 24 24\"\n",
              "       width=\"24px\">\n",
              "    <path d=\"M0 0h24v24H0V0z\" fill=\"none\"/>\n",
              "    <path d=\"M18.56 5.44l.94 2.06.94-2.06 2.06-.94-2.06-.94-.94-2.06-.94 2.06-2.06.94zm-11 1L8.5 8.5l.94-2.06 2.06-.94-2.06-.94L8.5 2.5l-.94 2.06-2.06.94zm10 10l.94 2.06.94-2.06 2.06-.94-2.06-.94-.94-2.06-.94 2.06-2.06.94z\"/><path d=\"M17.41 7.96l-1.37-1.37c-.4-.4-.92-.59-1.43-.59-.52 0-1.04.2-1.43.59L10.3 9.45l-7.72 7.72c-.78.78-.78 2.05 0 2.83L4 21.41c.39.39.9.59 1.41.59.51 0 1.02-.2 1.41-.59l7.78-7.78 2.81-2.81c.8-.78.8-2.07 0-2.86zM5.41 20L4 18.59l7.72-7.72 1.47 1.35L5.41 20z\"/>\n",
              "  </svg>\n",
              "      </button>\n",
              "      \n",
              "  <style>\n",
              "    .colab-df-container {\n",
              "      display:flex;\n",
              "      flex-wrap:wrap;\n",
              "      gap: 12px;\n",
              "    }\n",
              "\n",
              "    .colab-df-convert {\n",
              "      background-color: #E8F0FE;\n",
              "      border: none;\n",
              "      border-radius: 50%;\n",
              "      cursor: pointer;\n",
              "      display: none;\n",
              "      fill: #1967D2;\n",
              "      height: 32px;\n",
              "      padding: 0 0 0 0;\n",
              "      width: 32px;\n",
              "    }\n",
              "\n",
              "    .colab-df-convert:hover {\n",
              "      background-color: #E2EBFA;\n",
              "      box-shadow: 0px 1px 2px rgba(60, 64, 67, 0.3), 0px 1px 3px 1px rgba(60, 64, 67, 0.15);\n",
              "      fill: #174EA6;\n",
              "    }\n",
              "\n",
              "    [theme=dark] .colab-df-convert {\n",
              "      background-color: #3B4455;\n",
              "      fill: #D2E3FC;\n",
              "    }\n",
              "\n",
              "    [theme=dark] .colab-df-convert:hover {\n",
              "      background-color: #434B5C;\n",
              "      box-shadow: 0px 1px 3px 1px rgba(0, 0, 0, 0.15);\n",
              "      filter: drop-shadow(0px 1px 2px rgba(0, 0, 0, 0.3));\n",
              "      fill: #FFFFFF;\n",
              "    }\n",
              "  </style>\n",
              "\n",
              "      <script>\n",
              "        const buttonEl =\n",
              "          document.querySelector('#df-5ad5d161-fa8a-4cc7-89e6-a929141edecf button.colab-df-convert');\n",
              "        buttonEl.style.display =\n",
              "          google.colab.kernel.accessAllowed ? 'block' : 'none';\n",
              "\n",
              "        async function convertToInteractive(key) {\n",
              "          const element = document.querySelector('#df-5ad5d161-fa8a-4cc7-89e6-a929141edecf');\n",
              "          const dataTable =\n",
              "            await google.colab.kernel.invokeFunction('convertToInteractive',\n",
              "                                                     [key], {});\n",
              "          if (!dataTable) return;\n",
              "\n",
              "          const docLinkHtml = 'Like what you see? Visit the ' +\n",
              "            '<a target=\"_blank\" href=https://colab.research.google.com/notebooks/data_table.ipynb>data table notebook</a>'\n",
              "            + ' to learn more about interactive tables.';\n",
              "          element.innerHTML = '';\n",
              "          dataTable['output_type'] = 'display_data';\n",
              "          await google.colab.output.renderOutput(dataTable, element);\n",
              "          const docLink = document.createElement('div');\n",
              "          docLink.innerHTML = docLinkHtml;\n",
              "          element.appendChild(docLink);\n",
              "        }\n",
              "      </script>\n",
              "    </div>\n",
              "  </div>\n",
              "  "
            ]
          },
          "metadata": {},
          "execution_count": 119
        }
      ]
    },
    {
      "cell_type": "markdown",
      "source": [
        "Punto 2"
      ],
      "metadata": {
        "id": "GfbardefBZzu"
      }
    },
    {
      "cell_type": "code",
      "source": [
        "#Creacion del polinomio\n",
        "\n",
        "def numero ():\n",
        " return random.randint(4,7)\n",
        "\n",
        "x = Symbol('x')\n",
        "A = numero()\n",
        "B = numero()\n",
        "C = numero()\n",
        "\n",
        "roots = (A-x)*(B-x)*(C-x)\n",
        "y = (A*B*C)-(A*C*x)-(B*C*x)+(C*x*x)-(A*B*x)+(A*x*x)+(B*x*x)-(x*x*x)"
      ],
      "metadata": {
        "id": "J2USKxNgBa_a"
      },
      "execution_count": null,
      "outputs": []
    },
    {
      "cell_type": "code",
      "source": [
        "#Raices de la derivada\n",
        "dy = y.diff(x)\n",
        "roots_dy = solve(dy)"
      ],
      "metadata": {
        "id": "7ssKOdFgDqC-"
      },
      "execution_count": null,
      "outputs": []
    },
    {
      "cell_type": "code",
      "source": [
        "#Minimo y maximo de la funcion\n",
        "d2y = diff(y, x, 2)\n",
        "\n",
        "A1 = d2y.subs(x,roots_dy[0])\n",
        "A2 = d2y.subs(x,roots_dy[1])\n",
        "\n",
        "B1 = y.subs(x,roots_dy[0])\n",
        "B2 = y.subs(x,roots_dy[1])\n",
        "B = [B1, B2]"
      ],
      "metadata": {
        "id": "edpFM8ZOtXl2"
      },
      "execution_count": null,
      "outputs": []
    },
    {
      "cell_type": "code",
      "source": [
        "#Grafica\n",
        "line, = plot(y, (x, 3.5, 7.5), show=False)\n",
        "x1, y1 = line.get_points()\n",
        "\n",
        "plt.title('Polinomio de tercer grado')\n",
        "plt.xlabel('x')\n",
        "plt.ylabel('f(x)')\n",
        "plt.plot(x1, y1, label=y)\n",
        "plt.plot(roots_dy, B,'o', color='red', label=roots_dy)\n",
        "\n",
        "plt.legend()\n",
        "plt.grid()\n",
        "plt.show()\n",
        "\n"
      ],
      "metadata": {
        "colab": {
          "base_uri": "https://localhost:8080/",
          "height": 295
        },
        "id": "nEpFsqhU1r_y",
        "outputId": "b2bfea9b-9bea-4b7a-a389-16170bccf16c"
      },
      "execution_count": null,
      "outputs": [
        {
          "output_type": "display_data",
          "data": {
            "text/plain": [
              "<Figure size 432x288 with 1 Axes>"
            ],
            "image/png": "[encoded data removed]"
          },
          "metadata": {
            "needs_background": "light"
          }
        }
      ]
    }
  ]
}