{
  "nbformat": 4,
  "nbformat_minor": 0,
  "metadata": {
    "colab": {
      "provenance": [],
      "collapsed_sections": []
    },
    "kernelspec": {
      "name": "python3",
      "display_name": "Python 3"
    },
    "language_info": {
      "name": "python"
    },
    "gpuClass": "standard"
  },
  "cells": [
    {
      "cell_type": "code",
      "source": [
        "import scipy as sc\n",
        "import random\n",
        "import numpy as np\n",
        "import pandas as pd\n",
        "import sympy as sp\n",
        "from scipy import integrate\n",
        "from IPython.display import display, Latex\n",
        "from scipy import linalg"
      ],
      "metadata": {
        "id": "Onr03X7-vJsP"
      },
      "execution_count": 1,
      "outputs": []
    },
    {
      "cell_type": "markdown",
      "source": [
        "# Examen 2: Métodos computacionales\n",
        "A)\n",
        "1. Usando su número de cédula cómo semilla, obtenga un numero entero aleatorio, $n$, entre 2 y 20.\n",
        "2. Usando el $n$ obtenido, haga una estimación de la siguiente integral hasta dos cifras significativas, usando el método `quad` del módulo `integrate` de Scipy\n",
        "$$\n",
        "\\int_0^\\infty \\sin(x^n)\\operatorname{d}x\n",
        "$$\n",
        "Sugerencia. Compare con el valor obtenido desde https://www.wolframalpha.com/ o [sympy](https://stackoverflow.com/questions/65862611/integration-of-sin-x-dx-problem-in-python-programming-implementation)\n",
        "\n",
        "$0.164439$"
      ],
      "metadata": {
        "id": "z-CzZxhMvClw"
      }
    },
    {
      "cell_type": "code",
      "execution_count": 2,
      "metadata": {
        "id": "zn9qZR7au2zE",
        "colab": {
          "base_uri": "https://localhost:8080/"
        },
        "outputId": "002cdc46-7056-4b60-ea81-3fce4805b3b2"
      },
      "outputs": [
        {
          "output_type": "execute_result",
          "data": {
            "text/plain": [
              "11"
            ]
          },
          "metadata": {},
          "execution_count": 2
        }
      ],
      "source": [
        "random.seed(1000569865)\n",
        "n = random.randrange(2, 21, 1)\n",
        "n"
      ]
    },
    {
      "cell_type": "markdown",
      "source": [
        "$$\\int_{0}^{∞}sen(x)^ndx = \\int_{0}^{1}sen(x)^ndx + \\int_{0}^{1}\\frac{sen\\frac{1}{t} ^n}{t^2}dt$$"
      ],
      "metadata": {
        "id": "fApflSU1T2rT"
      }
    },
    {
      "cell_type": "code",
      "source": [
        "valor = integrate.quad(lambda x: np.sin((x**n)),0,1)[0] + integrate.quad(lambda x: np.sin(((1/x)**n))/x**2,0.6,1)[0]\n",
        "valorW =0.135922\n",
        "a = r'\\int_{0}^{∞}sen(x^n)dx\\approx'\n",
        "b = r'\\int_{0}^{∞}sen(x^n)dx'\n",
        "display(Latex(f'$El~valor~de~{a}  {valor}$'))\n",
        "display(Latex(f'$El~valor~en~Wolframalpha~de~{b}={valorW}$')) \n"
      ],
      "metadata": {
        "colab": {
          "base_uri": "https://localhost:8080/",
          "height": 60
        },
        "id": "7thETzpa8PEK",
        "outputId": "212ea73a-b07f-4c64-8ea8-b627c65789fe"
      },
      "execution_count": 3,
      "outputs": [
        {
          "output_type": "display_data",
          "data": {
            "text/plain": [
              "<IPython.core.display.Latex object>"
            ],
            "text/latex": "$El~valor~de~\\int_{0}^{∞}sen(x^n)dx\\approx  0.13554991012823892$"
          },
          "metadata": {}
        },
        {
          "output_type": "display_data",
          "data": {
            "text/plain": [
              "<IPython.core.display.Latex object>"
            ],
            "text/latex": "$El~valor~en~Wolframalpha~de~\\int_{0}^{∞}sen(x^n)dx=0.135922$"
          },
          "metadata": {}
        }
      ]
    },
    {
      "cell_type": "markdown",
      "source": [
        "$$\\int_{1}^{∞}sen(x)^ndx=\\int_{0}^{1}\\frac{sen\\frac{1}{t} ^n}{t^2}dx.~~~~~~~con~t=x^-1,~dx=-\\frac{dt}{t^2}.$$ \\\n",
        "\n",
        "Notamos que el límite de integracion superior en inferior son invertidos por el signo menos presente en $dx$, sabiendo esto, en la integral $'integrate.quad(f(x),lim_{inf},lim_{sup})'$, el $lim_{inf}$ de $\\int_{0}^{1}\\frac{sen\\frac{1}{t} ^n}{t^2}dx$ es el superior de $\\int_{1}^{∞}sen(x)^ndx$ por lo que al cambiar $0$ por $0.5$ estamos acotando la suma superiormente.\n"
      ],
      "metadata": {
        "id": "Idk-8IlESS38"
      }
    },
    {
      "cell_type": "markdown",
      "source": [
        "B) Cargue los datos disponibles en:\n",
        "\n",
        "https://raw.githubusercontent.com/ComputationalMethods/Evaluacion_2022-1/main/data/lista_pares.json\n",
        "\n",
        "como un DataFrame de pandas. Este contendrá dos columnas. La columna `lista`, con una lista de 8 enteros (algunos de ellos repetidos) y una columna `pares` correspondiente a un diccionario\n",
        "con dos items: un entero rotulado con `'S'` y una lista de pares de enteros routulada con `'ψ'`. Note que el resultado de la suma en valor absoluto de los dos enteros en cada uno de los pares reproduce el valor del correspondiente `'S'` \n",
        "\n",
        "Seleccione la fila del DataFrame con el índice correspondiente a los dos últimos dígitos de su cédula y desarrolle los siguientes puntos con la correspondiente  `lista` y `pares`:\n",
        "1. Construya una matrix $8\\times 8$ _simétrica_ donde cada fila y la correspondiente columna correspondan a un entero de la `lista` (incluyendo los repetidos); de manera que en los cruces de filas y columnas definidos por los pares de enteros de `'ψ'`, se genere una entrada aleatoria mayor que cero y menor o igual que 1, con las demas entradas iguales a cero.\n",
        "\n",
        "\n",
        "3. Establezca explícitamente _cuantos_ autovalores son degenerados en valor absoluto."
      ],
      "metadata": {
        "id": "t8mhBHZRn8w6"
      }
    },
    {
      "cell_type": "code",
      "source": [
        "df = pd.read_json(f'https://raw.githubusercontent.com/ComputationalMethods/Evaluacion_2022-1/main/data/lista_pares.json')\n",
        "l = df.lista[65]\n",
        "p = df.pares[65]['ψ']\n",
        "df1 = pd.DataFrame([[0]*8]*8)\n",
        "df1\n",
        "for i in p:\n",
        "    if [i[1],i[0]]  in p:\n",
        "        p.remove([i[1],i[0]])\n",
        "for i in p:\n",
        "    num = random.random()\n",
        "    df1.iloc[l.index(i[0]),l.index(i[1])] = num\n",
        "    df1.iloc[l.index(i[1]),l.index(i[0])] = num\n",
        "B = df1.to_numpy()\n",
        "C = sp.Matrix(B)\n",
        "C"
      ],
      "metadata": {
        "colab": {
          "base_uri": "https://localhost:8080/",
          "height": 180
        },
        "id": "WquyrnG1nH8k",
        "outputId": "2f2b766d-8067-4c4d-acd3-fae9690afbbe"
      },
      "execution_count": 94,
      "outputs": [
        {
          "output_type": "execute_result",
          "data": {
            "text/plain": [
              "Matrix([\n",
              "[              0.0,               0.0,               0.0,               0.0,               0.0,               0.0,               0.0, 0.610265801410829],\n",
              "[              0.0,               0.0,               0.0,               0.0,               0.0,               0.0, 0.280027877436307,               0.0],\n",
              "[              0.0,               0.0,               0.0,               0.0,               0.0, 0.329391846324204,               0.0,               0.0],\n",
              "[              0.0,               0.0,               0.0,               0.0, 0.447730929030455,               0.0,               0.0,               0.0],\n",
              "[              0.0,               0.0,               0.0, 0.447730929030455,               0.0,               0.0,               0.0,               0.0],\n",
              "[              0.0,               0.0, 0.329391846324204,               0.0,               0.0,               0.0,               0.0,               0.0],\n",
              "[              0.0, 0.280027877436307,               0.0,               0.0,               0.0,               0.0,               0.0,               0.0],\n",
              "[0.610265801410829,               0.0,               0.0,               0.0,               0.0,               0.0,               0.0,               0.0]])"
            ],
            "text/latex": "$\\displaystyle \\left[\\begin{matrix}0.0 & 0.0 & 0.0 & 0.0 & 0.0 & 0.0 & 0.0 & 0.610265801410829\\\\0.0 & 0.0 & 0.0 & 0.0 & 0.0 & 0.0 & 0.280027877436307 & 0.0\\\\0.0 & 0.0 & 0.0 & 0.0 & 0.0 & 0.329391846324204 & 0.0 & 0.0\\\\0.0 & 0.0 & 0.0 & 0.0 & 0.447730929030455 & 0.0 & 0.0 & 0.0\\\\0.0 & 0.0 & 0.0 & 0.447730929030455 & 0.0 & 0.0 & 0.0 & 0.0\\\\0.0 & 0.0 & 0.329391846324204 & 0.0 & 0.0 & 0.0 & 0.0 & 0.0\\\\0.0 & 0.280027877436307 & 0.0 & 0.0 & 0.0 & 0.0 & 0.0 & 0.0\\\\0.610265801410829 & 0.0 & 0.0 & 0.0 & 0.0 & 0.0 & 0.0 & 0.0\\end{matrix}\\right]$"
          },
          "metadata": {},
          "execution_count": 94
        }
      ]
    },
    {
      "cell_type": "markdown",
      "source": [
        "2. Calcule el determinante y establezca explícitamente si es diferente cero (tenga en cuenta la precisión numérica). Recuerde que si el determinante es cero, se espera que al menos uno de los autovalores sea cero"
      ],
      "metadata": {
        "id": "x_h8tvr59yph"
      }
    },
    {
      "cell_type": "code",
      "source": [
        "display(Latex(f'$claramente~el~determinante~=~{np.linalg.det(B)}~no~es~cero,~porque~solo~llega~al~orden~de~e^-4.$'))"
      ],
      "metadata": {
        "colab": {
          "base_uri": "https://localhost:8080/",
          "height": 38
        },
        "id": "uqP3LOY0Hn3s",
        "outputId": "4c345afd-327a-451e-a8f4-a29b14c3423f"
      },
      "execution_count": 95,
      "outputs": [
        {
          "output_type": "display_data",
          "data": {
            "text/plain": [
              "<IPython.core.display.Latex object>"
            ],
            "text/latex": "$claramente~el~determinante~=~0.0006351853680962387~no~es~cero,~porque~solo~llega~al~orden~de~e^-4.$"
          },
          "metadata": {}
        }
      ]
    },
    {
      "cell_type": "markdown",
      "source": [
        "3. Organize los autovalores y autovectores de menor a mayor en valor absoluto y compruebe que las matriz de autovectores organizada da lugar a los autovalores en el orden correcto. "
      ],
      "metadata": {
        "id": "R_wauC1nEYdr"
      }
    },
    {
      "cell_type": "code",
      "source": [
        "λ,V = np.linalg.eig(B)\n",
        "A_diag=np.diag(λ)\n",
        "T = np.matrix(np.sort( np.abs(λ)))\n",
        "print(T)\n",
        "Va=abs(V)\n",
        "np.c_[ tuple( [ np.c_[Va[:,i]]    for i in range(8) ] ) ]\n",
        "U=np.c_[ tuple( [ np.c_[Va[:,i]]    for i in np.abs(λ).argsort() ] ) ]\n",
        "sp.Matrix(( U.transpose()@B@U).round(14))"
      ],
      "metadata": {
        "colab": {
          "base_uri": "https://localhost:8080/",
          "height": 217
        },
        "id": "vz5jXc_rov2V",
        "outputId": "0fc83cde-aa38-4d41-9aeb-d6657e44ff24"
      },
      "execution_count": 96,
      "outputs": [
        {
          "output_type": "stream",
          "name": "stdout",
          "text": [
            "[[0.28002788 0.28002788 0.32939185 0.32939185 0.44773093 0.44773093\n",
            "  0.6102658  0.6102658 ]]\n"
          ]
        },
        {
          "output_type": "execute_result",
          "data": {
            "text/plain": [
              "Matrix([\n",
              "[0.28002787743631, 0.28002787743631,             0.0,             0.0,              0.0,              0.0,              0.0,              0.0],\n",
              "[0.28002787743631, 0.28002787743631,             0.0,             0.0,              0.0,              0.0,              0.0,              0.0],\n",
              "[             0.0,              0.0, 0.3293918463242, 0.3293918463242,              0.0,              0.0,              0.0,              0.0],\n",
              "[             0.0,              0.0, 0.3293918463242, 0.3293918463242,              0.0,              0.0,              0.0,              0.0],\n",
              "[             0.0,              0.0,             0.0,             0.0, 0.44773092903045, 0.44773092903045,              0.0,              0.0],\n",
              "[             0.0,              0.0,             0.0,             0.0, 0.44773092903045, 0.44773092903045,              0.0,              0.0],\n",
              "[             0.0,              0.0,             0.0,             0.0,              0.0,              0.0, 0.61026580141083, 0.61026580141083],\n",
              "[             0.0,              0.0,             0.0,             0.0,              0.0,              0.0, 0.61026580141083, 0.61026580141083]])"
            ],
            "text/latex": "$\\displaystyle \\left[\\begin{matrix}0.28002787743631 & 0.28002787743631 & 0.0 & 0.0 & 0.0 & 0.0 & 0.0 & 0.0\\\\0.28002787743631 & 0.28002787743631 & 0.0 & 0.0 & 0.0 & 0.0 & 0.0 & 0.0\\\\0.0 & 0.0 & 0.3293918463242 & 0.3293918463242 & 0.0 & 0.0 & 0.0 & 0.0\\\\0.0 & 0.0 & 0.3293918463242 & 0.3293918463242 & 0.0 & 0.0 & 0.0 & 0.0\\\\0.0 & 0.0 & 0.0 & 0.0 & 0.44773092903045 & 0.44773092903045 & 0.0 & 0.0\\\\0.0 & 0.0 & 0.0 & 0.0 & 0.44773092903045 & 0.44773092903045 & 0.0 & 0.0\\\\0.0 & 0.0 & 0.0 & 0.0 & 0.0 & 0.0 & 0.61026580141083 & 0.61026580141083\\\\0.0 & 0.0 & 0.0 & 0.0 & 0.0 & 0.0 & 0.61026580141083 & 0.61026580141083\\end{matrix}\\right]$"
          },
          "metadata": {},
          "execution_count": 96
        }
      ]
    },
    {
      "cell_type": "code",
      "source": [
        "sp.Matrix(np.diag(( U.transpose()@B@U).round(14)))==sp.Matrix((np.sort(np.abs(λ).round(14)))) "
      ],
      "metadata": {
        "colab": {
          "base_uri": "https://localhost:8080/"
        },
        "id": "K2uxAaDvX84r",
        "outputId": "ae782ced-b4aa-479d-dfdd-3f529a2ae1c2"
      },
      "execution_count": 97,
      "outputs": [
        {
          "output_type": "execute_result",
          "data": {
            "text/plain": [
              "True"
            ]
          },
          "metadata": {},
          "execution_count": 97
        }
      ]
    },
    {
      "cell_type": "code",
      "source": [
        "o = r'$Claramente~la~diagonal~de~los~vectores~propios~en~orden~son~los~valores~propios~en~valor~absoluto$'\n",
        "display(Latex(f'{o}'))"
      ],
      "metadata": {
        "colab": {
          "base_uri": "https://localhost:8080/",
          "height": 38
        },
        "id": "SYrUTaRQAf_O",
        "outputId": "08e3a5fb-5093-445f-9256-ab9d3804b4a2"
      },
      "execution_count": 100,
      "outputs": [
        {
          "output_type": "display_data",
          "data": {
            "text/plain": [
              "<IPython.core.display.Latex object>"
            ],
            "text/latex": "$Claramente~la~diagonal~de~los~vectores~propios~en~orden~son~los~valores~propios~en~valor~absoluto$"
          },
          "metadata": {}
        }
      ]
    },
    {
      "cell_type": "markdown",
      "source": [
        "\n",
        "4. Establezca explícitamente _cuantos_ autovalores son degenerados en valor absoluto."
      ],
      "metadata": {
        "id": "7qF8nBpoEd5N"
      }
    },
    {
      "cell_type": "code",
      "source": [
        "sp.Matrix(np.diag(( U.transpose()@B@U).round(14)))==sp.Matrix((np.sort(np.abs(λ).round(14)))) "
      ],
      "metadata": {
        "colab": {
          "base_uri": "https://localhost:8080/"
        },
        "id": "rdlKZkWbDOwN",
        "outputId": "c18462c1-a478-45cf-e3c5-8385446296dd"
      },
      "execution_count": 86,
      "outputs": [
        {
          "output_type": "execute_result",
          "data": {
            "text/plain": [
              "True"
            ]
          },
          "metadata": {},
          "execution_count": 86
        }
      ]
    },
    {
      "cell_type": "markdown",
      "source": [
        "$Los~valores~propios~no~se~ven~degenerados~en~mas~de~14~cifras~significativas,~solo ~4 ~cambian~ de~ signo.$"
      ],
      "metadata": {
        "id": "QULvkGQzGksk"
      }
    },
    {
      "cell_type": "code",
      "source": [],
      "metadata": {
        "id": "H8z1e3bzop8Z"
      },
      "execution_count": null,
      "outputs": []
    }
  ]
}