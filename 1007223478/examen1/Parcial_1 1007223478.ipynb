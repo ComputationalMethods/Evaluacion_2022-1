{
 "cells": [
  {
   "cell_type": "markdown",
   "id": "9824bfe8",
   "metadata": {},
   "source": [
    "## 1) INSPIRE API\n",
    "\n",
    "### a) "
   ]
  },
  {
   "cell_type": "code",
   "execution_count": 2,
   "id": "6acbd8fd",
   "metadata": {},
   "outputs": [],
   "source": [
    "import requests\n",
    "import json\n",
    "\n",
    "#GET universities via REST API request to Inspire\n",
    "response = requests.get(\"https://inspirehep.net/api/institutions?q=italy\")\n",
    "list_of_institutions = response.json().get(\"hits\").get(\"hits\")\n",
    "\n",
    "#Get legacy_ICN of the first university with at least 1 paper published\n",
    "for institution in list_of_institutions:\n",
    "    if institution.get(\"metadata\").get(\"number_of_papers\") > 0:\n",
    "        legacy_ICN = institution.get(\"metadata\").get(\"legacy_ICN\")\n",
    "        break\n",
    "    print(\"All universities in this country have 0 papers! please query another country\")"
   ]
  },
  {
   "cell_type": "markdown",
   "id": "006b51b3",
   "metadata": {},
   "source": [
    "### b) // c)\n",
    "\n",
    "Profe, intenté conectar el numeral anterior con este punto pero la API requiere el input del parametro aff de una forma demasiado especifica, por ahora trabajaré con el ejemplo de la UNALque usted usó"
   ]
  },
  {
   "cell_type": "code",
   "execution_count": 3,
   "id": "fbfb4c60",
   "metadata": {},
   "outputs": [
    {
     "name": "stdout",
     "output_type": "stream",
     "text": [
      "['https://inspirehep.net/api/authors/1964576', 'https://inspirehep.net/api/authors/1964574', 'https://inspirehep.net/api/authors/1985776', 'https://inspirehep.net/api/authors/2072990', 'https://inspirehep.net/api/authors/2072991', 'https://inspirehep.net/api/authors/2072992', 'https://inspirehep.net/api/authors/2072993', 'https://inspirehep.net/api/authors/2072994']\n"
     ]
    }
   ],
   "source": [
    "from random import randint\n",
    "\n",
    "response = requests.get(\"https://inspirehep.net/api/literature?sort=mostrecent&page=1&q=aff+Colombia,+U.+Natl.+and+ac+1-%3E+10\")\n",
    "list_of_papers = response.json().get(\"hits\").get(\"hits\")\n",
    "\n",
    "#these values were selected randomly by a human! (me)\n",
    "n1=9\n",
    "n2=6\n",
    "\n",
    "authors_papers_1 = list_of_papers[n1].get(\"metadata\").get(\"authors\")\n",
    "authors_papers_2 = list_of_papers[n2].get(\"metadata\").get(\"authors\")\n",
    "\n",
    "all_authors = authors_papers_1 + authors_papers_2\n",
    "\n",
    "authors_refs = []\n",
    "for author in all_authors:\n",
    "    authors_refs.append(author.get(\"record\").get(\"$ref\"))\n",
    "\n",
    "print(authors_refs)\n",
    "\n",
    "\n"
   ]
  },
  {
   "cell_type": "markdown",
   "id": "f074737c",
   "metadata": {},
   "source": [
    "### d) "
   ]
  },
  {
   "cell_type": "code",
   "execution_count": 4,
   "id": "ce128da1",
   "metadata": {},
   "outputs": [
    {
     "data": {
      "text/html": [
       "<div>\n",
       "<style scoped>\n",
       "    .dataframe tbody tr th:only-of-type {\n",
       "        vertical-align: middle;\n",
       "    }\n",
       "\n",
       "    .dataframe tbody tr th {\n",
       "        vertical-align: top;\n",
       "    }\n",
       "\n",
       "    .dataframe thead th {\n",
       "        text-align: right;\n",
       "    }\n",
       "</style>\n",
       "<table border=\"1\" class=\"dataframe\">\n",
       "  <thead>\n",
       "    <tr style=\"text-align: right;\">\n",
       "      <th></th>\n",
       "      <th>name</th>\n",
       "      <th>email</th>\n",
       "    </tr>\n",
       "  </thead>\n",
       "  <tbody>\n",
       "    <tr>\n",
       "      <th>0</th>\n",
       "      <td>Vargas-Calderón, Vladimir</td>\n",
       "      <td>None</td>\n",
       "    </tr>\n",
       "    <tr>\n",
       "      <th>1</th>\n",
       "      <td>González, Fabio A.</td>\n",
       "      <td>None</td>\n",
       "    </tr>\n",
       "    <tr>\n",
       "      <th>2</th>\n",
       "      <td>Vinck-Posada, Herbert</td>\n",
       "      <td>None</td>\n",
       "    </tr>\n",
       "    <tr>\n",
       "      <th>3</th>\n",
       "      <td>Vivas, David R.</td>\n",
       "      <td>None</td>\n",
       "    </tr>\n",
       "    <tr>\n",
       "      <th>4</th>\n",
       "      <td>Madroñero, Javier</td>\n",
       "      <td>None</td>\n",
       "    </tr>\n",
       "    <tr>\n",
       "      <th>5</th>\n",
       "      <td>Bucheli, Victor</td>\n",
       "      <td>None</td>\n",
       "    </tr>\n",
       "    <tr>\n",
       "      <th>6</th>\n",
       "      <td>Gómez, Luis O.</td>\n",
       "      <td>None</td>\n",
       "    </tr>\n",
       "    <tr>\n",
       "      <th>7</th>\n",
       "      <td>Reina, John H.</td>\n",
       "      <td>None</td>\n",
       "    </tr>\n",
       "  </tbody>\n",
       "</table>\n",
       "</div>"
      ],
      "text/plain": [
       "                        name email\n",
       "0  Vargas-Calderón, Vladimir  None\n",
       "1         González, Fabio A.  None\n",
       "2      Vinck-Posada, Herbert  None\n",
       "3            Vivas, David R.  None\n",
       "4          Madroñero, Javier  None\n",
       "5            Bucheli, Victor  None\n",
       "6             Gómez, Luis O.  None\n",
       "7             Reina, John H.  None"
      ]
     },
     "execution_count": 4,
     "metadata": {},
     "output_type": "execute_result"
    }
   ],
   "source": [
    "import pandas as pd\n",
    "\n",
    "#Profe, hay un problema con el API, para estos autores solo trae info de su nombre, no trae info de nada mas!!\n",
    "#puede verificarlo buscando uno de los autores manualmente\n",
    "#Construire la tabla aunque no tenga los otros valores\n",
    "authors_table = []\n",
    "for ref in authors_refs:\n",
    "    response = requests.get(ref)\n",
    "    author = response.json()\n",
    "    \n",
    "    name = author.get(\"metadata\").get(\"name\").get(\"value\")\n",
    "    email = author.get(\"metadata\").get(\"email_adresses\")\n",
    "    # Aqui irian los otros valores... si se encontran en el API\n",
    "    \n",
    "    author_to_append = {\"name\":name,\"email\":email} #aqui colocaria los demas datos...\n",
    "    authors_table.append(author_to_append)\n",
    "\n",
    "pd.DataFrame(authors_table)\n",
    "    "
   ]
  },
  {
   "cell_type": "markdown",
   "id": "f5eaf774",
   "metadata": {},
   "source": [
    "## 2)\n",
    "\n",
    "### a)"
   ]
  },
  {
   "cell_type": "code",
   "execution_count": 50,
   "id": "78ec00dc",
   "metadata": {},
   "outputs": [
    {
     "name": "stdout",
     "output_type": "stream",
     "text": [
      "Roots:\n",
      "\n",
      " [7.68009889372108, 7.219113520054721, 7.5203807132866345]\n",
      "\n",
      "Polynomial: \n",
      "    3         2\n",
      "1 x - 22.42 x + 167.5 x - 417\n"
     ]
    }
   ],
   "source": [
    "#10072234... 78 <--- last two digits of my ID\n",
    "\n",
    "import random\n",
    "import numpy as np\n",
    "\n",
    "#We find three random roots between 7 and 8\n",
    "roots = []\n",
    "for i in range(0,3):\n",
    "    roots.append(random.uniform(7,8))\n",
    "print(\"Roots:\\n\\n\",roots)\n",
    "\n",
    "\n",
    "#now, we generate the polynomial\n",
    "coefs = np.polynomial.polynomial.polyfromroots(roots)\n",
    "\n",
    "#we must flip our coefs so the polynomial is properly built\n",
    "p = np.poly1d(np.flip(coefs))\n",
    "print(\"\\nPolynomial: \\n\",p)"
   ]
  },
  {
   "cell_type": "markdown",
   "id": "bd8a8473",
   "metadata": {},
   "source": [
    "### b)"
   ]
  },
  {
   "cell_type": "code",
   "execution_count": 39,
   "id": "50dc735f",
   "metadata": {},
   "outputs": [
    {
     "name": "stdout",
     "output_type": "stream",
     "text": [
      "Derivate:\n",
      "    2\n",
      "3 x - 45.23 x + 170.3 \n",
      "\n",
      "Critical points:\n",
      "\n",
      " [7.78634482 7.29032181]\n"
     ]
    }
   ],
   "source": [
    "#We derivate and find the roots of the derivated polynomial\n",
    "\n",
    "dp = np.polyder(p)\n",
    "print(\"Derivate:\\n\",dp,\"\\n\")\n",
    "print(\"Critical points:\\n\\n\",np.roots(dp))"
   ]
  },
  {
   "cell_type": "markdown",
   "id": "01559a3e",
   "metadata": {},
   "source": [
    "### c)"
   ]
  },
  {
   "cell_type": "code",
   "execution_count": null,
   "id": "c2f594e6",
   "metadata": {},
   "outputs": [],
   "source": []
  },
  {
   "cell_type": "markdown",
   "id": "07d4199e",
   "metadata": {},
   "source": [
    "### d)"
   ]
  },
  {
   "cell_type": "code",
   "execution_count": 81,
   "id": "cccdefa9",
   "metadata": {},
   "outputs": [
    {
     "name": "stdout",
     "output_type": "stream",
     "text": [
      "1.7053025658242404e-13\n",
      "1.7053025658242404e-13\n",
      "1.7053025658242404e-13\n"
     ]
    },
    {
     "data": {
      "image/png": "[encoded data removed]",
      "text/plain": [
       "<Figure size 432x288 with 1 Axes>"
      ]
     },
     "metadata": {
      "needs_background": "light"
     },
     "output_type": "display_data"
    }
   ],
   "source": [
    "import matplotlib.pyplot as plt\n",
    "\n",
    "xAxis = np.linspace(7,8)\n",
    "\n",
    "for root in roots:\n",
    "    print(p(root))\n",
    "    plt.plot(root,0,\"ro\")\n",
    "\n",
    "yAxis = p(xAxis)\n",
    "plt.plot(xAxis, yAxis, color=\"green\",label=\"Function\")\n",
    "plt.plot(xAxis,np.zeros(50),color=\"black\")\n",
    "plt.legend( loc=\"upper left\", fontsize=10 )\n",
    "plt.show()"
   ]
  },
  {
   "cell_type": "code",
   "execution_count": null,
   "id": "a47871ee",
   "metadata": {},
   "outputs": [],
   "source": []
  }
 ],
 "metadata": {
  "kernelspec": {
   "display_name": "Python 3 (ipykernel)",
   "language": "python",
   "name": "python3"
  },
  "language_info": {
   "codemirror_mode": {
    "name": "ipython",
    "version": 3
   },
   "file_extension": ".py",
   "mimetype": "text/x-python",
   "name": "python",
   "nbconvert_exporter": "python",
   "pygments_lexer": "ipython3",
   "version": "3.9.12"
  }
 },
 "nbformat": 4,
 "nbformat_minor": 5
}
