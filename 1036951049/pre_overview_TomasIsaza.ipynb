{
  "nbformat": 4,
  "nbformat_minor": 0,
  "metadata": {
    "colab": {
      "name": "pre_overview.ipynb",
      "provenance": [],
      "collapsed_sections": []
    },
    "kernelspec": {
      "name": "python3",
      "display_name": "Python 3"
    },
    "language_info": {
      "name": "python"
    }
  },
  "cells": [
    {
      "cell_type": "code",
      "execution_count": null,
      "metadata": {
        "id": "qjnri-MSfM8r"
      },
      "outputs": [],
      "source": [
        "#! /usr/bin/python \n",
        "\n",
        "[ll for ll in l if 'H' in ll] #corchetes, iterador como una lista\n",
        "print('reversed: {}'.format( list(reversed(lista)) ))\n",
        "print('original: {}'.format(lista)) # sin {} no funcion, variable vacia \n",
        "\n",
        "[d for d in reversed(lista)] y list(reversed(lista)) #equivalente, d vartiable muda\n",
        "\n",
        "(,) #???\n",
        "\n",
        "import json #open\n",
        "f=open('farm.json','w')\n",
        "json.dump(farm,f) #.dump ??\n",
        "f.close()\n",
        "%pycat farm.json #comando magico\n",
        "\n",
        "f=open('farm.json','r')\n",
        "farm=json.load(f) #.load ??\n",
        "f.close()\n",
        "farm\n",
        "\n",
        "from IPython.display import JSON \n",
        "\n",
        "[d.get('last_name') for d in people] #como funciona este iterador\n",
        "\n",
        "import getpass\n",
        "c=getpass.getpass('Contraseña') #leer mas sobre getpass\n",
        "\n",
        "variable.method() \n",
        "variable.attribute\n",
        "\n",
        "variable.<TAB> #acceder a metodos y atributos\n",
        "\n",
        "x = 6\n",
        "if x > 5:\n",
        "    raise Exception('x should not exceed 5. The value of x was: {}'.format(x))\n",
        "\n",
        "print(f'codo continues here: {x}<=5') #palabra reservada raise, .format()\n",
        "\n"
      ]
    }
  ]
}