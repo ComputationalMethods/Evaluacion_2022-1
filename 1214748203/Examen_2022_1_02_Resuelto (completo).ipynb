{
  "cells": [
    {
      "cell_type": "code",
      "execution_count": 4,
      "id": "98d2b606",
      "metadata": {},
      "outputs": [],
      "source": [
        "# Importaciones\n",
        "import numpy as np\n",
        "import scipy as sci\n",
        "import sympy as sp\n",
        "import pandas as pd\n",
        "import requests\n",
        "import json\n",
        "from math import *"
      ]
    },
    {
      "cell_type": "markdown",
      "metadata": {
        "colab_type": "text",
        "id": "view-in-github"
      },
      "source": [
        "<a href=\"https://colab.research.google.com/github/ComputationalMethods/Evaluacion_2022-1/blob/main/Examenes/Examen_2022_1_02_enunciado.ipynb\" target=\"_parent\"><img src=\"https://colab.research.google.com/assets/colab-badge.svg\" alt=\"Open In Colab\"/></a>"
      ]
    },
    {
      "cell_type": "markdown",
      "id": "a3f0c1b2-a69e-4149-b747-97a5863134d9",
      "metadata": {
        "id": "a3f0c1b2-a69e-4149-b747-97a5863134d9"
      },
      "source": [
        "# Examen 2: Métodos computacionales\n",
        "A)\n",
        "1. Usando su número de cédula cómo semilla, obtenga un numero entero aleatorio, $n$, entre 2 y 20.\n",
        "2. Usando el $n$ obtenido, haga una estimación de la siguiente integral hasta dos cifras significativas, usando el método `quad` del módulo `integrate` de Scipy\n",
        "$$\n",
        "\\int_0^\\infty \\sin(x^n)\\operatorname{d}x\n",
        "$$\n",
        "Sugerencia. Compare con el valor obtenido desde https://www.wolframalpha.com/ o [sympy](https://stackoverflow.com/questions/65862611/integration-of-sin-x-dx-problem-in-python-programming-implementation)"
      ]
    },
    {
      "cell_type": "code",
      "execution_count": 5,
      "id": "62cbc669-9ed6-4f54-b4c9-5ac10f7c15d6",
      "metadata": {
        "id": "62cbc669-9ed6-4f54-b4c9-5ac10f7c15d6"
      },
      "outputs": [
        {
          "data": {
            "text/plain": [
              "7"
            ]
          },
          "execution_count": 5,
          "metadata": {},
          "output_type": "execute_result"
        }
      ],
      "source": [
        "# Punto 1 \n",
        "np.random.seed(1214748203)\n",
        "Valn = np.random.randint(2,20)\n",
        "Valn"
      ]
    },
    {
      "cell_type": "code",
      "execution_count": 6,
      "id": "4db4c013",
      "metadata": {},
      "outputs": [],
      "source": [
        "x = sp.symbols('x')\n",
        "λ = Valn\n",
        "inf = float(\"inf\")\n",
        "test = lambda x: sp.sin(x**λ)\n",
        "def I(f):\n",
        "    return sp.integrate(test(x),(x,0,inf))"
      ]
    },
    {
      "cell_type": "code",
      "execution_count": 7,
      "id": "c601220d",
      "metadata": {},
      "outputs": [
        {
          "name": "stdout",
          "output_type": "stream",
          "text": [
            "2**(1/7)*sqrt(pi)*gamma(4/7)/(14*gamma(13/14))\n"
          ]
        }
      ],
      "source": [
        "print(I(test).subs(λ,7))"
      ]
    },
    {
      "cell_type": "code",
      "execution_count": 8,
      "id": "cab28606",
      "metadata": {},
      "outputs": [
        {
          "data": {
            "text/plain": [
              "0.20815444015266787"
            ]
          },
          "execution_count": 8,
          "metadata": {},
          "output_type": "execute_result"
        }
      ],
      "source": [
        "resultado = ( 2**(1/7)*sqrt(pi)*sci.special.gamma(4/7) ) / (14*sci.special.gamma(13/14))\n",
        "resultado"
      ]
    },
    {
      "cell_type": "markdown",
      "id": "56c21538",
      "metadata": {},
      "source": [
        "Valor obtenido en https://www.wolframalpha.com/ es: \n",
        "\n",
        "![](resultadoWA.PNG)"
      ]
    },
    {
      "cell_type": "markdown",
      "id": "0949b7a5-6d81-4e98-adc7-a7a1867266a3",
      "metadata": {
        "id": "0949b7a5-6d81-4e98-adc7-a7a1867266a3"
      },
      "source": [
        "B) Cargue los datos disponibles en:\n",
        "\n",
        "https://raw.githubusercontent.com/ComputationalMethods/Evaluacion_2022-1/main/data/lista_pares.json\n",
        "\n",
        "como un DataFrame de pandas. Este contendrá dos columnas. La columna `lista`, con una lista de 8 enteros (algunos de ellos repetidos) y una columna `pares` correspondiente a un diccionario\n",
        "con dos items: un entero rotulado con `'S'` y una lista de pares de enteros routulada con `'ψ'`. Note que el resultado de la suma en valor absoluto de los dos enteros en cada uno de los pares reproduce el valor del correspondiente `'S'` \n",
        "\n",
        "Seleccione la fila del DataFrame con el índice correspondiente a los dos últimos dígitos de su cédula y desarrolle los siguientes puntos con la correspondiente  `lista` y `pares`:\n",
        "1. Construya una matrix $8\\times 8$ _simétrica_ donde cada fila y la correspondiente columna correspondan a un entero de la `lista` (incluyendo los repetidos); de manera que en los cruces de filas y columnas definidos por los pares de enteros de `'ψ'`, se genere una entrada aleatoria mayor que cero y menor o igual que 1, con las demas entradas iguales a cero.\n",
        "1. Calcule el determinante y establezca explícitamente si es diferente cero (tenga en cuenta la precisión numérica). Recuerde que si el determinante es cero, se espera que al menos uno de los autovalores sea cero\n",
        "2. Organize los autovalores y autovectores de menor a mayor en valor absoluto y compruebe que las matriz de autovectores organizada da lugar a los autovalores en el orden correcto. \n",
        "3. Establezca explícitamente _cuantos_ autovalores son degenerados en valor absoluto."
      ]
    },
    {
      "cell_type": "code",
      "execution_count": 9,
      "id": "2df48495-196b-4fa4-8206-466cd33658e2",
      "metadata": {
        "id": "2df48495-196b-4fa4-8206-466cd33658e2"
      },
      "outputs": [
        {
          "data": {
            "text/html": [
              "<div>\n",
              "<style scoped>\n",
              "    .dataframe tbody tr th:only-of-type {\n",
              "        vertical-align: middle;\n",
              "    }\n",
              "\n",
              "    .dataframe tbody tr th {\n",
              "        vertical-align: top;\n",
              "    }\n",
              "\n",
              "    .dataframe thead th {\n",
              "        text-align: right;\n",
              "    }\n",
              "</style>\n",
              "<table border=\"1\" class=\"dataframe\">\n",
              "  <thead>\n",
              "    <tr style=\"text-align: right;\">\n",
              "      <th></th>\n",
              "      <th>lista</th>\n",
              "      <th>pares</th>\n",
              "    </tr>\n",
              "  </thead>\n",
              "  <tbody>\n",
              "    <tr>\n",
              "      <th>0</th>\n",
              "      <td>[1, 1, 2, 3, -4, -4, -5, 6]</td>\n",
              "      <td>{'S': 2, 'ψ': [[3, -5], [2, -4], [-4, 6], [1, ...</td>\n",
              "    </tr>\n",
              "    <tr>\n",
              "      <th>1</th>\n",
              "      <td>[1, 2, 2, 2, -3, -5, -6, 7]</td>\n",
              "      <td>{'S': 4, 'ψ': [[2, 2], [-3, 7], [1, -5], [2, -...</td>\n",
              "    </tr>\n",
              "    <tr>\n",
              "      <th>2</th>\n",
              "      <td>[1, -2, -2, 4, 5, -7, -7, 8]</td>\n",
              "      <td>{'S': 9, 'ψ': [[4, 5], [1, 8], [-2, -7], [5, 4...</td>\n",
              "    </tr>\n",
              "    <tr>\n",
              "      <th>3</th>\n",
              "      <td>[1, 2, 2, 4, -5, -5, -7, 8]</td>\n",
              "      <td>{'S': 3, 'ψ': [[4, -7], [-5, 8], [2, -5], [1, ...</td>\n",
              "    </tr>\n",
              "    <tr>\n",
              "      <th>4</th>\n",
              "      <td>[2, -3, -4, 5, -6, 7, 7, -8]</td>\n",
              "      <td>{'S': 1, 'ψ': [[-6, 7], [7, -8], [5, -6], [2, ...</td>\n",
              "    </tr>\n",
              "    <tr>\n",
              "      <th>...</th>\n",
              "      <td>...</td>\n",
              "      <td>...</td>\n",
              "    </tr>\n",
              "    <tr>\n",
              "      <th>240</th>\n",
              "      <td>[2, -4, -5, 10, 11, -16, -17, 19]</td>\n",
              "      <td>{'S': 21, 'ψ': [[-4, -17], [-5, -16], [10, 11]...</td>\n",
              "    </tr>\n",
              "    <tr>\n",
              "      <th>241</th>\n",
              "      <td>[5, -7, -7, 11, 13, -17, -17, 19]</td>\n",
              "      <td>{'S': 24, 'ψ': [[5, 19], [-7, -17], [11, 13], ...</td>\n",
              "    </tr>\n",
              "    <tr>\n",
              "      <th>242</th>\n",
              "      <td>[4, -5, -7, 8, -17, 18, 18, -19]</td>\n",
              "      <td>{'S': 1, 'ψ': [[-7, 8], [4, -5], [-17, 18], [1...</td>\n",
              "    </tr>\n",
              "    <tr>\n",
              "      <th>243</th>\n",
              "      <td>[2, 2, 5, -7, 10, -14, -17, 19]</td>\n",
              "      <td>{'S': 12, 'ψ': [[2, -14], [2, 10], [-7, 19], [...</td>\n",
              "    </tr>\n",
              "    <tr>\n",
              "      <th>244</th>\n",
              "      <td>[2, -3, -3, 6, 10, -13, -18, 19]</td>\n",
              "      <td>{'S': 16, 'ψ': [[-3, -13], [6, 10], [2, -18], ...</td>\n",
              "    </tr>\n",
              "  </tbody>\n",
              "</table>\n",
              "<p>245 rows × 2 columns</p>\n",
              "</div>"
            ],
            "text/plain": [
              "                                 lista  \\\n",
              "0          [1, 1, 2, 3, -4, -4, -5, 6]   \n",
              "1          [1, 2, 2, 2, -3, -5, -6, 7]   \n",
              "2         [1, -2, -2, 4, 5, -7, -7, 8]   \n",
              "3          [1, 2, 2, 4, -5, -5, -7, 8]   \n",
              "4         [2, -3, -4, 5, -6, 7, 7, -8]   \n",
              "..                                 ...   \n",
              "240  [2, -4, -5, 10, 11, -16, -17, 19]   \n",
              "241  [5, -7, -7, 11, 13, -17, -17, 19]   \n",
              "242   [4, -5, -7, 8, -17, 18, 18, -19]   \n",
              "243    [2, 2, 5, -7, 10, -14, -17, 19]   \n",
              "244   [2, -3, -3, 6, 10, -13, -18, 19]   \n",
              "\n",
              "                                                 pares  \n",
              "0    {'S': 2, 'ψ': [[3, -5], [2, -4], [-4, 6], [1, ...  \n",
              "1    {'S': 4, 'ψ': [[2, 2], [-3, 7], [1, -5], [2, -...  \n",
              "2    {'S': 9, 'ψ': [[4, 5], [1, 8], [-2, -7], [5, 4...  \n",
              "3    {'S': 3, 'ψ': [[4, -7], [-5, 8], [2, -5], [1, ...  \n",
              "4    {'S': 1, 'ψ': [[-6, 7], [7, -8], [5, -6], [2, ...  \n",
              "..                                                 ...  \n",
              "240  {'S': 21, 'ψ': [[-4, -17], [-5, -16], [10, 11]...  \n",
              "241  {'S': 24, 'ψ': [[5, 19], [-7, -17], [11, 13], ...  \n",
              "242  {'S': 1, 'ψ': [[-7, 8], [4, -5], [-17, 18], [1...  \n",
              "243  {'S': 12, 'ψ': [[2, -14], [2, 10], [-7, 19], [...  \n",
              "244  {'S': 16, 'ψ': [[-3, -13], [6, 10], [2, -18], ...  \n",
              "\n",
              "[245 rows x 2 columns]"
            ]
          },
          "execution_count": 9,
          "metadata": {},
          "output_type": "execute_result"
        }
      ],
      "source": [
        "Pagina = \"https://raw.githubusercontent.com/ComputationalMethods/Evaluacion_2022-1/main/data/lista_pares.json\"\n",
        "Archivo = json.loads(requests.get(Pagina).text)\n",
        "Df = pd.DataFrame(Archivo)\n",
        "Df"
      ]
    },
    {
      "cell_type": "code",
      "execution_count": 33,
      "id": "7ec49d64",
      "metadata": {},
      "outputs": [
        {
          "name": "stdout",
          "output_type": "stream",
          "text": [
            "[1, 2, 2, 4, -5, -5, -7, 8]\n",
            "{'S': 3, 'ψ': [[4, -7], [-5, 8], [2, -5], [1, 2], [-7, 4], [8, -5], [-5, 2], [2, 1]]}\n"
          ]
        }
      ],
      "source": [
        "MisDatos = Df.iloc[3,:]\n",
        "Lista = MisDatos[\"lista\"]\n",
        "Pares = MisDatos[\"pares\"]\n",
        "print(Lista)\n",
        "print(Pares)"
      ]
    },
    {
      "cell_type": "code",
      "execution_count": 34,
      "id": "b78e16a4",
      "metadata": {},
      "outputs": [
        {
          "data": {
            "text/plain": [
              "array([[0.   , 0.532, 0.5  , 0.   , 0.   , 0.   , 0.   , 0.   ],\n",
              "       [0.532, 0.   , 0.   , 0.   , 0.513, 0.74 , 0.   , 0.   ],\n",
              "       [0.5  , 0.   , 0.   , 0.   , 0.   , 0.   , 0.   , 0.   ],\n",
              "       [0.   , 0.   , 0.   , 0.   , 0.   , 0.   , 0.247, 0.   ],\n",
              "       [0.   , 0.513, 0.   , 0.   , 0.   , 0.   , 0.   , 0.004],\n",
              "       [0.   , 0.74 , 0.   , 0.   , 0.   , 0.   , 0.   , 0.   ],\n",
              "       [0.   , 0.   , 0.   , 0.247, 0.   , 0.   , 0.   , 0.   ],\n",
              "       [0.   , 0.   , 0.   , 0.   , 0.004, 0.   , 0.   , 0.   ]])"
            ]
          },
          "execution_count": 34,
          "metadata": {},
          "output_type": "execute_result"
        }
      ],
      "source": [
        "# Creo que la matriz que voy a llenar con los datos ramdom\n",
        "MatrixSimetrica = np.zeros((8,8))\n",
        "# Solo tomo los primeros valores correspondientes a la parte superior de la matriz\n",
        "for i in range(0,int(len(Pares['ψ'])/2)):\n",
        "    # pido la fila y la columna de cada valor\n",
        "    fila = Lista.index(Pares['ψ'][i][0])\n",
        "    columna = Lista.index(Pares['ψ'][i][1])\n",
        "    # lo agrego a la columna\n",
        "    MatrixSimetrica[fila,columna] = round(np.random.random(),3)\n",
        "    # dado que hay valores repetidos, verifico y si coincide agrego un valor nuevo a la matriz\n",
        "    if Lista.count(Pares['ψ'][i][1]) == 2:\n",
        "        MatrixSimetrica[fila,columna+1] = round(np.random.random(),3)\n",
        "# la vuelvo simetrica sumandole la transpuesta\n",
        "MatrixSimetrica += MatrixSimetrica.transpose()\n",
        "MatrixSimetrica"
      ]
    },
    {
      "cell_type": "code",
      "execution_count": 35,
      "id": "fc505de5",
      "metadata": {},
      "outputs": [
        {
          "data": {
            "text/plain": [
              "1.3363411359999997e-07"
            ]
          },
          "execution_count": 35,
          "metadata": {},
          "output_type": "execute_result"
        }
      ],
      "source": [
        "determinante = np.linalg.det(MatrixSimetrica)\n",
        "determinante"
      ]
    },
    {
      "cell_type": "code",
      "execution_count": 36,
      "id": "9390f499",
      "metadata": {},
      "outputs": [],
      "source": [
        "val, vect = np.linalg.eig(MatrixSimetrica)"
      ]
    },
    {
      "cell_type": "code",
      "execution_count": 40,
      "id": "4c1fbf7a",
      "metadata": {},
      "outputs": [
        {
          "data": {
            "text/plain": [
              "array([ 1.082, -1.082,  0.416, -0.416,  0.003, -0.003,  0.247, -0.247])"
            ]
          },
          "execution_count": 40,
          "metadata": {},
          "output_type": "execute_result"
        }
      ],
      "source": [
        "val.round(3)"
      ]
    },
    {
      "cell_type": "code",
      "execution_count": 42,
      "id": "466754a8",
      "metadata": {},
      "outputs": [
        {
          "data": {
            "text/plain": [
              "array([1.082, 1.082, 0.416, 0.416, 0.003, 0.003, 0.247, 0.247])"
            ]
          },
          "execution_count": 42,
          "metadata": {},
          "output_type": "execute_result"
        }
      ],
      "source": [
        "valAbs = abs(val).round(3)\n",
        "valAbs"
      ]
    },
    {
      "cell_type": "code",
      "execution_count": 43,
      "id": "b09feec3",
      "metadata": {},
      "outputs": [
        {
          "data": {
            "text/plain": [
              "[0.003, 0.003, 0.247, 0.247, 0.416, 0.416, 1.082, 1.082]"
            ]
          },
          "execution_count": 43,
          "metadata": {},
          "output_type": "execute_result"
        }
      ],
      "source": [
        "valOrdenado = sorted(valAbs)\n",
        "valOrdenado"
      ]
    },
    {
      "cell_type": "code",
      "execution_count": 50,
      "id": "68e26159",
      "metadata": {},
      "outputs": [
        {
          "data": {
            "text/plain": [
              "array([[-0.425, -0.425, -0.565,  0.565, -0.   , -0.   , -0.   ,  0.   ],\n",
              "       [-0.679,  0.679,  0.196,  0.196,  0.002, -0.002,  0.   ,  0.   ],\n",
              "       [-0.196,  0.196, -0.679, -0.679, -0.002,  0.002, -0.   , -0.   ],\n",
              "       [-0.   , -0.   ,  0.   , -0.   , -0.   , -0.   , -0.707, -0.707],\n",
              "       [-0.322, -0.322,  0.242, -0.242, -0.581, -0.581,  0.   , -0.   ],\n",
              "       [-0.465, -0.465,  0.349, -0.349,  0.403,  0.403,  0.   , -0.   ],\n",
              "       [-0.   ,  0.   ,  0.   ,  0.   ,  0.   ,  0.   , -0.707,  0.707],\n",
              "       [-0.001,  0.001,  0.002,  0.002, -0.707,  0.707, -0.   , -0.   ]])"
            ]
          },
          "execution_count": 50,
          "metadata": {},
          "output_type": "execute_result"
        }
      ],
      "source": [
        "vectRedon = vect.round(3)\n",
        "vectRedon"
      ]
    },
    {
      "cell_type": "code",
      "execution_count": 48,
      "id": "970eb04a",
      "metadata": {},
      "outputs": [
        {
          "data": {
            "text/plain": [
              "array([[-0.   , -0.   , -0.   ,  0.   , -0.565,  0.565, -0.425, -0.425],\n",
              "       [ 0.002, -0.002,  0.   ,  0.   ,  0.196,  0.196, -0.679,  0.679],\n",
              "       [-0.002,  0.002, -0.   , -0.   , -0.679, -0.679, -0.196,  0.196],\n",
              "       [-0.   , -0.   , -0.707, -0.707,  0.   , -0.   , -0.   , -0.   ],\n",
              "       [-0.581, -0.581,  0.   , -0.   ,  0.242, -0.242, -0.322, -0.322],\n",
              "       [ 0.403,  0.403,  0.   , -0.   ,  0.349, -0.349, -0.465, -0.465],\n",
              "       [ 0.   ,  0.   , -0.707,  0.707,  0.   ,  0.   , -0.   ,  0.   ],\n",
              "       [-0.707,  0.707, -0.   , -0.   ,  0.002,  0.002, -0.001,  0.001]])"
            ]
          },
          "execution_count": 48,
          "metadata": {},
          "output_type": "execute_result"
        }
      ],
      "source": [
        "# Creo la matriz que voy a llenar con los datos de los vectores\n",
        "vectOrdenados = np.zeros((8,8))\n",
        "# Dado que la matriz tiene lambda en valor absoluto duplicados, damos saltos de 2 en 2\n",
        "for i in range(0,len(val),2):\n",
        "    # Tomo los indices de los vectores que tengo que mover\n",
        "    puntero1 = list(valAbs).index(valOrdenado[i],0,len(valAbs))\n",
        "    puntero2 = list(valAbs).index(valOrdenado[i],puntero1+1,len(valAbs))\n",
        "    # en el vector en la posición i e i+1 (lambdas dobles) agrego el vector de las respectivas posiciones como columna\n",
        "    vectOrdenados = np.insert(vectOrdenados,i,vectRedon[:,puntero1],1)\n",
        "    vectOrdenados = np.insert(vectOrdenados,i+1,vectRedon[:,puntero2],1)\n",
        "    # elimino la parte del final ya que siempre me quedan ceros sobrando no los reemplaza solo inserta\n",
        "    vectOrdenados = np.delete(vectOrdenados,len(vectOrdenados),1)\n",
        "    vectOrdenados = np.delete(vectOrdenados,len(vectOrdenados),1)\n",
        "vectOrdenados"
      ]
    },
    {
      "cell_type": "markdown",
      "id": "0ab08d28",
      "metadata": {},
      "source": [
        "Nota: desconozco el significado de autovalor degenerado en valor absoluto por ende no puedo responder esa pregunta"
      ]
    }
  ],
  "metadata": {
    "colab": {
      "include_colab_link": true,
      "provenance": []
    },
    "kernelspec": {
      "display_name": "Python 3.10.8 64-bit",
      "language": "python",
      "name": "python3"
    },
    "language_info": {
      "codemirror_mode": {
        "name": "ipython",
        "version": 3
      },
      "file_extension": ".py",
      "mimetype": "text/x-python",
      "name": "python",
      "nbconvert_exporter": "python",
      "pygments_lexer": "ipython3",
      "version": "3.10.8"
    },
    "vscode": {
      "interpreter": {
        "hash": "26de051ba29f2982a8de78e945f0abaf191376122a1563185a90213a26c5da77"
      }
    }
  },
  "nbformat": 4,
  "nbformat_minor": 5
}
