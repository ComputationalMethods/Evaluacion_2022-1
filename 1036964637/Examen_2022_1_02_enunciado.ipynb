{
  "cells": [
    {
      "cell_type": "code",
      "source": [
        "#Librerías \n",
        "import numpy as np\n",
        "import pandas as pd\n",
        "import matplotlib.pyplot as plt\n",
        "from scipy import integrate "
      ],
      "metadata": {
        "id": "XtnW9S3wIHUL"
      },
      "id": "XtnW9S3wIHUL",
      "execution_count": 2,
      "outputs": []
    },
    {
      "cell_type": "markdown",
      "id": "a3f0c1b2-a69e-4149-b747-97a5863134d9",
      "metadata": {
        "id": "a3f0c1b2-a69e-4149-b747-97a5863134d9"
      },
      "source": [
        "# Examen 2: Métodos computacionales\n",
        "A)\n",
        "1. Usando su número de cédula cómo semilla, obtenga un numero entero aleatorio, $n$, entre 2 y 20.\n",
        "2. Usando el $n$ obtenido, haga una estimación de la siguiente integral hasta dos cifras significativas, usando el método `quad` del módulo `integrate` de Scipy\n",
        "$$\n",
        "\\int_0^\\infty \\sin(x^n)\\operatorname{d}x\n",
        "$$\n",
        "Sugerencia. Compare con el valor obtenido desde https://www.wolframalpha.com/ o [sympy](https://stackoverflow.com/questions/65862611/integration-of-sin-x-dx-problem-in-python-programming-implementation)"
      ]
    },
    {
      "cell_type": "code",
      "execution_count": 244,
      "id": "62cbc669-9ed6-4f54-b4c9-5ac10f7c15d6",
      "metadata": {
        "id": "62cbc669-9ed6-4f54-b4c9-5ac10f7c15d6",
        "colab": {
          "base_uri": "https://localhost:8080/"
        },
        "outputId": "2d288673-00ca-4ead-9f4f-0c224b21de62"
      },
      "outputs": [
        {
          "output_type": "stream",
          "name": "stdout",
          "text": [
            "n = 6\n"
          ]
        }
      ],
      "source": [
        "np.random.seed(1036964937)\n",
        "n = np.random.randint(2, 20)\n",
        "\n",
        "print(f'n = {n}')"
      ]
    },
    {
      "cell_type": "code",
      "source": [
        "f = lambda x: np.sin(x**6)\n",
        "\n",
        "\n",
        "integrate.quad(f, 0, 2.80901495)"
      ],
      "metadata": {
        "colab": {
          "base_uri": "https://localhost:8080/"
        },
        "id": "WTtAdCHqJAOI",
        "outputId": "f54f9aa6-95b2-4112-bd2b-f3898824feb5"
      },
      "id": "WTtAdCHqJAOI",
      "execution_count": 286,
      "outputs": [
        {
          "output_type": "execute_result",
          "data": {
            "text/plain": [
              "(0.2397523417063861, 1.4899715134573391e-08)"
            ]
          },
          "metadata": {},
          "execution_count": 286
        }
      ]
    },
    {
      "cell_type": "markdown",
      "id": "0949b7a5-6d81-4e98-adc7-a7a1867266a3",
      "metadata": {
        "id": "0949b7a5-6d81-4e98-adc7-a7a1867266a3"
      },
      "source": [
        "B) Cargue los datos disponibles en:\n",
        "\n",
        "[https://github.com/ComputationalMethods/Evaluacion_2022-1/blob/main/data/lista_pares.json](https://raw.githubusercontent.com/ComputationalMethods/Evaluacion_2022-1/main/data/lista_pares.json)\n",
        "\n",
        "como un DataFrame de pandas. Este contendrá dos columnas. La columna `lista`, con una lista de 8 enteros (algunos de ellos repetidos) y una columna `pares` correspondiente a un diccionario\n",
        "con dos items: un entero rotulado con `'S'` y una lista de pares de enteros routulada con `'ψ'`. Note que el resultado de la suma en valor absoluto de los dos enteros en cada uno de los pares reproduce el valor del correspondiente `'S'` \n",
        "\n",
        "Seleccione la fila del DataFrame con el índice correspondiente a los dos últimos dígitos de su cédula y desarrolle los siguientes puntos con la correspondiente  `lista` y `pares`:\n",
        "1. Construya una matrix $8\\times 8$ _simétrica_ donde cada fila y la correspondiente columna correspondan a un entero de la `lista` (incluyendo los repetidos); de manera que en los cruces de filas y columnas definidos por los pares de enteros de `'ψ'`, se genere una entrada aleatoria mayor que cero y menor o igual que 1, con las demas entradas iguales a cero.\n",
        "1. Calcule el determinante y establezca explícitamente si es diferente cero (tenga en cuenta la precisión numérica). Recuerde que si el determinante es cero, se espera que al menos uno de los autovalores sea cero\n",
        "2. Organize los autovalores y autovectores de menor a mayor en valor absoluto y compruebe que las matriz de autovectores organizada da lugar a los autovalores en el orden correcto. \n",
        "3. Establezca explícitamente _cuantos_ autovalores son degenerados en valor absoluto."
      ]
    },
    {
      "cell_type": "markdown",
      "source": [
        "#### 1. "
      ],
      "metadata": {
        "id": "eVcDQoFiWwXJ"
      },
      "id": "eVcDQoFiWwXJ"
    },
    {
      "cell_type": "code",
      "execution_count": 121,
      "id": "2df48495-196b-4fa4-8206-466cd33658e2",
      "metadata": {
        "id": "2df48495-196b-4fa4-8206-466cd33658e2",
        "colab": {
          "base_uri": "https://localhost:8080/"
        },
        "outputId": "0dd46090-7e90-4c6f-f727-1ee5990257cf"
      },
      "outputs": [
        {
          "output_type": "stream",
          "name": "stdout",
          "text": [
            "Lista 37:\n",
            " [1, 2, 2, -4, 8, -11, -11, 13] \n",
            "\n",
            "Entradas diferentes a cero:\n",
            " [[-4, 13], [2, -11], [1, 8], [13, -4], [-11, 2], [8, 1]]\n"
          ]
        }
      ],
      "source": [
        "def r(): return round(np.random.uniform(0,1),2) #entradas aleatorias\n",
        "\n",
        "df = pd.read_json('lista_pares.json')\n",
        "fila = df.loc[37]\n",
        "print('Lista 37:\\n',fila.lista, '\\n\\nEntradas diferentes a cero:\\n', fila.pares['ψ'])"
      ]
    },
    {
      "cell_type": "code",
      "source": [
        "N = np.matrix([[0,    0,   0,   0, r(),   0,     0, 0],\n",
        "               [0,    0,   0,   0,   0, r(),   r(), 0],\n",
        "               [0,    0,   0,   0,   0, r(),   r(), 0],\n",
        "               [0,    0,   0,   0,   0,   0,   0, r()],\n",
        "               [r(),  0,   0,   0,   0,   0,   0,   0],\n",
        "               [0,  r(), r(),   0,   0,   0,   0,   0],\n",
        "               [0,  r(), r(),   0,   0,   0,   0,   0],\n",
        "               [0,    0,   0, r(),   0,   0,   0,   0]])"
      ],
      "metadata": {
        "id": "0qLP6A3lFA6e"
      },
      "id": "0qLP6A3lFA6e",
      "execution_count": 148,
      "outputs": []
    },
    {
      "cell_type": "markdown",
      "source": [
        "#### 2. "
      ],
      "metadata": {
        "id": "mOQPhc4yrpIJ"
      },
      "id": "mOQPhc4yrpIJ"
    },
    {
      "cell_type": "code",
      "source": [
        "print(f'Determinante = {round(np.linalg.det(N),7)}, diferente de cero')"
      ],
      "metadata": {
        "colab": {
          "base_uri": "https://localhost:8080/"
        },
        "id": "-TvQUURtTWY4",
        "outputId": "b3a2f324-88ad-434d-d268-26fa0d167964"
      },
      "id": "-TvQUURtTWY4",
      "execution_count": 149,
      "outputs": [
        {
          "output_type": "stream",
          "name": "stdout",
          "text": [
            "Determinante = 0.0080166, diferente de cero\n"
          ]
        }
      ]
    },
    {
      "cell_type": "code",
      "source": [
        "eigvalues, eigvec = np.linalg.eig(N)"
      ],
      "metadata": {
        "id": "A1NwgkT9GMWa"
      },
      "id": "A1NwgkT9GMWa",
      "execution_count": 223,
      "outputs": []
    },
    {
      "cell_type": "markdown",
      "source": [
        "#### 3."
      ],
      "metadata": {
        "id": "lQa_OfCYrwA3"
      },
      "id": "lQa_OfCYrwA3"
    },
    {
      "cell_type": "code",
      "source": [
        "idx = np.argsort(abs(eigvalues))\n",
        "s_eigvalues = abs(eigvalues[idx])\n",
        "s_eigvec = abs(eigvec[idx])\n",
        "print(f'Autovalores organizados =\\n {s_eigvalues}\\n')\n",
        "print(f'Autovectores organizados =\\n {s_eigvec}')"
      ],
      "metadata": {
        "colab": {
          "base_uri": "https://localhost:8080/"
        },
        "id": "41frpN0ocDfN",
        "outputId": "4cebf97b-4915-47ff-e15f-1d20b6b687b0"
      },
      "id": "41frpN0ocDfN",
      "execution_count": 366,
      "outputs": [
        {
          "output_type": "stream",
          "name": "stdout",
          "text": [
            "Autovalores organizados =\n",
            " [0.38405729 0.38405729 0.469875   0.469875   0.49749372 0.49749372\n",
            " 0.99730511 0.99730511]\n",
            "\n",
            "Autovectores organizados =\n",
            " [[0.00000000e+00 0.00000000e+00 4.65063357e-01 4.65063357e-01\n",
            "  1.88370687e-01 1.88370687e-01 6.43255046e-17 6.43255046e-17]\n",
            " [0.00000000e+00 0.00000000e+00 5.76997944e-17 5.76997944e-17\n",
            "  3.54857524e-16 3.54857524e-16 5.45544726e-01 5.45544726e-01]\n",
            " [0.00000000e+00 0.00000000e+00 6.25675099e-01 6.25675099e-01\n",
            "  6.01016757e-01 6.01016757e-01 2.75927329e-16 2.75927329e-16]\n",
            " [8.33333333e-01 8.33333333e-01 0.00000000e+00 0.00000000e+00\n",
            "  0.00000000e+00 0.00000000e+00 0.00000000e+00 0.00000000e+00]\n",
            " [5.52770798e-01 5.52770798e-01 0.00000000e+00 0.00000000e+00\n",
            "  0.00000000e+00 0.00000000e+00 0.00000000e+00 0.00000000e+00]\n",
            " [0.00000000e+00 0.00000000e+00 4.99466956e-01 4.99466956e-01\n",
            "  2.65731620e-01 2.65731620e-01 1.52598986e-16 1.52598986e-16]\n",
            " [0.00000000e+00 0.00000000e+00 3.77861754e-01 3.77861754e-01\n",
            "  7.29850702e-01 7.29850702e-01 3.92296748e-16 3.92296748e-16]\n",
            " [0.00000000e+00 0.00000000e+00 2.79187782e-16 2.79187782e-16\n",
            "  7.22298908e-16 7.22298908e-16 8.38081710e-01 8.38081710e-01]]\n"
          ]
        }
      ]
    },
    {
      "cell_type": "markdown",
      "source": [
        "#### 4."
      ],
      "metadata": {
        "id": "i0QtIbzfrzMv"
      },
      "id": "i0QtIbzfrzMv"
    },
    {
      "cell_type": "code",
      "source": [
        "s_eigvec"
      ],
      "metadata": {
        "colab": {
          "base_uri": "https://localhost:8080/"
        },
        "id": "A6J8_ftOudJs",
        "outputId": "0574dd90-700b-4622-e607-17842ecc7d07"
      },
      "id": "A6J8_ftOudJs",
      "execution_count": 303,
      "outputs": [
        {
          "output_type": "execute_result",
          "data": {
            "text/plain": [
              "matrix([[0.00000000e+00, 0.00000000e+00, 4.65063357e-01, 4.65063357e-01,\n",
              "         1.88370687e-01, 1.88370687e-01, 6.43255046e-17, 6.43255046e-17],\n",
              "        [0.00000000e+00, 0.00000000e+00, 5.76997944e-17, 5.76997944e-17,\n",
              "         3.54857524e-16, 3.54857524e-16, 5.45544726e-01, 5.45544726e-01],\n",
              "        [0.00000000e+00, 0.00000000e+00, 6.25675099e-01, 6.25675099e-01,\n",
              "         6.01016757e-01, 6.01016757e-01, 2.75927329e-16, 2.75927329e-16],\n",
              "        [8.33333333e-01, 8.33333333e-01, 0.00000000e+00, 0.00000000e+00,\n",
              "         0.00000000e+00, 0.00000000e+00, 0.00000000e+00, 0.00000000e+00],\n",
              "        [5.52770798e-01, 5.52770798e-01, 0.00000000e+00, 0.00000000e+00,\n",
              "         0.00000000e+00, 0.00000000e+00, 0.00000000e+00, 0.00000000e+00],\n",
              "        [0.00000000e+00, 0.00000000e+00, 4.99466956e-01, 4.99466956e-01,\n",
              "         2.65731620e-01, 2.65731620e-01, 1.52598986e-16, 1.52598986e-16],\n",
              "        [0.00000000e+00, 0.00000000e+00, 3.77861754e-01, 3.77861754e-01,\n",
              "         7.29850702e-01, 7.29850702e-01, 3.92296748e-16, 3.92296748e-16],\n",
              "        [0.00000000e+00, 0.00000000e+00, 2.79187782e-16, 2.79187782e-16,\n",
              "         7.22298908e-16, 7.22298908e-16, 8.38081710e-01, 8.38081710e-01]])"
            ]
          },
          "metadata": {},
          "execution_count": 303
        }
      ]
    },
    {
      "cell_type": "code",
      "source": [
        "np.matmul(N,s_eigvec)[2]"
      ],
      "metadata": {
        "colab": {
          "base_uri": "https://localhost:8080/"
        },
        "id": "oOCHMEAFkOZk",
        "outputId": "a40d2b7d-cb76-4fe6-93ec-5387a6a2d2c7"
      },
      "id": "oOCHMEAFkOZk",
      "execution_count": 370,
      "outputs": [
        {
          "output_type": "execute_result",
          "data": {
            "text/plain": [
              "matrix([[0.00000000e+00, 0.00000000e+00, 3.01026687e-01, 3.01026687e-01,\n",
              "         1.76019861e-01, 1.76019861e-01, 1.00276314e-16, 1.00276314e-16]])"
            ]
          },
          "metadata": {},
          "execution_count": 370
        }
      ]
    },
    {
      "cell_type": "code",
      "source": [],
      "metadata": {
        "id": "xjwHVN-M006W"
      },
      "id": "xjwHVN-M006W",
      "execution_count": null,
      "outputs": []
    }
  ],
  "metadata": {
    "kernelspec": {
      "display_name": "Python 3 (ipykernel)",
      "language": "python",
      "name": "python3"
    },
    "language_info": {
      "codemirror_mode": {
        "name": "ipython",
        "version": 3
      },
      "file_extension": ".py",
      "mimetype": "text/x-python",
      "name": "python",
      "nbconvert_exporter": "python",
      "pygments_lexer": "ipython3",
      "version": "3.9.2"
    },
    "colab": {
      "provenance": [],
      "collapsed_sections": []
    }
  },
  "nbformat": 4,
  "nbformat_minor": 5
}