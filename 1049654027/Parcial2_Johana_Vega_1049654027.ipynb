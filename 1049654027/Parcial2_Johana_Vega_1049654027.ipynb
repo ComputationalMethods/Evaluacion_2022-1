{
  "nbformat": 4,
  "nbformat_minor": 0,
  "metadata": {
    "colab": {
      "provenance": []
    },
    "kernelspec": {
      "name": "python3",
      "display_name": "Python 3"
    },
    "language_info": {
      "name": "python"
    }
  },
  "cells": [
    {
      "cell_type": "markdown",
      "source": [
        "#Examen 2: Métodos computacionales\n",
        "__Johana Vega__\n",
        "__1049654027__\n",
        "\n",
        "A)\n",
        "1. Usando su número de cédula cómo semilla, obtenga un numero entero aleatorio, $n$, entre 2 y 20.\n",
        "2. Usando el $n$ obtenido, haga una estimación de la siguiente integral hasta dos cifras significativas, usando el método `quad` del módulo `integrate` de Scipy\n",
        "$$\n",
        "\\int_0^\\infty \\sin(x^n)\\operatorname{d}x\n",
        "$$\n",
        "Sugerencia. Compare con el valor obtenido desde https://www.wolframalpha.com/ o [sympy](https://stackoverflow.com/questions/65862611/integration-of-sin-x-dx-problem-in-python-programming-implementation)"
      ],
      "metadata": {
        "id": "WD9b_7rNz6Tw"
      }
    },
    {
      "cell_type": "code",
      "execution_count": 313,
      "metadata": {
        "colab": {
          "base_uri": "https://localhost:8080/"
        },
        "id": "5TsaX8ZHvpry",
        "outputId": "5795883a-6955-4427-a6da-e8f41892d02a"
      },
      "outputs": [
        {
          "output_type": "stream",
          "name": "stdout",
          "text": [
            "Populating the interactive namespace from numpy and matplotlib\n"
          ]
        },
        {
          "output_type": "stream",
          "name": "stderr",
          "text": [
            "/usr/local/lib/python3.7/dist-packages/IPython/core/magics/pylab.py:160: UserWarning: pylab import has clobbered these variables: ['random']\n",
            "`%matplotlib` prevents importing * from pylab and numpy\n",
            "  \"\\n`%matplotlib` prevents importing * from pylab and numpy\"\n"
          ]
        }
      ],
      "source": [
        "%pylab inline\n",
        "import numpy as np\n",
        "import scipy.integrate as integrate\n",
        "import pandas as pd\n",
        "import random\n",
        "import sympy as sp"
      ]
    },
    {
      "cell_type": "code",
      "source": [
        "random.seed(1049654027)\n",
        "n = random.randint(2,21)\n",
        "n"
      ],
      "metadata": {
        "colab": {
          "base_uri": "https://localhost:8080/"
        },
        "id": "GbAmshj6wCSi",
        "outputId": "c031170e-be50-45bc-bacd-1df1df3ea7f8"
      },
      "execution_count": 314,
      "outputs": [
        {
          "output_type": "execute_result",
          "data": {
            "text/plain": [
              "11"
            ]
          },
          "metadata": {},
          "execution_count": 314
        }
      ]
    },
    {
      "cell_type": "markdown",
      "source": [
        "El valor de la integral entregado por WolframAlpha para n = 1 es:\n",
        "$$\\int_0^\\infty sen(x^{11}) dx = sen(π/22) Γ(12/11)≈0.135922$$ "
      ],
      "metadata": {
        "id": "FAkIC8WenGhn"
      }
    },
    {
      "cell_type": "markdown",
      "source": [
        "Usando el método de la singuralidad infinita\n",
        "$$\\int_a^\\infty f(x)dx$$\n",
        "\n",
        "en el cual:\n",
        "\n",
        "$$t = x^{-1}\\ \\ \\ \\ \\ dt = -x^{-2}dx$$\n",
        "\n",
        "reemplazando\n",
        "\n",
        "$$ \\int_a^\\infty f(x)dx = \\int_0^{1/a}t^{-2}f\\left(\\frac{1}{t}\\right)dt $$\n",
        "\n",
        "convertimos la integral\n",
        "$$\n",
        "\\int_0^\\infty \\sin(x^n)\\operatorname{d}x\n",
        "$$\n",
        " en \n",
        " $$\n",
        "\\int_0^1 \\sin(x^n)\\operatorname{d}x + \\int_1^\\infty \\sin(x^n)\\operatorname{d}x\n",
        "$$\n",
        "\n",
        "y transformamos la segunda integral en:\n",
        "\n",
        "$$\\int_0^1t^{-2}sin\\left(\\frac{1}{t}\\right)^ndt $$\n"
      ],
      "metadata": {
        "id": "ntbAimi8ls0Y"
      }
    },
    {
      "cell_type": "code",
      "source": [
        "r = integrate.quad(lambda x: np.sin(x**n),0,1)[0] + integrate.quad(lambda x: np.sin((x**-1)**n)/x**2,0.57,1)[0]\n",
        "print('%.3f' %r)"
      ],
      "metadata": {
        "colab": {
          "base_uri": "https://localhost:8080/"
        },
        "id": "63JhnSDwMUqs",
        "outputId": "dad73438-b309-4638-82e2-0c72cd4c8124"
      },
      "execution_count": 315,
      "outputs": [
        {
          "output_type": "stream",
          "name": "stdout",
          "text": [
            "0.136\n"
          ]
        }
      ]
    },
    {
      "cell_type": "markdown",
      "source": [
        "B) Cargue los datos disponibles en:\n",
        "\n",
        "https://raw.githubusercontent.com/ComputationalMethods/Evaluacion_2022-1/main/data/lista_pares.json\n",
        "\n",
        "como un DataFrame de pandas. Este contendrá dos columnas. La columna `lista`, con una lista de 8 enteros (algunos de ellos repetidos) y una columna `pares` correspondiente a un diccionario\n",
        "con dos items: un entero rotulado con `'S'` y una lista de pares de enteros routulada con `'ψ'`. Note que el resultado de la suma en valor absoluto de los dos enteros en cada uno de los pares reproduce el valor del correspondiente `'S'` \n",
        "\n",
        "Seleccione la fila del DataFrame con el índice correspondiente a los dos últimos dígitos de su cédula y desarrolle los siguientes puntos con la correspondiente  `lista` y `pares`:\n"
      ],
      "metadata": {
        "id": "CgjKIv3RofcB"
      }
    },
    {
      "cell_type": "code",
      "source": [
        "dt = pd.read_json('https://raw.githubusercontent.com/ComputationalMethods/Evaluacion_2022-1/main/data/lista_pares.json')\n",
        "dt.lista[27], dt.pares[27]"
      ],
      "metadata": {
        "colab": {
          "base_uri": "https://localhost:8080/"
        },
        "id": "9COkrhfCNhc3",
        "outputId": "73bf5a39-3f1f-4a86-b1bd-8716f72533d1"
      },
      "execution_count": 316,
      "outputs": [
        {
          "output_type": "execute_result",
          "data": {
            "text/plain": [
              "([1, 2, 4, 6, -7, -7, -11, 12],\n",
              " {'S': 5,\n",
              "  'ψ': [[2, -7],\n",
              "   [6, -11],\n",
              "   [1, 4],\n",
              "   [-7, 12],\n",
              "   [-7, 2],\n",
              "   [-11, 6],\n",
              "   [4, 1],\n",
              "   [12, -7]]})"
            ]
          },
          "metadata": {},
          "execution_count": 316
        }
      ]
    },
    {
      "cell_type": "markdown",
      "source": [
        "1. Construya una matrix $8\\times 8$ _simétrica_ donde cada fila y la correspondiente columna correspondan a un entero de la `lista` (incluyendo los repetidos); de manera que en los cruces de filas y columnas definidos por los pares de enteros de `'ψ'`, se genere una entrada aleatoria mayor que cero y menor o igual que 1, con las demas entradas iguales a cero.\n"
      ],
      "metadata": {
        "id": "mGIcVm_Z9NUz"
      }
    },
    {
      "cell_type": "code",
      "source": [
        "\n",
        "l1 = []\n",
        "for i in dt.lista[27]:\n",
        "  l = []\n",
        "  for j in dt.lista[27]:\n",
        "    if [i,j] in dt.pares[27]['ψ']:\n",
        "      l.append(1)\n",
        "    else:\n",
        "      l.append(0)\n",
        "  l1.append(l)\n",
        "random.seed(0)\n",
        "m = np.array(l1)*random.random()\n",
        "M= sp.Matrix(m)\n",
        "M"
      ],
      "metadata": {
        "colab": {
          "base_uri": "https://localhost:8080/",
          "height": 180
        },
        "id": "Kp_qzWU6pQh3",
        "outputId": "29b73a3b-3f98-4f66-b368-904768bc0438"
      },
      "execution_count": 317,
      "outputs": [
        {
          "output_type": "execute_result",
          "data": {
            "text/plain": [
              "Matrix([\n",
              "[              0.0,               0.0, 0.844421851525048,               0.0,               0.0,               0.0,               0.0,               0.0],\n",
              "[              0.0,               0.0,               0.0,               0.0, 0.844421851525048, 0.844421851525048,               0.0,               0.0],\n",
              "[0.844421851525048,               0.0,               0.0,               0.0,               0.0,               0.0,               0.0,               0.0],\n",
              "[              0.0,               0.0,               0.0,               0.0,               0.0,               0.0, 0.844421851525048,               0.0],\n",
              "[              0.0, 0.844421851525048,               0.0,               0.0,               0.0,               0.0,               0.0, 0.844421851525048],\n",
              "[              0.0, 0.844421851525048,               0.0,               0.0,               0.0,               0.0,               0.0, 0.844421851525048],\n",
              "[              0.0,               0.0,               0.0, 0.844421851525048,               0.0,               0.0,               0.0,               0.0],\n",
              "[              0.0,               0.0,               0.0,               0.0, 0.844421851525048, 0.844421851525048,               0.0,               0.0]])"
            ],
            "text/latex": "$\\displaystyle \\left[\\begin{matrix}0.0 & 0.0 & 0.844421851525048 & 0.0 & 0.0 & 0.0 & 0.0 & 0.0\\\\0.0 & 0.0 & 0.0 & 0.0 & 0.844421851525048 & 0.844421851525048 & 0.0 & 0.0\\\\0.844421851525048 & 0.0 & 0.0 & 0.0 & 0.0 & 0.0 & 0.0 & 0.0\\\\0.0 & 0.0 & 0.0 & 0.0 & 0.0 & 0.0 & 0.844421851525048 & 0.0\\\\0.0 & 0.844421851525048 & 0.0 & 0.0 & 0.0 & 0.0 & 0.0 & 0.844421851525048\\\\0.0 & 0.844421851525048 & 0.0 & 0.0 & 0.0 & 0.0 & 0.0 & 0.844421851525048\\\\0.0 & 0.0 & 0.0 & 0.844421851525048 & 0.0 & 0.0 & 0.0 & 0.0\\\\0.0 & 0.0 & 0.0 & 0.0 & 0.844421851525048 & 0.844421851525048 & 0.0 & 0.0\\end{matrix}\\right]$"
          },
          "metadata": {},
          "execution_count": 317
        }
      ]
    },
    {
      "cell_type": "markdown",
      "source": [
        "2. Calcule el determinante y establezca explícitamente si es diferente cero (tenga en cuenta la precisión numérica). Recuerde que si el determinante es cero, se espera que al menos uno de los autovalores sea cero\n"
      ],
      "metadata": {
        "id": "fjIhaCYP9S_f"
      }
    },
    {
      "cell_type": "code",
      "source": [
        "λ,V=np.linalg.eig(m)"
      ],
      "metadata": {
        "id": "y2ueYLWKDA-2"
      },
      "execution_count": 318,
      "outputs": []
    },
    {
      "cell_type": "code",
      "source": [
        "np.linalg.det(m)"
      ],
      "metadata": {
        "colab": {
          "base_uri": "https://localhost:8080/"
        },
        "id": "2ogm8DzX9BaE",
        "outputId": "8bacc715-1244-4d78-ddc9-76ff99959018"
      },
      "execution_count": 319,
      "outputs": [
        {
          "output_type": "execute_result",
          "data": {
            "text/plain": [
              "0.0"
            ]
          },
          "metadata": {},
          "execution_count": 319
        }
      ]
    },
    {
      "cell_type": "markdown",
      "source": [
        "3. Organize los autovalores y autovectores de menor a mayor en valor absoluto y compruebe que las matriz de autovectores organizada da lugar a los autovalores en el orden correcto. \n"
      ],
      "metadata": {
        "id": "Joa5HlAR9klh"
      }
    },
    {
      "cell_type": "markdown",
      "source": [
        "##Autovalores organizados en valor absoluto"
      ],
      "metadata": {
        "id": "3CqGb-c0ANBT"
      }
    },
    {
      "cell_type": "code",
      "source": [
        "np.sort( np.abs(λ))\n"
      ],
      "metadata": {
        "colab": {
          "base_uri": "https://localhost:8080/"
        },
        "id": "OBbJkv9_9cLi",
        "outputId": "33e955d8-0e86-4e55-9c85-bb40abf7ff77"
      },
      "execution_count": 320,
      "outputs": [
        {
          "output_type": "execute_result",
          "data": {
            "text/plain": [
              "array([0.00000000e+00, 8.69916864e-17, 8.44421852e-01, 8.44421852e-01,\n",
              "       8.44421852e-01, 8.44421852e-01, 1.68884370e+00, 1.68884370e+00])"
            ]
          },
          "metadata": {},
          "execution_count": 320
        }
      ]
    },
    {
      "cell_type": "markdown",
      "source": [
        "##Autovectores organizados en valor absoluto"
      ],
      "metadata": {
        "id": "I-i5_lGNAjOX"
      }
    },
    {
      "cell_type": "code",
      "source": [
        "Va = abs(V)\n",
        "U=np.c_[ tuple( [ np.c_[Va[:,i]]    for i in np.abs(λ).argsort() ] ) ]\n",
        "sp.Matrix(Va.round(14))"
      ],
      "metadata": {
        "colab": {
          "base_uri": "https://localhost:8080/",
          "height": 180
        },
        "id": "EpT1T1p59wyA",
        "outputId": "5a369c7a-becf-4d2c-ab81-430f31c625b2"
      },
      "execution_count": 321,
      "outputs": [
        {
          "output_type": "execute_result",
          "data": {
            "text/plain": [
              "Matrix([\n",
              "[0.70710678118655, 0.70710678118655, 0.0, 0.0,              0.0,              0.0,              0.0,              0.0],\n",
              "[             0.0,              0.0, 0.5, 0.5, 0.70710678118655,              0.0,              0.0,              0.0],\n",
              "[0.70710678118655, 0.70710678118655, 0.0, 0.0,              0.0,              0.0,              0.0,              0.0],\n",
              "[             0.0,              0.0, 0.0, 0.0,              0.0, 0.70710678118655, 0.70710678118655,              0.0],\n",
              "[             0.0,              0.0, 0.5, 0.5,              0.0,              0.0,              0.0, 0.70710678118655],\n",
              "[             0.0,              0.0, 0.5, 0.5,              0.0,              0.0,              0.0, 0.70710678118655],\n",
              "[             0.0,              0.0, 0.0, 0.0,              0.0, 0.70710678118655, 0.70710678118655,              0.0],\n",
              "[             0.0,              0.0, 0.5, 0.5, 0.70710678118655,              0.0,              0.0,              0.0]])"
            ],
            "text/latex": "$\\displaystyle \\left[\\begin{matrix}0.70710678118655 & 0.70710678118655 & 0.0 & 0.0 & 0.0 & 0.0 & 0.0 & 0.0\\\\0.0 & 0.0 & 0.5 & 0.5 & 0.70710678118655 & 0.0 & 0.0 & 0.0\\\\0.70710678118655 & 0.70710678118655 & 0.0 & 0.0 & 0.0 & 0.0 & 0.0 & 0.0\\\\0.0 & 0.0 & 0.0 & 0.0 & 0.0 & 0.70710678118655 & 0.70710678118655 & 0.0\\\\0.0 & 0.0 & 0.5 & 0.5 & 0.0 & 0.0 & 0.0 & 0.70710678118655\\\\0.0 & 0.0 & 0.5 & 0.5 & 0.0 & 0.0 & 0.0 & 0.70710678118655\\\\0.0 & 0.0 & 0.0 & 0.0 & 0.0 & 0.70710678118655 & 0.70710678118655 & 0.0\\\\0.0 & 0.0 & 0.5 & 0.5 & 0.70710678118655 & 0.0 & 0.0 & 0.0\\end{matrix}\\right]$"
          },
          "metadata": {},
          "execution_count": 321
        }
      ]
    },
    {
      "cell_type": "markdown",
      "source": [
        "##Matriz de autovectores organizada"
      ],
      "metadata": {
        "id": "Ezrt5uu4AtFF"
      }
    },
    {
      "cell_type": "code",
      "source": [
        "sp.Matrix( (U.transpose()@m@U).round(14))"
      ],
      "metadata": {
        "colab": {
          "base_uri": "https://localhost:8080/",
          "height": 180
        },
        "id": "702c05hh-CJX",
        "outputId": "0b118fcc-27c7-472e-c64b-8c64092eb9f0"
      },
      "execution_count": 322,
      "outputs": [
        {
          "output_type": "execute_result",
          "data": {
            "text/plain": [
              "Matrix([\n",
              "[             0.0,  1.6888437030501,              0.0,              0.0,              0.0,              0.0, 1.19419283479092, 1.19419283479092],\n",
              "[ 1.6888437030501,              0.0,              0.0,              0.0,              0.0,              0.0, 1.19419283479092, 1.19419283479092],\n",
              "[             0.0,              0.0, 0.84442185152505, 0.84442185152505,              0.0,              0.0,              0.0,              0.0],\n",
              "[             0.0,              0.0, 0.84442185152505, 0.84442185152505,              0.0,              0.0,              0.0,              0.0],\n",
              "[             0.0,              0.0,              0.0,              0.0, 0.84442185152505, 0.84442185152505,              0.0,              0.0],\n",
              "[             0.0,              0.0,              0.0,              0.0, 0.84442185152505, 0.84442185152505,              0.0,              0.0],\n",
              "[1.19419283479092, 1.19419283479092,              0.0,              0.0,              0.0,              0.0,  1.6888437030501,  1.6888437030501],\n",
              "[1.19419283479092, 1.19419283479092,              0.0,              0.0,              0.0,              0.0,  1.6888437030501,  1.6888437030501]])"
            ],
            "text/latex": "$\\displaystyle \\left[\\begin{matrix}0.0 & 1.6888437030501 & 0.0 & 0.0 & 0.0 & 0.0 & 1.19419283479092 & 1.19419283479092\\\\1.6888437030501 & 0.0 & 0.0 & 0.0 & 0.0 & 0.0 & 1.19419283479092 & 1.19419283479092\\\\0.0 & 0.0 & 0.84442185152505 & 0.84442185152505 & 0.0 & 0.0 & 0.0 & 0.0\\\\0.0 & 0.0 & 0.84442185152505 & 0.84442185152505 & 0.0 & 0.0 & 0.0 & 0.0\\\\0.0 & 0.0 & 0.0 & 0.0 & 0.84442185152505 & 0.84442185152505 & 0.0 & 0.0\\\\0.0 & 0.0 & 0.0 & 0.0 & 0.84442185152505 & 0.84442185152505 & 0.0 & 0.0\\\\1.19419283479092 & 1.19419283479092 & 0.0 & 0.0 & 0.0 & 0.0 & 1.6888437030501 & 1.6888437030501\\\\1.19419283479092 & 1.19419283479092 & 0.0 & 0.0 & 0.0 & 0.0 & 1.6888437030501 & 1.6888437030501\\end{matrix}\\right]$"
          },
          "metadata": {},
          "execution_count": 322
        }
      ]
    },
    {
      "cell_type": "markdown",
      "source": [
        "4. Establezca explícitamente _cuantos_ autovalores son degenerados en valor absoluto."
      ],
      "metadata": {
        "id": "-nS96FGT_SdJ"
      }
    },
    {
      "cell_type": "code",
      "source": [
        "λ"
      ],
      "metadata": {
        "colab": {
          "base_uri": "https://localhost:8080/"
        },
        "id": "53i-0az9_RXW",
        "outputId": "fe1949f8-3ef8-45c0-9bc1-07f0747053a4"
      },
      "execution_count": 323,
      "outputs": [
        {
          "output_type": "execute_result",
          "data": {
            "text/plain": [
              "array([ 8.44421852e-01, -8.44421852e-01,  1.68884370e+00, -1.68884370e+00,\n",
              "        8.69916864e-17, -8.44421852e-01,  8.44421852e-01,  0.00000000e+00])"
            ]
          },
          "metadata": {},
          "execution_count": 323
        }
      ]
    },
    {
      "cell_type": "code",
      "source": [
        "print('autovalores degenerados en valor absoluto', λ[1],λ[3],λ[5])"
      ],
      "metadata": {
        "colab": {
          "base_uri": "https://localhost:8080/"
        },
        "id": "7sxwebwQ_XD0",
        "outputId": "020f535d-8a15-4c02-913f-555f049f48f7"
      },
      "execution_count": 324,
      "outputs": [
        {
          "output_type": "stream",
          "name": "stdout",
          "text": [
            "autovalores degenerados en valor absoluto -0.8444218515250483 -1.6888437030500967 -0.8444218515250477\n"
          ]
        }
      ]
    },
    {
      "cell_type": "code",
      "source": [],
      "metadata": {
        "id": "uWepw08rH9fA"
      },
      "execution_count": null,
      "outputs": []
    }
  ]
}