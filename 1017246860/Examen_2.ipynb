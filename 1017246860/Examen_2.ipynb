{
 "cells": [
  {
   "cell_type": "code",
   "execution_count": 2,
   "id": "15d7c367-54d6-4139-9bed-fd7b7f507c76",
   "metadata": {},
   "outputs": [],
   "source": [
    "import pandas as pd\n",
    "import numpy as np\n",
    "import sympy as sy\n",
    "from scipy import integrate\n",
    "from sympy import oo\n",
    "import math as mt\n",
    "from numpy import linalg"
   ]
  },
  {
   "cell_type": "markdown",
   "id": "998c5780-dd99-4747-8664-007a93962bd6",
   "metadata": {},
   "source": [
    "### Examen número 2: Métodos computacionales \n",
    "A) Para aproximar el valor de la integral se toma las singularidades del integrando, como n = 4 se sustituye el valor\n",
    "$$ \\int_{0}^{\\infty}\\sin(x^4)dx = \\int_{0}^{1}\\sin(x^4) dx + \\int_{1}^{\\infty}\\sin(x^4) dx$$, la primer a integral se resuelve sin ningún inconveniente. \n",
    "\n",
    "Para resolver la segunda integral se quita la singularidad a derecha, cambiando a $x = \\frac{1}{t^{1/4}}$ se deriva y se obtiene $dx = \\frac{-1}{4} t^{-3/4} dt$, reemplazando en la integral se llega a que $$ \\frac{1}{4} \\int_{0}^{1} t^{-3/4} \\sin(\\frac{1}{t}) dx $$ \n",
    "\n",
    "Como ya se tiene una singularidad a izquierda se puede aproximar el integrando y así hallar el valor aproximado:\n"
   ]
  },
  {
   "cell_type": "code",
   "execution_count": 3,
   "id": "13c083c0-4963-4f64-8700-b0fae75b870d",
   "metadata": {},
   "outputs": [
    {
     "name": "stdout",
     "output_type": "stream",
     "text": [
      "El número aleatorio con el número de cédula es  4\n"
     ]
    }
   ],
   "source": [
    "#1. Número entero aleatorio\n",
    "np.random.seed(1017246860)\n",
    "n = np.random.randint(2,20)\n",
    "print(\"El número aleatorio con el número de cédula es \",n)"
   ]
  },
  {
   "cell_type": "code",
   "execution_count": 4,
   "id": "a12a4604-5a83-4c48-89d1-be2b17b16be5",
   "metadata": {},
   "outputs": [
    {
     "name": "stdout",
     "output_type": "stream",
     "text": [
      "El valor con dos cifras significativas de la integral con sympy es 0.35\n"
     ]
    }
   ],
   "source": [
    "#Solución por medio de sympy para validar el resultado\n",
    "x = sy.symbols(\"x\") #Construye la variable independiente\n",
    "#Integrando\n",
    "def sin_(x,n):\n",
    "    \"\"\"\n",
    "    x = variable independiente\n",
    "    n = potencia de x\n",
    "    \"\"\"\n",
    "    s = sy.sin(x**n)\n",
    "    return s\n",
    "#Integración de la expresión en forma simbolica \n",
    "int1 = sy.integrate(sin_(x,n),(x,0,oo))\n",
    "print(f\"El valor con dos cifras significativas de la integral con sympy es {int1.n():.2}\")"
   ]
  },
  {
   "cell_type": "code",
   "execution_count": 5,
   "id": "28315528-18f6-4019-bc61-812b03cd6984",
   "metadata": {},
   "outputs": [
    {
     "name": "stderr",
     "output_type": "stream",
     "text": [
      "/tmp/ipykernel_17450/88170730.py:13: IntegrationWarning: The integral is probably divergent, or slowly convergent.\n",
      "  integral1 = integrate.quad(sin1,0,1)\n",
      "/tmp/ipykernel_17450/88170730.py:19: IntegrationWarning: The integral is probably divergent, or slowly convergent.\n",
      "  integral2 = integrate.quad(sin2,0,1)\n"
     ]
    }
   ],
   "source": [
    "#2. Hallar el valor de la integral con integrate.quad\n",
    "#Se define la primera integral\n",
    "def sin_(t):\n",
    "    s = np.sin(t**4)\n",
    "    return s\n",
    "integral = integrate.quad(sin_,0,1)\n",
    "#============================================================================\n",
    "def sin1(t):\n",
    "    s = ((1/t)-(1/mt.factorial(3))*(1/t**3)) * (t**(-3/4))* 1/4\n",
    "    return s\n",
    "#Primera integral que corresponde al poliniomio de grado 4 de taylor\n",
    "# De la función sin(1/t)\n",
    "integral1 = integrate.quad(sin1,0,1)\n",
    "\n",
    "#============================================================================\n",
    "def sin2(t):\n",
    "    s = (np.sin(1/t)-((1/t)-(1/mt.factorial(3))*(1/t**3)) ) * (t**(-3/4))* 1/4\n",
    "    return s\n",
    "integral2 = integrate.quad(sin2,0,1)\n",
    "#EL valor de la integral es la suma de la integral + integral2\n",
    "inte = integral[0]+integral1[0] + integral2[0]"
   ]
  },
  {
   "cell_type": "code",
   "execution_count": 6,
   "id": "d07862be-00e3-4f1f-be10-95cb108f1c50",
   "metadata": {},
   "outputs": [
    {
     "name": "stdout",
     "output_type": "stream",
     "text": [
      "El valor de la integral con dos cifras significativas es 0.33\n"
     ]
    }
   ],
   "source": [
    "print(f\"El valor de la integral con dos cifras significativas es {inte:.2}\")"
   ]
  },
  {
   "cell_type": "markdown",
   "id": "f86acc67-4a50-490f-ab1f-a7cff89e27c8",
   "metadata": {},
   "source": [
    "B)"
   ]
  },
  {
   "cell_type": "code",
   "execution_count": 7,
   "id": "35fe2a38-28d3-4e53-86ee-4bba483d10f2",
   "metadata": {},
   "outputs": [
    {
     "data": {
      "text/html": [
       "<div>\n",
       "<style scoped>\n",
       "    .dataframe tbody tr th:only-of-type {\n",
       "        vertical-align: middle;\n",
       "    }\n",
       "\n",
       "    .dataframe tbody tr th {\n",
       "        vertical-align: top;\n",
       "    }\n",
       "\n",
       "    .dataframe thead th {\n",
       "        text-align: right;\n",
       "    }\n",
       "</style>\n",
       "<table border=\"1\" class=\"dataframe\">\n",
       "  <thead>\n",
       "    <tr style=\"text-align: right;\">\n",
       "      <th></th>\n",
       "      <th>lista</th>\n",
       "      <th>pares</th>\n",
       "    </tr>\n",
       "  </thead>\n",
       "  <tbody>\n",
       "    <tr>\n",
       "      <th>6</th>\n",
       "      <td>[1, -3, -4, -5, 6, 6, 8, -9]</td>\n",
       "      <td>{'S': 3, 'ψ': [[-3, 6], [-5, 8], [1, -4], [6, ...</td>\n",
       "    </tr>\n",
       "    <tr>\n",
       "      <th>0</th>\n",
       "      <td>[1, 1, 2, 3, -4, -4, -5, 6]</td>\n",
       "      <td>{'S': 2, 'ψ': [[3, -5], [2, -4], [-4, 6], [1, ...</td>\n",
       "    </tr>\n",
       "  </tbody>\n",
       "</table>\n",
       "</div>"
      ],
      "text/plain": [
       "                          lista  \\\n",
       "6  [1, -3, -4, -5, 6, 6, 8, -9]   \n",
       "0   [1, 1, 2, 3, -4, -4, -5, 6]   \n",
       "\n",
       "                                               pares  \n",
       "6  {'S': 3, 'ψ': [[-3, 6], [-5, 8], [1, -4], [6, ...  \n",
       "0  {'S': 2, 'ψ': [[3, -5], [2, -4], [-4, 6], [1, ...  "
      ]
     },
     "execution_count": 7,
     "metadata": {},
     "output_type": "execute_result"
    }
   ],
   "source": [
    "url = \"https://raw.githubusercontent.com/ComputationalMethods/Evaluacion_2022-1/main/data/lista_pares.json\"\n",
    "df = pd.read_json(url)\n",
    "df1 = df.iloc[[6,0]]\n",
    "df1"
   ]
  },
  {
   "cell_type": "code",
   "execution_count": 8,
   "id": "99dd26ec-7210-4bd2-b0a0-8d16111f5496",
   "metadata": {},
   "outputs": [],
   "source": [
    "X = df1[\"pares\"][0][\"ψ\"]"
   ]
  },
  {
   "cell_type": "code",
   "execution_count": 9,
   "id": "17ceaf3b-4f66-424b-870c-e4146200d8b7",
   "metadata": {},
   "outputs": [],
   "source": [
    "Y = df[\"pares\"][6][\"ψ\"]"
   ]
  },
  {
   "cell_type": "code",
   "execution_count": 10,
   "id": "35da937c-2720-4881-8932-e0888fbb945b",
   "metadata": {},
   "outputs": [],
   "source": [
    "vol = np.random.random(14)"
   ]
  },
  {
   "cell_type": "code",
   "execution_count": 11,
   "id": "7a234913-8435-4a96-8e67-643d1cf93a99",
   "metadata": {},
   "outputs": [],
   "source": [
    "F = [[vol[0],0,vol[1],0,0,0,0,0],\n",
    "    [vol[2],0,vol[3],0,0,0,0,0],\n",
    "    [0,0,vol[4],0,0,0,0,0],\n",
    "    [0,0,0,vol[5],0,0,0,0],\n",
    "    [vol[6],0,0,0,vol[7],0,0,0],\n",
    "    [vol[8],0,0,0,vol[9],0,0,0],\n",
    "    [0,0,0,0,0,0,vol[10],0],\n",
    "    [0,vol[11],vol[12],0,0,0,0,vol[13]]]"
   ]
  },
  {
   "cell_type": "code",
   "execution_count": 12,
   "id": "56655ae0-d8e6-4a70-ba7a-2083a4be85c2",
   "metadata": {},
   "outputs": [],
   "source": [
    "au, ve = linalg.eig(F)"
   ]
  },
  {
   "cell_type": "code",
   "execution_count": 13,
   "id": "9af6e84f-7599-438b-9eb2-fbac76ec928d",
   "metadata": {},
   "outputs": [
    {
     "data": {
      "text/latex": [
       "$\\displaystyle \\left[\\begin{matrix}0 & 0 & 0 & 0 & 0 & 0 & 0 & 0\\\\0 & 0.00045638562941086 & 0 & 0 & 0 & 0 & 0 & 0\\\\0 & 0 & 0.413399129343271 & 0 & 0 & 0 & 0 & 0\\\\0 & 0 & 0 & 0 & 0 & 0 & 0 & 0\\\\0 & 0 & 0 & 0 & 0.304279784678113 & 0 & 0 & 0\\\\0 & 0 & 0 & 0 & 0 & 0.839808022445074 & 0 & 0\\\\0 & 0 & 0 & 0 & 0 & 0 & 0.595799463969889 & 0\\\\0 & 0 & 0 & 0 & 0 & 0 & 0 & 0.705412867263905\\end{matrix}\\right]$"
      ],
      "text/plain": [
       "Matrix([\n",
       "[0,                   0,                 0, 0,                 0,                 0,                 0,                 0],\n",
       "[0, 0.00045638562941086,                 0, 0,                 0,                 0,                 0,                 0],\n",
       "[0,                   0, 0.413399129343271, 0,                 0,                 0,                 0,                 0],\n",
       "[0,                   0,                 0, 0,                 0,                 0,                 0,                 0],\n",
       "[0,                   0,                 0, 0, 0.304279784678113,                 0,                 0,                 0],\n",
       "[0,                   0,                 0, 0,                 0, 0.839808022445074,                 0,                 0],\n",
       "[0,                   0,                 0, 0,                 0,                 0, 0.595799463969889,                 0],\n",
       "[0,                   0,                 0, 0,                 0,                 0,                 0, 0.705412867263905]])"
      ]
     },
     "execution_count": 13,
     "metadata": {},
     "output_type": "execute_result"
    }
   ],
   "source": [
    "AS = np.abs(np.diag(au))\n",
    "sy.Matrix(AS)"
   ]
  },
  {
   "cell_type": "code",
   "execution_count": null,
   "id": "88d67d69-f3c6-4982-9dea-0620a3dbd948",
   "metadata": {},
   "outputs": [],
   "source": []
  },
  {
   "cell_type": "code",
   "execution_count": 14,
   "id": "2f58b43a-cf82-42ce-82a8-3e926ca49e86",
   "metadata": {},
   "outputs": [],
   "source": [
    "vol = np.random.random(16)\n",
    "#Matriz resultante es:\n",
    "M = [[vol[0],0,vol[1],0,0,0,0,0],\n",
    "    [vol[2],0,vol[3],0,0,0,0,0],\n",
    "    [0,0,vol[4],0,0,0,0,0],\n",
    "    [0,0,0,vol[5],0,0,0,0],\n",
    "    [vol[6],0,0,0,vol[7],vol[8],0,0],\n",
    "    [vol[9],0,0,0,vol[10],vol[11],0,0],\n",
    "    [0,0,0,0,0,0,vol[12],0],\n",
    "    [0,vol[13],vol[14],0,0,0,0,vol[15]]]"
   ]
  },
  {
   "cell_type": "code",
   "execution_count": 15,
   "id": "a85b201f-7090-450e-9b64-581a4ff194b7",
   "metadata": {},
   "outputs": [
    {
     "data": {
      "text/latex": [
       "$\\displaystyle \\left[\\begin{matrix}0.401250845864948 & 0 & 0.38765432963766 & 0 & 0 & 0 & 0 & 0\\\\0.10476559539894 & 0 & 0.793515584397239 & 0 & 0 & 0 & 0 & 0\\\\0 & 0 & 0.95205730222564 & 0 & 0 & 0 & 0 & 0\\\\0 & 0 & 0 & 0.975486242995909 & 0 & 0 & 0 & 0\\\\0.17173247750306 & 0 & 0 & 0 & 0.106582408832784 & 0.747197738934243 & 0 & 0\\\\0.568329599487119 & 0 & 0 & 0 & 0.259074908205964 & 0.547761272448877 & 0 & 0\\\\0 & 0 & 0 & 0 & 0 & 0 & 0.51028623936461 & 0\\\\0 & 0.407430718419754 & 0.380446263761757 & 0 & 0 & 0 & 0 & 0.683103529526245\\end{matrix}\\right]$"
      ],
      "text/plain": [
       "Matrix([\n",
       "[0.401250845864948,                 0,  0.38765432963766,                 0,                 0,                 0,                0,                 0],\n",
       "[ 0.10476559539894,                 0, 0.793515584397239,                 0,                 0,                 0,                0,                 0],\n",
       "[                0,                 0,  0.95205730222564,                 0,                 0,                 0,                0,                 0],\n",
       "[                0,                 0,                 0, 0.975486242995909,                 0,                 0,                0,                 0],\n",
       "[ 0.17173247750306,                 0,                 0,                 0, 0.106582408832784, 0.747197738934243,                0,                 0],\n",
       "[0.568329599487119,                 0,                 0,                 0, 0.259074908205964, 0.547761272448877,                0,                 0],\n",
       "[                0,                 0,                 0,                 0,                 0,                 0, 0.51028623936461,                 0],\n",
       "[                0, 0.407430718419754, 0.380446263761757,                 0,                 0,                 0,                0, 0.683103529526245]])"
      ]
     },
     "execution_count": 15,
     "metadata": {},
     "output_type": "execute_result"
    }
   ],
   "source": [
    "sy.Matrix(M)"
   ]
  },
  {
   "cell_type": "code",
   "execution_count": 16,
   "id": "57d4a453-7ddf-43e3-a0a9-23d89b202079",
   "metadata": {},
   "outputs": [],
   "source": [
    "auto, eing = linalg.eig(M)"
   ]
  },
  {
   "cell_type": "code",
   "execution_count": 17,
   "id": "f4a9591b-fa6f-4404-8a3c-31db1d8206bf",
   "metadata": {},
   "outputs": [
    {
     "data": {
      "text/latex": [
       "$\\displaystyle \\left[\\begin{matrix}0.165006869840931 & 0 & 0 & 0 & 0 & 0 & 0 & 0\\\\0 & 0 & 0 & 0 & 0 & 0 & 0 & 0\\\\0 & 0 & 0.401250845864948 & 0 & 0 & 0 & 0 & 0\\\\0 & 0 & 0 & 0.51028623936461 & 0 & 0 & 0 & 0\\\\0 & 0 & 0 & 0 & 0.683103529526245 & 0 & 0 & 0\\\\0 & 0 & 0 & 0 & 0 & 0.819350551122592 & 0 & 0\\\\0 & 0 & 0 & 0 & 0 & 0 & 0.95205730222564 & 0\\\\0 & 0 & 0 & 0 & 0 & 0 & 0 & 0.975486242995909\\end{matrix}\\right]$"
      ],
      "text/plain": [
       "Matrix([\n",
       "[0.165006869840931, 0,                 0,                0,                 0,                 0,                0,                 0],\n",
       "[                0, 0,                 0,                0,                 0,                 0,                0,                 0],\n",
       "[                0, 0, 0.401250845864948,                0,                 0,                 0,                0,                 0],\n",
       "[                0, 0,                 0, 0.51028623936461,                 0,                 0,                0,                 0],\n",
       "[                0, 0,                 0,                0, 0.683103529526245,                 0,                0,                 0],\n",
       "[                0, 0,                 0,                0,                 0, 0.819350551122592,                0,                 0],\n",
       "[                0, 0,                 0,                0,                 0,                 0, 0.95205730222564,                 0],\n",
       "[                0, 0,                 0,                0,                 0,                 0,                0, 0.975486242995909]])"
      ]
     },
     "execution_count": 17,
     "metadata": {},
     "output_type": "execute_result"
    }
   ],
   "source": [
    "#autovalores\n",
    "(auto).sort()\n",
    "as1 = np.abs(np.diag(auto))\n",
    "sy.Matrix(as1)"
   ]
  },
  {
   "cell_type": "code",
   "execution_count": 20,
   "id": "4743b97a-96c1-4f12-903e-04517f376cbc",
   "metadata": {},
   "outputs": [
    {
     "data": {
      "text/latex": [
       "$\\displaystyle \\left[\\begin{matrix}0 & 0 & 0 & 0 & 0 & 0 & 0.150566682450476 & 0.45363477890515\\\\0 & 0 & 0 & 0 & 0 & 0.118442909704571 & 0.194878523178021 & 0.858838612387873\\\\0 & 0 & 0 & 0 & 0 & 0 & 0 & 0.213935701128502\\\\0 & 0 & 0 & 0 & 0 & 0 & 0 & 1.0\\\\0.939841482821628 & 0.765460179396571 & 0.723580927690316 & 0 & 0 & 0 & 0 & 0.501833580451693\\\\0.690239553403615 & 0.406131822038059 & 0 & 0 & 0 & 0 & 0.341610870974041 & 0.5332330155268\\\\0 & 0 & 0 & 0 & 0 & 0 & 0 & 1.0\\\\0.512246266820632 & 0.17121454784745 & 0 & 0 & 0 & 0 & 0.597837067942175 & 1.0\\end{matrix}\\right]$"
      ],
      "text/plain": [
       "Matrix([\n",
       "[                0,                 0,                 0, 0, 0,                 0, 0.150566682450476,  0.45363477890515],\n",
       "[                0,                 0,                 0, 0, 0, 0.118442909704571, 0.194878523178021, 0.858838612387873],\n",
       "[                0,                 0,                 0, 0, 0,                 0,                 0, 0.213935701128502],\n",
       "[                0,                 0,                 0, 0, 0,                 0,                 0,               1.0],\n",
       "[0.939841482821628, 0.765460179396571, 0.723580927690316, 0, 0,                 0,                 0, 0.501833580451693],\n",
       "[0.690239553403615, 0.406131822038059,                 0, 0, 0,                 0, 0.341610870974041,   0.5332330155268],\n",
       "[                0,                 0,                 0, 0, 0,                 0,                 0,               1.0],\n",
       "[0.512246266820632,  0.17121454784745,                 0, 0, 0,                 0, 0.597837067942175,               1.0]])"
      ]
     },
     "execution_count": 20,
     "metadata": {},
     "output_type": "execute_result"
    }
   ],
   "source": [
    "#Autovectores\n",
    "eing.sort()\n",
    "as2 = np.abs(eing)\n",
    "sy.Matrix(as2)"
   ]
  },
  {
   "cell_type": "markdown",
   "id": "b488d7b7-e24e-4edb-af91-61c5233c6e66",
   "metadata": {},
   "source": [
    "La matriz no me generó valores propios degenerados"
   ]
  },
  {
   "cell_type": "code",
   "execution_count": null,
   "id": "0a0a079b-cb21-4de5-8925-f4b136e8a434",
   "metadata": {},
   "outputs": [],
   "source": []
  }
 ],
 "metadata": {
  "kernelspec": {
   "display_name": "Python 3 (ipykernel)",
   "language": "python",
   "name": "python3"
  },
  "language_info": {
   "codemirror_mode": {
    "name": "ipython",
    "version": 3
   },
   "file_extension": ".py",
   "mimetype": "text/x-python",
   "name": "python",
   "nbconvert_exporter": "python",
   "pygments_lexer": "ipython3",
   "version": "3.9.12"
  }
 },
 "nbformat": 4,
 "nbformat_minor": 5
}
