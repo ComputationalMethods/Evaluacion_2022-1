{
  "cells": [
    {
      "cell_type": "markdown",
      "id": "a3f0c1b2-a69e-4149-b747-97a5863134d9",
      "metadata": {
        "id": "a3f0c1b2-a69e-4149-b747-97a5863134d9"
      },
      "source": [
        "# Examen 2: Métodos computacionales\n",
        "A)\n",
        "1. Usando su número de cédula cómo semilla, obtenga un numero entero aleatorio, $n$, entre 2 y 20.\n",
        "2. Usando el $n$ obtenido, haga una estimación de la siguiente integral hasta dos cifras significativas, usando el método `quad` del módulo `integrate` de Scipy\n",
        "$$\n",
        "\\int_0^\\infty \\sin(x^n)\\operatorname{d}x\n",
        "$$\n",
        "Sugerencia. Compare con el valor obtenido desde https://www.wolframalpha.com/ o [sympy](https://stackoverflow.com/questions/65862611/integration-of-sin-x-dx-problem-in-python-programming-implementation)"
      ]
    },
    {
      "cell_type": "code",
      "execution_count": null,
      "id": "62cbc669-9ed6-4f54-b4c9-5ac10f7c15d6",
      "metadata": {
        "id": "62cbc669-9ed6-4f54-b4c9-5ac10f7c15d6",
        "outputId": "16e95e48-8056-4e5c-bf1b-1e60ae0c06cf",
        "colab": {
          "base_uri": "https://localhost:8080/"
        }
      },
      "outputs": [
        {
          "output_type": "stream",
          "name": "stdout",
          "text": [
            "El valor de n es = 11\n",
            "El resultado aproximado de la integral es = 0.14 \n",
            "\n",
            "\n"
          ]
        },
        {
          "output_type": "stream",
          "name": "stderr",
          "text": [
            "/usr/local/lib/python3.7/dist-packages/ipykernel_launcher.py:13: IntegrationWarning: The maximum number of subdivisions (50) has been achieved.\n",
            "  If increasing the limit yields no improvement it is advised to analyze \n",
            "  the integrand in order to determine the difficulties.  If the position of a \n",
            "  local difficulty can be determined (singularity, discontinuity) one will \n",
            "  probably gain from splitting up the interval and calling the integrator \n",
            "  on the subranges.  Perhaps a special-purpose integrator should be used.\n",
            "  del sys.path[0]\n"
          ]
        }
      ],
      "source": [
        "#Tomás Isaza Roldán CC 1036951049\n",
        "#Primer punto\n",
        "\n",
        "import numpy as np                               #Importamos librerias \n",
        "import scipy.integrate as integrate \n",
        "\n",
        "np.random.seed(1036951049)                       #Introducimos la semilla\n",
        "n=np.random.randint(2,20)\n",
        "print(f'El valor de n es =',n)\n",
        "\n",
        "f=lambda y: np.sin(y)/(n*y**(1-1/n))             #Hacemos el cambio de variable y=x**n, por tanto la integral \n",
        "                                                 #Queda modificada pero los limites de integracion son iguales\n",
        "res=integrate.quad(f,0,1000)[0]             \n",
        "result=round(res,2)     \n",
        "print(f'El resultado aproximado de la integral es =',result,'\\n\\n')             #Utilizamos el método de la libreria Scipy y lo redondeamos a 2 cifras\n",
        "                                                                                #Según Wolfram Alpha el resultado es 0.1359, por lo que el resultado hallado (0.14) es bueno\n",
        "                                                                                #Utilizamos un valor de 1000 en vez de infinito como una buena aproximacion para la integral"
      ]
    },
    {
      "cell_type": "markdown",
      "id": "0949b7a5-6d81-4e98-adc7-a7a1867266a3",
      "metadata": {
        "id": "0949b7a5-6d81-4e98-adc7-a7a1867266a3"
      },
      "source": [
        "B) Cargue los datos disponibles en:\n",
        "\n",
        "https://raw.githubusercontent.com/ComputationalMethods/Evaluacion_2022-1/main/data/lista_pares.json\n",
        "\n",
        "como un DataFrame de pandas. Este contendrá dos columnas. La columna `lista`, con una lista de 8 enteros (algunos de ellos repetidos) y una columna `pares` correspondiente a un diccionario\n",
        "con dos items: un entero rotulado con `'S'` y una lista de pares de enteros routulada con `'ψ'`. Note que el resultado de la suma en valor absoluto de los dos enteros en cada uno de los pares reproduce el valor del correspondiente `'S'` \n",
        "\n",
        "Seleccione la fila del DataFrame con el índice correspondiente a los dos últimos dígitos de su cédula y desarrolle los siguientes puntos con la correspondiente  `lista` y `pares`:\n",
        "1. Construya una matrix $8\\times 8$ _simétrica_ donde cada fila y la correspondiente columna correspondan a un entero de la `lista` (incluyendo los repetidos); de manera que en los cruces de filas y columnas definidos por los pares de enteros de `'ψ'`, se genere una entrada aleatoria mayor que cero y menor o igual que 1, con las demas entradas iguales a cero.\n",
        "1. Calcule el determinante y establezca explícitamente si es diferente cero (tenga en cuenta la precisión numérica). Recuerde que si el determinante es cero, se espera que al menos uno de los autovalores sea cero\n",
        "2. Organize los autovalores y autovectores de menor a mayor en valor absoluto y compruebe que las matriz de autovectores organizada da lugar a los autovalores en el orden correcto. \n",
        "3. Establezca explícitamente _cuantos_ autovalores son degenerados en valor absoluto."
      ]
    },
    {
      "cell_type": "code",
      "execution_count": null,
      "id": "2df48495-196b-4fa4-8206-466cd33658e2",
      "metadata": {
        "id": "2df48495-196b-4fa4-8206-466cd33658e2",
        "outputId": "d3d22b5d-59da-451a-beb1-ef7fa68cb793",
        "colab": {
          "base_uri": "https://localhost:8080/",
          "height": 457
        }
      },
      "outputs": [
        {
          "output_type": "stream",
          "name": "stdout",
          "text": [
            "El determinante es = 6254728.585602594 \n",
            "\n",
            "\n",
            "Los autovalores son (8 diferentes) =\n",
            "\n",
            " [[  2.91008336]\n",
            " [ 13.08991664]\n",
            " [ -4.90840351]\n",
            " [-11.09159649]\n",
            " [  8.93167906]\n",
            " [  7.06832094]\n",
            " [-12.0282757 ]\n",
            " [ -3.9717243 ]] \n",
            "\n",
            "\n"
          ]
        },
        {
          "output_type": "execute_result",
          "data": {
            "text/plain": [
              "Matrix([\n",
              "[              3.0,               0.0,               0.0,               0.0,               0.0,               0.0,               0.0, 0.952497431773694],\n",
              "[              0.0,              -4.0,               0.0,               0.0,               0.0,               0.0, 0.476450515850907,               0.0],\n",
              "[              0.0,               0.0,              -5.0,               0.0,               0.0, 0.746973113513956,               0.0,               0.0],\n",
              "[              0.0,               0.0,               0.0,               8.0, 0.931679062868059,               0.0,               0.0,               0.0],\n",
              "[              0.0,               0.0,               0.0, 0.931679062868059,               8.0,               0.0,               0.0,               0.0],\n",
              "[              0.0,               0.0, 0.746973113513956,               0.0,               0.0,             -11.0,               0.0,               0.0],\n",
              "[              0.0, 0.476450515850907,               0.0,               0.0,               0.0,               0.0,             -12.0,               0.0],\n",
              "[0.952497431773694,               0.0,               0.0,               0.0,               0.0,               0.0,               0.0,              13.0]])"
            ],
            "text/latex": "$\\displaystyle \\left[\\begin{matrix}3.0 & 0.0 & 0.0 & 0.0 & 0.0 & 0.0 & 0.0 & 0.952497431773694\\\\0.0 & -4.0 & 0.0 & 0.0 & 0.0 & 0.0 & 0.476450515850907 & 0.0\\\\0.0 & 0.0 & -5.0 & 0.0 & 0.0 & 0.746973113513956 & 0.0 & 0.0\\\\0.0 & 0.0 & 0.0 & 8.0 & 0.931679062868059 & 0.0 & 0.0 & 0.0\\\\0.0 & 0.0 & 0.0 & 0.931679062868059 & 8.0 & 0.0 & 0.0 & 0.0\\\\0.0 & 0.0 & 0.746973113513956 & 0.0 & 0.0 & -11.0 & 0.0 & 0.0\\\\0.0 & 0.476450515850907 & 0.0 & 0.0 & 0.0 & 0.0 & -12.0 & 0.0\\\\0.952497431773694 & 0.0 & 0.0 & 0.0 & 0.0 & 0.0 & 0.0 & 13.0\\end{matrix}\\right]$"
          },
          "metadata": {},
          "execution_count": 11
        }
      ],
      "source": [
        "#Tomás Isaza Roldán CC 1036951049\n",
        "#Segundo punto\n",
        "\n",
        "from urllib.request import urlopen                #Importamos librerias \n",
        "import json\n",
        "import pandas as pd\n",
        "import numpy as np\n",
        "import sympy as sp\n",
        "\n",
        "url = 'https://raw.githubusercontent.com/ComputationalMethods/Evaluacion_2022-1/main/data/lista_pares.json'\n",
        "resp = urlopen(url)\n",
        "data_json = json.loads(resp.read())               #Cargamos el archivo\n",
        "\n",
        "df=pd.DataFrame(data_json)                        #Creamos el DataFrame y localizamos los datos a utilizar\n",
        "df2=df.iloc[49]\n",
        "df3=df2[0]\n",
        "\n",
        "n=len(df3)                                        #Definimos la longitud de la matriz y creamos una matriz de ceros para llenar en el ciclo for\n",
        "matriz=np.zeros((n,n))\n",
        "for i in range(n):\n",
        "  matriz[i][i]=df3[i]                             #Llenamos las diagonales y los lugares de la matriz donde se cumple la conddición pedida con los mismos valores\n",
        "  matriz[i][i]=df3[i]\n",
        "  matriz[i][n-i-1]=matriz[n-i-1][i]=np.random.random()           \n",
        "\n",
        "matriz2=sp.Matrix(matriz)                         #Graficamos la matriz e imprimimos el determinante, los autovalores y autofunciones con ayuda linalg de numpy\n",
        "det=np.linalg.det(matriz)\n",
        "eigval=np.linalg.eigvals(matriz)\n",
        "eigvec=np.linalg.eig(matriz)\n",
        "print(f'El determinante es =',det, '\\n\\n')\n",
        "print(f'Los autovalores son (8 diferentes) =\\n\\n',np.c_[eigval], '\\n\\n')\n",
        "matriz2"
      ]
    }
  ],
  "metadata": {
    "kernelspec": {
      "display_name": "Python 3 (ipykernel)",
      "language": "python",
      "name": "python3"
    },
    "language_info": {
      "codemirror_mode": {
        "name": "ipython",
        "version": 3
      },
      "file_extension": ".py",
      "mimetype": "text/x-python",
      "name": "python",
      "nbconvert_exporter": "python",
      "pygments_lexer": "ipython3",
      "version": "3.9.2"
    },
    "colab": {
      "provenance": []
    }
  },
  "nbformat": 4,
  "nbformat_minor": 5
}