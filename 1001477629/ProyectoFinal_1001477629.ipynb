{
  "cells": [
    {
      "cell_type": "markdown",
      "source": [
        "El código resuelve un sistema de ecuaciones lineales homogéneas 2x2 de la forma:\n",
        "\n",
        "$$ \\frac{dx_1}{dt}= ax_1 + bx_2 $$\n",
        "\n",
        "\n",
        "$$ \\frac{dx_2}{dt}= cx_1 + dx_2 $$\n",
        "\n",
        "reescrito de la forma:\n",
        "\n",
        "$$ X' = AX $$\n",
        "\n",
        "Donde: \n",
        "\\begin{align}\n",
        "\\boldsymbol{X}=\\begin{bmatrix}\n",
        "x_1\\\\\n",
        "x_2\\\\\n",
        "\\end{bmatrix}\n",
        "\\end{align}\n",
        " \n",
        "\n",
        "\\begin{align}\n",
        "\\boldsymbol{A}=\\begin{bmatrix}\n",
        "a & b\\\\\n",
        "c & d\\\\\n",
        "\\end{bmatrix}\n",
        "\\end{align}\n",
        "Con condiciones iniciales:\n",
        "$$ x_1(t_1) = x_1 $$\n",
        "$$ x_2(t_2) = x_2 $$"
      ],
      "metadata": {
        "id": "wOZLltoF3OtI"
      },
      "id": "wOZLltoF3OtI"
    },
    {
      "cell_type": "markdown",
      "source": [
        "La entrada consta de la matriz A escrita en dos arreglos:\n",
        "\n",
        "$$ a,b $$\n",
        "$$ c,d $$\n",
        "\n",
        "y las condiciones iniciales escritas en dos arreglos:\n",
        "\n",
        "$$t_1,t_2$$\n",
        "$$x_1,x_2$$\n"
      ],
      "metadata": {
        "id": "613QX-SO4RdO"
      },
      "id": "613QX-SO4RdO"
    },
    {
      "cell_type": "markdown",
      "source": [
        "Recordar que existen 3 tipos de soluciones dependiendo de los autovalores de A:\n",
        "\n",
        "i) Autovalores reales distintos:\n",
        "\n",
        "![Real.png](data:image/png;base64,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)\n",
        "\n",
        "ii) Autovalores repetidos:\n",
        "\n",
        "![Repetidos.png](data:image/png;base64,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)\n",
        "\n",
        "iii) Autovalores complejos:\n",
        "\n",
        "![Complejos.png](data:image/png;base64,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)"
      ],
      "metadata": {
        "id": "Ugvn7SyLJbXH"
      },
      "id": "Ugvn7SyLJbXH"
    },
    {
      "cell_type": "markdown",
      "source": [
        "Para obtener soluciones de la forma i) se puede usar la matriz:\n",
        "\n",
        "\\begin{align}\n",
        "\\boldsymbol{A}=\\begin{bmatrix}\n",
        "2 & 3\\\\\n",
        "2 & 1\\\\\n",
        "\\end{bmatrix}\n",
        "\\end{align}\n",
        "\n",
        "Para obtener soluciones de la forma ii) se puede usar la matriz:\n",
        "\n",
        "\\begin{align}\n",
        "\\boldsymbol{A}=\\begin{bmatrix}\n",
        "3 & -18\\\\\n",
        "2 & -9\\\\\n",
        "\\end{bmatrix}\n",
        "\\end{align}\n",
        "\n",
        "Para obtener soluciones de la forma iii) se puede usar la matriz:\n",
        "\n",
        "\\begin{align}\n",
        "\\boldsymbol{A}=\\begin{bmatrix}\n",
        "6 & -1\\\\\n",
        "5 & 4\\\\\n",
        "\\end{bmatrix}\n",
        "\\end{align}"
      ],
      "metadata": {
        "id": "HpuJxpM5NfIG"
      },
      "id": "HpuJxpM5NfIG"
    },
    {
      "cell_type": "code",
      "execution_count": 64,
      "id": "5d3f9cba-adad-4701-b295-a1955c625939",
      "metadata": {
        "colab": {
          "base_uri": "https://localhost:8080/",
          "height": 150
        },
        "id": "5d3f9cba-adad-4701-b295-a1955c625939",
        "outputId": "003f76ac-06b2-4f6f-b5ad-52869c3bf684"
      },
      "outputs": [
        {
          "output_type": "stream",
          "name": "stdout",
          "text": [
            "Escriba los coeficientes de la fila 1 separados por comas: dx1/dt = a0,a1,...,an-1\n",
            "6,-1\n",
            "Escriba los coeficientes de la fila 2 separados por comas: dx2/dt = a0,a1,...,an-1\n",
            "5,4\n",
            "La matriz del sistema es:\n"
          ]
        },
        {
          "output_type": "execute_result",
          "data": {
            "text/plain": [
              "Matrix([\n",
              "[6.0, -1.0],\n",
              "[5.0,  4.0]])"
            ],
            "text/latex": "$\\displaystyle \\left[\\begin{matrix}6.0 & -1.0\\\\5.0 & 4.0\\end{matrix}\\right]$"
          },
          "metadata": {},
          "execution_count": 64
        }
      ],
      "source": [
        "import numpy as np\n",
        "import sympy as sp\n",
        "\n",
        "x=sp.Function('x')\n",
        "y=sp.Function('y')\n",
        "t=sp.Symbol('t')\n",
        "e=sp.Symbol('e')\n",
        "cos=sp.Function('cos')\n",
        "sin=sp.Function('sin')\n",
        "\n",
        "def rep(x):\n",
        "    lista=[]\n",
        "    for i in range(len(x)-1,-1,-1):\n",
        "        for j in range(len(x)-1,-1,-1):\n",
        "            if i!=j:\n",
        "                if x[i]==x[j] and j not in lista:\n",
        "                    lista.append(j)\n",
        "    for i in lista:\n",
        "        for j in lista:\n",
        "            if x[i]==x[j]:\n",
        "                lista.remove(j)\n",
        "    return lista\n",
        "\n",
        "Up=[]\n",
        "for i in range(0,2):\n",
        "    print(\"Escriba los coeficientes de la fila \"+str(i+1)+\" separados por comas: dx\"+str(i+1)+\"/dt = a0,a1,...,an-1\")\n",
        "    xip=input()\n",
        "    xip=xip.split(\",\")\n",
        "    for j in range(0,len(xip)):\n",
        "        xip[j]=float(xip[j])\n",
        "    Up.append(xip)\n",
        "Up=np.array(Up)\n",
        "print('La matriz del sistema es:')\n",
        "id=np.identity(2)\n",
        "Z=sp.Matrix(Up)\n",
        "Z"
      ]
    },
    {
      "cell_type": "code",
      "execution_count": 65,
      "id": "bbceb249-d728-4244-812e-a424b5dd0667",
      "metadata": {
        "tags": [],
        "colab": {
          "base_uri": "https://localhost:8080/"
        },
        "id": "bbceb249-d728-4244-812e-a424b5dd0667",
        "outputId": "e175bd9d-2423-452c-e5c0-bf6f0ca8fa7a"
      },
      "outputs": [
        {
          "output_type": "stream",
          "name": "stdout",
          "text": [
            "Ecriba las condiciones iniciales en la variable independiente separadas por coma: t01,t02\n",
            "1,1\n",
            "Ecriba las condiciones iniciales en la variable dependiente separadas por coma: x1(t01),x2(t02)\n",
            "1,1\n",
            "La solución general es:\n",
            "x1=\n",
            "e**(5.0*t)*(0.0001037694*sin(2.0*t) + 0.0002075389*cos(2.0*t)) + e**(5.0*t)*(0.0060230284*sin(2.0*t) - 0.0030115142*cos(2.0*t))\n",
            "x2=\n",
            "0.0005188472*e**(5.0*t)*sin(2.0*t) - 0.0150575711*e**(5.0*t)*cos(2.0*t)\n"
          ]
        }
      ],
      "source": [
        "print(\"Ecriba las condiciones iniciales en la variable independiente separadas por coma: t01,t02\")\n",
        "xip=input()\n",
        "xip=xip.split(\",\")\n",
        "for j in range(0,len(xip)):\n",
        "    xip[j]=float(xip[j])\n",
        "Xo=np.array(xip)\n",
        "\n",
        "print(\"Ecriba las condiciones iniciales en la variable dependiente separadas por coma: x1(t01),x2(t02)\")\n",
        "yip=input()\n",
        "yip=yip.split(\",\")\n",
        "for j in range(0,len(yip)):\n",
        "    yip[j]=float(yip[j])\n",
        "Yo=np.array(yip)\n",
        "v,V=np.linalg.eig(Up)\n",
        "Ec=Up-id*v[0].real\n",
        "M=[]\n",
        "av=rep(v.real)\n",
        "for j in range(2):\n",
        "    res=np.array([])\n",
        "    if isinstance(v[j],complex) and abs(v[j].imag)>=1e-6:\n",
        "        a=round(v[0].real,5)\n",
        "        b=abs(v[0].imag)\n",
        "        A=V[:,0].real\n",
        "        B=V[:,0].imag\n",
        "        to=Xo[j]\n",
        "        res=np.append(res,(A[j]*np.cos(b*to)-B[j]*np.sin(b*to))*np.exp(a*to))\n",
        "        res=np.append(res,(B[j]*np.cos(b*to)+A[j]*np.sin(b*to))*np.exp(a*to))\n",
        "    else:\n",
        "        for i in range(2):\n",
        "            if i in av and all(np.round(V[:,i-1].real,9)==np.round(V[:,i].real,9)):\n",
        "                Ec=Up-id*v[j]\n",
        "                try:\n",
        "                    P=np.linalg.solve(Ec.real, np.round(V[:,j].real,9))\n",
        "                except:\n",
        "                    p2=0\n",
        "                    p1=V[:,j][0]/Ec[0][0]\n",
        "                    P=np.array([p1,p2]).real\n",
        "                \n",
        "                to=Xo[j]\n",
        "                res=np.append(res,P[j]*np.exp(v[i]*to)*to+V[:,i][j]*np.exp(v[i]*to))\n",
        "            else:\n",
        "                to=Xo[j]\n",
        "                res=np.append(res,V[:,i][j]*np.exp(v[i]*to))\n",
        "    M.append(res)\n",
        "        \n",
        "M=np.array(M)\n",
        "M=M.real\n",
        "C=np.linalg.solve(M, Yo)\n",
        "\n",
        "sol=[]\n",
        "print(\"La solución general es:\")\n",
        "for j in range(2):\n",
        "    res=0\n",
        "    if isinstance(v[j],complex) and abs(v[j].imag)>=1e-5:\n",
        "            res+=(round(C[0]*A[j],10)*cos(b*t)-round(C[0]*B[j],10)*sin(b*t))*e**(a*t)\n",
        "            res+=(round(C[1]*B[j],10)*cos(b*t)+round(C[1]*A[j],10)*sin(b*t))*e**(a*t)\n",
        "    else:\n",
        "        for i in range(2):\n",
        "            if i in av and all(np.round(V[:,i-1].real,9)==np.round(V[:,i].real,9)):\n",
        "                res+=round(C[i]*P[j].real,10)*t*e**(v[i].real*t)+round(C[i]*V[:,i][j].real,10)*e**(v[i].real*t)\n",
        "            else:\n",
        "                res+=round(C[i]*V[:,i][j].real,10)*e**(v[i].real*t)\n",
        "    sol.append(res)\n",
        "for i in range(len(sol)):\n",
        "    print(\"x\"+str(i+1)+\"=\")\n",
        "    print(sol[i])"
      ]
    },
    {
      "cell_type": "code",
      "execution_count": 66,
      "id": "36175ee9-a64d-4ef8-b13d-aa217a345533",
      "metadata": {
        "colab": {
          "base_uri": "https://localhost:8080/",
          "height": 57
        },
        "id": "36175ee9-a64d-4ef8-b13d-aa217a345533",
        "outputId": "c6732e56-ac1a-4d03-9265-b2624889d49c"
      },
      "outputs": [
        {
          "output_type": "stream",
          "name": "stdout",
          "text": [
            "x1=\n"
          ]
        },
        {
          "output_type": "execute_result",
          "data": {
            "text/plain": [
              "e**(5.0*t)*(0.0001037694*sin(2.0*t) + 0.0002075389*cos(2.0*t)) + e**(5.0*t)*(0.0060230284*sin(2.0*t) - 0.0030115142*cos(2.0*t))"
            ],
            "text/latex": "$\\displaystyle e^{5.0 t} \\left(0.0001037694 \\sin{\\left(2.0 t \\right)} + 0.0002075389 \\cos{\\left(2.0 t \\right)}\\right) + e^{5.0 t} \\left(0.0060230284 \\sin{\\left(2.0 t \\right)} - 0.0030115142 \\cos{\\left(2.0 t \\right)}\\right)$"
          },
          "metadata": {},
          "execution_count": 66
        }
      ],
      "source": [
        "print(\"x1=\")\n",
        "sol[0]"
      ]
    },
    {
      "cell_type": "code",
      "execution_count": 67,
      "id": "9dd873d1-b91b-459a-b293-3d40173920e7",
      "metadata": {
        "colab": {
          "base_uri": "https://localhost:8080/",
          "height": 57
        },
        "id": "9dd873d1-b91b-459a-b293-3d40173920e7",
        "outputId": "9faa6957-a40b-49cd-9406-f0e32ec9e45f"
      },
      "outputs": [
        {
          "output_type": "stream",
          "name": "stdout",
          "text": [
            "x2=\n"
          ]
        },
        {
          "output_type": "execute_result",
          "data": {
            "text/plain": [
              "0.0005188472*e**(5.0*t)*sin(2.0*t) - 0.0150575711*e**(5.0*t)*cos(2.0*t)"
            ],
            "text/latex": "$\\displaystyle 0.0005188472 e^{5.0 t} \\sin{\\left(2.0 t \\right)} - 0.0150575711 e^{5.0 t} \\cos{\\left(2.0 t \\right)}$"
          },
          "metadata": {},
          "execution_count": 67
        }
      ],
      "source": [
        "print(\"x2=\")\n",
        "sol[1]"
      ]
    }
  ],
  "metadata": {
    "kernelspec": {
      "display_name": "Python 3 (ipykernel)",
      "language": "python",
      "name": "python3"
    },
    "language_info": {
      "codemirror_mode": {
        "name": "ipython",
        "version": 3
      },
      "file_extension": ".py",
      "mimetype": "text/x-python",
      "name": "python",
      "nbconvert_exporter": "python",
      "pygments_lexer": "ipython3",
      "version": "3.9.12"
    },
    "colab": {
      "provenance": []
    }
  },
  "nbformat": 4,
  "nbformat_minor": 5
}