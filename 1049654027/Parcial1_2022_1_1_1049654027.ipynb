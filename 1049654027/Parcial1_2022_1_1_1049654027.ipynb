{
  "nbformat": 4,
  "nbformat_minor": 0,
  "metadata": {
    "colab": {
      "name": "Parcial1_2022-1_1_1049654027.ipynb",
      "provenance": [],
      "collapsed_sections": []
    },
    "kernelspec": {
      "name": "python3",
      "display_name": "Python 3"
    },
    "language_info": {
      "name": "python"
    }
  },
  "cells": [
    {
      "cell_type": "markdown",
      "source": [
        "#Primer Examen Métodos Computacionales\n",
        "###Johana Marcela Vega Jimenez\n",
        "###1049654027\n"
      ],
      "metadata": {
        "id": "SgYPFKi0bXm8"
      }
    },
    {
      "cell_type": "code",
      "execution_count": 22,
      "metadata": {
        "id": "zkN3llbvZhdT"
      },
      "outputs": [],
      "source": [
        "import pandas as pd\n",
        "import requests\n",
        "import numpy as np\n",
        "import random\n",
        "from scipy import optimize\n",
        "import matplotlib.pyplot as plt\n"
      ]
    },
    {
      "cell_type": "code",
      "source": [
        "datos = pd.read_json('https://datahub.io/core/country-list/r/data.json')"
      ],
      "metadata": {
        "id": "yxhkoPOKZrL_"
      },
      "execution_count": 2,
      "outputs": []
    },
    {
      "cell_type": "markdown",
      "source": [
        "A) Use el API de institutions para extraer la lista de instituciones del país"
      ],
      "metadata": {
        "id": "DDGsE3eyZwIt"
      }
    },
    {
      "cell_type": "code",
      "source": [
        "pais= np.random.choice(datos.Name)       #Se escoge un país aleatorio de la lista del dataframe anterior\n",
        "df=pd.read_json(f'https://inspirehep.net/api/institutions?q={pais}') #se obtiene el archivo json con el pais seleccionado\n",
        "df\n",
        "\n",
        "#Nota: si el país no tiene articulos publicados en la pagina, aparece un mensaje de error, se debe ejecutar varias veces la celda hasta que aparezca un pais que si tenga articulos publicados"
      ],
      "metadata": {
        "colab": {
          "base_uri": "https://localhost:8080/",
          "height": 175
        },
        "id": "j_Ch3ussZtIJ",
        "outputId": "1c912f54-01da-4535-991b-3b3e483c35c0"
      },
      "execution_count": 4,
      "outputs": [
        {
          "output_type": "execute_result",
          "data": {
            "text/plain": [
              "                                                    hits  \\\n",
              "hits   [{'updated': '2021-06-26T06:08:38.713317+00:00...   \n",
              "total                                                 10   \n",
              "self                                                 NaN   \n",
              "json                                                 NaN   \n",
              "\n",
              "                                                   links  \n",
              "hits                                                 NaN  \n",
              "total                                                NaN  \n",
              "self   https://inspirehep.net/api/institutions/?q=Cyp...  \n",
              "json   https://inspirehep.net/api/institutions/?q=Cyp...  "
            ],
            "text/html": [
              "\n",
              "  <div id=\"df-c5450d7c-de61-4952-8cd0-f228ab65ee06\">\n",
              "    <div class=\"colab-df-container\">\n",
              "      <div>\n",
              "<style scoped>\n",
              "    .dataframe tbody tr th:only-of-type {\n",
              "        vertical-align: middle;\n",
              "    }\n",
              "\n",
              "    .dataframe tbody tr th {\n",
              "        vertical-align: top;\n",
              "    }\n",
              "\n",
              "    .dataframe thead th {\n",
              "        text-align: right;\n",
              "    }\n",
              "</style>\n",
              "<table border=\"1\" class=\"dataframe\">\n",
              "  <thead>\n",
              "    <tr style=\"text-align: right;\">\n",
              "      <th></th>\n",
              "      <th>hits</th>\n",
              "      <th>links</th>\n",
              "    </tr>\n",
              "  </thead>\n",
              "  <tbody>\n",
              "    <tr>\n",
              "      <th>hits</th>\n",
              "      <td>[{'updated': '2021-06-26T06:08:38.713317+00:00...</td>\n",
              "      <td>NaN</td>\n",
              "    </tr>\n",
              "    <tr>\n",
              "      <th>total</th>\n",
              "      <td>10</td>\n",
              "      <td>NaN</td>\n",
              "    </tr>\n",
              "    <tr>\n",
              "      <th>self</th>\n",
              "      <td>NaN</td>\n",
              "      <td>https://inspirehep.net/api/institutions/?q=Cyp...</td>\n",
              "    </tr>\n",
              "    <tr>\n",
              "      <th>json</th>\n",
              "      <td>NaN</td>\n",
              "      <td>https://inspirehep.net/api/institutions/?q=Cyp...</td>\n",
              "    </tr>\n",
              "  </tbody>\n",
              "</table>\n",
              "</div>\n",
              "      <button class=\"colab-df-convert\" onclick=\"convertToInteractive('df-c5450d7c-de61-4952-8cd0-f228ab65ee06')\"\n",
              "              title=\"Convert this dataframe to an interactive table.\"\n",
              "              style=\"display:none;\">\n",
              "        \n",
              "  <svg xmlns=\"http://www.w3.org/2000/svg\" height=\"24px\"viewBox=\"0 0 24 24\"\n",
              "       width=\"24px\">\n",
              "    <path d=\"M0 0h24v24H0V0z\" fill=\"none\"/>\n",
              "    <path d=\"M18.56 5.44l.94 2.06.94-2.06 2.06-.94-2.06-.94-.94-2.06-.94 2.06-2.06.94zm-11 1L8.5 8.5l.94-2.06 2.06-.94-2.06-.94L8.5 2.5l-.94 2.06-2.06.94zm10 10l.94 2.06.94-2.06 2.06-.94-2.06-.94-.94-2.06-.94 2.06-2.06.94z\"/><path d=\"M17.41 7.96l-1.37-1.37c-.4-.4-.92-.59-1.43-.59-.52 0-1.04.2-1.43.59L10.3 9.45l-7.72 7.72c-.78.78-.78 2.05 0 2.83L4 21.41c.39.39.9.59 1.41.59.51 0 1.02-.2 1.41-.59l7.78-7.78 2.81-2.81c.8-.78.8-2.07 0-2.86zM5.41 20L4 18.59l7.72-7.72 1.47 1.35L5.41 20z\"/>\n",
              "  </svg>\n",
              "      </button>\n",
              "      \n",
              "  <style>\n",
              "    .colab-df-container {\n",
              "      display:flex;\n",
              "      flex-wrap:wrap;\n",
              "      gap: 12px;\n",
              "    }\n",
              "\n",
              "    .colab-df-convert {\n",
              "      background-color: #E8F0FE;\n",
              "      border: none;\n",
              "      border-radius: 50%;\n",
              "      cursor: pointer;\n",
              "      display: none;\n",
              "      fill: #1967D2;\n",
              "      height: 32px;\n",
              "      padding: 0 0 0 0;\n",
              "      width: 32px;\n",
              "    }\n",
              "\n",
              "    .colab-df-convert:hover {\n",
              "      background-color: #E2EBFA;\n",
              "      box-shadow: 0px 1px 2px rgba(60, 64, 67, 0.3), 0px 1px 3px 1px rgba(60, 64, 67, 0.15);\n",
              "      fill: #174EA6;\n",
              "    }\n",
              "\n",
              "    [theme=dark] .colab-df-convert {\n",
              "      background-color: #3B4455;\n",
              "      fill: #D2E3FC;\n",
              "    }\n",
              "\n",
              "    [theme=dark] .colab-df-convert:hover {\n",
              "      background-color: #434B5C;\n",
              "      box-shadow: 0px 1px 3px 1px rgba(0, 0, 0, 0.15);\n",
              "      filter: drop-shadow(0px 1px 2px rgba(0, 0, 0, 0.3));\n",
              "      fill: #FFFFFF;\n",
              "    }\n",
              "  </style>\n",
              "\n",
              "      <script>\n",
              "        const buttonEl =\n",
              "          document.querySelector('#df-c5450d7c-de61-4952-8cd0-f228ab65ee06 button.colab-df-convert');\n",
              "        buttonEl.style.display =\n",
              "          google.colab.kernel.accessAllowed ? 'block' : 'none';\n",
              "\n",
              "        async function convertToInteractive(key) {\n",
              "          const element = document.querySelector('#df-c5450d7c-de61-4952-8cd0-f228ab65ee06');\n",
              "          const dataTable =\n",
              "            await google.colab.kernel.invokeFunction('convertToInteractive',\n",
              "                                                     [key], {});\n",
              "          if (!dataTable) return;\n",
              "\n",
              "          const docLinkHtml = 'Like what you see? Visit the ' +\n",
              "            '<a target=\"_blank\" href=https://colab.research.google.com/notebooks/data_table.ipynb>data table notebook</a>'\n",
              "            + ' to learn more about interactive tables.';\n",
              "          element.innerHTML = '';\n",
              "          dataTable['output_type'] = 'display_data';\n",
              "          await google.colab.output.renderOutput(dataTable, element);\n",
              "          const docLink = document.createElement('div');\n",
              "          docLink.innerHTML = docLinkHtml;\n",
              "          element.appendChild(docLink);\n",
              "        }\n",
              "      </script>\n",
              "    </div>\n",
              "  </div>\n",
              "  "
            ]
          },
          "metadata": {},
          "execution_count": 4
        }
      ]
    },
    {
      "cell_type": "code",
      "source": [
        "#Se creó un ciclo for para evaluar el numero de papers de cada institución\n",
        "for i in range(len(df.loc['hits','hits'])):\n",
        "  df1 = df.loc['hits','hits'][i].get('metadata').get('number_of_papers')\n",
        "  if df1 > 0:\n",
        "    uni = df.loc['hits','hits'][i].get('metadata').get('legacy_ICN') #Se obtiene el nombre de la institución\n",
        "    print(uni) \n",
        "    break"
      ],
      "metadata": {
        "colab": {
          "base_uri": "https://localhost:8080/"
        },
        "id": "rX3jhLusZ0oS",
        "outputId": "c35b57b8-dead-405c-fb76-04c7c064c10c"
      },
      "execution_count": 5,
      "outputs": [
        {
          "output_type": "stream",
          "name": "stdout",
          "text": [
            "Cyprus Coll.\n"
          ]
        }
      ]
    },
    {
      "cell_type": "markdown",
      "source": [
        "B) Con el API de literatura obtenga el JSON con los artículos de menos de 10 autores usando el \"legacy_ICN\"\n",
        "C) Para al menos un artículo de esa institución, extraiga el URL del perfil de cada autor de esa institución que se encuentra dentro del campo \"authors\" en \"record\" y luego en \"$ref\"."
      ],
      "metadata": {
        "id": "_PhdoPbLZ9F5"
      }
    },
    {
      "cell_type": "code",
      "source": [
        "import requests                                                                                                                                                      \n",
        "n = []\n",
        "nuevo = requests.get(f'https://inspirehep.net/api/literature?sort=mostrecent&page=1&q={uni}+and+ac+1-%3E+10') #se obtiene el archivo json con los datos de la institución obtenida en el punto anterior\n",
        "for i in range(len(nuevo.json()['hits']['hits'][0].get('metadata').get('authors'))):       \n",
        "  url = nuevo.json()['hits']['hits'][0].get('metadata').get('authors')[i]['record'].get('$ref') #url\n",
        "  print(url)\n",
        "  n.append(url)"
      ],
      "metadata": {
        "colab": {
          "base_uri": "https://localhost:8080/"
        },
        "id": "VwooPr69Z5Rq",
        "outputId": "333e4977-41ea-4aa9-99e5-90a7f32aff12"
      },
      "execution_count": 9,
      "outputs": [
        {
          "output_type": "stream",
          "name": "stdout",
          "text": [
            "https://inspirehep.net/api/authors/1912815\n",
            "https://inspirehep.net/api/authors/1014627\n",
            "https://inspirehep.net/api/authors/1873701\n",
            "https://inspirehep.net/api/authors/1912816\n",
            "https://inspirehep.net/api/authors/1912817\n",
            "https://inspirehep.net/api/authors/1912818\n",
            "https://inspirehep.net/api/authors/1041902\n",
            "https://inspirehep.net/api/authors/993979\n",
            "https://inspirehep.net/api/authors/1019820\n",
            "https://inspirehep.net/api/authors/1066277\n"
          ]
        }
      ]
    },
    {
      "cell_type": "markdown",
      "source": [
        "D) Con cada uno de los datos del resultado del API para cada perfil construya una tabla"
      ],
      "metadata": {
        "id": "Pc_KrjgWaHLb"
      }
    },
    {
      "cell_type": "code",
      "source": [
        "nombre = []\n",
        "for i in n:\n",
        "  response = requests.get(i)                                                                              \n",
        "  authors = response.json()['metadata']['name']['value']\n",
        "  nombre.append(authors) #Se crea una lista con todos los nombres de las url"
      ],
      "metadata": {
        "id": "fDvLpdoPaEXW"
      },
      "execution_count": 10,
      "outputs": []
    },
    {
      "cell_type": "code",
      "source": [
        "mail = [] \n",
        "for i in n:\n",
        "  datost = requests.get(i)\n",
        "  if \"email_addresses\" in datost.json()['metadata']:\n",
        "    correo = datost.json()['metadata']['email_addresses'][0]['value']\n",
        "  else:\n",
        "    correo = 'NN'\n",
        "  mail.append(correo) #Se crea una lista con todos los email de las url"
      ],
      "metadata": {
        "id": "y-HqO4tSaJ7O"
      },
      "execution_count": 11,
      "outputs": []
    },
    {
      "cell_type": "code",
      "source": [
        "inst = []\n",
        "rank = []\n",
        "inicio = []\n",
        "fin = []\n",
        "for i in n:\n",
        "  datost = requests.get(i)\n",
        "  if \"positions\" in datost.json()['metadata']:\n",
        "    institucion = datost.json()['metadata']['positions'][0]['institution']\n",
        "    ran = datost.json()['metadata']['positions'][0].get('rank')\n",
        "    start = datost.json()['metadata']['positions'][0].get('start_date')\n",
        "    end = datost.json()['metadata']['positions'][0].get('end_date')\n",
        "  else:\n",
        "    institucion = 'NN'\n",
        "    ran = 'NN'\n",
        "    start = 'NN'\n",
        "    end = 'NN'\n",
        "\n",
        "  inst.append(institucion)\n",
        "  rank.append(ran)\n",
        "  inicio.append(start)\n",
        "  fin.append(end)\n",
        "\n",
        "  #listas con los datos de posicion actual\n"
      ],
      "metadata": {
        "id": "0G4Q1zFrajtx"
      },
      "execution_count": 12,
      "outputs": []
    },
    {
      "cell_type": "code",
      "source": [
        "tabla = pd.DataFrame({\"nombre\": nombre, \"email\": mail,\"rango\": rank,\"institución\": institucion,\"fecha de inicio\": inicio, \"fecha de finalización\": fin}) \n",
        "tabla #dataframe con los datos obtenidos anteriormente"
      ],
      "metadata": {
        "colab": {
          "base_uri": "https://localhost:8080/",
          "height": 363
        },
        "id": "aCI0m5Zdanvi",
        "outputId": "eca82bb7-4d39-41bd-9e05-a76d46cbd1b5"
      },
      "execution_count": 13,
      "outputs": [
        {
          "output_type": "execute_result",
          "data": {
            "text/plain": [
              "                      nombre                                      email  \\\n",
              "0            Bushnaq, Lucius                                         NN   \n",
              "1   Campos Plasencia, Isabel                      isabel.campos@cern.ch   \n",
              "2             Catillo, Marco                                         NN   \n",
              "3     Cotellucci, Alessandro  alessandro.cotellucci@physik.hu-berlin.de   \n",
              "4            Dale, Madeleine                                         NN   \n",
              "5                Lücke, Jens                   jens.luecke@hu-berlin.de   \n",
              "6          Patella, Agostino       agostino.patella@physik.hu-berlin.de   \n",
              "7        Peardon, Michael J.                           mjp@maths.tcd.ie   \n",
              "8           Tantalo, Nazario              nazario.tantalo@roma2.infn.it   \n",
              "9  Krstic Marinkovic, Marina                  marina.marinkovic@cern.ch   \n",
              "\n",
              "    rango         institución fecha de inicio fecha de finalización  \n",
              "0      NN  ETH, Zurich (main)              NN                    NN  \n",
              "1  SENIOR  ETH, Zurich (main)            2008                  None  \n",
              "2      NN  ETH, Zurich (main)              NN                    NN  \n",
              "3     PHD  ETH, Zurich (main)            2021                  None  \n",
              "4      NN  ETH, Zurich (main)              NN                    NN  \n",
              "5     PHD  ETH, Zurich (main)            2019                  None  \n",
              "6  SENIOR  ETH, Zurich (main)            2018                  None  \n",
              "7  SENIOR  ETH, Zurich (main)            2000                  None  \n",
              "8   STAFF  ETH, Zurich (main)            None                  None  \n",
              "9  JUNIOR  ETH, Zurich (main)            2021                  None  "
            ],
            "text/html": [
              "\n",
              "  <div id=\"df-cf217af7-c02c-447c-aa74-cdca8f4801f1\">\n",
              "    <div class=\"colab-df-container\">\n",
              "      <div>\n",
              "<style scoped>\n",
              "    .dataframe tbody tr th:only-of-type {\n",
              "        vertical-align: middle;\n",
              "    }\n",
              "\n",
              "    .dataframe tbody tr th {\n",
              "        vertical-align: top;\n",
              "    }\n",
              "\n",
              "    .dataframe thead th {\n",
              "        text-align: right;\n",
              "    }\n",
              "</style>\n",
              "<table border=\"1\" class=\"dataframe\">\n",
              "  <thead>\n",
              "    <tr style=\"text-align: right;\">\n",
              "      <th></th>\n",
              "      <th>nombre</th>\n",
              "      <th>email</th>\n",
              "      <th>rango</th>\n",
              "      <th>institución</th>\n",
              "      <th>fecha de inicio</th>\n",
              "      <th>fecha de finalización</th>\n",
              "    </tr>\n",
              "  </thead>\n",
              "  <tbody>\n",
              "    <tr>\n",
              "      <th>0</th>\n",
              "      <td>Bushnaq, Lucius</td>\n",
              "      <td>NN</td>\n",
              "      <td>NN</td>\n",
              "      <td>ETH, Zurich (main)</td>\n",
              "      <td>NN</td>\n",
              "      <td>NN</td>\n",
              "    </tr>\n",
              "    <tr>\n",
              "      <th>1</th>\n",
              "      <td>Campos Plasencia, Isabel</td>\n",
              "      <td>isabel.campos@cern.ch</td>\n",
              "      <td>SENIOR</td>\n",
              "      <td>ETH, Zurich (main)</td>\n",
              "      <td>2008</td>\n",
              "      <td>None</td>\n",
              "    </tr>\n",
              "    <tr>\n",
              "      <th>2</th>\n",
              "      <td>Catillo, Marco</td>\n",
              "      <td>NN</td>\n",
              "      <td>NN</td>\n",
              "      <td>ETH, Zurich (main)</td>\n",
              "      <td>NN</td>\n",
              "      <td>NN</td>\n",
              "    </tr>\n",
              "    <tr>\n",
              "      <th>3</th>\n",
              "      <td>Cotellucci, Alessandro</td>\n",
              "      <td>alessandro.cotellucci@physik.hu-berlin.de</td>\n",
              "      <td>PHD</td>\n",
              "      <td>ETH, Zurich (main)</td>\n",
              "      <td>2021</td>\n",
              "      <td>None</td>\n",
              "    </tr>\n",
              "    <tr>\n",
              "      <th>4</th>\n",
              "      <td>Dale, Madeleine</td>\n",
              "      <td>NN</td>\n",
              "      <td>NN</td>\n",
              "      <td>ETH, Zurich (main)</td>\n",
              "      <td>NN</td>\n",
              "      <td>NN</td>\n",
              "    </tr>\n",
              "    <tr>\n",
              "      <th>5</th>\n",
              "      <td>Lücke, Jens</td>\n",
              "      <td>jens.luecke@hu-berlin.de</td>\n",
              "      <td>PHD</td>\n",
              "      <td>ETH, Zurich (main)</td>\n",
              "      <td>2019</td>\n",
              "      <td>None</td>\n",
              "    </tr>\n",
              "    <tr>\n",
              "      <th>6</th>\n",
              "      <td>Patella, Agostino</td>\n",
              "      <td>agostino.patella@physik.hu-berlin.de</td>\n",
              "      <td>SENIOR</td>\n",
              "      <td>ETH, Zurich (main)</td>\n",
              "      <td>2018</td>\n",
              "      <td>None</td>\n",
              "    </tr>\n",
              "    <tr>\n",
              "      <th>7</th>\n",
              "      <td>Peardon, Michael J.</td>\n",
              "      <td>mjp@maths.tcd.ie</td>\n",
              "      <td>SENIOR</td>\n",
              "      <td>ETH, Zurich (main)</td>\n",
              "      <td>2000</td>\n",
              "      <td>None</td>\n",
              "    </tr>\n",
              "    <tr>\n",
              "      <th>8</th>\n",
              "      <td>Tantalo, Nazario</td>\n",
              "      <td>nazario.tantalo@roma2.infn.it</td>\n",
              "      <td>STAFF</td>\n",
              "      <td>ETH, Zurich (main)</td>\n",
              "      <td>None</td>\n",
              "      <td>None</td>\n",
              "    </tr>\n",
              "    <tr>\n",
              "      <th>9</th>\n",
              "      <td>Krstic Marinkovic, Marina</td>\n",
              "      <td>marina.marinkovic@cern.ch</td>\n",
              "      <td>JUNIOR</td>\n",
              "      <td>ETH, Zurich (main)</td>\n",
              "      <td>2021</td>\n",
              "      <td>None</td>\n",
              "    </tr>\n",
              "  </tbody>\n",
              "</table>\n",
              "</div>\n",
              "      <button class=\"colab-df-convert\" onclick=\"convertToInteractive('df-cf217af7-c02c-447c-aa74-cdca8f4801f1')\"\n",
              "              title=\"Convert this dataframe to an interactive table.\"\n",
              "              style=\"display:none;\">\n",
              "        \n",
              "  <svg xmlns=\"http://www.w3.org/2000/svg\" height=\"24px\"viewBox=\"0 0 24 24\"\n",
              "       width=\"24px\">\n",
              "    <path d=\"M0 0h24v24H0V0z\" fill=\"none\"/>\n",
              "    <path d=\"M18.56 5.44l.94 2.06.94-2.06 2.06-.94-2.06-.94-.94-2.06-.94 2.06-2.06.94zm-11 1L8.5 8.5l.94-2.06 2.06-.94-2.06-.94L8.5 2.5l-.94 2.06-2.06.94zm10 10l.94 2.06.94-2.06 2.06-.94-2.06-.94-.94-2.06-.94 2.06-2.06.94z\"/><path d=\"M17.41 7.96l-1.37-1.37c-.4-.4-.92-.59-1.43-.59-.52 0-1.04.2-1.43.59L10.3 9.45l-7.72 7.72c-.78.78-.78 2.05 0 2.83L4 21.41c.39.39.9.59 1.41.59.51 0 1.02-.2 1.41-.59l7.78-7.78 2.81-2.81c.8-.78.8-2.07 0-2.86zM5.41 20L4 18.59l7.72-7.72 1.47 1.35L5.41 20z\"/>\n",
              "  </svg>\n",
              "      </button>\n",
              "      \n",
              "  <style>\n",
              "    .colab-df-container {\n",
              "      display:flex;\n",
              "      flex-wrap:wrap;\n",
              "      gap: 12px;\n",
              "    }\n",
              "\n",
              "    .colab-df-convert {\n",
              "      background-color: #E8F0FE;\n",
              "      border: none;\n",
              "      border-radius: 50%;\n",
              "      cursor: pointer;\n",
              "      display: none;\n",
              "      fill: #1967D2;\n",
              "      height: 32px;\n",
              "      padding: 0 0 0 0;\n",
              "      width: 32px;\n",
              "    }\n",
              "\n",
              "    .colab-df-convert:hover {\n",
              "      background-color: #E2EBFA;\n",
              "      box-shadow: 0px 1px 2px rgba(60, 64, 67, 0.3), 0px 1px 3px 1px rgba(60, 64, 67, 0.15);\n",
              "      fill: #174EA6;\n",
              "    }\n",
              "\n",
              "    [theme=dark] .colab-df-convert {\n",
              "      background-color: #3B4455;\n",
              "      fill: #D2E3FC;\n",
              "    }\n",
              "\n",
              "    [theme=dark] .colab-df-convert:hover {\n",
              "      background-color: #434B5C;\n",
              "      box-shadow: 0px 1px 3px 1px rgba(0, 0, 0, 0.15);\n",
              "      filter: drop-shadow(0px 1px 2px rgba(0, 0, 0, 0.3));\n",
              "      fill: #FFFFFF;\n",
              "    }\n",
              "  </style>\n",
              "\n",
              "      <script>\n",
              "        const buttonEl =\n",
              "          document.querySelector('#df-cf217af7-c02c-447c-aa74-cdca8f4801f1 button.colab-df-convert');\n",
              "        buttonEl.style.display =\n",
              "          google.colab.kernel.accessAllowed ? 'block' : 'none';\n",
              "\n",
              "        async function convertToInteractive(key) {\n",
              "          const element = document.querySelector('#df-cf217af7-c02c-447c-aa74-cdca8f4801f1');\n",
              "          const dataTable =\n",
              "            await google.colab.kernel.invokeFunction('convertToInteractive',\n",
              "                                                     [key], {});\n",
              "          if (!dataTable) return;\n",
              "\n",
              "          const docLinkHtml = 'Like what you see? Visit the ' +\n",
              "            '<a target=\"_blank\" href=https://colab.research.google.com/notebooks/data_table.ipynb>data table notebook</a>'\n",
              "            + ' to learn more about interactive tables.';\n",
              "          element.innerHTML = '';\n",
              "          dataTable['output_type'] = 'display_data';\n",
              "          await google.colab.output.renderOutput(dataTable, element);\n",
              "          const docLink = document.createElement('div');\n",
              "          docLink.innerHTML = docLinkHtml;\n",
              "          element.appendChild(docLink);\n",
              "        }\n",
              "      </script>\n",
              "    </div>\n",
              "  </div>\n",
              "  "
            ]
          },
          "metadata": {},
          "execution_count": 13
        }
      ]
    },
    {
      "cell_type": "markdown",
      "source": [
        "2) \n",
        "A) Genere un polinomio de numpy con 3 raices reales aleatorias entre los dos últimos números diferentes de su identificación"
      ],
      "metadata": {
        "id": "RmVMh-A3awdT"
      }
    },
    {
      "cell_type": "code",
      "source": [
        "raices = [random.uniform(2,7) for i in range(3)]\n",
        "p = np.poly1d(raices,r = True)\n",
        "print(p)\n"
      ],
      "metadata": {
        "colab": {
          "base_uri": "https://localhost:8080/"
        },
        "id": "r2u-EAfdarS5",
        "outputId": "f6ddad18-63de-4511-8060-6238522c50f9"
      },
      "execution_count": 14,
      "outputs": [
        {
          "output_type": "stream",
          "name": "stdout",
          "text": [
            "   3         2\n",
            "1 x - 12.54 x + 51.48 x - 69.25\n"
          ]
        }
      ]
    },
    {
      "cell_type": "markdown",
      "source": [
        "B) Encuentre los puntos críticos del polinomio: las raices de la derivada el polinomio."
      ],
      "metadata": {
        "id": "kUQjzFo_bCxj"
      }
    },
    {
      "cell_type": "code",
      "source": [
        "pp = p.deriv()\n",
        "criticos = pp.roots\n",
        "print(criticos)"
      ],
      "metadata": {
        "colab": {
          "base_uri": "https://localhost:8080/"
        },
        "id": "zkmIjXYPa2EZ",
        "outputId": "771d1ea8-1eee-4a38-d58f-d3b745db3a74"
      },
      "execution_count": 15,
      "outputs": [
        {
          "output_type": "stream",
          "name": "stdout",
          "text": [
            "[4.73698538 3.62259394]\n"
          ]
        }
      ]
    },
    {
      "cell_type": "markdown",
      "source": [
        "C) Con alguna de los métodos para encontrar mínimos compruebe que el punto crítico de menor (mayor) valor corresponde al mínimo (máximo) global del polinomio"
      ],
      "metadata": {
        "id": "qRs3YIr_bFuX"
      }
    },
    {
      "cell_type": "code",
      "source": [
        "optimize.fmin_powell(p,5)"
      ],
      "metadata": {
        "colab": {
          "base_uri": "https://localhost:8080/"
        },
        "id": "b8y7EFfNa92p",
        "outputId": "cb502db9-e8d6-4295-f8f6-6a7e2f49d486"
      },
      "execution_count": 18,
      "outputs": [
        {
          "output_type": "stream",
          "name": "stdout",
          "text": [
            "Optimization terminated successfully.\n",
            "         Current function value: -0.462475\n",
            "         Iterations: 2\n",
            "         Function evaluations: 34\n"
          ]
        },
        {
          "output_type": "execute_result",
          "data": {
            "text/plain": [
              "array([4.73698538])"
            ]
          },
          "metadata": {},
          "execution_count": 18
        }
      ]
    },
    {
      "cell_type": "code",
      "source": [
        "optimize.fmin_powell(-p,4)"
      ],
      "metadata": {
        "colab": {
          "base_uri": "https://localhost:8080/"
        },
        "id": "VRSWdwJxbMVA",
        "outputId": "9e913ffe-aa6e-4dfd-c955-7e4eaba9c0ee"
      },
      "execution_count": 20,
      "outputs": [
        {
          "output_type": "stream",
          "name": "stdout",
          "text": [
            "Optimization terminated successfully.\n",
            "         Current function value: -0.229489\n",
            "         Iterations: 2\n",
            "         Function evaluations: 25\n"
          ]
        },
        {
          "output_type": "execute_result",
          "data": {
            "text/plain": [
              "array([3.62259321])"
            ]
          },
          "metadata": {},
          "execution_count": 20
        }
      ]
    },
    {
      "cell_type": "markdown",
      "source": [
        "D) Grafique el polinomío inclueyendo los puntos asociados a las raices."
      ],
      "metadata": {
        "id": "1RP3yX3Och85"
      }
    },
    {
      "cell_type": "code",
      "source": [
        "x = np.linspace(0,10,100)\n",
        "plt.plot(x,p(x), label = 'polinomio')\n",
        "plt.plot(raices,p(raices),'y*', label = 'raíces')\n",
        "plt.ylabel('p(x)')\n",
        "plt.xlabel('x')\n",
        "plt.grid(True)\n",
        "plt.legend()\n",
        "\n",
        "plt.show()"
      ],
      "metadata": {
        "colab": {
          "base_uri": "https://localhost:8080/",
          "height": 280
        },
        "id": "kj4NIjMZcK2M",
        "outputId": "5e32b2e7-c5d9-453c-c659-95017b4a9f7d"
      },
      "execution_count": 24,
      "outputs": [
        {
          "output_type": "display_data",
          "data": {
            "text/plain": [
              "<Figure size 432x288 with 1 Axes>"
            ],
            "image/png": "[encoded data removed]"
          },
          "metadata": {
            "needs_background": "light"
          }
        }
      ]
    }
  ]
}