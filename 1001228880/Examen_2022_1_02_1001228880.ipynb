{
  "cells": [
    {
      "cell_type": "markdown",
      "id": "a3f0c1b2-a69e-4149-b747-97a5863134d9",
      "metadata": {
        "id": "a3f0c1b2-a69e-4149-b747-97a5863134d9"
      },
      "source": [
        "# Examen 2: Métodos computacionales\n",
        "A)\n",
        "1. Usando su número de cédula cómo semilla, obtenga un numero entero aleatorio, $n$, entre 2 y 20.\n",
        "2. Usando el $n$ obtenido, haga una estimación de la siguiente integral hasta dos cifras significativas, usando el método `quad` del módulo `integrate` de Scipy\n",
        "$$\n",
        "\\int_0^\\infty \\sin(x^n)\\operatorname{d}x\n",
        "$$\n",
        "Sugerencia. Compare con el valor obtenido desde https://www.wolframalpha.com/ o [sympy](https://stackoverflow.com/questions/65862611/integration-of-sin-x-dx-problem-in-python-programming-implementation)"
      ]
    },
    {
      "cell_type": "markdown",
      "source": [
        "La integral puede verse de la siguiente forma:\n",
        "\n",
        "$$\n",
        "\\int_0^1 \\sin(x^n)\\operatorname{d}x +\n",
        "\\int_1^\\infty \\sin(x^n)\\operatorname{d}x\n",
        "$$\n",
        "\n",
        "para así aplicar el método númerico y que el 0 de la integral no genere indeterminaciones"
      ],
      "metadata": {
        "id": "voJWq_o14105"
      },
      "id": "voJWq_o14105"
    },
    {
      "cell_type": "code",
      "execution_count": 86,
      "id": "62cbc669-9ed6-4f54-b4c9-5ac10f7c15d6",
      "metadata": {
        "id": "62cbc669-9ed6-4f54-b4c9-5ac10f7c15d6",
        "colab": {
          "base_uri": "https://localhost:8080/"
        },
        "outputId": "91b66ce6-a8fb-4363-b8e5-2696163dd96e"
      },
      "outputs": [
        {
          "output_type": "stream",
          "name": "stdout",
          "text": [
            "8\n",
            "(0.10464425302222234, 1.6786416317974742e-13)\n"
          ]
        }
      ],
      "source": [
        "import numpy as np\n",
        "from scipy import integrate\n",
        "import random\n",
        "\n",
        "random.seed(1001228880)\n",
        "n=random.randint(2,20)\n",
        "\n",
        "\n",
        "function = lambda x: np.sin(x**n)\n",
        "\n",
        "integral = integrate.quad(function,0,1)\n",
        "print (n)\n",
        "#print(\"El resultado de la integración de 0 a infinito es: \", integral[0])\n",
        "#print(\"El error para la integral es :\", integral[1])\n",
        "print(integral)"
      ]
    },
    {
      "cell_type": "markdown",
      "source": [
        "La primera integral es fácil de resolver, pero la segunda necesita de un método numérico, por ello para visualizarse mejor se hará un cambio de variable y así tener una singuliradad por la izquierda en cero\n",
        "\n",
        "$$\n",
        "\\int_1^∞ \\sin(x^n)\\operatorname{d}x = \\int_0^1 t^{-2}\\sin(\\frac{1}{t^n})\\operatorname{d}x \n",
        "$$"
      ],
      "metadata": {
        "id": "C2_jpSnu3_N8"
      },
      "id": "C2_jpSnu3_N8"
    },
    {
      "cell_type": "code",
      "source": [
        "fun2= lambda t: t**(-2)*(np.sin(1/t**n))\n",
        "\n",
        "inte= integrate.quad(fun2,0,1, limit=1000)\n",
        "\n",
        "print(inte)\n",
        "\n",
        "\n"
      ],
      "metadata": {
        "colab": {
          "base_uri": "https://localhost:8080/"
        },
        "id": "zNcGL9qWuZiy",
        "outputId": "cf09e84b-3593-43e0-93da-9c19a340b505"
      },
      "id": "zNcGL9qWuZiy",
      "execution_count": 87,
      "outputs": [
        {
          "output_type": "stream",
          "name": "stdout",
          "text": [
            "(21593579.13033257, 42314654.415663026)\n"
          ]
        },
        {
          "output_type": "stream",
          "name": "stderr",
          "text": [
            "/usr/local/lib/python3.7/dist-packages/ipykernel_launcher.py:3: IntegrationWarning: The algorithm does not converge.  Roundoff error is detected\n",
            "  in the extrapolation table.  It is assumed that the requested tolerance\n",
            "  cannot be achieved, and that the returned result (if full_output = 1) is \n",
            "  the best which can be obtained.\n",
            "  This is separate from the ipykernel package so we can avoid doing imports until\n"
          ]
        }
      ]
    },
    {
      "cell_type": "code",
      "source": [
        "ara= np.arange(0,1.02,0.00001)\n",
        "\n",
        "lista2=[]\n",
        "j=0\n",
        "while 99999>j:\n",
        "  g=(ara[j]+ara[j+1])/2\n",
        "  lista2.append(g)\n",
        "  j=j+1\n",
        "\n",
        "lista=[]\n",
        "\n",
        "for i in range(0,99999):\n",
        "  f=fun2(lista2[i])\n",
        "  lista.append(f)\n",
        "  \n",
        "\n",
        "#lista2=[]\n",
        "#j=0\n",
        "#while 49>j:\n",
        "#  g=(lista[j]+lista[j+1])/2\n",
        "#  lista2.append(g)\n",
        "#  j=j+1\n",
        "\n",
        "suma=0\n",
        "for k in range (0,99999,1):\n",
        "  suma=suma + lista[k]\n",
        "\n",
        "print(suma*0.001)\n",
        "print(len(lista2))"
      ],
      "metadata": {
        "colab": {
          "base_uri": "https://localhost:8080/"
        },
        "id": "bIwzl8sBVi3m",
        "outputId": "0a60ce58-ce80-48ea-e709-cf8cc8807082"
      },
      "id": "bIwzl8sBVi3m",
      "execution_count": 88,
      "outputs": [
        {
          "output_type": "stream",
          "name": "stdout",
          "text": [
            "-32135382.672823884\n",
            "99999\n"
          ]
        }
      ]
    },
    {
      "cell_type": "code",
      "source": [
        "#Ahora se calculará la integral usando el método de Monte Carlo\n",
        "def Monte_Carlo(f,M,a,b,N): #f es la función que se le va a hallar la integral, M el máximo de la función en el intervalo,    \n",
        "                            # a y b los límites de la integral y N la cantidad de puntos totales en el rectangulo formado por (b-a)M\n",
        "    Np = 0 #Cantidad de puntos iniciales entre f(x) y y=0\n",
        "    for i in range(N): #Se crea un bucle donde se van a empezar a agrupar la cantidad de puntos entre f(x) y y=0\n",
        "       x = np.random.uniform(a,b) #Puntos aleatorios para el eje x\n",
        "       y = np.random.uniform(0,M) #Puntos aleatorios para el eje y\n",
        "       \n",
        "       if (y < f(x)): \n",
        "            Np += 1  #Si el punto aleatorio está entre f(x) y y=0\n",
        "       \n",
        "    I = Np/N*(M*(b-a)) # el area del rectángulo es M*(b-a).\n",
        "    return I\n",
        "fM=fun2(1)\n",
        "\n",
        "Integral=(Monte_Carlo(fun2,fM,0,1,1000000)) #Se calcula la integral con Monte Carlo\n",
        "print(Integral)\n"
      ],
      "metadata": {
        "colab": {
          "base_uri": "https://localhost:8080/"
        },
        "id": "qhSGA5w9Qcvi",
        "outputId": "ce380c5f-e974-4c49-f76e-5368848e6d50"
      },
      "id": "qhSGA5w9Qcvi",
      "execution_count": 89,
      "outputs": [
        {
          "output_type": "stream",
          "name": "stdout",
          "text": [
            "0.4252525086503971\n"
          ]
        }
      ]
    },
    {
      "cell_type": "markdown",
      "source": [
        "Intenté aun más métodos de lo que se observan arriba, los vistos en clase y otros nuevos como el de punto medio o el de Montecarlo, aun así no pude resolverla, esta debe ser igual a 0.079 comprobado en wolframalpha, lo más cercano que se obtuvo fue 0.42 con el método de Montecarlo, algo considerablemente alejado. :("
      ],
      "metadata": {
        "id": "Mv75GQy_9GAz"
      },
      "id": "Mv75GQy_9GAz"
    }
  ],
  "metadata": {
    "kernelspec": {
      "display_name": "Python 3 (ipykernel)",
      "language": "python",
      "name": "python3"
    },
    "language_info": {
      "codemirror_mode": {
        "name": "ipython",
        "version": 3
      },
      "file_extension": ".py",
      "mimetype": "text/x-python",
      "name": "python",
      "nbconvert_exporter": "python",
      "pygments_lexer": "ipython3",
      "version": "3.9.2"
    },
    "colab": {
      "provenance": []
    }
  },
  "nbformat": 4,
  "nbformat_minor": 5
}