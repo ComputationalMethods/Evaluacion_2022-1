{
  "nbformat": 4,
  "nbformat_minor": 0,
  "metadata": {
    "colab": {
      "name": "Parcial1.ipynb",
      "provenance": [],
      "collapsed_sections": [
        "L8lEv4A2a7pT",
        "qi8UEfSb1ts9",
        "7bhS85JtaKbO",
        "Q_QO-tJXaYBQ",
        "wZdcHeuhaoPX",
        "4quen8j1au4p",
        "TTMo4l1f0HSt",
        "TRPSRCXM2QGb",
        "psUSHPm-2hFa",
        "HHQfWP9w3KD_",
        "EDwUXB613RpJ"
      ]
    },
    "kernelspec": {
      "name": "python3",
      "display_name": "Python 3"
    },
    "language_info": {
      "name": "python"
    }
  },
  "cells": [
    {
      "cell_type": "markdown",
      "source": [
        "# Parcial 1\n"
      ],
      "metadata": {
        "id": "3ZbdS9_T0ADn"
      }
    },
    {
      "cell_type": "markdown",
      "source": [
        "####librerias"
      ],
      "metadata": {
        "id": "L8lEv4A2a7pT"
      }
    },
    {
      "cell_type": "code",
      "source": [
        "import numpy as np\n",
        "import pandas as pd\n",
        "import matplotlib.pyplot as plt\n",
        "import scipy as sp\n",
        "from scipy import optimize"
      ],
      "metadata": {
        "id": "WRLrq9th19ib"
      },
      "execution_count": null,
      "outputs": []
    },
    {
      "cell_type": "markdown",
      "source": [
        "##1."
      ],
      "metadata": {
        "id": "qi8UEfSb1ts9"
      }
    },
    {
      "cell_type": "markdown",
      "source": [
        "Descargue el JSON con la lista de paises: \n",
        "\n",
        "import requests\n",
        "r=requests.get(\"https://api.worldbank.org/v2/country?format=json&quot;)\n",
        "countries=r.json()\n",
        "\n",
        "y escoja aleatoriamente un país\n",
        "\n",
        "\n",
        "Use los diferentes API endpoints de inspire-hep \n",
        "\n",
        "\n",
        "https://inspirehep.net/\n",
        "\n",
        "\n",
        " para extraer la lista de investigadores de una institución de ese país  en esa base de datos. \n",
        "\n",
        "\n",
        "Para ello:\n",
        "\n",
        "A) Use el API de institutions para extraer la lista de instituciones del país, por ejemplo: colombia\n",
        "https://inspirehep.net/api/institutions?q=colombia\n",
        "\n",
        "\n",
        "Para la primera institución con\n",
        "\n",
        "number_of_papers > 0\n",
        "\n",
        "\n",
        "Obtenga el valor\n",
        "\n",
        "legacy_ICN:\n",
        "\n",
        "\n",
        "Por ejemplo: \n",
        "Colombia, U. Natl.\n",
        "\n",
        "\n",
        "Si ninguna institución satisface la condición number_of_papers > 0, escoja de nuevo otro país aleatorio y repita el proceso\n",
        "\n",
        "B) Con el API de literatura obtenga el JSON con los artículos de menos de 10 autores usando el \"legacy_ICN\" de la siguiente manera\n",
        "\n",
        "https://inspirehep.net/api/literature?sort=mostrecent&page=1&q=aff+Colombia,+U.+Natl.+and+ac+1->+10\n",
        "\n",
        "\n",
        "aff: usa el valor de legacy_ICN\n",
        "and: es un operador lógico\n",
        "ac: establece los autores entre 1 y 10\n",
        "\n",
        "C) Para al menos dos artículos de esa institución, extraiga el URL del perfil de cada autor de esa institución que se encuentra dentro del campo \"authors\" en \"record\" y luego en \"$ref\". Por ejemplo\n",
        "\n",
        "https://inspirehep.net/api/authors/1010271\n",
        "\n",
        "\n",
        "D) Con cada uno de los datos del resultado del API para cada perfil construya una tabla con los siguientes columnas: \n",
        "Nombre Completo\n",
        "Correo electrònico\n",
        "posición más reciente (la primera  que aparece en la lista \"positions\" del JSON) con su correspondiente:\n",
        "rango \n",
        "institución \n",
        "fecha de inicio \n",
        "fecha de finalización"
      ],
      "metadata": {
        "id": "q_n3Qtcs1xeT"
      }
    },
    {
      "cell_type": "markdown",
      "source": [
        "###a."
      ],
      "metadata": {
        "id": "7bhS85JtaKbO"
      }
    },
    {
      "cell_type": "code",
      "source": [
        "r=pd.read_json('https://datahub.io/core/country-list/r/data.json')"
      ],
      "metadata": {
        "id": "lnc1YxYQ14I1"
      },
      "execution_count": 543,
      "outputs": []
    },
    {
      "cell_type": "code",
      "source": [
        "i=0; j = 0\n",
        "while j < 1:\n",
        "  np.random.seed()\n",
        "  pais = np.random.choice(r.Name)\n",
        "  r1=pd.read_json(f'https://inspirehep.net/api/institutions?q={pais}')\n",
        "  while i<len(r1.hits['hits']):\n",
        "    if r1.hits['hits'][i]['metadata'].get('number_of_papers') > 0:\n",
        "      L_ICN = r1.hits['hits'][0]['metadata'].get('legacy_ICN')\n",
        "      print(r1.hits['hits'][0]['metadata'].get('legacy_ICN'))\n",
        "      j=1\n",
        "      break\n",
        "      break\n",
        "    else: \n",
        "      i+=1\n",
        "      #if i == len(r1.hits['hits']) - 1:\n",
        "       #j = 1\n",
        "    #InvalidURL: URL can't contain control characters. '/api/institutions?q=Saint Martin (French part)' (found at least ' ')"
      ],
      "metadata": {
        "colab": {
          "base_uri": "https://localhost:8080/"
        },
        "id": "JABQMEPiPgxx",
        "outputId": "b3e44f96-8e5d-42af-e37e-6d694a53d927"
      },
      "execution_count": 604,
      "outputs": [
        {
          "output_type": "stream",
          "name": "stdout",
          "text": [
            "Montenegro U.\n"
          ]
        }
      ]
    },
    {
      "cell_type": "markdown",
      "source": [
        "###b."
      ],
      "metadata": {
        "id": "Q_QO-tJXaYBQ"
      }
    },
    {
      "cell_type": "code",
      "source": [
        "import requests                                                                                                                                                      \n",
        "person = requests.get(f'https://inspirehep.net/api/literature?sort=mostrecent&page=1&q={L_ICN}+and+ac+1->+10') \n",
        "#djf=pd.read_json(f'https://inspirehep.net/api/literature?sort=mostrecent&page=1&q={L_ICN}+and+ac+1->+10')"
      ],
      "metadata": {
        "id": "2qt_rH5kaUl7"
      },
      "execution_count": null,
      "outputs": []
    },
    {
      "cell_type": "markdown",
      "source": [
        "###c."
      ],
      "metadata": {
        "id": "wZdcHeuhaoPX"
      }
    },
    {
      "cell_type": "code",
      "source": [
        "j=0\n",
        "cantidad = len(person.json()['hits']['hits'][0].get('metadata')['authors'])  \n",
        "list=[] \n",
        "while j<cantidad:                                                                          \n",
        "  authors = person.json()['hits']['hits'][0].get('metadata')['authors'][j]['record'].get('$ref')#['metadata']['authors']                                                                                                                     \n",
        "  print(authors)\n",
        "  list.append(authors)\n",
        "  j+=1"
      ],
      "metadata": {
        "colab": {
          "base_uri": "https://localhost:8080/"
        },
        "id": "vs9hk1het7zm",
        "outputId": "766501a4-049a-43ab-9ebc-79081b8d72c1"
      },
      "execution_count": 605,
      "outputs": [
        {
          "output_type": "stream",
          "name": "stdout",
          "text": [
            "https://inspirehep.net/api/authors/1032460\n",
            "https://inspirehep.net/api/authors/1001922\n",
            "https://inspirehep.net/api/authors/2027479\n",
            "https://inspirehep.net/api/authors/1065451\n",
            "https://inspirehep.net/api/authors/2120246\n",
            "https://inspirehep.net/api/authors/1020280\n",
            "https://inspirehep.net/api/authors/1001753\n"
          ]
        }
      ]
    },
    {
      "cell_type": "markdown",
      "source": [
        "###d."
      ],
      "metadata": {
        "id": "4quen8j1au4p"
      }
    },
    {
      "cell_type": "code",
      "source": [
        "#print(list)\n",
        "listalterna = ['https://inspirehep.net/api/authors/982776']\n",
        "dic = {'name':[],'correo':[],'inicio':[],'final':[],'rango':[],'institucion':[]}\n",
        "for i in list:\n",
        "  autor = requests.get(i)\n",
        "  #print(['nombre', autor.json()['metadata']['name'].get('value')])\n",
        "  dic['name'].append(autor.json()['metadata']['name'].get('value'))\n",
        "  if \"email_addresses\" in autor.json()['metadata']:\n",
        "    #print('1')\n",
        "    dic['correo'].append(autor.json()['metadata'].get('email_addresses')[0].get('value'))\n",
        "  else: dic['correo'].append('none')\n",
        "  if \"potitions\" in autor.json()['metadata']:\n",
        "    if \"end_date\" in autor.json()['metadata']['positions'][0]:\n",
        "      dic['final'].append(autor.json().get('updated'))\n",
        "  else:\n",
        "    dic['final'].append('Active')\n",
        "  \n",
        "  if \"positions\" in autor.json()['metadata']:\n",
        "    dic['inicio'].append(autor.json()['metadata']['positions'][0].get('start_date'))\n",
        "    dic['rango'].append(autor.json()['metadata']['positions'][0].get('rank'))\n",
        "    dic['institucion'].append(autor.json()['metadata'].get('positions')[0].get('institution'))\n",
        "  else: \n",
        "    dic['inicio'].append('none')\n",
        "    dic['rango'].append('none')\n",
        "    dic['institucion'].append('none')\n",
        "\n",
        "print(dic)\n"
      ],
      "metadata": {
        "id": "Szcs7zaKRBXO",
        "colab": {
          "base_uri": "https://localhost:8080/"
        },
        "outputId": "79148691-168f-4c5f-a775-24b4d1e44df4"
      },
      "execution_count": 606,
      "outputs": [
        {
          "output_type": "stream",
          "name": "stdout",
          "text": [
            "{'name': ['Lastovicka-Medin, Gordana', 'Kramberger, Gregor', 'Rebarz, Mateusz', 'Andreasson, Jakob J.', 'Kropielnicki, K.', 'Lastovicka, Tomas', 'Kroll, I. Joseph Ira'], 'correo': ['medin@ifh.de', 'gregor.kramberger@ijs.si', 'none', 'jakoba@xray.bmc.uu.se', 'none', 'none', 'kroll@hep.upenn.edu'], 'inicio': [None, None, 'none', None, 'none', None, '1997'], 'final': ['Active', 'Active', 'Active', 'Active', 'Active', 'Active', 'Active'], 'rango': [None, None, 'none', None, 'none', 'PHD', 'SENIOR'], 'institucion': ['Aachen, Tech. Hochsch.', 'Stefan Inst., Ljubljana', 'none', 'Uppsala U.', 'none', 'Humboldt U., Berlin', 'Pennsylvania U.']}\n"
          ]
        }
      ]
    },
    {
      "cell_type": "code",
      "source": [
        "dt = pd.DataFrame(data=dic)\n",
        "dt"
      ],
      "metadata": {
        "id": "aPj59OFKoFTf",
        "colab": {
          "base_uri": "https://localhost:8080/",
          "height": 269
        },
        "outputId": "5d82bac6-a39c-4353-9c67-7929ea61419e"
      },
      "execution_count": 607,
      "outputs": [
        {
          "output_type": "execute_result",
          "data": {
            "text/plain": [
              "                        name                    correo inicio   final   rango  \\\n",
              "0  Lastovicka-Medin, Gordana              medin@ifh.de   None  Active    None   \n",
              "1         Kramberger, Gregor  gregor.kramberger@ijs.si   None  Active    None   \n",
              "2            Rebarz, Mateusz                      none   none  Active    none   \n",
              "3       Andreasson, Jakob J.     jakoba@xray.bmc.uu.se   None  Active    None   \n",
              "4           Kropielnicki, K.                      none   none  Active    none   \n",
              "5          Lastovicka, Tomas                      none   None  Active     PHD   \n",
              "6       Kroll, I. Joseph Ira       kroll@hep.upenn.edu   1997  Active  SENIOR   \n",
              "\n",
              "               institucion  \n",
              "0   Aachen, Tech. Hochsch.  \n",
              "1  Stefan Inst., Ljubljana  \n",
              "2                     none  \n",
              "3               Uppsala U.  \n",
              "4                     none  \n",
              "5      Humboldt U., Berlin  \n",
              "6          Pennsylvania U.  "
            ],
            "text/html": [
              "\n",
              "  <div id=\"df-0b2a0b0f-96c7-4db3-9f5e-adf2299eaa11\">\n",
              "    <div class=\"colab-df-container\">\n",
              "      <div>\n",
              "<style scoped>\n",
              "    .dataframe tbody tr th:only-of-type {\n",
              "        vertical-align: middle;\n",
              "    }\n",
              "\n",
              "    .dataframe tbody tr th {\n",
              "        vertical-align: top;\n",
              "    }\n",
              "\n",
              "    .dataframe thead th {\n",
              "        text-align: right;\n",
              "    }\n",
              "</style>\n",
              "<table border=\"1\" class=\"dataframe\">\n",
              "  <thead>\n",
              "    <tr style=\"text-align: right;\">\n",
              "      <th></th>\n",
              "      <th>name</th>\n",
              "      <th>correo</th>\n",
              "      <th>inicio</th>\n",
              "      <th>final</th>\n",
              "      <th>rango</th>\n",
              "      <th>institucion</th>\n",
              "    </tr>\n",
              "  </thead>\n",
              "  <tbody>\n",
              "    <tr>\n",
              "      <th>0</th>\n",
              "      <td>Lastovicka-Medin, Gordana</td>\n",
              "      <td>medin@ifh.de</td>\n",
              "      <td>None</td>\n",
              "      <td>Active</td>\n",
              "      <td>None</td>\n",
              "      <td>Aachen, Tech. Hochsch.</td>\n",
              "    </tr>\n",
              "    <tr>\n",
              "      <th>1</th>\n",
              "      <td>Kramberger, Gregor</td>\n",
              "      <td>gregor.kramberger@ijs.si</td>\n",
              "      <td>None</td>\n",
              "      <td>Active</td>\n",
              "      <td>None</td>\n",
              "      <td>Stefan Inst., Ljubljana</td>\n",
              "    </tr>\n",
              "    <tr>\n",
              "      <th>2</th>\n",
              "      <td>Rebarz, Mateusz</td>\n",
              "      <td>none</td>\n",
              "      <td>none</td>\n",
              "      <td>Active</td>\n",
              "      <td>none</td>\n",
              "      <td>none</td>\n",
              "    </tr>\n",
              "    <tr>\n",
              "      <th>3</th>\n",
              "      <td>Andreasson, Jakob J.</td>\n",
              "      <td>jakoba@xray.bmc.uu.se</td>\n",
              "      <td>None</td>\n",
              "      <td>Active</td>\n",
              "      <td>None</td>\n",
              "      <td>Uppsala U.</td>\n",
              "    </tr>\n",
              "    <tr>\n",
              "      <th>4</th>\n",
              "      <td>Kropielnicki, K.</td>\n",
              "      <td>none</td>\n",
              "      <td>none</td>\n",
              "      <td>Active</td>\n",
              "      <td>none</td>\n",
              "      <td>none</td>\n",
              "    </tr>\n",
              "    <tr>\n",
              "      <th>5</th>\n",
              "      <td>Lastovicka, Tomas</td>\n",
              "      <td>none</td>\n",
              "      <td>None</td>\n",
              "      <td>Active</td>\n",
              "      <td>PHD</td>\n",
              "      <td>Humboldt U., Berlin</td>\n",
              "    </tr>\n",
              "    <tr>\n",
              "      <th>6</th>\n",
              "      <td>Kroll, I. Joseph Ira</td>\n",
              "      <td>kroll@hep.upenn.edu</td>\n",
              "      <td>1997</td>\n",
              "      <td>Active</td>\n",
              "      <td>SENIOR</td>\n",
              "      <td>Pennsylvania U.</td>\n",
              "    </tr>\n",
              "  </tbody>\n",
              "</table>\n",
              "</div>\n",
              "      <button class=\"colab-df-convert\" onclick=\"convertToInteractive('df-0b2a0b0f-96c7-4db3-9f5e-adf2299eaa11')\"\n",
              "              title=\"Convert this dataframe to an interactive table.\"\n",
              "              style=\"display:none;\">\n",
              "        \n",
              "  <svg xmlns=\"http://www.w3.org/2000/svg\" height=\"24px\"viewBox=\"0 0 24 24\"\n",
              "       width=\"24px\">\n",
              "    <path d=\"M0 0h24v24H0V0z\" fill=\"none\"/>\n",
              "    <path d=\"M18.56 5.44l.94 2.06.94-2.06 2.06-.94-2.06-.94-.94-2.06-.94 2.06-2.06.94zm-11 1L8.5 8.5l.94-2.06 2.06-.94-2.06-.94L8.5 2.5l-.94 2.06-2.06.94zm10 10l.94 2.06.94-2.06 2.06-.94-2.06-.94-.94-2.06-.94 2.06-2.06.94z\"/><path d=\"M17.41 7.96l-1.37-1.37c-.4-.4-.92-.59-1.43-.59-.52 0-1.04.2-1.43.59L10.3 9.45l-7.72 7.72c-.78.78-.78 2.05 0 2.83L4 21.41c.39.39.9.59 1.41.59.51 0 1.02-.2 1.41-.59l7.78-7.78 2.81-2.81c.8-.78.8-2.07 0-2.86zM5.41 20L4 18.59l7.72-7.72 1.47 1.35L5.41 20z\"/>\n",
              "  </svg>\n",
              "      </button>\n",
              "      \n",
              "  <style>\n",
              "    .colab-df-container {\n",
              "      display:flex;\n",
              "      flex-wrap:wrap;\n",
              "      gap: 12px;\n",
              "    }\n",
              "\n",
              "    .colab-df-convert {\n",
              "      background-color: #E8F0FE;\n",
              "      border: none;\n",
              "      border-radius: 50%;\n",
              "      cursor: pointer;\n",
              "      display: none;\n",
              "      fill: #1967D2;\n",
              "      height: 32px;\n",
              "      padding: 0 0 0 0;\n",
              "      width: 32px;\n",
              "    }\n",
              "\n",
              "    .colab-df-convert:hover {\n",
              "      background-color: #E2EBFA;\n",
              "      box-shadow: 0px 1px 2px rgba(60, 64, 67, 0.3), 0px 1px 3px 1px rgba(60, 64, 67, 0.15);\n",
              "      fill: #174EA6;\n",
              "    }\n",
              "\n",
              "    [theme=dark] .colab-df-convert {\n",
              "      background-color: #3B4455;\n",
              "      fill: #D2E3FC;\n",
              "    }\n",
              "\n",
              "    [theme=dark] .colab-df-convert:hover {\n",
              "      background-color: #434B5C;\n",
              "      box-shadow: 0px 1px 3px 1px rgba(0, 0, 0, 0.15);\n",
              "      filter: drop-shadow(0px 1px 2px rgba(0, 0, 0, 0.3));\n",
              "      fill: #FFFFFF;\n",
              "    }\n",
              "  </style>\n",
              "\n",
              "      <script>\n",
              "        const buttonEl =\n",
              "          document.querySelector('#df-0b2a0b0f-96c7-4db3-9f5e-adf2299eaa11 button.colab-df-convert');\n",
              "        buttonEl.style.display =\n",
              "          google.colab.kernel.accessAllowed ? 'block' : 'none';\n",
              "\n",
              "        async function convertToInteractive(key) {\n",
              "          const element = document.querySelector('#df-0b2a0b0f-96c7-4db3-9f5e-adf2299eaa11');\n",
              "          const dataTable =\n",
              "            await google.colab.kernel.invokeFunction('convertToInteractive',\n",
              "                                                     [key], {});\n",
              "          if (!dataTable) return;\n",
              "\n",
              "          const docLinkHtml = 'Like what you see? Visit the ' +\n",
              "            '<a target=\"_blank\" href=https://colab.research.google.com/notebooks/data_table.ipynb>data table notebook</a>'\n",
              "            + ' to learn more about interactive tables.';\n",
              "          element.innerHTML = '';\n",
              "          dataTable['output_type'] = 'display_data';\n",
              "          await google.colab.output.renderOutput(dataTable, element);\n",
              "          const docLink = document.createElement('div');\n",
              "          docLink.innerHTML = docLinkHtml;\n",
              "          element.appendChild(docLink);\n",
              "        }\n",
              "      </script>\n",
              "    </div>\n",
              "  </div>\n",
              "  "
            ]
          },
          "metadata": {},
          "execution_count": 607
        }
      ]
    },
    {
      "cell_type": "markdown",
      "source": [
        "Nota: los valores que no pertenezcan al los Json arrojan errores"
      ],
      "metadata": {
        "id": "nUrOdjoB3e2s"
      }
    },
    {
      "cell_type": "markdown",
      "source": [
        "##2.\n"
      ],
      "metadata": {
        "id": "TTMo4l1f0HSt"
      }
    },
    {
      "cell_type": "markdown",
      "source": [
        "A) Genere un polinomio de numpy con 3 raices reales aleatorias entre los dos últimos números diferentes de su identificación (Ejemplo: 98554575 → 3 raices reales aleatorias  entre 5 y 7 )\\\n",
        "B) Encuentre los puntos críticos del polinomio: las raices de la derivada el polinomio.\\\n",
        "C) Con alguna de los métodos para encontrar mínimos compruebe que el punto crítico de menor (mayor) valor corresponde al mínimo (máximo) global del polinomio.\\\n",
        "D) Grafique el polinomío inclueyendo los puntos asociados a las raices."
      ],
      "metadata": {
        "id": "minzT_Lk0L97"
      }
    },
    {
      "cell_type": "markdown",
      "source": [
        "###a."
      ],
      "metadata": {
        "id": "TRPSRCXM2QGb"
      }
    },
    {
      "cell_type": "code",
      "execution_count": 608,
      "metadata": {
        "colab": {
          "base_uri": "https://localhost:8080/"
        },
        "id": "UC0CwvBoz_U9",
        "outputId": "ac553982-04d7-4905-852a-9ac1ec85a442"
      },
      "outputs": [
        {
          "output_type": "stream",
          "name": "stdout",
          "text": [
            "El polinomio con raices aleatoria es:\n",
            "   3         2\n",
            "1 x - 18.18 x + 109.8 x - 220.1\n"
          ]
        }
      ],
      "source": [
        "l = [5,6,7]\n",
        "R = []\n",
        "i=0\n",
        "while i < 3:\n",
        "  num=(np.random.random(1)+np.random.choice([5,6]))[0]\n",
        "  R.append(num)\n",
        "  i+=1\n",
        "p=np.poly1d(R,r=True)\n",
        "print(f'El polinomio con raices aleatoria es:\\n{p}')"
      ]
    },
    {
      "cell_type": "markdown",
      "source": [
        "###b."
      ],
      "metadata": {
        "id": "psUSHPm-2hFa"
      }
    },
    {
      "cell_type": "code",
      "source": [
        "pde= p.deriv()\n",
        "pdde = pde.deriv()\n",
        "pde,pdde\n",
        "'''lr = []\n",
        "for i in pde.roots.real:\n",
        "  lr.append(i)'''\n",
        "lr = pde.roots.real\n",
        "i=np.sort(lr)[0]\n",
        "print(f'los puntos criticos son {lr}')"
      ],
      "metadata": {
        "id": "q0arlWOjBnEf",
        "colab": {
          "base_uri": "https://localhost:8080/"
        },
        "outputId": "57c4bb5b-5c3c-4709-f136-691297e3c2b5"
      },
      "execution_count": null,
      "outputs": [
        {
          "output_type": "stream",
          "name": "stdout",
          "text": [
            "los puntos criticos son [6.61770122 5.50956281]\n"
          ]
        }
      ]
    },
    {
      "cell_type": "markdown",
      "source": [
        "###c."
      ],
      "metadata": {
        "id": "HHQfWP9w3KD_"
      }
    },
    {
      "cell_type": "code",
      "source": [
        "dic={} #diccionario vacío para ingresar los datos de los valores asociados a las raíces\n",
        "\n",
        "for i in range(len(lr)):\n",
        "    dic[p(lr[i])] = [lr[i]]\n",
        "\n",
        "l=np.sort(p(lr)) #Ordena los valores asociados a las raíces de menor a mayor para usar el método optimize en ese punto y verificar\n",
        "\n",
        "min= optimize.fmin_powell(p, dic.get(l[0]), disp=False) #Búsqueda del mínimo y máximo al rededor del punto encontrado.\n",
        "max= optimize.fmin_powell(-p, dic.get(l[-1]), disp=False)\n",
        "print('Mínimo global {} corresponde al maximo de los puntos criticos  {}' .format(dic.get(l[0]),min))\n",
        "print('Máximo global {} corresponde al minimo de los puntos criticos  {}' .format(dic.get(l[-1]),max))"
      ],
      "metadata": {
        "colab": {
          "base_uri": "https://localhost:8080/"
        },
        "id": "pnkhIprVzslR",
        "outputId": "d398ff97-2a44-49af-feac-ef4e18117c4d"
      },
      "execution_count": null,
      "outputs": [
        {
          "output_type": "stream",
          "name": "stdout",
          "text": [
            "Mínimo global [6.617701217683306] corresponde al maximo de los puntos criticos  [6.61770124]\n",
            "Máximo global [5.509562806937025] corresponde al minimo de los puntos criticos  [5.50956283]\n"
          ]
        }
      ]
    },
    {
      "cell_type": "markdown",
      "source": [
        "###d."
      ],
      "metadata": {
        "id": "EDwUXB613RpJ"
      }
    },
    {
      "cell_type": "code",
      "source": [
        "from numpy.core.function_base import linspace\n",
        "X=linspace(0,13,100)\n",
        "#print(X, len(X))\n",
        "plt.plot(X,p(X))\n",
        "plt.plot(lr,p(lr),'ro')\n",
        "plt.ylim(l[0]-300,l[-1]+300)\n",
        "plt.show()"
      ],
      "metadata": {
        "id": "Yb8ZAjs0ENX7",
        "colab": {
          "base_uri": "https://localhost:8080/",
          "height": 269
        },
        "outputId": "eae540a2-c852-48de-a25c-6f43fca0cd63"
      },
      "execution_count": null,
      "outputs": [
        {
          "output_type": "display_data",
          "data": {
            "text/plain": [
              "<Figure size 432x288 with 1 Axes>"
            ],
            "image/png": "[encoded data removed]"
          },
          "metadata": {
            "needs_background": "light"
          }
        }
      ]
    },
    {
      "cell_type": "code",
      "source": [
        ""
      ],
      "metadata": {
        "id": "3dGszYyB2Io4"
      },
      "execution_count": null,
      "outputs": []
    }
  ]
}