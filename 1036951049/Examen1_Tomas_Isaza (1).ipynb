{
  "nbformat": 4,
  "nbformat_minor": 0,
  "metadata": {
    "colab": {
      "name": "Examen1_Tomas_Isaza.ipynb",
      "provenance": []
    },
    "kernelspec": {
      "name": "python3",
      "display_name": "Python 3"
    },
    "language_info": {
      "name": "python"
    }
  },
  "cells": [
    {
      "cell_type": "code",
      "execution_count": 5,
      "metadata": {
        "colab": {
          "base_uri": "https://localhost:8080/",
          "height": 348
        },
        "id": "tDlp6IcKuAd7",
        "outputId": "b057eded-dcd3-402d-fe62-6a2f7434c705"
      },
      "outputs": [
        {
          "output_type": "stream",
          "name": "stdout",
          "text": [
            "1036951049\n",
            "máximo del polinomio\n",
            "mínimo del polinomio\n",
            "7.161007478342865 7.091402381480325 4.787348334214748\n"
          ]
        },
        {
          "output_type": "display_data",
          "data": {
            "text/plain": [
              "<Figure size 432x288 with 1 Axes>"
            ],
            "image/png": "[encoded data removed]"
          },
          "metadata": {
            "needs_background": "light"
          }
        }
      ],
      "source": [
        "import numpy as np\n",
        "import random \n",
        "from numpy.polynomial import polynomial as P\n",
        "import matplotlib.pylab as plt\n",
        "\n",
        "'''\n",
        "El siguiente programa busca construir un polinomio a partir de 3 raices dadas de forma aleatoria,\n",
        "encontrar la forma del polinomio y caraterizar sus puntos criticos como máximos y mínimos y graficar\n",
        "el polinomio, todo esto con ayuda de la libreria NUMPY.\n",
        "\n",
        "'''\n",
        "\n",
        "cc=list(input())                                     #imput cédula \n",
        "s=len(cc)\n",
        "a=int(cc[s-2])                                       #selección de los dos ultimos dígitos \n",
        "b=int(cc[-1])                                        \n",
        "\n",
        "x0=random.uniform(a,b)                               #generación de las 3 raíces de forma aleatoria\n",
        "x1=random.uniform(a,b)\n",
        "x2=random.uniform(a,b)\n",
        "\n",
        "p=P.polyfromroots((x0,x1,x2))                        #construcción del polinomio a partir de las raíces usando el método polyfromroots\n",
        "[l1,l2,l3,l4]=P.polyfromroots((x0,x1,x2))            #guardamos en una lista los coefficientes para evaluar el polinomio posteriormente\n",
        "\n",
        "dp=np.polyder(p,1)                                   #encontramos la derivada con el método polyder\n",
        "[x,y]=P.polyroots(dp)                                #guardamos en una lista las raices de la derivada usando el método polyroots\n",
        "\n",
        "dp2=np.polyder(dp,1)                                 #encontramos la segunda derivada\n",
        "[c1,c2]=np.polyder(p,2)                              \n",
        "\n",
        "ss=P.polyval(x,[c1,c2])                              #evaluamos la segunda derivada en los puntos [x,y] ceros de la primera derivada \n",
        "sss=P.polyval(y,[c1,c2])                             #usando el método polyvar y los caracterizamos como máximos o mínimos según su signo\n",
        "\n",
        "if ss>0:\n",
        "  print(\"mínimo del polinomio\")\n",
        "if ss<0: \n",
        "  print(\"máximo del polinomio\") \n",
        "if sss>0:\n",
        "  print(\"mínimo del polinomio\")\n",
        "if sss<0: \n",
        "  print(\"máximo del polinomio\")   \n",
        "\n",
        "print(x0,x1,x2)\n",
        "\n",
        "#graficacion \n",
        "\n",
        "\n",
        "t = np.linspace(0, 10, 10)                            #generamos un conjunto de puntos para graficas    \n",
        "l=np.zeros(len(t))                                    #arrays vacios\n",
        "ll=np.zeros(len(t)) \n",
        "\n",
        "for i,j in enumerate(t):                              #usamos enumerate para graficar el dominio contra el polinomio evaluado en cada punto\n",
        "  ll[i]=np.polyval([l4,l3,l2,l1],j)\n",
        "  l[i]=i\n",
        "\n",
        "plt.plot(l, ll)                                       #graficamos el polinomio y los puntos que corresponden a las raíces \n",
        "plt.plot(x0, np.polyval([l4,l3,l2,l1],x0),\"ro\" )\n",
        "plt.plot(x1, np.polyval([l4,l3,l2,l1],x1),\"ro\" )\n",
        "plt.plot(x2, np.polyval([l4,l3,l2,l1],x2),\"ro\" )\n",
        "plt.xlabel(\"x\")\n",
        "plt.ylabel(\"Polinomio p(x)\")\n",
        "plt.grid()  "
      ]
    },
    {
      "cell_type": "code",
      "source": [
        "countries={\"Code\": \"AF\", \"Name\": \"Afghanistan\"},{\"Code\": \"AX\", \"Name\": \"\\u00c5land Islands\"},{\"Code\": \"AL\", \"Name\": \"Albania\"},{\"Code\": \"DZ\", \"Name\": \"Algeria\"},{\"Code\": \"AS\", \"Name\": \"American Samoa\"},{\"Code\": \"AD\", \"Name\": \"Andorra\"},{\"Code\": \"AO\", \"Name\": \"Angola\"},{\"Code\": \"AI\", \"Name\": \"Anguilla\"},{\"Code\": \"AQ\", \"Name\": \"Antarctica\"},{\"Code\": \"AG\", \"Name\": \"Antigua and Barbuda\"},{\"Code\": \"AR\", \"Name\": \"Argentina\"},{\"Code\": \"AM\", \"Name\": \"Armenia\"},{\"Code\": \"AW\", \"Name\": \"Aruba\"},{\"Code\": \"AU\", \"Name\": \"Australia\"},{\"Code\": \"AT\", \"Name\": \"Austria\"},{\"Code\": \"AZ\", \"Name\": \"Azerbaijan\"},{\"Code\": \"BS\", \"Name\": \"Bahamas\"},{\"Code\": \"BH\", \"Name\": \"Bahrain\"},{\"Code\": \"BD\", \"Name\": \"Bangladesh\"},{\"Code\": \"BB\", \"Name\": \"Barbados\"},{\"Code\": \"BY\", \"Name\": \"Belarus\"},{\"Code\": \"BE\", \"Name\": \"Belgium\"},{\"Code\": \"BZ\", \"Name\": \"Belize\"},{\"Code\": \"BJ\", \"Name\": \"Benin\"},{\"Code\": \"BM\", \"Name\": \"Bermuda\"},{\"Code\": \"BT\", \"Name\": \"Bhutan\"},{\"Code\": \"BO\", \"Name\": \"Bolivia, Plurinational State of\"},{\"Code\": \"BQ\", \"Name\": \"Bonaire, Sint Eustatius and Saba\"},{\"Code\": \"BA\", \"Name\": \"Bosnia and Herzegovina\"},{\"Code\": \"BW\", \"Name\": \"Botswana\"},{\"Code\": \"BV\", \"Name\": \"Bouvet Island\"},{\"Code\": \"BR\", \"Name\": \"Brazil\"},{\"Code\": \"IO\", \"Name\": \"British Indian Ocean Territory\"},{\"Code\": \"BN\", \"Name\": \"Brunei Darussalam\"},{\"Code\": \"BG\", \"Name\": \"Bulgaria\"},{\"Code\": \"BF\", \"Name\": \"Burkina Faso\"},{\"Code\": \"BI\", \"Name\": \"Burundi\"},{\"Code\": \"KH\", \"Name\": \"Cambodia\"},{\"Code\": \"CM\", \"Name\": \"Cameroon\"},{\"Code\": \"CA\", \"Name\": \"Canada\"},{\"Code\": \"CV\", \"Name\": \"Cape Verde\"},{\"Code\": \"KY\", \"Name\": \"Cayman Islands\"},{\"Code\": \"CF\", \"Name\": \"Central African Republic\"},{\"Code\": \"TD\", \"Name\": \"Chad\"},{\"Code\": \"CL\", \"Name\": \"Chile\"},{\"Code\": \"CN\", \"Name\": \"China\"},{\"Code\": \"CX\", \"Name\": \"Christmas Island\"},{\"Code\": \"CC\", \"Name\": \"Cocos (Keeling) Islands\"},{\"Code\": \"CO\", \"Name\": \"Colombia\"},{\"Code\": \"KM\", \"Name\": \"Comoros\"},{\"Code\": \"CG\", \"Name\": \"Congo\"},{\"Code\": \"CD\", \"Name\": \"Congo, the Democratic Republic of the\"},{\"Code\": \"CK\", \"Name\": \"Cook Islands\"},{\"Code\": \"CR\", \"Name\": \"Costa Rica\"},{\"Code\": \"CI\", \"Name\": \"C\\u00f4te d'Ivoire\"},{\"Code\": \"HR\", \"Name\": \"Croatia\"},{\"Code\": \"CU\", \"Name\": \"Cuba\"},{\"Code\": \"CW\", \"Name\": \"Cura\\u00e7ao\"},{\"Code\": \"CY\", \"Name\": \"Cyprus\"},{\"Code\": \"CZ\", \"Name\": \"Czech Republic\"},{\"Code\": \"DK\", \"Name\": \"Denmark\"},{\"Code\": \"DJ\", \"Name\": \"Djibouti\"},{\"Code\": \"DM\", \"Name\": \"Dominica\"},{\"Code\": \"DO\", \"Name\": \"Dominican Republic\"},{\"Code\": \"EC\", \"Name\": \"Ecuador\"},{\"Code\": \"EG\", \"Name\": \"Egypt\"},{\"Code\": \"SV\", \"Name\": \"El Salvador\"},{\"Code\": \"GQ\", \"Name\": \"Equatorial Guinea\"},{\"Code\": \"ER\", \"Name\": \"Eritrea\"},{\"Code\": \"EE\", \"Name\": \"Estonia\"},{\"Code\": \"ET\", \"Name\": \"Ethiopia\"},{\"Code\": \"FK\", \"Name\": \"Falkland Islands (Malvinas)\"},{\"Code\": \"FO\", \"Name\": \"Faroe Islands\"},{\"Code\": \"FJ\", \"Name\": \"Fiji\"},{\"Code\": \"FI\", \"Name\": \"Finland\"},{\"Code\": \"FR\", \"Name\": \"France\"},{\"Code\": \"GF\", \"Name\": \"French Guiana\"},{\"Code\": \"PF\", \"Name\": \"French Polynesia\"},{\"Code\": \"TF\", \"Name\": \"French Southern Territories\"},{\"Code\": \"GA\", \"Name\": \"Gabon\"},{\"Code\": \"GM\", \"Name\": \"Gambia\"},{\"Code\": \"GE\", \"Name\": \"Georgia\"},{\"Code\": \"DE\", \"Name\": \"Germany\"},{\"Code\": \"GH\", \"Name\": \"Ghana\"},{\"Code\": \"GI\", \"Name\": \"Gibraltar\"},{\"Code\": \"GR\", \"Name\": \"Greece\"},{\"Code\": \"GL\", \"Name\": \"Greenland\"},{\"Code\": \"GD\", \"Name\": \"Grenada\"},{\"Code\": \"GP\", \"Name\": \"Guadeloupe\"},{\"Code\": \"GU\", \"Name\": \"Guam\"},{\"Code\": \"GT\", \"Name\": \"Guatemala\"},{\"Code\": \"GG\", \"Name\": \"Guernsey\"},{\"Code\": \"GN\", \"Name\": \"Guinea\"},{\"Code\": \"GW\", \"Name\": \"Guinea-Bissau\"},{\"Code\": \"GY\", \"Name\": \"Guyana\"},{\"Code\": \"HT\", \"Name\": \"Haiti\"},{\"Code\": \"HM\", \"Name\": \"Heard Island and McDonald Islands\"},{\"Code\": \"VA\", \"Name\": \"Holy See (Vatican City State)\"},{\"Code\": \"HN\", \"Name\": \"Honduras\"},{\"Code\": \"HK\", \"Name\": \"Hong Kong\"},{\"Code\": \"HU\", \"Name\": \"Hungary\"},{\"Code\": \"IS\", \"Name\": \"Iceland\"},{\"Code\": \"IN\", \"Name\": \"India\"},{\"Code\": \"ID\", \"Name\": \"Indonesia\"},{\"Code\": \"IR\", \"Name\": \"Iran, Islamic Republic of\"},{\"Code\": \"IQ\", \"Name\": \"Iraq\"},{\"Code\": \"IE\", \"Name\": \"Ireland\"},{\"Code\": \"IM\", \"Name\": \"Isle of Man\"},{\"Code\": \"IL\", \"Name\": \"Israel\"},{\"Code\": \"IT\", \"Name\": \"Italy\"},{\"Code\": \"JM\", \"Name\": \"Jamaica\"},{\"Code\": \"JP\", \"Name\": \"Japan\"},{\"Code\": \"JE\", \"Name\": \"Jersey\"},{\"Code\": \"JO\", \"Name\": \"Jordan\"},{\"Code\": \"KZ\", \"Name\": \"Kazakhstan\"},{\"Code\": \"KE\", \"Name\": \"Kenya\"},{\"Code\": \"KI\", \"Name\": \"Kiribati\"},{\"Code\": \"KP\", \"Name\": \"Korea, Democratic People's Republic of\"},{\"Code\": \"KR\", \"Name\": \"Korea, Republic of\"},{\"Code\": \"KW\", \"Name\": \"Kuwait\"},{\"Code\": \"KG\", \"Name\": \"Kyrgyzstan\"},{\"Code\": \"LA\", \"Name\": \"Lao People's Democratic Republic\"},{\"Code\": \"LV\", \"Name\": \"Latvia\"},{\"Code\": \"LB\", \"Name\": \"Lebanon\"},{\"Code\": \"LS\", \"Name\": \"Lesotho\"},{\"Code\": \"LR\", \"Name\": \"Liberia\"},{\"Code\": \"LY\", \"Name\": \"Libya\"},{\"Code\": \"LI\", \"Name\": \"Liechtenstein\"},{\"Code\": \"LT\", \"Name\": \"Lithuania\"},{\"Code\": \"LU\", \"Name\": \"Luxembourg\"},{\"Code\": \"MO\", \"Name\": \"Macao\"},{\"Code\": \"MK\", \"Name\": \"Macedonia, the Former Yugoslav Republic of\"},{\"Code\": \"MG\", \"Name\": \"Madagascar\"},{\"Code\": \"MW\", \"Name\": \"Malawi\"},{\"Code\": \"MY\", \"Name\": \"Malaysia\"},{\"Code\": \"MV\", \"Name\": \"Maldives\"},{\"Code\": \"ML\", \"Name\": \"Mali\"},{\"Code\": \"MT\", \"Name\": \"Malta\"},{\"Code\": \"MH\", \"Name\": \"Marshall Islands\"},{\"Code\": \"MQ\", \"Name\": \"Martinique\"},{\"Code\": \"MR\", \"Name\": \"Mauritania\"},{\"Code\": \"MU\", \"Name\": \"Mauritius\"},{\"Code\": \"YT\", \"Name\": \"Mayotte\"},{\"Code\": \"MX\", \"Name\": \"Mexico\"},{\"Code\": \"FM\", \"Name\": \"Micronesia, Federated States of\"},{\"Code\": \"MD\", \"Name\": \"Moldova, Republic of\"},{\"Code\": \"MC\", \"Name\": \"Monaco\"},{\"Code\": \"MN\", \"Name\": \"Mongolia\"},{\"Code\": \"ME\", \"Name\": \"Montenegro\"},{\"Code\": \"MS\", \"Name\": \"Montserrat\"},{\"Code\": \"MA\", \"Name\": \"Morocco\"},{\"Code\": \"MZ\", \"Name\": \"Mozambique\"},{\"Code\": \"MM\", \"Name\": \"Myanmar\"},{\"Code\": \"NA\", \"Name\": \"Namibia\"},{\"Code\": \"NR\", \"Name\": \"Nauru\"},{\"Code\": \"NP\", \"Name\": \"Nepal\"},{\"Code\": \"NL\", \"Name\": \"Netherlands\"},{\"Code\": \"NC\", \"Name\": \"New Caledonia\"},{\"Code\": \"NZ\", \"Name\": \"New Zealand\"},{\"Code\": \"NI\", \"Name\": \"Nicaragua\"},{\"Code\": \"NE\", \"Name\": \"Niger\"},{\"Code\": \"NG\", \"Name\": \"Nigeria\"},{\"Code\": \"NU\", \"Name\": \"Niue\"},{\"Code\": \"NF\", \"Name\": \"Norfolk Island\"},{\"Code\": \"MP\", \"Name\": \"Northern Mariana Islands\"},{\"Code\": \"NO\", \"Name\": \"Norway\"},{\"Code\": \"OM\", \"Name\": \"Oman\"},{\"Code\": \"PK\", \"Name\": \"Pakistan\"},{\"Code\": \"PW\", \"Name\": \"Palau\"},{\"Code\": \"PS\", \"Name\": \"Palestine, State of\"},{\"Code\": \"PA\", \"Name\": \"Panama\"},{\"Code\": \"PG\", \"Name\": \"Papua New Guinea\"},{\"Code\": \"PY\", \"Name\": \"Paraguay\"},{\"Code\": \"PE\", \"Name\": \"Peru\"},{\"Code\": \"PH\", \"Name\": \"Philippines\"},{\"Code\": \"PN\", \"Name\": \"Pitcairn\"},{\"Code\": \"PL\", \"Name\": \"Poland\"},{\"Code\": \"PT\", \"Name\": \"Portugal\"},{\"Code\": \"PR\", \"Name\": \"Puerto Rico\"},{\"Code\": \"QA\", \"Name\": \"Qatar\"},{\"Code\": \"RE\", \"Name\": \"R\\u00e9union\"},{\"Code\": \"RO\", \"Name\": \"Romania\"},{\"Code\": \"RU\", \"Name\": \"Russian Federation\"},{\"Code\": \"RW\", \"Name\": \"Rwanda\"},{\"Code\": \"BL\", \"Name\": \"Saint Barth\\u00e9lemy\"},{\"Code\": \"SH\", \"Name\": \"Saint Helena, Ascension and Tristan da Cunha\"},{\"Code\": \"KN\", \"Name\": \"Saint Kitts and Nevis\"},{\"Code\": \"LC\", \"Name\": \"Saint Lucia\"},{\"Code\": \"MF\", \"Name\": \"Saint Martin (French part)\"},{\"Code\": \"PM\", \"Name\": \"Saint Pierre and Miquelon\"},{\"Code\": \"VC\", \"Name\": \"Saint Vincent and the Grenadines\"},{\"Code\": \"WS\", \"Name\": \"Samoa\"},{\"Code\": \"SM\", \"Name\": \"San Marino\"},{\"Code\": \"ST\", \"Name\": \"Sao Tome and Principe\"},{\"Code\": \"SA\", \"Name\": \"Saudi Arabia\"},{\"Code\": \"SN\", \"Name\": \"Senegal\"},{\"Code\": \"RS\", \"Name\": \"Serbia\"},{\"Code\": \"SC\", \"Name\": \"Seychelles\"},{\"Code\": \"SL\", \"Name\": \"Sierra Leone\"},{\"Code\": \"SG\", \"Name\": \"Singapore\"},{\"Code\": \"SX\", \"Name\": \"Sint Maarten (Dutch part)\"},{\"Code\": \"SK\", \"Name\": \"Slovakia\"},{\"Code\": \"SI\", \"Name\": \"Slovenia\"},{\"Code\": \"SB\", \"Name\": \"Solomon Islands\"},{\"Code\": \"SO\", \"Name\": \"Somalia\"},{\"Code\": \"ZA\", \"Name\": \"South Africa\"},{\"Code\": \"GS\", \"Name\": \"South Georgia and the South Sandwich Islands\"},{\"Code\": \"SS\", \"Name\": \"South Sudan\"},{\"Code\": \"ES\", \"Name\": \"Spain\"},{\"Code\": \"LK\", \"Name\": \"Sri Lanka\"},{\"Code\": \"SD\", \"Name\": \"Sudan\"},{\"Code\": \"SR\", \"Name\": \"Suriname\"},{\"Code\": \"SJ\", \"Name\": \"Svalbard and Jan Mayen\"},{\"Code\": \"SZ\", \"Name\": \"Swaziland\"},{\"Code\": \"SE\", \"Name\": \"Sweden\"},{\"Code\": \"CH\", \"Name\": \"Switzerland\"},{\"Code\": \"SY\", \"Name\": \"Syrian Arab Republic\"},{\"Code\": \"TW\", \"Name\": \"Taiwan, Province of China\"},{\"Code\": \"TJ\", \"Name\": \"Tajikistan\"},{\"Code\": \"TZ\", \"Name\": \"Tanzania, United Republic of\"},{\"Code\": \"TH\", \"Name\": \"Thailand\"},{\"Code\": \"TL\", \"Name\": \"Timor-Leste\"},{\"Code\": \"TG\", \"Name\": \"Togo\"},{\"Code\": \"TK\", \"Name\": \"Tokelau\"},{\"Code\": \"TO\", \"Name\": \"Tonga\"},{\"Code\": \"TT\", \"Name\": \"Trinidad and Tobago\"},{\"Code\": \"TN\", \"Name\": \"Tunisia\"},{\"Code\": \"TR\", \"Name\": \"Turkey\"},{\"Code\": \"TM\", \"Name\": \"Turkmenistan\"},{\"Code\": \"TC\", \"Name\": \"Turks and Caicos Islands\"},{\"Code\": \"TV\", \"Name\": \"Tuvalu\"},{\"Code\": \"UG\", \"Name\": \"Uganda\"},{\"Code\": \"UA\", \"Name\": \"Ukraine\"},{\"Code\": \"AE\", \"Name\": \"United Arab Emirates\"},{\"Code\": \"GB\", \"Name\": \"United Kingdom\"},{\"Code\": \"US\", \"Name\": \"United States\"},{\"Code\": \"UM\", \"Name\": \"United States Minor Outlying Islands\"},{\"Code\": \"UY\", \"Name\": \"Uruguay\"},{\"Code\": \"UZ\", \"Name\": \"Uzbekistan\"},{\"Code\": \"VU\", \"Name\": \"Vanuatu\"},{\"Code\": \"VE\", \"Name\": \"Venezuela, Bolivarian Republic of\"},{\"Code\": \"VN\", \"Name\": \"Viet Nam\"},{\"Code\": \"VG\", \"Name\": \"Virgin Islands, British\"},{\"Code\": \"VI\", \"Name\": \"Virgin Islands, U.S.\"},{\"Code\": \"WF\", \"Name\": \"Wallis and Futuna\"},{\"Code\": \"EH\", \"Name\": \"Western Sahara\"},{\"Code\": \"YE\", \"Name\": \"Yemen\"},{\"Code\": \"ZM\", \"Name\": \"Zambia\"},{\"Code\": \"ZW\", \"Name\": \"Zimbabwe\"}"
      ],
      "metadata": {
        "id": "U8DgF3ppuHiu"
      },
      "execution_count": 2,
      "outputs": []
    },
    {
      "cell_type": "code",
      "source": [
        "import json                       #cargamos la informacion de las ciudades\n",
        "import random                     #importamos json, random y requests para acceder a la pagina\n",
        "import requests\n",
        "import pprint                     #pprint nos ayuda imprimir en un mejor formato\n",
        "\n",
        "f=open('countries.json','w')\n",
        "json.dump(countries,f)\n",
        "f.close()"
      ],
      "metadata": {
        "id": "V1Msf1UXuNg0"
      },
      "execution_count": 3,
      "outputs": []
    },
    {
      "cell_type": "code",
      "source": [
        "f=open('countries.json','r')\n",
        "countries=json.load(f)\n",
        "f.close()\n",
        "\n",
        "s=[d.get(\"Name\") for d in countries]             #tomamos sólo las cuidades\n",
        "len(s)\n",
        "\n",
        "x=random.randint(0,len(s))                       #cargamos una ciudad aleatoriamente\n",
        "y=s[x]\n",
        "\n",
        "url=\"https://inspirehep.net/api/institutions?sort=mostrecent&size=25&page=1\"             #pasamos la url de la pagina que vamos a utilizar en formato api\n",
        "params={\"i\":\"y\"}                                                                         #el pais elegido como parámetro                             \n",
        "url2=\"https://inspirehep.net/api/authors?sort=mostrecent&size=25&page=1\"                 #una segunda url con los autores\n",
        "response=requests.get(url,params)\n",
        "\n",
        "if response.status_code==200:                                                            #se carga la informacion desde la pagina\n",
        "  data=json.loads(response.text)\n",
        "  #pprint.pprint(data)\n",
        "  institutions=data[\"country\"]\n",
        "  print(institutions)\n",
        "else:\n",
        "  print(\"error\")  "
      ],
      "metadata": {
        "colab": {
          "base_uri": "https://localhost:8080/",
          "height": 235
        },
        "id": "nGLItqDKuQla",
        "outputId": "6a67e246-3e1d-4689-e3d7-200340b01b18"
      },
      "execution_count": 4,
      "outputs": [
        {
          "output_type": "error",
          "ename": "KeyError",
          "evalue": "ignored",
          "traceback": [
            "\u001b[0;31m---------------------------------------------------------------------------\u001b[0m",
            "\u001b[0;31mKeyError\u001b[0m                                  Traceback (most recent call last)",
            "\u001b[0;32m<ipython-input-4-54a24c461541>\u001b[0m in \u001b[0;36m<module>\u001b[0;34m()\u001b[0m\n\u001b[1;32m     17\u001b[0m   \u001b[0mdata\u001b[0m\u001b[0;34m=\u001b[0m\u001b[0mjson\u001b[0m\u001b[0;34m.\u001b[0m\u001b[0mloads\u001b[0m\u001b[0;34m(\u001b[0m\u001b[0mresponse\u001b[0m\u001b[0;34m.\u001b[0m\u001b[0mtext\u001b[0m\u001b[0;34m)\u001b[0m\u001b[0;34m\u001b[0m\u001b[0;34m\u001b[0m\u001b[0m\n\u001b[1;32m     18\u001b[0m   \u001b[0;31m#pprint.pprint(data)\u001b[0m\u001b[0;34m\u001b[0m\u001b[0;34m\u001b[0m\u001b[0;34m\u001b[0m\u001b[0m\n\u001b[0;32m---> 19\u001b[0;31m   \u001b[0minstitutions\u001b[0m\u001b[0;34m=\u001b[0m\u001b[0mdata\u001b[0m\u001b[0;34m[\u001b[0m\u001b[0;34m\"country\"\u001b[0m\u001b[0;34m]\u001b[0m\u001b[0;34m\u001b[0m\u001b[0;34m\u001b[0m\u001b[0m\n\u001b[0m\u001b[1;32m     20\u001b[0m   \u001b[0mprint\u001b[0m\u001b[0;34m(\u001b[0m\u001b[0minstitutions\u001b[0m\u001b[0;34m)\u001b[0m\u001b[0;34m\u001b[0m\u001b[0;34m\u001b[0m\u001b[0m\n\u001b[1;32m     21\u001b[0m \u001b[0;32melse\u001b[0m\u001b[0;34m:\u001b[0m\u001b[0;34m\u001b[0m\u001b[0;34m\u001b[0m\u001b[0m\n",
            "\u001b[0;31mKeyError\u001b[0m: 'country'"
          ]
        }
      ]
    }
  ]
}