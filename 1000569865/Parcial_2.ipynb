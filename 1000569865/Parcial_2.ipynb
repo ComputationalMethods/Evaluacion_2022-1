{
  "nbformat": 4,
  "nbformat_minor": 0,
  "metadata": {
    "colab": {
      "provenance": [],
      "collapsed_sections": []
    },
    "kernelspec": {
      "name": "python3",
      "display_name": "Python 3"
    },
    "language_info": {
      "name": "python"
    },
    "gpuClass": "standard"
  },
  "cells": [
    {
      "cell_type": "code",
      "source": [
        "import scipy as sc\n",
        "import random\n",
        "import numpy as np\n",
        "import pandas as pd\n",
        "import sympy as sp\n",
        "from scipy import integrate\n",
        "from IPython.display import display, Latex\n",
        "from scipy import linalg\n"
      ],
      "metadata": {
        "id": "Onr03X7-vJsP"
      },
      "execution_count": 393,
      "outputs": []
    },
    {
      "cell_type": "markdown",
      "source": [
        "# Examen 2: Métodos computacionales\n",
        "A)\n",
        "1. Usando su número de cédula cómo semilla, obtenga un numero entero aleatorio, $n$, entre 2 y 20.\n",
        "2. Usando el $n$ obtenido, haga una estimación de la siguiente integral hasta dos cifras significativas, usando el método `quad` del módulo `integrate` de Scipy\n",
        "$$\n",
        "\\int_0^\\infty \\sin(x^n)\\operatorname{d}x\n",
        "$$\n",
        "Sugerencia. Compare con el valor obtenido desde https://www.wolframalpha.com/ o [sympy](https://stackoverflow.com/questions/65862611/integration-of-sin-x-dx-problem-in-python-programming-implementation)\n",
        "\n",
        "$0.164439$"
      ],
      "metadata": {
        "id": "z-CzZxhMvClw"
      }
    },
    {
      "cell_type": "code",
      "execution_count": 558,
      "metadata": {
        "id": "zn9qZR7au2zE",
        "colab": {
          "base_uri": "https://localhost:8080/"
        },
        "outputId": "831c6778-3cd4-425c-da7d-a8f52a1c59d6"
      },
      "outputs": [
        {
          "output_type": "execute_result",
          "data": {
            "text/plain": [
              "11"
            ]
          },
          "metadata": {},
          "execution_count": 558
        }
      ],
      "source": [
        "random.seed(1000569865)\n",
        "n = random.randrange(2, 21, 1)\n",
        "n"
      ]
    },
    {
      "cell_type": "markdown",
      "source": [
        "$$\\int_{0}^{∞}sen(x)^ndx = \\int_{0}^{1}sen(x)^ndx + \\int_{0}^{1}\\frac{sen\\frac{1}{t} ^n}{t^2}dt$$"
      ],
      "metadata": {
        "id": "fApflSU1T2rT"
      }
    },
    {
      "cell_type": "code",
      "source": [
        "valor = integrate.quad(lambda x: np.sin((x**n)),0,1)[0] + integrate.quad(lambda x: np.sin(((1/x)**n))/x**2,0.6,1)[0]\n",
        "valorW =0.135922\n",
        "a = r'\\int_{0}^{∞}sen(x^n)dx\\approx'\n",
        "b = r'\\int_{0}^{∞}sen(x^n)dx'\n",
        "display(Latex(f'$El~valor~de~{a}  {valor}$'))\n",
        "display(Latex(f'$El~valor~en~Wolframalpha~de~{b}={valorW}$')) \n"
      ],
      "metadata": {
        "colab": {
          "base_uri": "https://localhost:8080/",
          "height": 60
        },
        "id": "7thETzpa8PEK",
        "outputId": "07f33f49-48d8-46f1-f98d-e4a86ce5f17f"
      },
      "execution_count": 566,
      "outputs": [
        {
          "output_type": "display_data",
          "data": {
            "text/plain": [
              "<IPython.core.display.Latex object>"
            ],
            "text/latex": "$El~valor~de~\\int_{0}^{∞}sen(x^n)dx\\approx  0.13554991012823892$"
          },
          "metadata": {}
        },
        {
          "output_type": "display_data",
          "data": {
            "text/plain": [
              "<IPython.core.display.Latex object>"
            ],
            "text/latex": "$El~valor~en~Wolframalpha~de~\\int_{0}^{∞}sen(x^n)dx=0.135922$"
          },
          "metadata": {}
        }
      ]
    },
    {
      "cell_type": "markdown",
      "source": [
        "$$\\int_{1}^{∞}sen(x)^ndx=\\int_{0}^{1}\\frac{sen\\frac{1}{t} ^n}{t^2}dx.~~~~~~~con~t=x^-1,~dx=-\\frac{dt}{t^2}.$$ \\\n",
        "\n",
        "Notamos que el límite de integracion superior en inferior son invertidos por el signo menos presente en $dx$, sabiendo esto, en la integral $'integrate.quad(f(x),lim_{inf},lim_{sup})'$, el $lim_{inf}$ de $\\int_{0}^{1}\\frac{sen\\frac{1}{t} ^n}{t^2}dx$ es el superior de $\\int_{1}^{∞}sen(x)^ndx$ por lo que al cambiar $0$ por $0.5$ estamos acotando la suma superiormente.\n"
      ],
      "metadata": {
        "id": "Idk-8IlESS38"
      }
    },
    {
      "cell_type": "markdown",
      "source": [
        "B) Cargue los datos disponibles en:\n",
        "\n",
        "https://raw.githubusercontent.com/ComputationalMethods/Evaluacion_2022-1/main/data/lista_pares.json\n",
        "\n",
        "como un DataFrame de pandas. Este contendrá dos columnas. La columna `lista`, con una lista de 8 enteros (algunos de ellos repetidos) y una columna `pares` correspondiente a un diccionario\n",
        "con dos items: un entero rotulado con `'S'` y una lista de pares de enteros routulada con `'ψ'`. Note que el resultado de la suma en valor absoluto de los dos enteros en cada uno de los pares reproduce el valor del correspondiente `'S'` \n",
        "\n",
        "Seleccione la fila del DataFrame con el índice correspondiente a los dos últimos dígitos de su cédula y desarrolle los siguientes puntos con la correspondiente  `lista` y `pares`:\n",
        "1. Construya una matrix $8\\times 8$ _simétrica_ donde cada fila y la correspondiente columna correspondan a un entero de la `lista` (incluyendo los repetidos); de manera que en los cruces de filas y columnas definidos por los pares de enteros de `'ψ'`, se genere una entrada aleatoria mayor que cero y menor o igual que 1, con las demas entradas iguales a cero.\n",
        "\n",
        "\n",
        "3. Establezca explícitamente _cuantos_ autovalores son degenerados en valor absoluto."
      ],
      "metadata": {
        "id": "t8mhBHZRn8w6"
      }
    },
    {
      "cell_type": "code",
      "source": [
        "r1 = pd.read_json(f'https://raw.githubusercontent.com/ComputationalMethods/Evaluacion_2022-1/main/data/lista_pares.json')\n",
        "r1"
      ],
      "metadata": {
        "colab": {
          "base_uri": "https://localhost:8080/",
          "height": 659
        },
        "id": "JxvsIUbmn73E",
        "outputId": "ad82048f-8d85-4d68-ad40-def830c3136a"
      },
      "execution_count": null,
      "outputs": [
        {
          "output_type": "execute_result",
          "data": {
            "text/plain": [
              "                                 lista  \\\n",
              "0          [1, 1, 2, 3, -4, -4, -5, 6]   \n",
              "1          [1, 2, 2, 2, -3, -5, -6, 7]   \n",
              "2         [1, -2, -2, 4, 5, -7, -7, 8]   \n",
              "3          [1, 2, 2, 4, -5, -5, -7, 8]   \n",
              "4         [2, -3, -4, 5, -6, 7, 7, -8]   \n",
              "..                                 ...   \n",
              "240  [2, -4, -5, 10, 11, -16, -17, 19]   \n",
              "241  [5, -7, -7, 11, 13, -17, -17, 19]   \n",
              "242   [4, -5, -7, 8, -17, 18, 18, -19]   \n",
              "243    [2, 2, 5, -7, 10, -14, -17, 19]   \n",
              "244   [2, -3, -3, 6, 10, -13, -18, 19]   \n",
              "\n",
              "                                                 pares  \n",
              "0    {'S': 2, 'ψ': [[3, -5], [2, -4], [-4, 6], [1, ...  \n",
              "1    {'S': 4, 'ψ': [[2, 2], [-3, 7], [1, -5], [2, -...  \n",
              "2    {'S': 9, 'ψ': [[4, 5], [1, 8], [-2, -7], [5, 4...  \n",
              "3    {'S': 3, 'ψ': [[4, -7], [-5, 8], [2, -5], [1, ...  \n",
              "4    {'S': 1, 'ψ': [[-6, 7], [7, -8], [5, -6], [2, ...  \n",
              "..                                                 ...  \n",
              "240  {'S': 21, 'ψ': [[-4, -17], [-5, -16], [10, 11]...  \n",
              "241  {'S': 24, 'ψ': [[5, 19], [-7, -17], [11, 13], ...  \n",
              "242  {'S': 1, 'ψ': [[-7, 8], [4, -5], [-17, 18], [1...  \n",
              "243  {'S': 12, 'ψ': [[2, -14], [2, 10], [-7, 19], [...  \n",
              "244  {'S': 16, 'ψ': [[-3, -13], [6, 10], [2, -18], ...  \n",
              "\n",
              "[245 rows x 2 columns]"
            ],
            "text/html": [
              "\n",
              "  <div id=\"df-bda22013-620c-4e3a-a745-1d17a0113e85\">\n",
              "    <div class=\"colab-df-container\">\n",
              "      <div>\n",
              "<style scoped>\n",
              "    .dataframe tbody tr th:only-of-type {\n",
              "        vertical-align: middle;\n",
              "    }\n",
              "\n",
              "    .dataframe tbody tr th {\n",
              "        vertical-align: top;\n",
              "    }\n",
              "\n",
              "    .dataframe thead th {\n",
              "        text-align: right;\n",
              "    }\n",
              "</style>\n",
              "<table border=\"1\" class=\"dataframe\">\n",
              "  <thead>\n",
              "    <tr style=\"text-align: right;\">\n",
              "      <th></th>\n",
              "      <th>lista</th>\n",
              "      <th>pares</th>\n",
              "    </tr>\n",
              "  </thead>\n",
              "  <tbody>\n",
              "    <tr>\n",
              "      <th>0</th>\n",
              "      <td>[1, 1, 2, 3, -4, -4, -5, 6]</td>\n",
              "      <td>{'S': 2, 'ψ': [[3, -5], [2, -4], [-4, 6], [1, ...</td>\n",
              "    </tr>\n",
              "    <tr>\n",
              "      <th>1</th>\n",
              "      <td>[1, 2, 2, 2, -3, -5, -6, 7]</td>\n",
              "      <td>{'S': 4, 'ψ': [[2, 2], [-3, 7], [1, -5], [2, -...</td>\n",
              "    </tr>\n",
              "    <tr>\n",
              "      <th>2</th>\n",
              "      <td>[1, -2, -2, 4, 5, -7, -7, 8]</td>\n",
              "      <td>{'S': 9, 'ψ': [[4, 5], [1, 8], [-2, -7], [5, 4...</td>\n",
              "    </tr>\n",
              "    <tr>\n",
              "      <th>3</th>\n",
              "      <td>[1, 2, 2, 4, -5, -5, -7, 8]</td>\n",
              "      <td>{'S': 3, 'ψ': [[4, -7], [-5, 8], [2, -5], [1, ...</td>\n",
              "    </tr>\n",
              "    <tr>\n",
              "      <th>4</th>\n",
              "      <td>[2, -3, -4, 5, -6, 7, 7, -8]</td>\n",
              "      <td>{'S': 1, 'ψ': [[-6, 7], [7, -8], [5, -6], [2, ...</td>\n",
              "    </tr>\n",
              "    <tr>\n",
              "      <th>...</th>\n",
              "      <td>...</td>\n",
              "      <td>...</td>\n",
              "    </tr>\n",
              "    <tr>\n",
              "      <th>240</th>\n",
              "      <td>[2, -4, -5, 10, 11, -16, -17, 19]</td>\n",
              "      <td>{'S': 21, 'ψ': [[-4, -17], [-5, -16], [10, 11]...</td>\n",
              "    </tr>\n",
              "    <tr>\n",
              "      <th>241</th>\n",
              "      <td>[5, -7, -7, 11, 13, -17, -17, 19]</td>\n",
              "      <td>{'S': 24, 'ψ': [[5, 19], [-7, -17], [11, 13], ...</td>\n",
              "    </tr>\n",
              "    <tr>\n",
              "      <th>242</th>\n",
              "      <td>[4, -5, -7, 8, -17, 18, 18, -19]</td>\n",
              "      <td>{'S': 1, 'ψ': [[-7, 8], [4, -5], [-17, 18], [1...</td>\n",
              "    </tr>\n",
              "    <tr>\n",
              "      <th>243</th>\n",
              "      <td>[2, 2, 5, -7, 10, -14, -17, 19]</td>\n",
              "      <td>{'S': 12, 'ψ': [[2, -14], [2, 10], [-7, 19], [...</td>\n",
              "    </tr>\n",
              "    <tr>\n",
              "      <th>244</th>\n",
              "      <td>[2, -3, -3, 6, 10, -13, -18, 19]</td>\n",
              "      <td>{'S': 16, 'ψ': [[-3, -13], [6, 10], [2, -18], ...</td>\n",
              "    </tr>\n",
              "  </tbody>\n",
              "</table>\n",
              "<p>245 rows × 2 columns</p>\n",
              "</div>\n",
              "      <button class=\"colab-df-convert\" onclick=\"convertToInteractive('df-bda22013-620c-4e3a-a745-1d17a0113e85')\"\n",
              "              title=\"Convert this dataframe to an interactive table.\"\n",
              "              style=\"display:none;\">\n",
              "        \n",
              "  <svg xmlns=\"http://www.w3.org/2000/svg\" height=\"24px\"viewBox=\"0 0 24 24\"\n",
              "       width=\"24px\">\n",
              "    <path d=\"M0 0h24v24H0V0z\" fill=\"none\"/>\n",
              "    <path d=\"M18.56 5.44l.94 2.06.94-2.06 2.06-.94-2.06-.94-.94-2.06-.94 2.06-2.06.94zm-11 1L8.5 8.5l.94-2.06 2.06-.94-2.06-.94L8.5 2.5l-.94 2.06-2.06.94zm10 10l.94 2.06.94-2.06 2.06-.94-2.06-.94-.94-2.06-.94 2.06-2.06.94z\"/><path d=\"M17.41 7.96l-1.37-1.37c-.4-.4-.92-.59-1.43-.59-.52 0-1.04.2-1.43.59L10.3 9.45l-7.72 7.72c-.78.78-.78 2.05 0 2.83L4 21.41c.39.39.9.59 1.41.59.51 0 1.02-.2 1.41-.59l7.78-7.78 2.81-2.81c.8-.78.8-2.07 0-2.86zM5.41 20L4 18.59l7.72-7.72 1.47 1.35L5.41 20z\"/>\n",
              "  </svg>\n",
              "      </button>\n",
              "      \n",
              "  <style>\n",
              "    .colab-df-container {\n",
              "      display:flex;\n",
              "      flex-wrap:wrap;\n",
              "      gap: 12px;\n",
              "    }\n",
              "\n",
              "    .colab-df-convert {\n",
              "      background-color: #E8F0FE;\n",
              "      border: none;\n",
              "      border-radius: 50%;\n",
              "      cursor: pointer;\n",
              "      display: none;\n",
              "      fill: #1967D2;\n",
              "      height: 32px;\n",
              "      padding: 0 0 0 0;\n",
              "      width: 32px;\n",
              "    }\n",
              "\n",
              "    .colab-df-convert:hover {\n",
              "      background-color: #E2EBFA;\n",
              "      box-shadow: 0px 1px 2px rgba(60, 64, 67, 0.3), 0px 1px 3px 1px rgba(60, 64, 67, 0.15);\n",
              "      fill: #174EA6;\n",
              "    }\n",
              "\n",
              "    [theme=dark] .colab-df-convert {\n",
              "      background-color: #3B4455;\n",
              "      fill: #D2E3FC;\n",
              "    }\n",
              "\n",
              "    [theme=dark] .colab-df-convert:hover {\n",
              "      background-color: #434B5C;\n",
              "      box-shadow: 0px 1px 3px 1px rgba(0, 0, 0, 0.15);\n",
              "      filter: drop-shadow(0px 1px 2px rgba(0, 0, 0, 0.3));\n",
              "      fill: #FFFFFF;\n",
              "    }\n",
              "  </style>\n",
              "\n",
              "      <script>\n",
              "        const buttonEl =\n",
              "          document.querySelector('#df-bda22013-620c-4e3a-a745-1d17a0113e85 button.colab-df-convert');\n",
              "        buttonEl.style.display =\n",
              "          google.colab.kernel.accessAllowed ? 'block' : 'none';\n",
              "\n",
              "        async function convertToInteractive(key) {\n",
              "          const element = document.querySelector('#df-bda22013-620c-4e3a-a745-1d17a0113e85');\n",
              "          const dataTable =\n",
              "            await google.colab.kernel.invokeFunction('convertToInteractive',\n",
              "                                                     [key], {});\n",
              "          if (!dataTable) return;\n",
              "\n",
              "          const docLinkHtml = 'Like what you see? Visit the ' +\n",
              "            '<a target=\"_blank\" href=https://colab.research.google.com/notebooks/data_table.ipynb>data table notebook</a>'\n",
              "            + ' to learn more about interactive tables.';\n",
              "          element.innerHTML = '';\n",
              "          dataTable['output_type'] = 'display_data';\n",
              "          await google.colab.output.renderOutput(dataTable, element);\n",
              "          const docLink = document.createElement('div');\n",
              "          docLink.innerHTML = docLinkHtml;\n",
              "          element.appendChild(docLink);\n",
              "        }\n",
              "      </script>\n",
              "    </div>\n",
              "  </div>\n",
              "  "
            ]
          },
          "metadata": {},
          "execution_count": 283
        }
      ]
    },
    {
      "cell_type": "code",
      "source": [
        "A = r1.lista[65]\n",
        "B = r1.pares[65]['ψ']\n",
        "lista0 =[]\n",
        "for  i in A:\n",
        "    lista = []\n",
        "    for j in A:\n",
        "        if [i,j] in r1.pares[65]['ψ']:\n",
        "            lista.append(round(random.random(),2))\n",
        "        else:\n",
        "            lista.append(0)\n",
        "    #print(lista)\n",
        "    lista0.append(lista)\n",
        "B = np.array(lista0)\n",
        "C = sp.Matrix(B)\n",
        "C"
      ],
      "metadata": {
        "colab": {
          "base_uri": "https://localhost:8080/",
          "height": 180
        },
        "id": "DnuHJ9cB2BRy",
        "outputId": "852c710e-32ce-4ba5-f082-a93f3121606a"
      },
      "execution_count": 416,
      "outputs": [
        {
          "output_type": "execute_result",
          "data": {
            "text/plain": [
              "Matrix([\n",
              "[ 0.0,  0.0,  0.0,  0.0,  0.0,  0.0,  0.0, 0.36],\n",
              "[ 0.0,  0.0,  0.0,  0.0,  0.0,  0.0, 0.81,  0.0],\n",
              "[ 0.0,  0.0,  0.0,  0.0,  0.0, 0.68,  0.0,  0.0],\n",
              "[ 0.0,  0.0,  0.0,  0.0, 0.21,  0.0,  0.0,  0.0],\n",
              "[ 0.0,  0.0,  0.0, 0.68,  0.0,  0.0,  0.0,  0.0],\n",
              "[ 0.0,  0.0, 0.44,  0.0,  0.0,  0.0,  0.0,  0.0],\n",
              "[ 0.0, 0.91,  0.0,  0.0,  0.0,  0.0,  0.0,  0.0],\n",
              "[0.05,  0.0,  0.0,  0.0,  0.0,  0.0,  0.0,  0.0]])"
            ],
            "text/latex": "$\\displaystyle \\left[\\begin{matrix}0.0 & 0.0 & 0.0 & 0.0 & 0.0 & 0.0 & 0.0 & 0.36\\\\0.0 & 0.0 & 0.0 & 0.0 & 0.0 & 0.0 & 0.81 & 0.0\\\\0.0 & 0.0 & 0.0 & 0.0 & 0.0 & 0.68 & 0.0 & 0.0\\\\0.0 & 0.0 & 0.0 & 0.0 & 0.21 & 0.0 & 0.0 & 0.0\\\\0.0 & 0.0 & 0.0 & 0.68 & 0.0 & 0.0 & 0.0 & 0.0\\\\0.0 & 0.0 & 0.44 & 0.0 & 0.0 & 0.0 & 0.0 & 0.0\\\\0.0 & 0.91 & 0.0 & 0.0 & 0.0 & 0.0 & 0.0 & 0.0\\\\0.05 & 0.0 & 0.0 & 0.0 & 0.0 & 0.0 & 0.0 & 0.0\\end{matrix}\\right]$"
          },
          "metadata": {},
          "execution_count": 416
        }
      ]
    },
    {
      "cell_type": "markdown",
      "source": [
        "2. Calcule el determinante y establezca explícitamente si es diferente cero (tenga en cuenta la precisión numérica). Recuerde que si el determinante es cero, se espera que al menos uno de los autovalores sea cero"
      ],
      "metadata": {
        "id": "x_h8tvr59yph"
      }
    },
    {
      "cell_type": "code",
      "source": [
        "display(Latex(f'$claramente~el~determinante~=~{np.linalg.det(B)}~no~es~cero,~porque~solo~llega~al~orden~de~e^-4.$'))"
      ],
      "metadata": {
        "colab": {
          "base_uri": "https://localhost:8080/",
          "height": 38
        },
        "id": "uqP3LOY0Hn3s",
        "outputId": "1859d4f6-e55b-4cf1-813b-ac5f57d36447"
      },
      "execution_count": 506,
      "outputs": [
        {
          "output_type": "display_data",
          "data": {
            "text/plain": [
              "<IPython.core.display.Latex object>"
            ],
            "text/latex": "$claramente~el~determinante~=~0.0005668768385279999~no~es~cero,~porque~solo~llega~al~orden~de~e^-4.$"
          },
          "metadata": {}
        }
      ]
    },
    {
      "cell_type": "markdown",
      "source": [
        "3. Organize los autovalores y autovectores de menor a mayor en valor absoluto y compruebe que las matriz de autovectores organizada da lugar a los autovalores en el orden correcto. "
      ],
      "metadata": {
        "id": "R_wauC1nEYdr"
      }
    },
    {
      "cell_type": "code",
      "source": [
        "λ,V = np.linalg.eig(B)\n",
        "A_diag=np.diag(λ)\n",
        "\n",
        "print(np.sort( np.abs(λ)))\n",
        "Va=abs(V)\n",
        "np.c_[ tuple( [ np.c_[Va[:,i]]    for i in range(8) ] ) ]\n",
        "U=np.c_[ tuple( [ np.c_[Va[:,i]]    for i in np.abs(λ).argsort() ] ) ]\n",
        "sp.Matrix(( U.transpose()@B@U).round(14))"
      ],
      "metadata": {
        "colab": {
          "base_uri": "https://localhost:8080/",
          "height": 217
        },
        "id": "vz5jXc_rov2V",
        "outputId": "1d96eef3-5c58-4e6b-9d16-d4839231c63a"
      },
      "execution_count": 495,
      "outputs": [
        {
          "output_type": "stream",
          "name": "stdout",
          "text": [
            "[0.13416408 0.13416408 0.37788887 0.37788887 0.54699177 0.54699177\n",
            " 0.85854528 0.85854528]\n"
          ]
        },
        {
          "output_type": "execute_result",
          "data": {
            "text/plain": [
              "Matrix([\n",
              "[0.13416407864999, 0.13416407864999,              0.0,              0.0,              0.0,              0.0,              0.0,              0.0],\n",
              "[0.13416407864999, 0.13416407864999,              0.0,              0.0,              0.0,              0.0,              0.0,              0.0],\n",
              "[             0.0,              0.0, 0.37788887255382, 0.37788887255382,              0.0,              0.0,              0.0,              0.0],\n",
              "[             0.0,              0.0, 0.37788887255382, 0.37788887255382,              0.0,              0.0,              0.0,              0.0],\n",
              "[             0.0,              0.0,              0.0,              0.0, 0.54699177324709, 0.54699177324709,              0.0,              0.0],\n",
              "[             0.0,              0.0,              0.0,              0.0, 0.54699177324709, 0.54699177324709,              0.0,              0.0],\n",
              "[             0.0,              0.0,              0.0,              0.0,              0.0,              0.0, 0.85854528127525, 0.85854528127525],\n",
              "[             0.0,              0.0,              0.0,              0.0,              0.0,              0.0, 0.85854528127525, 0.85854528127525]])"
            ],
            "text/latex": "$\\displaystyle \\left[\\begin{matrix}0.13416407864999 & 0.13416407864999 & 0.0 & 0.0 & 0.0 & 0.0 & 0.0 & 0.0\\\\0.13416407864999 & 0.13416407864999 & 0.0 & 0.0 & 0.0 & 0.0 & 0.0 & 0.0\\\\0.0 & 0.0 & 0.37788887255382 & 0.37788887255382 & 0.0 & 0.0 & 0.0 & 0.0\\\\0.0 & 0.0 & 0.37788887255382 & 0.37788887255382 & 0.0 & 0.0 & 0.0 & 0.0\\\\0.0 & 0.0 & 0.0 & 0.0 & 0.54699177324709 & 0.54699177324709 & 0.0 & 0.0\\\\0.0 & 0.0 & 0.0 & 0.0 & 0.54699177324709 & 0.54699177324709 & 0.0 & 0.0\\\\0.0 & 0.0 & 0.0 & 0.0 & 0.0 & 0.0 & 0.85854528127525 & 0.85854528127525\\\\0.0 & 0.0 & 0.0 & 0.0 & 0.0 & 0.0 & 0.85854528127525 & 0.85854528127525\\end{matrix}\\right]$"
          },
          "metadata": {},
          "execution_count": 495
        }
      ]
    },
    {
      "cell_type": "code",
      "source": [
        "sp.Matrix(np.diag(( U.transpose()@B@U).round(14)))==sp.Matrix((np.sort(np.abs(λ).round(14)))) "
      ],
      "metadata": {
        "colab": {
          "base_uri": "https://localhost:8080/"
        },
        "id": "K2uxAaDvX84r",
        "outputId": "4f44f012-c523-4b42-a815-3e3296bbbbc2"
      },
      "execution_count": 552,
      "outputs": [
        {
          "output_type": "execute_result",
          "data": {
            "text/plain": [
              "True"
            ]
          },
          "metadata": {},
          "execution_count": 552
        }
      ]
    },
    {
      "cell_type": "code",
      "source": [
        "o = r'$Claramente~la~diagonal~de~los~vectores~propios~en~orden~son~los~valores~propios~en~valor~absoluto'\n",
        "display(Latex(f'{o}'))"
      ],
      "metadata": {
        "colab": {
          "base_uri": "https://localhost:8080/",
          "height": 38
        },
        "id": "SYrUTaRQAf_O",
        "outputId": "a3266ee5-27d3-47f7-c8b4-0f2e45024b91"
      },
      "execution_count": 537,
      "outputs": [
        {
          "output_type": "display_data",
          "data": {
            "text/plain": [
              "<IPython.core.display.Latex object>"
            ],
            "text/latex": "$Claramente~la~diagonal~de~los~vectores~propios~en~orden~son~los~valores~propios~en~valor~absoluto"
          },
          "metadata": {}
        }
      ]
    },
    {
      "cell_type": "markdown",
      "source": [
        "\n",
        "4. Establezca explícitamente _cuantos_ autovalores son degenerados en valor absoluto."
      ],
      "metadata": {
        "id": "7qF8nBpoEd5N"
      }
    },
    {
      "cell_type": "code",
      "source": [
        "sp.Matrix(np.diag(( U.transpose()@B@U).round(14)))==sp.Matrix((np.sort(np.abs(λ).round(14)))) "
      ],
      "metadata": {
        "colab": {
          "base_uri": "https://localhost:8080/"
        },
        "id": "rdlKZkWbDOwN",
        "outputId": "c126be68-5694-415c-c6de-9bf9713a985b"
      },
      "execution_count": 553,
      "outputs": [
        {
          "output_type": "execute_result",
          "data": {
            "text/plain": [
              "True"
            ]
          },
          "metadata": {},
          "execution_count": 553
        }
      ]
    },
    {
      "cell_type": "markdown",
      "source": [
        "$Los~valores~propios~no~se~ven~degenerados~en~mas~de~14~cifras~significativas,~solo ~4 ~cambias~ de~ signo.$"
      ],
      "metadata": {
        "id": "QULvkGQzGksk"
      }
    },
    {
      "cell_type": "code",
      "source": [],
      "metadata": {
        "id": "WHJyVyplICOh"
      },
      "execution_count": null,
      "outputs": []
    }
  ]
}