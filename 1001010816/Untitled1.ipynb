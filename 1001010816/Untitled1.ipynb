{
  "nbformat": 4,
  "nbformat_minor": 0,
  "metadata": {
    "colab": {
      "name": "Untitled1.ipynb",
      "provenance": []
    },
    "kernelspec": {
      "name": "python3",
      "display_name": "Python 3"
    },
    "language_info": {
      "name": "python"
    }
  },
  "cells": [
    {
      "cell_type": "code",
      "execution_count": 8,
      "metadata": {
        "id": "Ymz-pr9QkvUY"
      },
      "outputs": [],
      "source": [
        "def f(*args,**kwargs):\n",
        "    if args:\n",
        "        print('*args is the tuple of mandatory arguments: {}'.format(args))\n",
        "        print('This allows to have a dynamic return according to input:')\n",
        "        return type(args[0])\n",
        "    else:\n",
        "      print('¿porque no puso args?')\n",
        "    if kwargs:\n",
        "        print('*kwargs is the dictionary of optional arguments: {}'.format(kwargs))\n",
        "        print('This allows to have a dynamic return according to input:')\n",
        "        return type(list(kwargs.keys())[0]),type(list(kwargs.values())[0])\n",
        "    print('¿porque no puso kwargs?')"
      ]
    },
    {
      "cell_type": "code",
      "source": [
        ""
      ],
      "metadata": {
        "id": "aNVQLCCAl63p"
      },
      "execution_count": null,
      "outputs": []
    }
  ]
}