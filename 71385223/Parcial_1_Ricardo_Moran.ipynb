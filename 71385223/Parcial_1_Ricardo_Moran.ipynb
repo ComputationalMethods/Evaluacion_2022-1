{
  "nbformat": 4,
  "nbformat_minor": 0,
  "metadata": {
    "colab": {
      "name": "Parcial_1_Ricardo_Moran.ipynb",
      "provenance": [],
      "collapsed_sections": []
    },
    "kernelspec": {
      "name": "python3",
      "display_name": "Python 3"
    },
    "language_info": {
      "name": "python"
    }
  },
  "cells": [
    {
      "cell_type": "code",
      "source": [
        "import pandas as pd\n",
        "import random as rd\n",
        "import numpy as np\n",
        "import scipy.optimize as optimize\n",
        "import matplotlib.pyplot as plt"
      ],
      "metadata": {
        "id": "NXh0EHiiiqKW"
      },
      "execution_count": 181,
      "outputs": []
    },
    {
      "cell_type": "markdown",
      "source": [
        "A) Genere un polinomio de numpy con 3 raices reales aleatorias entre los dos últimos números diferentes de su identificación."
      ],
      "metadata": {
        "id": "xFxKD7cI8Azq"
      }
    },
    {
      "cell_type": "code",
      "source": [
        "pol= np.poly1d([random.randint(2,3),random.randint(2,3),random.randint(2,3)],r=True)\n",
        "\n",
        "print (pol)"
      ],
      "metadata": {
        "colab": {
          "base_uri": "https://localhost:8080/"
        },
        "id": "WVQnbx9ZxfRo",
        "outputId": "ae9fed85-74a8-4af9-a2dc-f2f4995cf6b4"
      },
      "execution_count": 189,
      "outputs": [
        {
          "output_type": "stream",
          "name": "stdout",
          "text": [
            "   3     2\n",
            "1 x - 6 x + 12 x - 8\n"
          ]
        }
      ]
    },
    {
      "cell_type": "markdown",
      "source": [
        "B) Encuentre los puntos críticos del polinomio: las raices de la derivada el polinomio"
      ],
      "metadata": {
        "id": "y1H7ChgzkuM3"
      }
    },
    {
      "cell_type": "code",
      "source": [
        "der = pol.deriv()\n",
        "raices=der.roots.real \n",
        "print(raices)"
      ],
      "metadata": {
        "colab": {
          "base_uri": "https://localhost:8080/"
        },
        "id": "cCs9rp21gGiR",
        "outputId": "96b38768-5d04-4cb2-fb7f-a9a16b6ed685"
      },
      "execution_count": 187,
      "outputs": [
        {
          "output_type": "stream",
          "name": "stdout",
          "text": [
            "[2.66666667 2.        ]\n"
          ]
        }
      ]
    },
    {
      "cell_type": "markdown",
      "source": [
        "C) Con alguna de los métodos para encontrar mínimos compruebe que el punto crítico de menor (mayor) valor corresponde al mínimo (máximo) global del polinomio"
      ],
      "metadata": {
        "id": "wJln3gjvk62R"
      }
    },
    {
      "cell_type": "code",
      "source": [
        "dic={} \n",
        "\n",
        "for i in range(len(raices)):\n",
        "    dic[pol(raices[i])] = [raices[i]]\n",
        "\n",
        "l=np.sort(pol(raices)) \n",
        "\n",
        "min= optimize.fmin_powell(pol, dic.get(l[0]), disp=False) \n",
        "max= optimize.fmin_powell(-pol, dic.get(l[-1]), disp=False)\n",
        "\n",
        "print('El punto crítico relacionado con el mínimo global {} corresponde al valor de la minimización {}' .format(dic.get(l[0]),min))\n",
        "print('El punto crítico relacionado con el máximo global {} corresponde al valor de la minimización {}' .format(dic.get(l[-1]),max))"
      ],
      "metadata": {
        "colab": {
          "base_uri": "https://localhost:8080/"
        },
        "id": "10VAWkU0gbPB",
        "outputId": "fc8587f9-952b-4cda-8e60-31ac77dfbef8"
      },
      "execution_count": 186,
      "outputs": [
        {
          "output_type": "stream",
          "name": "stdout",
          "text": [
            "El punto crítico relacionado con el mínimo global [2.666666666666668] corresponde al valor de la minimización [-1.38941038e+103]\n",
            "El punto crítico relacionado con el máximo global [1.9999999999999991] corresponde al valor de la minimización [1.06141492e+103]\n"
          ]
        },
        {
          "output_type": "stream",
          "name": "stderr",
          "text": [
            "/usr/local/lib/python3.7/dist-packages/scipy/optimize/optimize.py:2621: RuntimeWarning: overflow encountered in multiply\n",
            "  w = xb - ((xb - xc) * tmp2 - (xb - xa) * tmp1) / denom\n",
            "/usr/local/lib/python3.7/dist-packages/scipy/optimize/optimize.py:2620: RuntimeWarning: overflow encountered in multiply\n",
            "  denom = 2.0 * val\n",
            "/usr/local/lib/python3.7/dist-packages/scipy/optimize/optimize.py:2621: RuntimeWarning: invalid value encountered in true_divide\n",
            "  w = xb - ((xb - xc) * tmp2 - (xb - xa) * tmp1) / denom\n",
            "/usr/local/lib/python3.7/dist-packages/scipy/optimize/optimize.py:2614: RuntimeWarning: overflow encountered in multiply\n",
            "  tmp1 = (xb - xa) * (fb - fc)\n",
            "/usr/local/lib/python3.7/dist-packages/scipy/optimize/optimize.py:2615: RuntimeWarning: overflow encountered in multiply\n",
            "  tmp2 = (xb - xc) * (fb - fa)\n",
            "/usr/local/lib/python3.7/dist-packages/scipy/optimize/optimize.py:2616: RuntimeWarning: invalid value encountered in subtract\n",
            "  val = tmp2 - tmp1\n",
            "/usr/local/lib/python3.7/dist-packages/numpy/lib/polynomial.py:771: RuntimeWarning: overflow encountered in multiply\n",
            "  y = y * x + p[i]\n",
            "/usr/local/lib/python3.7/dist-packages/scipy/optimize/optimize.py:2214: RuntimeWarning: invalid value encountered in subtract\n",
            "  tmp1 = (x - w) * (fx - fv)\n",
            "/usr/local/lib/python3.7/dist-packages/scipy/optimize/optimize.py:2215: RuntimeWarning: invalid value encountered in subtract\n",
            "  tmp2 = (x - v) * (fx - fw)\n"
          ]
        }
      ]
    },
    {
      "cell_type": "markdown",
      "source": [
        "D) Grafique el polinomío inclueyendo los puntos asociados a las raices"
      ],
      "metadata": {
        "id": "EMqXeo5LlDhE"
      }
    },
    {
      "cell_type": "code",
      "source": [
        "\n",
        "\n",
        "x = np.linspace(0,11,100)\n",
        "\n",
        "\n",
        "plt.plot(raices,pol(raices),'ro')\n",
        "plt.plot(x,pol(x),'b-')\n",
        "plt.ylim(l[0]-300,l[-1]+300)\n",
        "plt.grid()\n",
        "plt.show()"
      ],
      "metadata": {
        "colab": {
          "base_uri": "https://localhost:8080/",
          "height": 269
        },
        "id": "rovURt4ui8X2",
        "outputId": "5ad73373-5444-44ea-c70c-42c26494f845"
      },
      "execution_count": 188,
      "outputs": [
        {
          "output_type": "display_data",
          "data": {
            "text/plain": [
              "<Figure size 432x288 with 1 Axes>"
            ],
            "image/png": "[encoded data removed]"
          },
          "metadata": {
            "needs_background": "light"
          }
        }
      ]
    },
    {
      "cell_type": "code",
      "source": [
        "import requests\n",
        "import json\n",
        "import pandas as pd\n",
        "import numpy as np\n",
        "import random"
      ],
      "metadata": {
        "id": "lbjvFHSQEPYE"
      },
      "execution_count": 168,
      "outputs": []
    },
    {
      "cell_type": "markdown",
      "source": [
        "1)  En un notebook de jupyter desarrolle los siguientes pasos\n",
        "\n",
        "\n",
        "Descargue el JSON con la lista de paises del siguiente link:\n",
        "\n",
        "\n",
        "https://datahub.io/core/country-list/r/data.json\n",
        "\n",
        "\n",
        "y escoja aleatoriamente un país\n",
        "\n",
        "\n",
        "Use los diferentes API endpoints de inspire-hep \n",
        "\n",
        "\n",
        "https://inspirehep.net/\n",
        "\n",
        "\n",
        " para extraer la lista de investigadores de una institución de ese país  en esa base de datos. \n",
        "\n",
        "\n",
        "Para ello:\n",
        "\n",
        "A) Use el API de institutions para extraer la lista de instituciones del país, por ejemplo: colombia\n",
        "https://inspirehep.net/api/institutions?q=colombia\n",
        "\n",
        "\n",
        "Para la primera institución con\n",
        "\n",
        "number_of_papers > 0\n",
        "\n",
        "\n",
        "Obtenga el valor\n",
        "\n",
        "legacy_ICN:\n",
        "\n",
        "\n",
        "Por ejemplo: \n",
        "Colombia, U. Natl.\n",
        "\n",
        "\n",
        "Si ninguna institución satisface la condición number_of_papers > 0, escoja de nuevo otro país aleatorio y repita el proceso"
      ],
      "metadata": {
        "id": "1xlFNTueja6G"
      }
    },
    {
      "cell_type": "code",
      "source": [
        "\n",
        "df=pd.read_json('https://datahub.io/core/country-list/r/data.json')\n",
        "pais = np.random.choice(df.Name)\n",
        "dr=requests.get(f'https://inspirehep.net/api/institutions?q={pais}')\n",
        "U=dr.json()['hits']['hits']\n",
        "x=0; y=0\n",
        "pais\n"
      ],
      "metadata": {
        "colab": {
          "base_uri": "https://localhost:8080/",
          "height": 36
        },
        "id": "2X8T1WnZxhMu",
        "outputId": "59867c16-f4be-4301-d8be-54616a59483c"
      },
      "execution_count": 169,
      "outputs": [
        {
          "output_type": "execute_result",
          "data": {
            "text/plain": [
              "'Bahamas'"
            ],
            "application/vnd.google.colaboratory.intrinsic+json": {
              "type": "string"
            }
          },
          "metadata": {},
          "execution_count": 169
        }
      ]
    },
    {
      "cell_type": "markdown",
      "source": [
        "B) Con el API de literatura obtenga el JSON con los artículos de menos de 10 autores usando el \"legacy_ICN\" de la siguiente manera\n",
        "\n",
        "https://inspirehep.net/api/literature?sort=mostrecent&page=1&q=aff+Colombia,+U.+Natl.+and+ac+1->+10\n",
        "\n",
        "\n",
        "aff: usa el valor de legacy_ICN\n",
        "and: es un operador lógico\n",
        "ac: establece los autores entre 1 y 10"
      ],
      "metadata": {
        "id": "8EcsHJ1bjtIL"
      }
    },
    {
      "cell_type": "code",
      "source": [
        "name=dr.json()['hits']['hits'][x].get('metadata').get('number_of_papers')\n",
        "name\n",
        "print(dr.json()['hits']['hits'][1].get('metadata').get('legacy_ICN'))"
      ],
      "metadata": {
        "colab": {
          "base_uri": "https://localhost:8080/"
        },
        "id": "BX3pcP5RNJ9t",
        "outputId": "adc6fd4b-4e21-4ba9-abf2-1ec11392536c"
      },
      "execution_count": 170,
      "outputs": [
        {
          "output_type": "stream",
          "name": "stdout",
          "text": [
            "Coll. of Bahamas\n"
          ]
        }
      ]
    },
    {
      "cell_type": "code",
      "source": [
        "while x<len(U):\n",
        "  name=dr.json()['hits']['hits'][x].get('metadata').get('number_of_papers')\n",
        "  if name>0:\n",
        "    name1 = dr.json()['hits']['hits'][x].get('metadata').get('legacy_ICN')\n",
        "    print(name1)\n",
        "    break\n",
        "  else: \n",
        "    x+=1"
      ],
      "metadata": {
        "colab": {
          "base_uri": "https://localhost:8080/"
        },
        "id": "MwPOBpNnNEnx",
        "outputId": "5aa05a85-dafe-4dfd-d4d6-0859c7f4767a"
      },
      "execution_count": 171,
      "outputs": [
        {
          "output_type": "stream",
          "name": "stdout",
          "text": [
            "Unlisted, BS\n"
          ]
        }
      ]
    },
    {
      "cell_type": "code",
      "source": [
        "cambio = requests.get(f'https://inspirehep.net/api/literature?sort=mostrecent&page=1&q={name1}+and+ac+1-%3E+10')"
      ],
      "metadata": {
        "id": "j88b5HiTJZHy"
      },
      "execution_count": 172,
      "outputs": []
    },
    {
      "cell_type": "markdown",
      "source": [
        "C) Para al menos un artículo de esa institución, extraiga el URL del perfil de cada autor de esa institución que se encuentra dentro del campo \"authors\" en \"record\" y luego en \"$ref\"."
      ],
      "metadata": {
        "id": "2I2RISVrkSWc"
      }
    },
    {
      "cell_type": "code",
      "source": [
        "number = len(cambio.json()['hits']['hits'][1].get('metadata').get('authors'))\n",
        "Ul = []\n",
        "while y < number:\n",
        "  cita = cambio.json()['hits']['hits'][1].get('metadata').get('authors')[y]['record'].get('$ref')\n",
        "  Ul.append(cita)\n",
        "  print(cita)\n",
        "  y+=1"
      ],
      "metadata": {
        "id": "fvAY6wtuOR5U",
        "colab": {
          "base_uri": "https://localhost:8080/"
        },
        "outputId": "680de3bf-578f-4804-db58-e29a323a62ed"
      },
      "execution_count": 173,
      "outputs": [
        {
          "output_type": "stream",
          "name": "stdout",
          "text": [
            "https://inspirehep.net/api/authors/1939956\n",
            "https://inspirehep.net/api/authors/2104051\n",
            "https://inspirehep.net/api/authors/2104052\n",
            "https://inspirehep.net/api/authors/1270424\n"
          ]
        }
      ]
    },
    {
      "cell_type": "code",
      "source": [
        "print(Ul)"
      ],
      "metadata": {
        "colab": {
          "base_uri": "https://localhost:8080/"
        },
        "id": "mQroj-VIweex",
        "outputId": "123fe40d-38f6-4b32-cafd-3ce0007393ce"
      },
      "execution_count": 174,
      "outputs": [
        {
          "output_type": "stream",
          "name": "stdout",
          "text": [
            "['https://inspirehep.net/api/authors/1939956', 'https://inspirehep.net/api/authors/2104051', 'https://inspirehep.net/api/authors/2104052', 'https://inspirehep.net/api/authors/1270424']\n"
          ]
        }
      ]
    },
    {
      "cell_type": "code",
      "source": [
        "dic = {'name':[],'correo':[],'inicio':[],'final':[],'rango':[],'institicion':[]}\n",
        "for i in Ul:\n",
        "  autor = requests.get(i)\n",
        "  print(['nombre', autor.json()['metadata']['name'].get('value')])\n",
        "  dic['name'].append(autor.json()['metadata']['name'].get('value'))\n",
        "  dic['correo'].append(autor.json()['metadata'].get('email_addresses')[0].get('value'))\n",
        "  dic['inicio'].append(autor.json().get('create'))\n",
        "  dic['final'].append(autor.json().get('updated'))\n",
        "  dic['rango'].append(autor.json()['metadata']['positions'][0].get('rank'))\n",
        "  dic['institicion'].append(autor.json()['metadata'].get('positions')[0].get('institution'))\n",
        "print(dic)\n",
        "\n",
        "\n",
        "dt = pd.DataFrame(data=dic)\n",
        "dt"
      ],
      "metadata": {
        "colab": {
          "base_uri": "https://localhost:8080/",
          "height": 252
        },
        "id": "5jJQ-iXbSlO-",
        "outputId": "2c8d2aa1-057c-44d2-df1a-40aebdaf371f"
      },
      "execution_count": 190,
      "outputs": [
        {
          "output_type": "stream",
          "name": "stdout",
          "text": [
            "['nombre', 'Kim, D.']\n"
          ]
        },
        {
          "output_type": "error",
          "ename": "TypeError",
          "evalue": "ignored",
          "traceback": [
            "\u001b[0;31m---------------------------------------------------------------------------\u001b[0m",
            "\u001b[0;31mTypeError\u001b[0m                                 Traceback (most recent call last)",
            "\u001b[0;32m<ipython-input-190-1f3ced3ed2a1>\u001b[0m in \u001b[0;36m<module>\u001b[0;34m()\u001b[0m\n\u001b[1;32m      4\u001b[0m   \u001b[0mprint\u001b[0m\u001b[0;34m(\u001b[0m\u001b[0;34m[\u001b[0m\u001b[0;34m'nombre'\u001b[0m\u001b[0;34m,\u001b[0m \u001b[0mautor\u001b[0m\u001b[0;34m.\u001b[0m\u001b[0mjson\u001b[0m\u001b[0;34m(\u001b[0m\u001b[0;34m)\u001b[0m\u001b[0;34m[\u001b[0m\u001b[0;34m'metadata'\u001b[0m\u001b[0;34m]\u001b[0m\u001b[0;34m[\u001b[0m\u001b[0;34m'name'\u001b[0m\u001b[0;34m]\u001b[0m\u001b[0;34m.\u001b[0m\u001b[0mget\u001b[0m\u001b[0;34m(\u001b[0m\u001b[0;34m'value'\u001b[0m\u001b[0;34m)\u001b[0m\u001b[0;34m]\u001b[0m\u001b[0;34m)\u001b[0m\u001b[0;34m\u001b[0m\u001b[0;34m\u001b[0m\u001b[0m\n\u001b[1;32m      5\u001b[0m   \u001b[0mdic\u001b[0m\u001b[0;34m[\u001b[0m\u001b[0;34m'name'\u001b[0m\u001b[0;34m]\u001b[0m\u001b[0;34m.\u001b[0m\u001b[0mappend\u001b[0m\u001b[0;34m(\u001b[0m\u001b[0mautor\u001b[0m\u001b[0;34m.\u001b[0m\u001b[0mjson\u001b[0m\u001b[0;34m(\u001b[0m\u001b[0;34m)\u001b[0m\u001b[0;34m[\u001b[0m\u001b[0;34m'metadata'\u001b[0m\u001b[0;34m]\u001b[0m\u001b[0;34m[\u001b[0m\u001b[0;34m'name'\u001b[0m\u001b[0;34m]\u001b[0m\u001b[0;34m.\u001b[0m\u001b[0mget\u001b[0m\u001b[0;34m(\u001b[0m\u001b[0;34m'value'\u001b[0m\u001b[0;34m)\u001b[0m\u001b[0;34m)\u001b[0m\u001b[0;34m\u001b[0m\u001b[0;34m\u001b[0m\u001b[0m\n\u001b[0;32m----> 6\u001b[0;31m   \u001b[0mdic\u001b[0m\u001b[0;34m[\u001b[0m\u001b[0;34m'correo'\u001b[0m\u001b[0;34m]\u001b[0m\u001b[0;34m.\u001b[0m\u001b[0mappend\u001b[0m\u001b[0;34m(\u001b[0m\u001b[0mautor\u001b[0m\u001b[0;34m.\u001b[0m\u001b[0mjson\u001b[0m\u001b[0;34m(\u001b[0m\u001b[0;34m)\u001b[0m\u001b[0;34m[\u001b[0m\u001b[0;34m'metadata'\u001b[0m\u001b[0;34m]\u001b[0m\u001b[0;34m.\u001b[0m\u001b[0mget\u001b[0m\u001b[0;34m(\u001b[0m\u001b[0;34m'email_addresses'\u001b[0m\u001b[0;34m)\u001b[0m\u001b[0;34m[\u001b[0m\u001b[0;36m0\u001b[0m\u001b[0;34m]\u001b[0m\u001b[0;34m.\u001b[0m\u001b[0mget\u001b[0m\u001b[0;34m(\u001b[0m\u001b[0;34m'value'\u001b[0m\u001b[0;34m)\u001b[0m\u001b[0;34m)\u001b[0m\u001b[0;34m\u001b[0m\u001b[0;34m\u001b[0m\u001b[0m\n\u001b[0m\u001b[1;32m      7\u001b[0m   \u001b[0mdic\u001b[0m\u001b[0;34m[\u001b[0m\u001b[0;34m'inicio'\u001b[0m\u001b[0;34m]\u001b[0m\u001b[0;34m.\u001b[0m\u001b[0mappend\u001b[0m\u001b[0;34m(\u001b[0m\u001b[0mautor\u001b[0m\u001b[0;34m.\u001b[0m\u001b[0mjson\u001b[0m\u001b[0;34m(\u001b[0m\u001b[0;34m)\u001b[0m\u001b[0;34m.\u001b[0m\u001b[0mget\u001b[0m\u001b[0;34m(\u001b[0m\u001b[0;34m'create'\u001b[0m\u001b[0;34m)\u001b[0m\u001b[0;34m)\u001b[0m\u001b[0;34m\u001b[0m\u001b[0;34m\u001b[0m\u001b[0m\n\u001b[1;32m      8\u001b[0m   \u001b[0mdic\u001b[0m\u001b[0;34m[\u001b[0m\u001b[0;34m'final'\u001b[0m\u001b[0;34m]\u001b[0m\u001b[0;34m.\u001b[0m\u001b[0mappend\u001b[0m\u001b[0;34m(\u001b[0m\u001b[0mautor\u001b[0m\u001b[0;34m.\u001b[0m\u001b[0mjson\u001b[0m\u001b[0;34m(\u001b[0m\u001b[0;34m)\u001b[0m\u001b[0;34m.\u001b[0m\u001b[0mget\u001b[0m\u001b[0;34m(\u001b[0m\u001b[0;34m'updated'\u001b[0m\u001b[0;34m)\u001b[0m\u001b[0;34m)\u001b[0m\u001b[0;34m\u001b[0m\u001b[0;34m\u001b[0m\u001b[0m\n",
            "\u001b[0;31mTypeError\u001b[0m: 'NoneType' object is not subscriptable"
          ]
        }
      ]
    },
    {
      "cell_type": "code",
      "source": [
        ""
      ],
      "metadata": {
        "id": "NI9EogKCxedN"
      },
      "execution_count": null,
      "outputs": []
    }
  ]
}