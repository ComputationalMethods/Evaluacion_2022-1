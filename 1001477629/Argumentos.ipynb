{
 "cells": [
  {
   "cell_type": "code",
   "execution_count": 2,
   "id": "0da137ac-18ef-4d87-b2e5-353f8882d711",
   "metadata": {},
   "outputs": [],
   "source": [
    "def f(*args,**kwargs):\n",
    "    if args:\n",
    "        print('*args is the tuple of mandatory arguments: {}'.format(args))\n",
    "        print('This allows to have a dynamic return according to input:')\n",
    "        return type(args[0])\n",
    "    if kwargs:\n",
    "        print('*kwargs is the dictionary of optional arguments: {}'.format(kwargs))\n",
    "        print('This allows to have a dynamic return according to input:')\n",
    "        return type(list(kwargs.keys())[0]),type(list(kwargs.values())[0])"
   ]
  },
  {
   "cell_type": "code",
   "execution_count": 3,
   "id": "14c2a071-4053-4fba-9596-bac50d74bc10",
   "metadata": {},
   "outputs": [],
   "source": [
    "#__Activity__; Check the function with any type of mandatory or optional argument"
   ]
  },
  {
   "cell_type": "code",
   "execution_count": 4,
   "id": "b2dd1397-8127-4df0-86b9-a4062b70e4c8",
   "metadata": {},
   "outputs": [],
   "source": [
    "f()"
   ]
  },
  {
   "cell_type": "code",
   "execution_count": 5,
   "id": "a91a8691-dcfc-4ec2-ae5b-b4c28d9faa24",
   "metadata": {},
   "outputs": [],
   "source": [
    "#* Check the function with  a mandatory argument"
   ]
  },
  {
   "cell_type": "code",
   "execution_count": 6,
   "id": "63eef362-d39e-4b20-8c39-8c36c12f8f50",
   "metadata": {},
   "outputs": [
    {
     "name": "stdout",
     "output_type": "stream",
     "text": [
      "*args is the tuple of mandatory arguments: ('hola mundo',)\n",
      "This allows to have a dynamic return according to input:\n"
     ]
    },
    {
     "data": {
      "text/plain": [
       "str"
      ]
     },
     "execution_count": 6,
     "metadata": {},
     "output_type": "execute_result"
    }
   ],
   "source": [
    "f('hola mundo')"
   ]
  },
  {
   "cell_type": "code",
   "execution_count": 7,
   "id": "2370cb01-5433-435a-8232-2128d88c8935",
   "metadata": {},
   "outputs": [],
   "source": [
    "#* Check the function with several mandatory arguments"
   ]
  },
  {
   "cell_type": "code",
   "execution_count": 8,
   "id": "fecd382b-23a5-4465-9efe-2a54b1da4c32",
   "metadata": {},
   "outputs": [
    {
     "name": "stdout",
     "output_type": "stream",
     "text": [
      "*args is the tuple of mandatory arguments: (2, [1, 2], (1+3j))\n",
      "This allows to have a dynamic return according to input:\n"
     ]
    },
    {
     "data": {
      "text/plain": [
       "int"
      ]
     },
     "execution_count": 8,
     "metadata": {},
     "output_type": "execute_result"
    }
   ],
   "source": [
    "f(2,[1,2],1+3j)"
   ]
  },
  {
   "cell_type": "code",
   "execution_count": 9,
   "id": "e0315212-070c-4133-b026-f8a8662f1666",
   "metadata": {},
   "outputs": [],
   "source": [
    "#* Check the function with several optional arguments"
   ]
  },
  {
   "cell_type": "code",
   "execution_count": 16,
   "id": "1eca343f-af05-40c8-80bc-44011061c675",
   "metadata": {},
   "outputs": [
    {
     "name": "stdout",
     "output_type": "stream",
     "text": [
      "*kwargs is the dictionary of optional arguments: {'kwargs': {'Hola': 3, 'Adios': 4}, 'a': 1, 'b': 'Daniel'}\n",
      "This allows to have a dynamic return according to input:\n"
     ]
    },
    {
     "data": {
      "text/plain": [
       "(str, dict)"
      ]
     },
     "execution_count": 16,
     "metadata": {},
     "output_type": "execute_result"
    }
   ],
   "source": [
    "f(kwargs={\"Hola\":3,\"Adios\":4},a=1,b=\"Daniel\")"
   ]
  },
  {
   "cell_type": "code",
   "execution_count": 12,
   "id": "539158f8-9bf0-4040-b536-bcb054c0ab33",
   "metadata": {},
   "outputs": [],
   "source": [
    "#* Check the function with one of the optional arguments equal to some list"
   ]
  },
  {
   "cell_type": "code",
   "execution_count": 17,
   "id": "a0718180-f6c9-4ab2-980c-5baaa07b28d4",
   "metadata": {},
   "outputs": [
    {
     "name": "stdout",
     "output_type": "stream",
     "text": [
      "*kwargs is the dictionary of optional arguments: {'lista': ['Hola', 'Adios']}\n",
      "This allows to have a dynamic return according to input:\n"
     ]
    },
    {
     "data": {
      "text/plain": [
       "(str, list)"
      ]
     },
     "execution_count": 17,
     "metadata": {},
     "output_type": "execute_result"
    }
   ],
   "source": [
    "f(lista=[\"Hola\",\"Adios\"])"
   ]
  },
  {
   "cell_type": "code",
   "execution_count": 18,
   "id": "c4b69747-902e-49a4-9f6a-764a54ddf10f",
   "metadata": {},
   "outputs": [],
   "source": [
    "#* Check the function with one string as mandatory argument, and with one of the optional arguments equal to some list"
   ]
  },
  {
   "cell_type": "code",
   "execution_count": null,
   "id": "c8acffd6-f924-47af-865c-1796c566452c",
   "metadata": {},
   "outputs": [],
   "source": [
    "f()"
   ]
  }
 ],
 "metadata": {
  "kernelspec": {
   "display_name": "Python 3 (ipykernel)",
   "language": "python",
   "name": "python3"
  },
  "language_info": {
   "codemirror_mode": {
    "name": "ipython",
    "version": 3
   },
   "file_extension": ".py",
   "mimetype": "text/x-python",
   "name": "python",
   "nbconvert_exporter": "python",
   "pygments_lexer": "ipython3",
   "version": "3.9.7"
  }
 },
 "nbformat": 4,
 "nbformat_minor": 5
}
