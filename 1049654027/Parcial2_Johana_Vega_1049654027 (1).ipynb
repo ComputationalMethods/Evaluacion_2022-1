{
  "nbformat": 4,
  "nbformat_minor": 0,
  "metadata": {
    "colab": {
      "provenance": []
    },
    "kernelspec": {
      "name": "python3",
      "display_name": "Python 3"
    },
    "language_info": {
      "name": "python"
    }
  },
  "cells": [
    {
      "cell_type": "markdown",
      "source": [
        "#Examen 2: Métodos computacionales\n",
        "__Johana Vega__\n",
        "__1049654027__\n",
        "\n",
        "A)\n",
        "1. Usando su número de cédula cómo semilla, obtenga un numero entero aleatorio, $n$, entre 2 y 20.\n",
        "2. Usando el $n$ obtenido, haga una estimación de la siguiente integral hasta dos cifras significativas, usando el método `quad` del módulo `integrate` de Scipy\n",
        "$$\n",
        "\\int_0^\\infty \\sin(x^n)\\operatorname{d}x\n",
        "$$\n",
        "Sugerencia. Compare con el valor obtenido desde https://www.wolframalpha.com/ o [sympy](https://stackoverflow.com/questions/65862611/integration-of-sin-x-dx-problem-in-python-programming-implementation)"
      ],
      "metadata": {
        "id": "WD9b_7rNz6Tw"
      }
    },
    {
      "cell_type": "code",
      "execution_count": 2,
      "metadata": {
        "colab": {
          "base_uri": "https://localhost:8080/"
        },
        "id": "5TsaX8ZHvpry",
        "outputId": "e6654ab8-a667-40f7-b832-514fa5fb03a7"
      },
      "outputs": [
        {
          "output_type": "stream",
          "name": "stdout",
          "text": [
            "Populating the interactive namespace from numpy and matplotlib\n"
          ]
        }
      ],
      "source": [
        "%pylab inline\n",
        "import numpy as np\n",
        "import scipy.integrate as integrate\n",
        "import pandas as pd\n",
        "import random\n",
        "import sympy as sp"
      ]
    },
    {
      "cell_type": "code",
      "source": [
        "random.seed(1049654027)\n",
        "n = random.randint(2,21)\n",
        "n"
      ],
      "metadata": {
        "colab": {
          "base_uri": "https://localhost:8080/"
        },
        "id": "GbAmshj6wCSi",
        "outputId": "98cf68c4-30a4-474a-adca-4b84cdd4f28b"
      },
      "execution_count": 3,
      "outputs": [
        {
          "output_type": "execute_result",
          "data": {
            "text/plain": [
              "11"
            ]
          },
          "metadata": {},
          "execution_count": 3
        }
      ]
    },
    {
      "cell_type": "markdown",
      "source": [
        "El valor de la integral entregado por WolframAlpha para n = 1 es:\n",
        "$$\\int_0^\\infty sen(x^{11}) dx = sen(π/22) Γ(12/11)≈0.135922$$ "
      ],
      "metadata": {
        "id": "FAkIC8WenGhn"
      }
    },
    {
      "cell_type": "markdown",
      "source": [
        "Usando el método de la singuralidad infinita\n",
        "$$\\int_a^\\infty f(x)dx$$\n",
        "\n",
        "en el cual:\n",
        "\n",
        "$$t = x^{-1}\\ \\ \\ \\ \\ dt = -x^{-2}dx$$\n",
        "\n",
        "reemplazando\n",
        "\n",
        "$$ \\int_a^\\infty f(x)dx = \\int_0^{1/a}t^{-2}f\\left(\\frac{1}{t}\\right)dt $$\n",
        "\n",
        "convertimos la integral\n",
        "$$\n",
        "\\int_0^\\infty \\sin(x^n)\\operatorname{d}x\n",
        "$$\n",
        " en \n",
        " $$\n",
        "\\int_0^1 \\sin(x^n)\\operatorname{d}x + \\int_1^\\infty \\sin(x^n)\\operatorname{d}x\n",
        "$$\n",
        "\n",
        "y transformamos la segunda integral en:\n",
        "\n",
        "$$\\int_0^1t^{-2}sin\\left(\\frac{1}{t}\\right)^ndt $$\n"
      ],
      "metadata": {
        "id": "ntbAimi8ls0Y"
      }
    },
    {
      "cell_type": "code",
      "source": [
        "r = integrate.quad(lambda x: np.sin(x**n),0,1)[0] + integrate.quad(lambda x: np.sin((x**-1)**n)/x**2,0.57,1)[0]\n",
        "print('%.3f' %r)"
      ],
      "metadata": {
        "colab": {
          "base_uri": "https://localhost:8080/"
        },
        "id": "63JhnSDwMUqs",
        "outputId": "c915e3d8-e174-4bb5-ae26-69c8c6bf01a6"
      },
      "execution_count": 4,
      "outputs": [
        {
          "output_type": "stream",
          "name": "stdout",
          "text": [
            "0.136\n"
          ]
        }
      ]
    },
    {
      "cell_type": "markdown",
      "source": [
        "B) Cargue los datos disponibles en:\n",
        "\n",
        "https://raw.githubusercontent.com/ComputationalMethods/Evaluacion_2022-1/main/data/lista_pares.json\n",
        "\n",
        "como un DataFrame de pandas. Este contendrá dos columnas. La columna `lista`, con una lista de 8 enteros (algunos de ellos repetidos) y una columna `pares` correspondiente a un diccionario\n",
        "con dos items: un entero rotulado con `'S'` y una lista de pares de enteros routulada con `'ψ'`. Note que el resultado de la suma en valor absoluto de los dos enteros en cada uno de los pares reproduce el valor del correspondiente `'S'` \n",
        "\n",
        "Seleccione la fila del DataFrame con el índice correspondiente a los dos últimos dígitos de su cédula y desarrolle los siguientes puntos con la correspondiente  `lista` y `pares`:\n"
      ],
      "metadata": {
        "id": "CgjKIv3RofcB"
      }
    },
    {
      "cell_type": "code",
      "source": [
        "df = pd.read_json('https://raw.githubusercontent.com/ComputationalMethods/Evaluacion_2022-1/main/data/lista_pares.json')\n",
        "df.lista[27], df.pares[27]"
      ],
      "metadata": {
        "colab": {
          "base_uri": "https://localhost:8080/"
        },
        "id": "9COkrhfCNhc3",
        "outputId": "60433f20-0797-40c4-cf93-481a09455fc5"
      },
      "execution_count": 45,
      "outputs": [
        {
          "output_type": "execute_result",
          "data": {
            "text/plain": [
              "([1, 2, 4, 6, -7, -7, -11, 12],\n",
              " {'S': 5,\n",
              "  'ψ': [[2, -7],\n",
              "   [6, -11],\n",
              "   [1, 4],\n",
              "   [-7, 12],\n",
              "   [-7, 2],\n",
              "   [-11, 6],\n",
              "   [4, 1],\n",
              "   [12, -7]]})"
            ]
          },
          "metadata": {},
          "execution_count": 45
        }
      ]
    },
    {
      "cell_type": "markdown",
      "source": [
        "1. Construya una matrix $8\\times 8$ _simétrica_ donde cada fila y la correspondiente columna correspondan a un entero de la `lista` (incluyendo los repetidos); de manera que en los cruces de filas y columnas definidos por los pares de enteros de `'ψ'`, se genere una entrada aleatoria mayor que cero y menor o igual que 1, con las demas entradas iguales a cero.\n"
      ],
      "metadata": {
        "id": "mGIcVm_Z9NUz"
      }
    },
    {
      "cell_type": "code",
      "source": [
        "df1 = pd.DataFrame([[0]*8]*8)\n",
        "df1\n",
        "for i in df.pares[27]['ψ']:\n",
        "  n = random.random()\n",
        "  df1.iloc[df.lista[27].index(i[0]),df.lista[27].index(i[1])] = n\n",
        "  df1.iloc[df.lista[27].index(i[1]),df.lista[27].index(i[0])] = n\n",
        "m = df1.to_numpy()\n",
        "N = sp.Matrix(M)\n"
      ],
      "metadata": {
        "id": "kbNU7KmGwHPt"
      },
      "execution_count": 46,
      "outputs": []
    },
    {
      "cell_type": "markdown",
      "source": [
        "2. Calcule el determinante y establezca explícitamente si es diferente cero (tenga en cuenta la precisión numérica). Recuerde que si el determinante es cero, se espera que al menos uno de los autovalores sea cero\n"
      ],
      "metadata": {
        "id": "fjIhaCYP9S_f"
      }
    },
    {
      "cell_type": "code",
      "source": [
        "λ,V=np.linalg.eig(m)"
      ],
      "metadata": {
        "id": "y2ueYLWKDA-2"
      },
      "execution_count": 47,
      "outputs": []
    },
    {
      "cell_type": "code",
      "source": [
        "np.linalg.det(m)"
      ],
      "metadata": {
        "colab": {
          "base_uri": "https://localhost:8080/"
        },
        "id": "2ogm8DzX9BaE",
        "outputId": "104127dc-ea49-4587-81fa-f01dd5a11cf7"
      },
      "execution_count": 48,
      "outputs": [
        {
          "output_type": "execute_result",
          "data": {
            "text/plain": [
              "0.0"
            ]
          },
          "metadata": {},
          "execution_count": 48
        }
      ]
    },
    {
      "cell_type": "markdown",
      "source": [
        "3. Organize los autovalores y autovectores de menor a mayor en valor absoluto y compruebe que las matriz de autovectores organizada da lugar a los autovalores en el orden correcto. \n"
      ],
      "metadata": {
        "id": "Joa5HlAR9klh"
      }
    },
    {
      "cell_type": "markdown",
      "source": [
        "##Autovalores organizados en valor absoluto"
      ],
      "metadata": {
        "id": "3CqGb-c0ANBT"
      }
    },
    {
      "cell_type": "code",
      "source": [
        "np.sort( np.abs(λ))\n"
      ],
      "metadata": {
        "colab": {
          "base_uri": "https://localhost:8080/"
        },
        "id": "OBbJkv9_9cLi",
        "outputId": "286acebf-d323-4a77-f5c7-c2b6411f51c0"
      },
      "execution_count": 49,
      "outputs": [
        {
          "output_type": "execute_result",
          "data": {
            "text/plain": [
              "array([0.00000000e+00, 5.67270272e-19, 4.77009777e-01, 4.77009777e-01,\n",
              "       8.65309928e-01, 8.65309928e-01, 1.00109146e+00, 1.00109146e+00])"
            ]
          },
          "metadata": {},
          "execution_count": 49
        }
      ]
    },
    {
      "cell_type": "markdown",
      "source": [
        "##Autovectores organizados en valor absoluto"
      ],
      "metadata": {
        "id": "I-i5_lGNAjOX"
      }
    },
    {
      "cell_type": "code",
      "source": [
        "Va = abs(V)\n",
        "U=np.c_[ tuple( [ np.c_[Va[:,i]]    for i in np.abs(λ).argsort() ] ) ]\n",
        "sp.Matrix(Va.round(14))"
      ],
      "metadata": {
        "colab": {
          "base_uri": "https://localhost:8080/",
          "height": 180
        },
        "id": "EpT1T1p59wyA",
        "outputId": "65c0cafc-0c48-4276-b8c7-b0af9e287389"
      },
      "execution_count": 50,
      "outputs": [
        {
          "output_type": "execute_result",
          "data": {
            "text/plain": [
              "Matrix([\n",
              "[0.70710678118655, 0.70710678118655,              0.0,              0.0,              0.0,              0.0,              0.0, 0.0],\n",
              "[             0.0,              0.0, 0.68274872354514, 0.68274872354514, 0.26020830308613,              0.0,              0.0, 0.0],\n",
              "[0.70710678118655, 0.70710678118655,              0.0,              0.0,              0.0,              0.0,              0.0, 0.0],\n",
              "[             0.0,              0.0,              0.0,              0.0,              0.0, 0.70710678118655, 0.70710678118655, 0.0],\n",
              "[             0.0,              0.0, 0.70710678118655, 0.70710678118655,              0.0,              0.0,              0.0, 0.0],\n",
              "[             0.0,              0.0,              0.0,              0.0,              0.0,              0.0,              0.0, 1.0],\n",
              "[             0.0,              0.0,              0.0,              0.0,              0.0, 0.70710678118655, 0.70710678118655, 0.0],\n",
              "[             0.0,              0.0, 0.18399505563325, 0.18399505563325, 0.96555250453046,              0.0,              0.0, 0.0]])"
            ],
            "text/latex": "$\\displaystyle \\left[\\begin{matrix}0.70710678118655 & 0.70710678118655 & 0.0 & 0.0 & 0.0 & 0.0 & 0.0 & 0.0\\\\0.0 & 0.0 & 0.68274872354514 & 0.68274872354514 & 0.26020830308613 & 0.0 & 0.0 & 0.0\\\\0.70710678118655 & 0.70710678118655 & 0.0 & 0.0 & 0.0 & 0.0 & 0.0 & 0.0\\\\0.0 & 0.0 & 0.0 & 0.0 & 0.0 & 0.70710678118655 & 0.70710678118655 & 0.0\\\\0.0 & 0.0 & 0.70710678118655 & 0.70710678118655 & 0.0 & 0.0 & 0.0 & 0.0\\\\0.0 & 0.0 & 0.0 & 0.0 & 0.0 & 0.0 & 0.0 & 1.0\\\\0.0 & 0.0 & 0.0 & 0.0 & 0.0 & 0.70710678118655 & 0.70710678118655 & 0.0\\\\0.0 & 0.0 & 0.18399505563325 & 0.18399505563325 & 0.96555250453046 & 0.0 & 0.0 & 0.0\\end{matrix}\\right]$"
          },
          "metadata": {},
          "execution_count": 50
        }
      ]
    },
    {
      "cell_type": "markdown",
      "source": [
        "##Matriz de autovectores organizada"
      ],
      "metadata": {
        "id": "Ezrt5uu4AtFF"
      }
    },
    {
      "cell_type": "code",
      "source": [
        "sp.Matrix( (U.transpose()@m@U).round(14))"
      ],
      "metadata": {
        "colab": {
          "base_uri": "https://localhost:8080/",
          "height": 180
        },
        "id": "702c05hh-CJX",
        "outputId": "55890870-c59e-4b15-f3d5-429a4603407f"
      },
      "execution_count": 51,
      "outputs": [
        {
          "output_type": "execute_result",
          "data": {
            "text/plain": [
              "Matrix([\n",
              "[0.0,              0.0,              0.0,              0.0,              0.0,              0.0,              0.0,              0.0],\n",
              "[0.0,              0.0,              0.0,              0.0,              0.0,              0.0, 0.35570158482687, 0.35570158482687],\n",
              "[0.0,              0.0, 0.47700977655272, 0.47700977655272,              0.0,              0.0,              0.0,              0.0],\n",
              "[0.0,              0.0, 0.47700977655272, 0.47700977655272,              0.0,              0.0,              0.0,              0.0],\n",
              "[0.0,              0.0,              0.0,              0.0, 0.86530992777164, 0.86530992777164,              0.0,              0.0],\n",
              "[0.0,              0.0,              0.0,              0.0, 0.86530992777164, 0.86530992777164,              0.0,              0.0],\n",
              "[0.0, 0.35570158482687,              0.0,              0.0,              0.0,              0.0, 1.00109146135022, 1.00109146135022],\n",
              "[0.0, 0.35570158482687,              0.0,              0.0,              0.0,              0.0, 1.00109146135022, 1.00109146135022]])"
            ],
            "text/latex": "$\\displaystyle \\left[\\begin{matrix}0.0 & 0.0 & 0.0 & 0.0 & 0.0 & 0.0 & 0.0 & 0.0\\\\0.0 & 0.0 & 0.0 & 0.0 & 0.0 & 0.0 & 0.35570158482687 & 0.35570158482687\\\\0.0 & 0.0 & 0.47700977655272 & 0.47700977655272 & 0.0 & 0.0 & 0.0 & 0.0\\\\0.0 & 0.0 & 0.47700977655272 & 0.47700977655272 & 0.0 & 0.0 & 0.0 & 0.0\\\\0.0 & 0.0 & 0.0 & 0.0 & 0.86530992777164 & 0.86530992777164 & 0.0 & 0.0\\\\0.0 & 0.0 & 0.0 & 0.0 & 0.86530992777164 & 0.86530992777164 & 0.0 & 0.0\\\\0.0 & 0.35570158482687 & 0.0 & 0.0 & 0.0 & 0.0 & 1.00109146135022 & 1.00109146135022\\\\0.0 & 0.35570158482687 & 0.0 & 0.0 & 0.0 & 0.0 & 1.00109146135022 & 1.00109146135022\\end{matrix}\\right]$"
          },
          "metadata": {},
          "execution_count": 51
        }
      ]
    }
  ]
}