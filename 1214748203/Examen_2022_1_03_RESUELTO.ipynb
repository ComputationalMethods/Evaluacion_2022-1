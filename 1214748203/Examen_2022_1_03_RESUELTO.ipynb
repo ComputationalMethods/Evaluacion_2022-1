{
  "cells": [
    {
      "cell_type": "markdown",
      "metadata": {},
      "source": [
        "# Examen 3"
      ]
    },
    {
      "cell_type": "code",
      "execution_count": 1,
      "metadata": {},
      "outputs": [],
      "source": [
        "# Importaciones\n",
        "from sympy import *\n",
        "import numpy as np\n",
        "import pandas as pd\n",
        "import requests as rq\n",
        "import json\n",
        "from scipy.optimize import curve_fit\n",
        "import matplotlib.pyplot as plt"
      ]
    },
    {
      "cell_type": "markdown",
      "metadata": {
        "id": "5NJCNfpmrHtj",
        "tags": []
      },
      "source": [
        "## Punto 1\n",
        "Determine el espacio de configuraciones: es decir, con todas las condiciones iniciales posibles, en los ejes $(x,v)$, del movimiento horizontal con fricción de una masa de $0.2\\ \\text{Kg}$ atada a un resorte de constante elástica $k=1\\ \\text{N/m}$. $x$ es la posicion y $v$ velocidad. \n"
      ]
    },
    {
      "cell_type": "markdown",
      "metadata": {},
      "source": [
        "### Sol punto 1\n",
        "Segun el enunciado anterior, entiendo que el sistema planteado es el siguiente, con fricción, la cual no se indica cual es su coeficiente (dinamico o estatico)\n",
        "\n",
        "![](EsquemaPunto1.png) (Imagen tomada de internet)\n",
        "\n",
        "Aplicando Newton tenemos como resultado:\n",
        "\n",
        "$$\n",
        "m\\dfrac{d^2x}{dt^2} + b\\dfrac{dx}{dt} + kx = 0\n",
        "$$\n",
        "\n",
        "donde \n",
        "$$\n",
        "\\dfrac{dx}{dt}\n",
        "$$\n",
        "se puede ver que es $v$\n"
      ]
    },
    {
      "cell_type": "markdown",
      "metadata": {},
      "source": [
        "Dado que el sistema depende de b (el cual no está definido), y evoluciona a lo largo de t, tomaremos b tales que: $-1<= b =< 1$"
      ]
    },
    {
      "cell_type": "code",
      "execution_count": 2,
      "metadata": {},
      "outputs": [
        {
          "data": {
            "text/plain": [
              "array([-1. , -0.9, -0.8, -0.7, -0.6, -0.5, -0.4, -0.3, -0.2, -0.1,  0. ,\n",
              "        0.1,  0.2,  0.3,  0.4,  0.5,  0.6,  0.7,  0.8,  0.9,  1. ])"
            ]
          },
          "execution_count": 2,
          "metadata": {},
          "output_type": "execute_result"
        }
      ],
      "source": [
        "# valores iniciales\n",
        "m = 0.2\n",
        "k = 1\n",
        "b = np.linspace(-1,1,21)\n",
        "b"
      ]
    },
    {
      "cell_type": "code",
      "execution_count": 3,
      "metadata": {},
      "outputs": [],
      "source": [
        "# defino las varibles\n",
        "t  = symbols(\"t\")\n",
        "x = Function(\"x\")"
      ]
    },
    {
      "cell_type": "code",
      "execution_count": 4,
      "metadata": {},
      "outputs": [
        {
          "data": {
            "text/plain": [
              "[Eq(x(t) - 1.0*Derivative(x(t), t) + 0.2*Derivative(x(t), (t, 2)), 0),\n",
              " Eq(x(t) - 0.9*Derivative(x(t), t) + 0.2*Derivative(x(t), (t, 2)), 0),\n",
              " Eq(x(t) - 0.8*Derivative(x(t), t) + 0.2*Derivative(x(t), (t, 2)), 0),\n",
              " Eq(x(t) - 0.7*Derivative(x(t), t) + 0.2*Derivative(x(t), (t, 2)), 0),\n",
              " Eq(x(t) - 0.6*Derivative(x(t), t) + 0.2*Derivative(x(t), (t, 2)), 0),\n",
              " Eq(x(t) - 0.5*Derivative(x(t), t) + 0.2*Derivative(x(t), (t, 2)), 0),\n",
              " Eq(x(t) - 0.4*Derivative(x(t), t) + 0.2*Derivative(x(t), (t, 2)), 0),\n",
              " Eq(x(t) - 0.3*Derivative(x(t), t) + 0.2*Derivative(x(t), (t, 2)), 0),\n",
              " Eq(x(t) - 0.2*Derivative(x(t), t) + 0.2*Derivative(x(t), (t, 2)), 0),\n",
              " Eq(x(t) - 0.1*Derivative(x(t), t) + 0.2*Derivative(x(t), (t, 2)), 0),\n",
              " Eq(x(t) + 0.1*Derivative(x(t), t) + 0.2*Derivative(x(t), (t, 2)), 0),\n",
              " Eq(x(t) + 0.2*Derivative(x(t), t) + 0.2*Derivative(x(t), (t, 2)), 0),\n",
              " Eq(x(t) + 0.3*Derivative(x(t), t) + 0.2*Derivative(x(t), (t, 2)), 0),\n",
              " Eq(x(t) + 0.4*Derivative(x(t), t) + 0.2*Derivative(x(t), (t, 2)), 0),\n",
              " Eq(x(t) + 0.5*Derivative(x(t), t) + 0.2*Derivative(x(t), (t, 2)), 0),\n",
              " Eq(x(t) + 0.6*Derivative(x(t), t) + 0.2*Derivative(x(t), (t, 2)), 0),\n",
              " Eq(x(t) + 0.7*Derivative(x(t), t) + 0.2*Derivative(x(t), (t, 2)), 0),\n",
              " Eq(x(t) + 0.8*Derivative(x(t), t) + 0.2*Derivative(x(t), (t, 2)), 0),\n",
              " Eq(x(t) + 0.9*Derivative(x(t), t) + 0.2*Derivative(x(t), (t, 2)), 0),\n",
              " Eq(x(t) + 1.0*Derivative(x(t), t) + 0.2*Derivative(x(t), (t, 2)), 0)]"
            ]
          },
          "execution_count": 4,
          "metadata": {},
          "output_type": "execute_result"
        }
      ],
      "source": [
        "# defino la ecuación\n",
        "lista_ed = []\n",
        "for i in range(0,len(b)):\n",
        "    if b[i] == 0:\n",
        "        pass\n",
        "    else:\n",
        "        lista_ed.append(Eq( m*x(t).diff(t,2) + b[i]*x(t).diff() + k*x(t), 0))\n",
        "lista_ed"
      ]
    },
    {
      "cell_type": "markdown",
      "metadata": {},
      "source": [
        "Estos son los posibles valores (para la variable x) que podemos encontrar variando el parametro b (coeficiente de fricción)"
      ]
    },
    {
      "cell_type": "code",
      "execution_count": 5,
      "metadata": {},
      "outputs": [
        {
          "data": {
            "text/plain": [
              "[Eq(x(t), C1*exp(1.38196601125011*t) + C2*exp(3.61803398874989*t)),\n",
              " Eq(x(t), C1*exp(2.0*t) + C2*exp(2.5*t)),\n",
              " Eq(x(t), (C1*sin(1.0*t) + C2*cos(1.0*t))*exp(2.0*t)),\n",
              " Eq(x(t), (C1*sin(1.39194109070751*t) + C2*cos(1.39194109070751*t))*exp(1.75*t)),\n",
              " Eq(x(t), (C1*sin(1.6583123951777*t) + C2*cos(1.6583123951777*t))*exp(1.5*t)),\n",
              " Eq(x(t), (C1*sin(1.85404962177392*t) + C2*cos(1.85404962177392*t))*exp(1.25*t)),\n",
              " Eq(x(t), (C1*sin(2.0*t) + C2*cos(2.0*t))*exp(1.0*t)),\n",
              " Eq(x(t), (C1*sin(2.10653744329409*t) + C2*cos(2.10653744329409*t))*exp(0.75*t)),\n",
              " Eq(x(t), (C1*sin(2.17944947177034*t) + C2*cos(2.17944947177034*t))*exp(0.5*t)),\n",
              " Eq(x(t), (C1*sin(2.2220486043289*t) + C2*cos(2.2220486043289*t))*exp(0.25*t)),\n",
              " Eq(x(t), (C1*sin(2.2220486043289*t) + C2*cos(2.2220486043289*t))*exp(-0.25*t)),\n",
              " Eq(x(t), (C1*sin(2.17944947177034*t) + C2*cos(2.17944947177034*t))*exp(-0.5*t)),\n",
              " Eq(x(t), (C1*sin(2.10653744329409*t) + C2*cos(2.10653744329409*t))*exp(-0.75*t)),\n",
              " Eq(x(t), (C1*sin(2.0*t) + C2*cos(2.0*t))*exp(-1.0*t)),\n",
              " Eq(x(t), (C1*sin(1.85404962177392*t) + C2*cos(1.85404962177392*t))*exp(-1.25*t)),\n",
              " Eq(x(t), (C1*sin(1.6583123951777*t) + C2*cos(1.6583123951777*t))*exp(-1.5*t)),\n",
              " Eq(x(t), (C1*sin(1.39194109070751*t) + C2*cos(1.39194109070751*t))*exp(-1.75*t)),\n",
              " Eq(x(t), (C1*sin(1.0*t) + C2*cos(1.0*t))*exp(-2.0*t)),\n",
              " Eq(x(t), C1*exp(-2.5*t) + C2*exp(-2.0*t)),\n",
              " Eq(x(t), C1*exp(-3.61803398874989*t) + C2*exp(-1.38196601125011*t))]"
            ]
          },
          "execution_count": 5,
          "metadata": {},
          "output_type": "execute_result"
        }
      ],
      "source": [
        "posibles_x = []\n",
        "for i in range(0,len(lista_ed)):\n",
        "    posibles_x.append(dsolve(lista_ed[i],x(t)))\n",
        "posibles_x"
      ]
    },
    {
      "cell_type": "markdown",
      "metadata": {},
      "source": [
        "Estos son los posibles valores (para la variable v) que podemos encontrar variando el parametro b (coeficiente de fricción)"
      ]
    },
    {
      "cell_type": "code",
      "execution_count": 6,
      "metadata": {},
      "outputs": [
        {
          "data": {
            "text/plain": [
              "[Derivative(Eq(x(t), C1*exp(1.38196601125011*t) + C2*exp(3.61803398874989*t)), t),\n",
              " Derivative(Eq(x(t), C1*exp(2.0*t) + C2*exp(2.5*t)), t),\n",
              " Derivative(Eq(x(t), (C1*sin(1.0*t) + C2*cos(1.0*t))*exp(2.0*t)), t),\n",
              " Derivative(Eq(x(t), (C1*sin(1.39194109070751*t) + C2*cos(1.39194109070751*t))*exp(1.75*t)), t),\n",
              " Derivative(Eq(x(t), (C1*sin(1.6583123951777*t) + C2*cos(1.6583123951777*t))*exp(1.5*t)), t),\n",
              " Derivative(Eq(x(t), (C1*sin(1.85404962177392*t) + C2*cos(1.85404962177392*t))*exp(1.25*t)), t),\n",
              " Derivative(Eq(x(t), (C1*sin(2.0*t) + C2*cos(2.0*t))*exp(1.0*t)), t),\n",
              " Derivative(Eq(x(t), (C1*sin(2.10653744329409*t) + C2*cos(2.10653744329409*t))*exp(0.75*t)), t),\n",
              " Derivative(Eq(x(t), (C1*sin(2.17944947177034*t) + C2*cos(2.17944947177034*t))*exp(0.5*t)), t),\n",
              " Derivative(Eq(x(t), (C1*sin(2.2220486043289*t) + C2*cos(2.2220486043289*t))*exp(0.25*t)), t),\n",
              " Derivative(Eq(x(t), (C1*sin(2.2220486043289*t) + C2*cos(2.2220486043289*t))*exp(-0.25*t)), t),\n",
              " Derivative(Eq(x(t), (C1*sin(2.17944947177034*t) + C2*cos(2.17944947177034*t))*exp(-0.5*t)), t),\n",
              " Derivative(Eq(x(t), (C1*sin(2.10653744329409*t) + C2*cos(2.10653744329409*t))*exp(-0.75*t)), t),\n",
              " Derivative(Eq(x(t), (C1*sin(2.0*t) + C2*cos(2.0*t))*exp(-1.0*t)), t),\n",
              " Derivative(Eq(x(t), (C1*sin(1.85404962177392*t) + C2*cos(1.85404962177392*t))*exp(-1.25*t)), t),\n",
              " Derivative(Eq(x(t), (C1*sin(1.6583123951777*t) + C2*cos(1.6583123951777*t))*exp(-1.5*t)), t),\n",
              " Derivative(Eq(x(t), (C1*sin(1.39194109070751*t) + C2*cos(1.39194109070751*t))*exp(-1.75*t)), t),\n",
              " Derivative(Eq(x(t), (C1*sin(1.0*t) + C2*cos(1.0*t))*exp(-2.0*t)), t),\n",
              " Derivative(Eq(x(t), C1*exp(-2.5*t) + C2*exp(-2.0*t)), t),\n",
              " Derivative(Eq(x(t), C1*exp(-3.61803398874989*t) + C2*exp(-1.38196601125011*t)), t)]"
            ]
          },
          "execution_count": 6,
          "metadata": {},
          "output_type": "execute_result"
        }
      ],
      "source": [
        "posibles_v = []\n",
        "for i in range(0,len(posibles_x)):\n",
        "    posibles_v.append(diff(posibles_x[i],t))\n",
        "posibles_v"
      ]
    },
    {
      "cell_type": "code",
      "execution_count": 7,
      "metadata": {},
      "outputs": [
        {
          "data": {
            "text/html": [
              "<div>\n",
              "<style scoped>\n",
              "    .dataframe tbody tr th:only-of-type {\n",
              "        vertical-align: middle;\n",
              "    }\n",
              "\n",
              "    .dataframe tbody tr th {\n",
              "        vertical-align: top;\n",
              "    }\n",
              "\n",
              "    .dataframe thead th {\n",
              "        text-align: right;\n",
              "    }\n",
              "</style>\n",
              "<table border=\"1\" class=\"dataframe\">\n",
              "  <thead>\n",
              "    <tr style=\"text-align: right;\">\n",
              "      <th></th>\n",
              "      <th>x</th>\n",
              "      <th>v</th>\n",
              "    </tr>\n",
              "  </thead>\n",
              "  <tbody>\n",
              "    <tr>\n",
              "      <th>0</th>\n",
              "      <td>Eq(x(t), C1*exp(1.38196601125011*t) + C2*exp(3...</td>\n",
              "      <td>Derivative(Eq(x(t), C1*exp(1.38196601125011*t)...</td>\n",
              "    </tr>\n",
              "    <tr>\n",
              "      <th>1</th>\n",
              "      <td>Eq(x(t), C1*exp(2.0*t) + C2*exp(2.5*t))</td>\n",
              "      <td>Derivative(Eq(x(t), C1*exp(2.0*t) + C2*exp(2.5...</td>\n",
              "    </tr>\n",
              "    <tr>\n",
              "      <th>2</th>\n",
              "      <td>Eq(x(t), (C1*sin(1.0*t) + C2*cos(1.0*t))*exp(2...</td>\n",
              "      <td>Derivative(Eq(x(t), (C1*sin(1.0*t) + C2*cos(1....</td>\n",
              "    </tr>\n",
              "    <tr>\n",
              "      <th>3</th>\n",
              "      <td>Eq(x(t), (C1*sin(1.39194109070751*t) + C2*cos(...</td>\n",
              "      <td>Derivative(Eq(x(t), (C1*sin(1.39194109070751*t...</td>\n",
              "    </tr>\n",
              "    <tr>\n",
              "      <th>4</th>\n",
              "      <td>Eq(x(t), (C1*sin(1.6583123951777*t) + C2*cos(1...</td>\n",
              "      <td>Derivative(Eq(x(t), (C1*sin(1.6583123951777*t)...</td>\n",
              "    </tr>\n",
              "    <tr>\n",
              "      <th>5</th>\n",
              "      <td>Eq(x(t), (C1*sin(1.85404962177392*t) + C2*cos(...</td>\n",
              "      <td>Derivative(Eq(x(t), (C1*sin(1.85404962177392*t...</td>\n",
              "    </tr>\n",
              "    <tr>\n",
              "      <th>6</th>\n",
              "      <td>Eq(x(t), (C1*sin(2.0*t) + C2*cos(2.0*t))*exp(1...</td>\n",
              "      <td>Derivative(Eq(x(t), (C1*sin(2.0*t) + C2*cos(2....</td>\n",
              "    </tr>\n",
              "    <tr>\n",
              "      <th>7</th>\n",
              "      <td>Eq(x(t), (C1*sin(2.10653744329409*t) + C2*cos(...</td>\n",
              "      <td>Derivative(Eq(x(t), (C1*sin(2.10653744329409*t...</td>\n",
              "    </tr>\n",
              "    <tr>\n",
              "      <th>8</th>\n",
              "      <td>Eq(x(t), (C1*sin(2.17944947177034*t) + C2*cos(...</td>\n",
              "      <td>Derivative(Eq(x(t), (C1*sin(2.17944947177034*t...</td>\n",
              "    </tr>\n",
              "    <tr>\n",
              "      <th>9</th>\n",
              "      <td>Eq(x(t), (C1*sin(2.2220486043289*t) + C2*cos(2...</td>\n",
              "      <td>Derivative(Eq(x(t), (C1*sin(2.2220486043289*t)...</td>\n",
              "    </tr>\n",
              "    <tr>\n",
              "      <th>10</th>\n",
              "      <td>Eq(x(t), (C1*sin(2.2220486043289*t) + C2*cos(2...</td>\n",
              "      <td>Derivative(Eq(x(t), (C1*sin(2.2220486043289*t)...</td>\n",
              "    </tr>\n",
              "    <tr>\n",
              "      <th>11</th>\n",
              "      <td>Eq(x(t), (C1*sin(2.17944947177034*t) + C2*cos(...</td>\n",
              "      <td>Derivative(Eq(x(t), (C1*sin(2.17944947177034*t...</td>\n",
              "    </tr>\n",
              "    <tr>\n",
              "      <th>12</th>\n",
              "      <td>Eq(x(t), (C1*sin(2.10653744329409*t) + C2*cos(...</td>\n",
              "      <td>Derivative(Eq(x(t), (C1*sin(2.10653744329409*t...</td>\n",
              "    </tr>\n",
              "    <tr>\n",
              "      <th>13</th>\n",
              "      <td>Eq(x(t), (C1*sin(2.0*t) + C2*cos(2.0*t))*exp(-...</td>\n",
              "      <td>Derivative(Eq(x(t), (C1*sin(2.0*t) + C2*cos(2....</td>\n",
              "    </tr>\n",
              "    <tr>\n",
              "      <th>14</th>\n",
              "      <td>Eq(x(t), (C1*sin(1.85404962177392*t) + C2*cos(...</td>\n",
              "      <td>Derivative(Eq(x(t), (C1*sin(1.85404962177392*t...</td>\n",
              "    </tr>\n",
              "    <tr>\n",
              "      <th>15</th>\n",
              "      <td>Eq(x(t), (C1*sin(1.6583123951777*t) + C2*cos(1...</td>\n",
              "      <td>Derivative(Eq(x(t), (C1*sin(1.6583123951777*t)...</td>\n",
              "    </tr>\n",
              "    <tr>\n",
              "      <th>16</th>\n",
              "      <td>Eq(x(t), (C1*sin(1.39194109070751*t) + C2*cos(...</td>\n",
              "      <td>Derivative(Eq(x(t), (C1*sin(1.39194109070751*t...</td>\n",
              "    </tr>\n",
              "    <tr>\n",
              "      <th>17</th>\n",
              "      <td>Eq(x(t), (C1*sin(1.0*t) + C2*cos(1.0*t))*exp(-...</td>\n",
              "      <td>Derivative(Eq(x(t), (C1*sin(1.0*t) + C2*cos(1....</td>\n",
              "    </tr>\n",
              "    <tr>\n",
              "      <th>18</th>\n",
              "      <td>Eq(x(t), C1*exp(-2.5*t) + C2*exp(-2.0*t))</td>\n",
              "      <td>Derivative(Eq(x(t), C1*exp(-2.5*t) + C2*exp(-2...</td>\n",
              "    </tr>\n",
              "    <tr>\n",
              "      <th>19</th>\n",
              "      <td>Eq(x(t), C1*exp(-3.61803398874989*t) + C2*exp(...</td>\n",
              "      <td>Derivative(Eq(x(t), C1*exp(-3.61803398874989*t...</td>\n",
              "    </tr>\n",
              "  </tbody>\n",
              "</table>\n",
              "</div>"
            ],
            "text/plain": [
              "                                                    x  \\\n",
              "0   Eq(x(t), C1*exp(1.38196601125011*t) + C2*exp(3...   \n",
              "1             Eq(x(t), C1*exp(2.0*t) + C2*exp(2.5*t))   \n",
              "2   Eq(x(t), (C1*sin(1.0*t) + C2*cos(1.0*t))*exp(2...   \n",
              "3   Eq(x(t), (C1*sin(1.39194109070751*t) + C2*cos(...   \n",
              "4   Eq(x(t), (C1*sin(1.6583123951777*t) + C2*cos(1...   \n",
              "5   Eq(x(t), (C1*sin(1.85404962177392*t) + C2*cos(...   \n",
              "6   Eq(x(t), (C1*sin(2.0*t) + C2*cos(2.0*t))*exp(1...   \n",
              "7   Eq(x(t), (C1*sin(2.10653744329409*t) + C2*cos(...   \n",
              "8   Eq(x(t), (C1*sin(2.17944947177034*t) + C2*cos(...   \n",
              "9   Eq(x(t), (C1*sin(2.2220486043289*t) + C2*cos(2...   \n",
              "10  Eq(x(t), (C1*sin(2.2220486043289*t) + C2*cos(2...   \n",
              "11  Eq(x(t), (C1*sin(2.17944947177034*t) + C2*cos(...   \n",
              "12  Eq(x(t), (C1*sin(2.10653744329409*t) + C2*cos(...   \n",
              "13  Eq(x(t), (C1*sin(2.0*t) + C2*cos(2.0*t))*exp(-...   \n",
              "14  Eq(x(t), (C1*sin(1.85404962177392*t) + C2*cos(...   \n",
              "15  Eq(x(t), (C1*sin(1.6583123951777*t) + C2*cos(1...   \n",
              "16  Eq(x(t), (C1*sin(1.39194109070751*t) + C2*cos(...   \n",
              "17  Eq(x(t), (C1*sin(1.0*t) + C2*cos(1.0*t))*exp(-...   \n",
              "18          Eq(x(t), C1*exp(-2.5*t) + C2*exp(-2.0*t))   \n",
              "19  Eq(x(t), C1*exp(-3.61803398874989*t) + C2*exp(...   \n",
              "\n",
              "                                                    v  \n",
              "0   Derivative(Eq(x(t), C1*exp(1.38196601125011*t)...  \n",
              "1   Derivative(Eq(x(t), C1*exp(2.0*t) + C2*exp(2.5...  \n",
              "2   Derivative(Eq(x(t), (C1*sin(1.0*t) + C2*cos(1....  \n",
              "3   Derivative(Eq(x(t), (C1*sin(1.39194109070751*t...  \n",
              "4   Derivative(Eq(x(t), (C1*sin(1.6583123951777*t)...  \n",
              "5   Derivative(Eq(x(t), (C1*sin(1.85404962177392*t...  \n",
              "6   Derivative(Eq(x(t), (C1*sin(2.0*t) + C2*cos(2....  \n",
              "7   Derivative(Eq(x(t), (C1*sin(2.10653744329409*t...  \n",
              "8   Derivative(Eq(x(t), (C1*sin(2.17944947177034*t...  \n",
              "9   Derivative(Eq(x(t), (C1*sin(2.2220486043289*t)...  \n",
              "10  Derivative(Eq(x(t), (C1*sin(2.2220486043289*t)...  \n",
              "11  Derivative(Eq(x(t), (C1*sin(2.17944947177034*t...  \n",
              "12  Derivative(Eq(x(t), (C1*sin(2.10653744329409*t...  \n",
              "13  Derivative(Eq(x(t), (C1*sin(2.0*t) + C2*cos(2....  \n",
              "14  Derivative(Eq(x(t), (C1*sin(1.85404962177392*t...  \n",
              "15  Derivative(Eq(x(t), (C1*sin(1.6583123951777*t)...  \n",
              "16  Derivative(Eq(x(t), (C1*sin(1.39194109070751*t...  \n",
              "17  Derivative(Eq(x(t), (C1*sin(1.0*t) + C2*cos(1....  \n",
              "18  Derivative(Eq(x(t), C1*exp(-2.5*t) + C2*exp(-2...  \n",
              "19  Derivative(Eq(x(t), C1*exp(-3.61803398874989*t...  "
            ]
          },
          "execution_count": 7,
          "metadata": {},
          "output_type": "execute_result"
        }
      ],
      "source": [
        "df_resultado = pd.DataFrame({\"x\":posibles_x,\"v\":posibles_v})\n",
        "df_resultado"
      ]
    },
    {
      "cell_type": "markdown",
      "metadata": {},
      "source": [
        "obteniendo como resultado, que los valores iniciales dependen siempre de C1 y C2, siendo estos amplitudes, estas dependen de 2 factores,\n",
        "\n",
        "1) la posición inicial del sistema:\n",
        "        - Punto de equilibrio\n",
        "        - Derecha del punto de equilibrio\n",
        "        - Izquierda del punto de equilibrio\n",
        "2) la velocidad inicial del sistema:\n",
        "        - nula\n",
        "        - Hacia la derecha, paralela a la superficie\n",
        "        - Hacia la izquierda, paralela a la superficie\n"
      ]
    },
    {
      "cell_type": "markdown",
      "metadata": {
        "id": "cfnae59wjPok"
      },
      "source": [
        "## Punto 2\n",
        "Considere una muestra de Strontium-90, ${}^{90}_{38}\\text{Sr}$, que contieme inicialmente 1000 núcleos de Strontium-90 sin decaer. En la base de datos: \n",
        "\n",
        "[https://raw.githubusercontent.com/restrepo/ComputationalMethods/master/data/strontium.json](https://raw.githubusercontent.com/restrepo/ComputationalMethods/master/data/strontium.json) \n",
        "\n",
        "se tienen los datos de decaimiento durante 200 años. Despues de 10 años quedan 809 nucleos sin decaer, después de 22 años quedan 564 y así sucesivamente. \n",
        "\n",
        "El decaimiento radiativo está determinado por la formula\n",
        "$$\n",
        "N(t)=N_0 \\operatorname{e}^{-\\lambda t}\\,,\\qquad \\lambda=\\frac{\\ln(2)}{\\tau}\n",
        "$$\n",
        "* $N(t)$ es el número de núcleos radioactivos que qedan despues de un tiempo $t$\n",
        "* $N_0$ es el número inicial de las partículas presentes (es decir, $t=0$)\n",
        "* $\\lambda$ es la constante de decaimiento\n",
        "* $\\tau$ es la vida medía, es decir, el tiempo durante el cual la mitad de la muestra radioactiva ha decaído.\n",
        "\n",
        "(a) Realice un fit a los datos y determine la vida media con su respectivo error.\n",
        "\n",
        "(b) Grafique los datos como puntos en el plano $t$, $N(t)$ y el correspondiente al fit"
      ]
    },
    {
      "cell_type": "markdown",
      "metadata": {},
      "source": [
        "### Sol punto 2 a"
      ]
    },
    {
      "cell_type": "markdown",
      "metadata": {},
      "source": [
        "saco lo datos"
      ]
    },
    {
      "cell_type": "code",
      "execution_count": 8,
      "metadata": {},
      "outputs": [
        {
          "data": {
            "text/html": [
              "<div>\n",
              "<style scoped>\n",
              "    .dataframe tbody tr th:only-of-type {\n",
              "        vertical-align: middle;\n",
              "    }\n",
              "\n",
              "    .dataframe tbody tr th {\n",
              "        vertical-align: top;\n",
              "    }\n",
              "\n",
              "    .dataframe thead th {\n",
              "        text-align: right;\n",
              "    }\n",
              "</style>\n",
              "<table border=\"1\" class=\"dataframe\">\n",
              "  <thead>\n",
              "    <tr style=\"text-align: right;\">\n",
              "      <th></th>\n",
              "      <th>t</th>\n",
              "      <th>N(t)</th>\n",
              "    </tr>\n",
              "  </thead>\n",
              "  <tbody>\n",
              "    <tr>\n",
              "      <th>0</th>\n",
              "      <td>0</td>\n",
              "      <td>1000</td>\n",
              "    </tr>\n",
              "    <tr>\n",
              "      <th>1</th>\n",
              "      <td>10</td>\n",
              "      <td>809</td>\n",
              "    </tr>\n",
              "    <tr>\n",
              "      <th>2</th>\n",
              "      <td>22</td>\n",
              "      <td>564</td>\n",
              "    </tr>\n",
              "    <tr>\n",
              "      <th>3</th>\n",
              "      <td>33</td>\n",
              "      <td>480</td>\n",
              "    </tr>\n",
              "    <tr>\n",
              "      <th>4</th>\n",
              "      <td>40</td>\n",
              "      <td>370</td>\n",
              "    </tr>\n",
              "    <tr>\n",
              "      <th>5</th>\n",
              "      <td>50</td>\n",
              "      <td>285</td>\n",
              "    </tr>\n",
              "    <tr>\n",
              "      <th>6</th>\n",
              "      <td>60</td>\n",
              "      <td>199</td>\n",
              "    </tr>\n",
              "    <tr>\n",
              "      <th>7</th>\n",
              "      <td>70</td>\n",
              "      <td>169</td>\n",
              "    </tr>\n",
              "    <tr>\n",
              "      <th>8</th>\n",
              "      <td>80</td>\n",
              "      <td>131</td>\n",
              "    </tr>\n",
              "    <tr>\n",
              "      <th>9</th>\n",
              "      <td>99</td>\n",
              "      <td>101</td>\n",
              "    </tr>\n",
              "    <tr>\n",
              "      <th>10</th>\n",
              "      <td>111</td>\n",
              "      <td>70</td>\n",
              "    </tr>\n",
              "    <tr>\n",
              "      <th>11</th>\n",
              "      <td>110</td>\n",
              "      <td>54</td>\n",
              "    </tr>\n",
              "    <tr>\n",
              "      <th>12</th>\n",
              "      <td>133</td>\n",
              "      <td>42</td>\n",
              "    </tr>\n",
              "    <tr>\n",
              "      <th>13</th>\n",
              "      <td>130</td>\n",
              "      <td>32</td>\n",
              "    </tr>\n",
              "    <tr>\n",
              "      <th>14</th>\n",
              "      <td>140</td>\n",
              "      <td>25</td>\n",
              "    </tr>\n",
              "    <tr>\n",
              "      <th>15</th>\n",
              "      <td>166</td>\n",
              "      <td>21</td>\n",
              "    </tr>\n",
              "    <tr>\n",
              "      <th>16</th>\n",
              "      <td>177</td>\n",
              "      <td>16</td>\n",
              "    </tr>\n",
              "    <tr>\n",
              "      <th>17</th>\n",
              "      <td>170</td>\n",
              "      <td>13</td>\n",
              "    </tr>\n",
              "    <tr>\n",
              "      <th>18</th>\n",
              "      <td>199</td>\n",
              "      <td>9</td>\n",
              "    </tr>\n",
              "    <tr>\n",
              "      <th>19</th>\n",
              "      <td>200</td>\n",
              "      <td>7</td>\n",
              "    </tr>\n",
              "  </tbody>\n",
              "</table>\n",
              "</div>"
            ],
            "text/plain": [
              "      t  N(t)\n",
              "0     0  1000\n",
              "1    10   809\n",
              "2    22   564\n",
              "3    33   480\n",
              "4    40   370\n",
              "5    50   285\n",
              "6    60   199\n",
              "7    70   169\n",
              "8    80   131\n",
              "9    99   101\n",
              "10  111    70\n",
              "11  110    54\n",
              "12  133    42\n",
              "13  130    32\n",
              "14  140    25\n",
              "15  166    21\n",
              "16  177    16\n",
              "17  170    13\n",
              "18  199     9\n",
              "19  200     7"
            ]
          },
          "execution_count": 8,
          "metadata": {},
          "output_type": "execute_result"
        }
      ],
      "source": [
        "url = \"https://raw.githubusercontent.com/restrepo/ComputationalMethods/master/data/strontium.json\"\n",
        "respuesta_pag = rq.get(url)\n",
        "datos_extraidos = pd.DataFrame(json.loads(respuesta_pag.text))\n",
        "datos_extraidos"
      ]
    },
    {
      "cell_type": "markdown",
      "metadata": {},
      "source": [
        "miro el comportamiento de los mismos"
      ]
    },
    {
      "cell_type": "code",
      "execution_count": 9,
      "metadata": {},
      "outputs": [
        {
          "data": {
            "image/png": "[encoded data removed]",
            "text/plain": [
              "<Figure size 640x480 with 1 Axes>"
            ]
          },
          "metadata": {},
          "output_type": "display_data"
        }
      ],
      "source": [
        "plt.figure()\n",
        "plt.plot(datos_extraidos[\"t\"],datos_extraidos[\"N(t)\"])\n",
        "plt.show()"
      ]
    },
    {
      "cell_type": "markdown",
      "metadata": {},
      "source": [
        "Dado el decaimiento de la función, se puede sospechar que es de la forma\n",
        "\n",
        "$$\n",
        "f(t) = a \\operatorname{e}^{-bt}\n",
        "$$"
      ]
    },
    {
      "cell_type": "code",
      "execution_count": 32,
      "metadata": {},
      "outputs": [],
      "source": [
        "# defino la función que se sospecha\n",
        "def sospecha(t, a, b):\n",
        "    return a*np.exp(-b*t)"
      ]
    },
    {
      "cell_type": "markdown",
      "metadata": {},
      "source": [
        "calculo el valor de b"
      ]
    },
    {
      "cell_type": "code",
      "execution_count": 35,
      "metadata": {},
      "outputs": [
        {
          "name": "stderr",
          "output_type": "stream",
          "text": [
            "C:\\Users\\oscar\\AppData\\Roaming\\Python\\Python310\\site-packages\\pandas\\core\\arraylike.py:402: RuntimeWarning: overflow encountered in exp\n",
            "  result = getattr(ufunc, method)(*inputs, **kwargs)\n"
          ]
        },
        {
          "data": {
            "text/plain": [
              "(array([1.01295013e+03, 2.50743577e-02]),\n",
              " array([[1.34310232e+02, 3.25783542e-03],\n",
              "        [3.25783542e-03, 2.09515051e-07]]))"
            ]
          },
          "execution_count": 35,
          "metadata": {},
          "output_type": "execute_result"
        }
      ],
      "source": [
        "aprox, err = curve_fit(sospecha,datos_extraidos[\"t\"],datos_extraidos[\"N(t)\"])\n",
        "aprox, err"
      ]
    },
    {
      "cell_type": "markdown",
      "metadata": {},
      "source": [
        "calculo el tiempo de vida medio y su respectivo error\n",
        "\n",
        "$$\n",
        "\\tau = \\frac{Ln(2)}{b}\n",
        "$$"
      ]
    },
    {
      "cell_type": "markdown",
      "metadata": {},
      "source": [
        "multiplico por 3 la desviación estandar de cada valor aproximado para tener dentro el 99,7% de los datos, aunque aumente la incertidumbre, a su vez aumenta la certeza"
      ]
    },
    {
      "cell_type": "code",
      "execution_count": 41,
      "metadata": {},
      "outputs": [
        {
          "name": "stdout",
          "output_type": "stream",
          "text": [
            "Valores de vida media: \n",
            "Valor:  27.643666492360662  || Error: [2.79290276e+02 6.77447830e-03]\n",
            "Valores de coeficiente:\n",
            "Valor:  1012.950125090252  || Error: 402.9306958675733\n"
          ]
        }
      ],
      "source": [
        "tau = np.log(2)/aprox[1]\n",
        "err_tau = np.log(2)*err[0]*3\n",
        "coeficiente = aprox[0]\n",
        "err_coeficiente = err[0][0]*3\n",
        "\n",
        "print(\"Valores de vida media: \")\n",
        "print(\"Valor: \",tau,\" || Error:\",err_tau)\n",
        "print(\"Valores de coeficiente:\")\n",
        "print(\"Valor: \",coeficiente,\" || Error:\",err_coeficiente)"
      ]
    },
    {
      "cell_type": "markdown",
      "metadata": {},
      "source": [
        "### Sol punto 2 b"
      ]
    },
    {
      "cell_type": "markdown",
      "metadata": {},
      "source": [
        "genero los datos ajustados para comparar con los medidos"
      ]
    },
    {
      "cell_type": "code",
      "execution_count": 42,
      "metadata": {},
      "outputs": [],
      "source": [
        "valores_t = np.linspace(0,200,2000)\n",
        "valores_x = coeficiente*np.exp(-np.log(2)*valores_t/tau)"
      ]
    },
    {
      "cell_type": "markdown",
      "metadata": {},
      "source": [
        "grafico los datos"
      ]
    },
    {
      "cell_type": "code",
      "execution_count": 50,
      "metadata": {},
      "outputs": [
        {
          "data": {
            "image/png": "[encoded data removed]",
            "text/plain": [
              "<Figure size 1200x800 with 1 Axes>"
            ]
          },
          "metadata": {},
          "output_type": "display_data"
        }
      ],
      "source": [
        "plt.figure(figsize=(12,8))\n",
        "plt.title(\"Decaimiento de los nucleos de Strontium-90 a lo largo de los años\")\n",
        "plt.ylabel(\"Numero de núcleos\")\n",
        "plt.xlabel(\"Tiempo (años)\")\n",
        "plt.plot(datos_extraidos[\"t\"],datos_extraidos[\"N(t)\"])\n",
        "plt.plot(valores_t,valores_x)\n",
        "plt.legend([\"Medidos\",\"Ajustados\"])\n",
        "plt.show()"
      ]
    }
  ],
  "metadata": {
    "colab": {
      "include_colab_link": true,
      "name": "Examen_2020_2_03_enunciado.ipynb",
      "provenance": []
    },
    "kernelspec": {
      "display_name": "Python 3.10.8 64-bit",
      "language": "python",
      "name": "python3"
    },
    "language_info": {
      "codemirror_mode": {
        "name": "ipython",
        "version": 3
      },
      "file_extension": ".py",
      "mimetype": "text/x-python",
      "name": "python",
      "nbconvert_exporter": "python",
      "pygments_lexer": "ipython3",
      "version": "3.10.8"
    },
    "vscode": {
      "interpreter": {
        "hash": "26de051ba29f2982a8de78e945f0abaf191376122a1563185a90213a26c5da77"
      }
    }
  },
  "nbformat": 4,
  "nbformat_minor": 0
}
