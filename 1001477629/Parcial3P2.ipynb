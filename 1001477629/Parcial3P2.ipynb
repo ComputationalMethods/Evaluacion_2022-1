{
 "cells": [
  {
   "cell_type": "code",
   "execution_count": 19,
   "id": "1e59c0f3-c16e-42ac-b8d0-49bbad004ffc",
   "metadata": {},
   "outputs": [],
   "source": [
    "import numpy as np\n",
    "import scipy.optimize as optimize\n",
    "import pandas as pd\n",
    "import matplotlib.pyplot as plt"
   ]
  },
  {
   "cell_type": "code",
   "execution_count": 137,
   "id": "78c086e3-0af9-4864-98b4-f45dc57bc4ce",
   "metadata": {},
   "outputs": [],
   "source": [
    "datos=[{\"t\":0,\"N(t)\":1000},\n",
    " {\"t\":10,\"N(t)\":809},\n",
    " {\"t\":22,\"N(t)\":564},\n",
    " {\"t\":33,\"N(t)\":480},\n",
    " {\"t\":40,\"N(t)\":370},\n",
    " {\"t\":50,\"N(t)\":285},\n",
    " {\"t\":60,\"N(t)\":199},\n",
    " {\"t\":70,\"N(t)\":169},\n",
    " {\"t\":80,\"N(t)\":131},\n",
    " {\"t\":99,\"N(t)\":101},\n",
    " {\"t\":111,\"N(t)\":70},\n",
    " {\"t\":110,\"N(t)\":54},\n",
    " {\"t\":133,\"N(t)\":42},\n",
    " {\"t\":130,\"N(t)\":32},\n",
    " {\"t\":140,\"N(t)\":25},\n",
    " {\"t\":166,\"N(t)\":21},\n",
    " {\"t\":177,\"N(t)\":16},\n",
    " {\"t\":170,\"N(t)\":13},\n",
    " {\"t\":199,\"N(t)\":9},\n",
    " {\"t\":200,\"N(t)\":7}]"
   ]
  },
  {
   "cell_type": "code",
   "execution_count": 138,
   "id": "2a7eb6dc-9c6f-4db2-8cc3-df6857ca7b05",
   "metadata": {},
   "outputs": [
    {
     "data": {
      "text/html": [
       "<div>\n",
       "<style scoped>\n",
       "    .dataframe tbody tr th:only-of-type {\n",
       "        vertical-align: middle;\n",
       "    }\n",
       "\n",
       "    .dataframe tbody tr th {\n",
       "        vertical-align: top;\n",
       "    }\n",
       "\n",
       "    .dataframe thead th {\n",
       "        text-align: right;\n",
       "    }\n",
       "</style>\n",
       "<table border=\"1\" class=\"dataframe\">\n",
       "  <thead>\n",
       "    <tr style=\"text-align: right;\">\n",
       "      <th></th>\n",
       "      <th>t</th>\n",
       "      <th>N</th>\n",
       "    </tr>\n",
       "  </thead>\n",
       "  <tbody>\n",
       "    <tr>\n",
       "      <th>0</th>\n",
       "      <td>0</td>\n",
       "      <td>1000</td>\n",
       "    </tr>\n",
       "    <tr>\n",
       "      <th>1</th>\n",
       "      <td>10</td>\n",
       "      <td>809</td>\n",
       "    </tr>\n",
       "    <tr>\n",
       "      <th>2</th>\n",
       "      <td>22</td>\n",
       "      <td>564</td>\n",
       "    </tr>\n",
       "    <tr>\n",
       "      <th>3</th>\n",
       "      <td>33</td>\n",
       "      <td>480</td>\n",
       "    </tr>\n",
       "    <tr>\n",
       "      <th>4</th>\n",
       "      <td>40</td>\n",
       "      <td>370</td>\n",
       "    </tr>\n",
       "    <tr>\n",
       "      <th>5</th>\n",
       "      <td>50</td>\n",
       "      <td>285</td>\n",
       "    </tr>\n",
       "    <tr>\n",
       "      <th>6</th>\n",
       "      <td>60</td>\n",
       "      <td>199</td>\n",
       "    </tr>\n",
       "    <tr>\n",
       "      <th>7</th>\n",
       "      <td>70</td>\n",
       "      <td>169</td>\n",
       "    </tr>\n",
       "    <tr>\n",
       "      <th>8</th>\n",
       "      <td>80</td>\n",
       "      <td>131</td>\n",
       "    </tr>\n",
       "    <tr>\n",
       "      <th>9</th>\n",
       "      <td>99</td>\n",
       "      <td>101</td>\n",
       "    </tr>\n",
       "    <tr>\n",
       "      <th>10</th>\n",
       "      <td>111</td>\n",
       "      <td>70</td>\n",
       "    </tr>\n",
       "    <tr>\n",
       "      <th>11</th>\n",
       "      <td>110</td>\n",
       "      <td>54</td>\n",
       "    </tr>\n",
       "    <tr>\n",
       "      <th>12</th>\n",
       "      <td>133</td>\n",
       "      <td>42</td>\n",
       "    </tr>\n",
       "    <tr>\n",
       "      <th>13</th>\n",
       "      <td>130</td>\n",
       "      <td>32</td>\n",
       "    </tr>\n",
       "    <tr>\n",
       "      <th>14</th>\n",
       "      <td>140</td>\n",
       "      <td>25</td>\n",
       "    </tr>\n",
       "    <tr>\n",
       "      <th>15</th>\n",
       "      <td>166</td>\n",
       "      <td>21</td>\n",
       "    </tr>\n",
       "    <tr>\n",
       "      <th>16</th>\n",
       "      <td>177</td>\n",
       "      <td>16</td>\n",
       "    </tr>\n",
       "    <tr>\n",
       "      <th>17</th>\n",
       "      <td>170</td>\n",
       "      <td>13</td>\n",
       "    </tr>\n",
       "    <tr>\n",
       "      <th>18</th>\n",
       "      <td>199</td>\n",
       "      <td>9</td>\n",
       "    </tr>\n",
       "    <tr>\n",
       "      <th>19</th>\n",
       "      <td>200</td>\n",
       "      <td>7</td>\n",
       "    </tr>\n",
       "  </tbody>\n",
       "</table>\n",
       "</div>"
      ],
      "text/plain": [
       "      t     N\n",
       "0     0  1000\n",
       "1    10   809\n",
       "2    22   564\n",
       "3    33   480\n",
       "4    40   370\n",
       "5    50   285\n",
       "6    60   199\n",
       "7    70   169\n",
       "8    80   131\n",
       "9    99   101\n",
       "10  111    70\n",
       "11  110    54\n",
       "12  133    42\n",
       "13  130    32\n",
       "14  140    25\n",
       "15  166    21\n",
       "16  177    16\n",
       "17  170    13\n",
       "18  199     9\n",
       "19  200     7"
      ]
     },
     "execution_count": 138,
     "metadata": {},
     "output_type": "execute_result"
    }
   ],
   "source": [
    "t=[]\n",
    "N=[]\n",
    "for i in datos:\n",
    "    t.append(i[\"t\"])\n",
    "    N.append(i[\"N(t)\"])\n",
    "df=pd.DataFrame({'t':t,'N':N})\n",
    "df[['t','N']]"
   ]
  },
  {
   "cell_type": "code",
   "execution_count": 139,
   "id": "e33ecc65-12e3-4aad-bd53-73bd9a06274e",
   "metadata": {},
   "outputs": [
    {
     "name": "stderr",
     "output_type": "stream",
     "text": [
      "C:\\Users\\USUARIO\\AppData\\Local\\Temp\\ipykernel_4692\\3220356605.py:2: RuntimeWarning: overflow encountered in exp\n",
      "  return No*np.exp(-l*t)\n"
     ]
    }
   ],
   "source": [
    "def func(t, No, l):\n",
    "    return No*np.exp(-l*t)\n",
    "N,e=optimize.curve_fit(func,t,N)"
   ]
  },
  {
   "cell_type": "code",
   "execution_count": 140,
   "id": "ad539d6e-f64f-4fe2-8c72-ebb7196ba5ab",
   "metadata": {},
   "outputs": [
    {
     "name": "stdout",
     "output_type": "stream",
     "text": [
      "No=1012.95±11.59, l=0.0250744±0.0004577, T=27.6437±0.5046\n"
     ]
    }
   ],
   "source": [
    "No=N[0]\n",
    "l=N[1]\n",
    "E=np.sqrt(np.diag(e))\n",
    "T=np.log(2)/l\n",
    "eT=T*(E[1]/l)\n",
    "print('No={:.2f}±{:.2f}, l={:.7f}±{:.7f}, T={:.4f}±{:.4f}'.format(No,E[0],l,E[1],T,eT) )"
   ]
  },
  {
   "cell_type": "code",
   "execution_count": 141,
   "id": "ea9c6a05-83ee-4161-8d50-9bd3f51a7a0d",
   "metadata": {},
   "outputs": [
    {
     "data": {
      "image/png": "[encoded data removed]",
      "text/plain": [
       "<Figure size 432x288 with 1 Axes>"
      ]
     },
     "metadata": {
      "needs_background": "light"
     },
     "output_type": "display_data"
    }
   ],
   "source": [
    "t=np.linspace(0,200,1000)\n",
    "N_model=func(t,*N)\n",
    "plt.plot(df.t,df.N,'ro')\n",
    "plt.plot(t,N_model)\n",
    "plt.xlabel('$t$ [s]',size=15 )\n",
    "plt.ylabel('$N(t)$',size=15 )\n",
    "plt.grid()"
   ]
  },
  {
   "cell_type": "code",
   "execution_count": null,
   "id": "ed19a8a0-cccb-40e4-9add-61edba070590",
   "metadata": {},
   "outputs": [],
   "source": []
  }
 ],
 "metadata": {
  "kernelspec": {
   "display_name": "Python 3 (ipykernel)",
   "language": "python",
   "name": "python3"
  },
  "language_info": {
   "codemirror_mode": {
    "name": "ipython",
    "version": 3
   },
   "file_extension": ".py",
   "mimetype": "text/x-python",
   "name": "python",
   "nbconvert_exporter": "python",
   "pygments_lexer": "ipython3",
   "version": "3.9.12"
  }
 },
 "nbformat": 4,
 "nbformat_minor": 5
}
