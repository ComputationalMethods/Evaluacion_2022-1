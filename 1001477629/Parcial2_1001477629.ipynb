{
  "cells": [
    {
      "cell_type": "markdown",
      "id": "a3f0c1b2-a69e-4149-b747-97a5863134d9",
      "metadata": {
        "id": "a3f0c1b2-a69e-4149-b747-97a5863134d9"
      },
      "source": [
        "# Examen 2: Métodos computacionales\n",
        "A)\n",
        "1. Usando su número de cédula cómo semilla, obtenga un numero entero aleatorio, $n$, entre 2 y 20.\n",
        "2. Usando el $n$ obtenido, haga una estimación de la siguiente integral hasta dos cifras significativas, usando el método `quad` del módulo `integrate` de Scipy\n",
        "$$\n",
        "\\int_0^\\infty \\sin(x^n)\\operatorname{d}x\n",
        "$$\n",
        "Sugerencia. Compare con el valor obtenido desde https://www.wolframalpha.com/ o [sympy](https://stackoverflow.com/questions/65862611/integration-of-sin-x-dx-problem-in-python-programming-implementation)"
      ]
    },
    {
      "cell_type": "code",
      "execution_count": 82,
      "id": "62cbc669-9ed6-4f54-b4c9-5ac10f7c15d6",
      "metadata": {
        "id": "62cbc669-9ed6-4f54-b4c9-5ac10f7c15d6"
      },
      "outputs": [],
      "source": [
        "import numpy as np\n",
        "from scipy import interpolate\n",
        "import scipy.integrate as integrate\n",
        "from math import sin\n",
        "from math import log"
      ]
    },
    {
      "cell_type": "code",
      "source": [
        "np.random.seed(1001477629)\n",
        "n=np.random.uniform(2,20)\n",
        "n"
      ],
      "metadata": {
        "colab": {
          "base_uri": "https://localhost:8080/"
        },
        "id": "9Fp8Cp8CfVfK",
        "outputId": "42f4136f-32b0-4003-a9ec-be4abfd45735"
      },
      "id": "9Fp8Cp8CfVfK",
      "execution_count": 83,
      "outputs": [
        {
          "output_type": "execute_result",
          "data": {
            "text/plain": [
              "8.28158661644435"
            ]
          },
          "metadata": {},
          "execution_count": 83
        }
      ]
    },
    {
      "cell_type": "code",
      "source": [
        "f1=lambda x: sin(1/x**n)/x**2\n"
      ],
      "metadata": {
        "id": "wXqnW4Zffhq-"
      },
      "id": "wXqnW4Zffhq-",
      "execution_count": 88,
      "outputs": []
    },
    {
      "cell_type": "code",
      "source": [
        "I1=integrate.quad(f1,0.5,np.inf)\n",
        "I1[0]"
      ],
      "metadata": {
        "colab": {
          "base_uri": "https://localhost:8080/"
        },
        "id": "VjJLdUwfg8ea",
        "outputId": "660078e1-3875-454a-9c35-23e561b5395b"
      },
      "id": "VjJLdUwfg8ea",
      "execution_count": 101,
      "outputs": [
        {
          "output_type": "stream",
          "name": "stderr",
          "text": [
            "/usr/local/lib/python3.7/dist-packages/ipykernel_launcher.py:1: IntegrationWarning: The maximum number of subdivisions (50) has been achieved.\n",
            "  If increasing the limit yields no improvement it is advised to analyze \n",
            "  the integrand in order to determine the difficulties.  If the position of a \n",
            "  local difficulty can be determined (singularity, discontinuity) one will \n",
            "  probably gain from splitting up the interval and calling the integrator \n",
            "  on the subranges.  Perhaps a special-purpose integrator should be used.\n",
            "  \"\"\"Entry point for launching an IPython kernel.\n"
          ]
        },
        {
          "output_type": "execute_result",
          "data": {
            "text/plain": [
              "0.17861676778256674"
            ]
          },
          "metadata": {},
          "execution_count": 101
        }
      ]
    },
    {
      "cell_type": "markdown",
      "source": [
        "$$\n",
        "I_1=0.17861676778256674\n",
        "$$\n",
        "$$\n",
        "\\int_0^{0.5} f_1(x)\\operatorname{d}y   = -0.000766728\n",
        "$$\n",
        "$$\n",
        "\\int_0^\\infty \\sin(x^n)\\operatorname{d}x ≈ I_1 - 0.000766728 = 0.17785 ≈ 0.17862\n",
        "$$\n"
      ],
      "metadata": {
        "id": "tG1Z4ap-c50t"
      },
      "id": "tG1Z4ap-c50t"
    },
    {
      "cell_type": "markdown",
      "id": "0949b7a5-6d81-4e98-adc7-a7a1867266a3",
      "metadata": {
        "id": "0949b7a5-6d81-4e98-adc7-a7a1867266a3"
      },
      "source": [
        "\n",
        "B) Cargue los datos disponibles en:\n",
        "\n",
        "[https://github.com/ComputationalMethods/Evaluacion_2022-1/blob/main/data/lista_pares.json](https://raw.githubusercontent.com/ComputationalMethods/Evaluacion_2022-1/main/data/lista_pares.json)\n",
        "\n",
        "como un DataFrame de pandas. Este contendrá dos columnas. La columna `lista`, con una lista de 8 enteros (algunos de ellos repetidos) y una columna `pares` correspondiente a un diccionario\n",
        "con dos items: un entero rotulado con `'S'` y una lista de pares de enteros routulada con `'ψ'`. Note que el resultado de la suma en valor absoluto de los dos enteros en cada uno de los pares reproduce el valor del correspondiente `'S'` \n",
        "\n",
        "Seleccione la fila del DataFrame con el índice correspondiente a los dos últimos dígitos de su cédula y desarrolle los siguientes puntos con la correspondiente  `lista` y `pares`:\n",
        "1. Construya una matrix $8\\times 8$ _simétrica_ donde cada fila y la correspondiente columna correspondan a un entero de la `lista` (incluyendo los repetidos); de manera que en los cruces de filas y columnas definidos por los pares de enteros de `'ψ'`, se genere una entrada aleatoria mayor que cero y menor o igual que 1, con las demas entradas iguales a cero.\n",
        "1. Calcule el determinante y establezca explícitamente si es diferente cero (tenga en cuenta la precisión numérica). Recuerde que si el determinante es cero, se espera que al menos uno de los autovalores sea cero\n",
        "2. Organize los autovalores y autovectores de menor a mayor en valor absoluto y compruebe que las matriz de autovectores organizada da lugar a los autovalores en el orden correcto. \n",
        "3. Establezca explícitamente _cuantos_ autovalores son degenerados en valor absoluto."
      ]
    },
    {
      "cell_type": "markdown",
      "source": [],
      "metadata": {
        "id": "egJ8ukR9nxl_"
      },
      "id": "egJ8ukR9nxl_"
    },
    {
      "cell_type": "code",
      "execution_count": 11,
      "id": "2df48495-196b-4fa4-8206-466cd33658e2",
      "metadata": {
        "id": "2df48495-196b-4fa4-8206-466cd33658e2"
      },
      "outputs": [],
      "source": [
        "import pandas as pd\n",
        "import numpy as np\n",
        "import sympy as sy\n",
        "import scipy.linalg as linalg\n",
        "import scipy"
      ]
    },
    {
      "cell_type": "code",
      "source": [
        "DF=pd.read_json('lista_pares.json',orient='records',lines=True)\n",
        "Daniel=DF[29][0]\n",
        "Daniel"
      ],
      "metadata": {
        "colab": {
          "base_uri": "https://localhost:8080/"
        },
        "id": "UEYjCs5VOkCU",
        "outputId": "8be1a4d8-230b-489f-bb37-b20f49b2a3bf"
      },
      "id": "UEYjCs5VOkCU",
      "execution_count": 13,
      "outputs": [
        {
          "output_type": "execute_result",
          "data": {
            "text/plain": [
              "{'lista': [1, -3, -6, -6, 7, 8, 11, -12],\n",
              " 'pares': {'S': 5,\n",
              "  'ψ': [[1, -6],\n",
              "   [-3, 8],\n",
              "   [7, -12],\n",
              "   [-6, 11],\n",
              "   [-6, 1],\n",
              "   [8, -3],\n",
              "   [-12, 7],\n",
              "   [11, -6]]}}"
            ]
          },
          "metadata": {},
          "execution_count": 13
        }
      ]
    },
    {
      "cell_type": "code",
      "source": [
        "M=([[0,0,1,1,0,0,0,0],\n",
        "    [0,0,0,0,0,1,0,0],\n",
        "    [1,0,0,0,0,0,1,0],\n",
        "    [1,0,0,0,0,0,1,0],\n",
        "    [0,0,0,0,0,0,0,1],\n",
        "    [0,1,0,0,0,0,0,0],\n",
        "    [0,0,1,1,0,0,0,0],\n",
        "    [0,0,0,0,1,0,0,0]])\n",
        "\n",
        "for i in range(0,8):\n",
        "    for j in range(0,8):\n",
        "        a=np.random.random()\n",
        "        M[i][j]=M[i][j]*a\n",
        "        M[j][i]=M[j][i]*a\n",
        "\n",
        "sy.Matrix(M)"
      ],
      "metadata": {
        "colab": {
          "base_uri": "https://localhost:8080/",
          "height": 200
        },
        "id": "wByillxAOp62",
        "outputId": "68c423a7-a293-4918-837e-b633cffb2d0f"
      },
      "id": "wByillxAOp62",
      "execution_count": 14,
      "outputs": [
        {
          "output_type": "execute_result",
          "data": {
            "text/plain": [
              "Matrix([\n",
              "[                0.0,               0.0, 0.00915643985923252, 0.267530267288711,               0.0,               0.0,               0.0,               0.0],\n",
              "[                0.0,               0.0,                 0.0,               0.0,               0.0, 0.204251304185014,               0.0,               0.0],\n",
              "[0.00915643985923252,               0.0,                 0.0,               0.0,               0.0,               0.0, 0.528000893751763,               0.0],\n",
              "[  0.267530267288711,               0.0,                 0.0,               0.0,               0.0,               0.0, 0.948603946126884,               0.0],\n",
              "[                0.0,               0.0,                 0.0,               0.0,               0.0,               0.0,               0.0, 0.476507078921567],\n",
              "[                0.0, 0.204251304185014,                 0.0,               0.0,               0.0,               0.0,               0.0,               0.0],\n",
              "[                0.0,               0.0,   0.528000893751763, 0.948603946126884,               0.0,               0.0,               0.0,               0.0],\n",
              "[                0.0,               0.0,                 0.0,               0.0, 0.476507078921567,               0.0,               0.0,               0.0]])"
            ],
            "text/latex": "$\\displaystyle \\left[\\begin{matrix}0.0 & 0.0 & 0.00915643985923252 & 0.267530267288711 & 0.0 & 0.0 & 0.0 & 0.0\\\\0.0 & 0.0 & 0.0 & 0.0 & 0.0 & 0.204251304185014 & 0.0 & 0.0\\\\0.00915643985923252 & 0.0 & 0.0 & 0.0 & 0.0 & 0.0 & 0.528000893751763 & 0.0\\\\0.267530267288711 & 0.0 & 0.0 & 0.0 & 0.0 & 0.0 & 0.948603946126884 & 0.0\\\\0.0 & 0.0 & 0.0 & 0.0 & 0.0 & 0.0 & 0.0 & 0.476507078921567\\\\0.0 & 0.204251304185014 & 0.0 & 0.0 & 0.0 & 0.0 & 0.0 & 0.0\\\\0.0 & 0.0 & 0.528000893751763 & 0.948603946126884 & 0.0 & 0.0 & 0.0 & 0.0\\\\0.0 & 0.0 & 0.0 & 0.0 & 0.476507078921567 & 0.0 & 0.0 & 0.0\\end{matrix}\\right]$"
          },
          "metadata": {},
          "execution_count": 14
        }
      ]
    },
    {
      "cell_type": "code",
      "source": [
        "Dm=np.linalg.det(M) #Determinante\n",
        "Dm"
      ],
      "metadata": {
        "colab": {
          "base_uri": "https://localhost:8080/"
        },
        "id": "sRuqiWVJOxHD",
        "outputId": "672121b5-0de4-4b85-b09b-c5b892c7f93b"
      },
      "id": "sRuqiWVJOxHD",
      "execution_count": 15,
      "outputs": [
        {
          "output_type": "execute_result",
          "data": {
            "text/plain": [
              "0.00016647975455583885"
            ]
          },
          "metadata": {},
          "execution_count": 15
        }
      ]
    },
    {
      "cell_type": "code",
      "source": [
        "l,V=np.linalg.eig(M)"
      ],
      "metadata": {
        "id": "WkwGKzgKOzUC"
      },
      "id": "WkwGKzgKOzUC",
      "execution_count": 16,
      "outputs": []
    },
    {
      "cell_type": "code",
      "source": [
        "V0=np.c_[ V[:,0] ]\n",
        "V1=np.c_[ V[:,1] ]\n",
        "V2=np.c_[ V[:,2] ]\n",
        "V3=np.c_[ V[:,3] ]\n",
        "V4=np.c_[ V[:,4] ]\n",
        "V5=np.c_[ V[:,5] ]\n",
        "V6=np.c_[ V[:,6] ]\n",
        "V7=np.c_[ V[:,7] ]\n",
        "V=np.c_[V0,V1,V2,V3,V4,V5,V6,V7]"
      ],
      "metadata": {
        "id": "LzM6S938O1SH"
      },
      "id": "LzM6S938O1SH",
      "execution_count": 17,
      "outputs": []
    },
    {
      "cell_type": "code",
      "source": [
        "sy.Matrix((V.transpose()@M@V).round(14))"
      ],
      "metadata": {
        "colab": {
          "base_uri": "https://localhost:8080/",
          "height": 200
        },
        "id": "Z_iXuq6EO28Y",
        "outputId": "8d15dbc2-463a-4461-9f14-6384dba16c56"
      },
      "id": "Z_iXuq6EO28Y",
      "execution_count": 18,
      "outputs": [
        {
          "output_type": "execute_result",
          "data": {
            "text/plain": [
              "Matrix([\n",
              "[-1.11178789625787,              0.0,               0.0,              0.0,               0.0,              0.0,              0.0,               0.0],\n",
              "[              0.0, 1.11178789625787,               0.0,              0.0,               0.0,              0.0,              0.0,               0.0],\n",
              "[              0.0,              0.0, -0.11924071641485,              0.0,               0.0,              0.0,              0.0,               0.0],\n",
              "[              0.0,              0.0,               0.0, 0.11924071641485,               0.0,              0.0,              0.0,               0.0],\n",
              "[              0.0,              0.0,               0.0,              0.0, -0.20425130418501,              0.0,              0.0,               0.0],\n",
              "[              0.0,              0.0,               0.0,              0.0,               0.0, 0.20425130418501,              0.0,               0.0],\n",
              "[              0.0,              0.0,               0.0,              0.0,               0.0,              0.0, 0.47650707892157,               0.0],\n",
              "[              0.0,              0.0,               0.0,              0.0,               0.0,              0.0,              0.0, -0.47650707892157]])"
            ],
            "text/latex": "$\\displaystyle \\left[\\begin{matrix}-1.11178789625787 & 0.0 & 0.0 & 0.0 & 0.0 & 0.0 & 0.0 & 0.0\\\\0.0 & 1.11178789625787 & 0.0 & 0.0 & 0.0 & 0.0 & 0.0 & 0.0\\\\0.0 & 0.0 & -0.11924071641485 & 0.0 & 0.0 & 0.0 & 0.0 & 0.0\\\\0.0 & 0.0 & 0.0 & 0.11924071641485 & 0.0 & 0.0 & 0.0 & 0.0\\\\0.0 & 0.0 & 0.0 & 0.0 & -0.20425130418501 & 0.0 & 0.0 & 0.0\\\\0.0 & 0.0 & 0.0 & 0.0 & 0.0 & 0.20425130418501 & 0.0 & 0.0\\\\0.0 & 0.0 & 0.0 & 0.0 & 0.0 & 0.0 & 0.47650707892157 & 0.0\\\\0.0 & 0.0 & 0.0 & 0.0 & 0.0 & 0.0 & 0.0 & -0.47650707892157\\end{matrix}\\right]$"
          },
          "metadata": {},
          "execution_count": 18
        }
      ]
    },
    {
      "cell_type": "code",
      "source": [
        "A_diag=np.diag(l)\n",
        "sy.Matrix(A_diag)"
      ],
      "metadata": {
        "colab": {
          "base_uri": "https://localhost:8080/",
          "height": 200
        },
        "id": "Nja8ZEmJO5GW",
        "outputId": "a2d63448-419e-4be9-fa97-7b26321bca28"
      },
      "id": "Nja8ZEmJO5GW",
      "execution_count": 19,
      "outputs": [
        {
          "output_type": "execute_result",
          "data": {
            "text/plain": [
              "Matrix([\n",
              "[-1.11178789625787,              0.0,                0.0,               0.0,                0.0,               0.0,               0.0,                0.0],\n",
              "[              0.0, 1.11178789625787,                0.0,               0.0,                0.0,               0.0,               0.0,                0.0],\n",
              "[              0.0,              0.0, -0.119240716414849,               0.0,                0.0,               0.0,               0.0,                0.0],\n",
              "[              0.0,              0.0,                0.0, 0.119240716414849,                0.0,               0.0,               0.0,                0.0],\n",
              "[              0.0,              0.0,                0.0,               0.0, -0.204251304185014,               0.0,               0.0,                0.0],\n",
              "[              0.0,              0.0,                0.0,               0.0,                0.0, 0.204251304185014,               0.0,                0.0],\n",
              "[              0.0,              0.0,                0.0,               0.0,                0.0,               0.0, 0.476507078921567,                0.0],\n",
              "[              0.0,              0.0,                0.0,               0.0,                0.0,               0.0,               0.0, -0.476507078921567]])"
            ],
            "text/latex": "$\\displaystyle \\left[\\begin{matrix}-1.11178789625787 & 0.0 & 0.0 & 0.0 & 0.0 & 0.0 & 0.0 & 0.0\\\\0.0 & 1.11178789625787 & 0.0 & 0.0 & 0.0 & 0.0 & 0.0 & 0.0\\\\0.0 & 0.0 & -0.119240716414849 & 0.0 & 0.0 & 0.0 & 0.0 & 0.0\\\\0.0 & 0.0 & 0.0 & 0.119240716414849 & 0.0 & 0.0 & 0.0 & 0.0\\\\0.0 & 0.0 & 0.0 & 0.0 & -0.204251304185014 & 0.0 & 0.0 & 0.0\\\\0.0 & 0.0 & 0.0 & 0.0 & 0.0 & 0.204251304185014 & 0.0 & 0.0\\\\0.0 & 0.0 & 0.0 & 0.0 & 0.0 & 0.0 & 0.476507078921567 & 0.0\\\\0.0 & 0.0 & 0.0 & 0.0 & 0.0 & 0.0 & 0.0 & -0.476507078921567\\end{matrix}\\right]$"
          },
          "metadata": {},
          "execution_count": 19
        }
      ]
    },
    {
      "cell_type": "code",
      "source": [
        "def argeig(A):\n",
        "    λ,V=np.linalg.eig(A)\n",
        "    V=np.c_[ tuple( [ np.c_[V[:,i]]    for i in np.abs(λ).argsort() ] ) ]\n",
        "    λ=np.array([λ[i] for i in np.abs(λ).argsort()])\n",
        "    return λ,V"
      ],
      "metadata": {
        "id": "cWyL7j3HO7Ce"
      },
      "id": "cWyL7j3HO7Ce",
      "execution_count": 20,
      "outputs": []
    },
    {
      "cell_type": "code",
      "source": [
        "ol,oV=argeig(M)"
      ],
      "metadata": {
        "id": "v_IkqZLhO9Y0"
      },
      "id": "v_IkqZLhO9Y0",
      "execution_count": 21,
      "outputs": []
    },
    {
      "cell_type": "code",
      "source": [
        "A_diag=np.diag(ol)\n",
        "sy.Matrix(A_diag)"
      ],
      "metadata": {
        "colab": {
          "base_uri": "https://localhost:8080/",
          "height": 200
        },
        "id": "enMIz1YgO-9C",
        "outputId": "05eaff47-0197-43af-e70a-df5327eff02e"
      },
      "id": "enMIz1YgO-9C",
      "execution_count": 22,
      "outputs": [
        {
          "output_type": "execute_result",
          "data": {
            "text/plain": [
              "Matrix([\n",
              "[-0.119240716414849,               0.0,                0.0,               0.0,                0.0,               0.0,               0.0,              0.0],\n",
              "[               0.0, 0.119240716414849,                0.0,               0.0,                0.0,               0.0,               0.0,              0.0],\n",
              "[               0.0,               0.0, -0.204251304185014,               0.0,                0.0,               0.0,               0.0,              0.0],\n",
              "[               0.0,               0.0,                0.0, 0.204251304185014,                0.0,               0.0,               0.0,              0.0],\n",
              "[               0.0,               0.0,                0.0,               0.0, -0.476507078921567,               0.0,               0.0,              0.0],\n",
              "[               0.0,               0.0,                0.0,               0.0,                0.0, 0.476507078921567,               0.0,              0.0],\n",
              "[               0.0,               0.0,                0.0,               0.0,                0.0,               0.0, -1.11178789625787,              0.0],\n",
              "[               0.0,               0.0,                0.0,               0.0,                0.0,               0.0,               0.0, 1.11178789625787]])"
            ],
            "text/latex": "$\\displaystyle \\left[\\begin{matrix}-0.119240716414849 & 0.0 & 0.0 & 0.0 & 0.0 & 0.0 & 0.0 & 0.0\\\\0.0 & 0.119240716414849 & 0.0 & 0.0 & 0.0 & 0.0 & 0.0 & 0.0\\\\0.0 & 0.0 & -0.204251304185014 & 0.0 & 0.0 & 0.0 & 0.0 & 0.0\\\\0.0 & 0.0 & 0.0 & 0.204251304185014 & 0.0 & 0.0 & 0.0 & 0.0\\\\0.0 & 0.0 & 0.0 & 0.0 & -0.476507078921567 & 0.0 & 0.0 & 0.0\\\\0.0 & 0.0 & 0.0 & 0.0 & 0.0 & 0.476507078921567 & 0.0 & 0.0\\\\0.0 & 0.0 & 0.0 & 0.0 & 0.0 & 0.0 & -1.11178789625787 & 0.0\\\\0.0 & 0.0 & 0.0 & 0.0 & 0.0 & 0.0 & 0.0 & 1.11178789625787\\end{matrix}\\right]$"
          },
          "metadata": {},
          "execution_count": 22
        }
      ]
    },
    {
      "cell_type": "code",
      "source": [
        "sy.Matrix((oV.transpose()@M@oV).round(14))"
      ],
      "metadata": {
        "colab": {
          "base_uri": "https://localhost:8080/",
          "height": 200
        },
        "id": "mA56kRfrPBuD",
        "outputId": "a1b43a6c-4ee5-4196-f0cd-53fb95241b3f"
      },
      "id": "mA56kRfrPBuD",
      "execution_count": 23,
      "outputs": [
        {
          "output_type": "execute_result",
          "data": {
            "text/plain": [
              "Matrix([\n",
              "[-0.11924071641485,              0.0,               0.0,              0.0,               0.0,              0.0,               0.0,              0.0],\n",
              "[              0.0, 0.11924071641485,               0.0,              0.0,               0.0,              0.0,               0.0,              0.0],\n",
              "[              0.0,              0.0, -0.20425130418501,              0.0,               0.0,              0.0,               0.0,              0.0],\n",
              "[              0.0,              0.0,               0.0, 0.20425130418501,               0.0,              0.0,               0.0,              0.0],\n",
              "[              0.0,              0.0,               0.0,              0.0, -0.47650707892157,              0.0,               0.0,              0.0],\n",
              "[              0.0,              0.0,               0.0,              0.0,               0.0, 0.47650707892157,               0.0,              0.0],\n",
              "[              0.0,              0.0,               0.0,              0.0,               0.0,              0.0, -1.11178789625787,              0.0],\n",
              "[              0.0,              0.0,               0.0,              0.0,               0.0,              0.0,               0.0, 1.11178789625787]])"
            ],
            "text/latex": "$\\displaystyle \\left[\\begin{matrix}-0.11924071641485 & 0.0 & 0.0 & 0.0 & 0.0 & 0.0 & 0.0 & 0.0\\\\0.0 & 0.11924071641485 & 0.0 & 0.0 & 0.0 & 0.0 & 0.0 & 0.0\\\\0.0 & 0.0 & -0.20425130418501 & 0.0 & 0.0 & 0.0 & 0.0 & 0.0\\\\0.0 & 0.0 & 0.0 & 0.20425130418501 & 0.0 & 0.0 & 0.0 & 0.0\\\\0.0 & 0.0 & 0.0 & 0.0 & -0.47650707892157 & 0.0 & 0.0 & 0.0\\\\0.0 & 0.0 & 0.0 & 0.0 & 0.0 & 0.47650707892157 & 0.0 & 0.0\\\\0.0 & 0.0 & 0.0 & 0.0 & 0.0 & 0.0 & -1.11178789625787 & 0.0\\\\0.0 & 0.0 & 0.0 & 0.0 & 0.0 & 0.0 & 0.0 & 1.11178789625787\\end{matrix}\\right]$"
          },
          "metadata": {},
          "execution_count": 23
        }
      ]
    },
    {
      "cell_type": "code",
      "source": [],
      "metadata": {
        "id": "PF6NJjF6PD61"
      },
      "id": "PF6NJjF6PD61",
      "execution_count": null,
      "outputs": []
    }
  ],
  "metadata": {
    "kernelspec": {
      "display_name": "Python 3 (ipykernel)",
      "language": "python",
      "name": "python3"
    },
    "language_info": {
      "codemirror_mode": {
        "name": "ipython",
        "version": 3
      },
      "file_extension": ".py",
      "mimetype": "text/x-python",
      "name": "python",
      "nbconvert_exporter": "python",
      "pygments_lexer": "ipython3",
      "version": "3.9.2"
    },
    "colab": {
      "provenance": [],
      "collapsed_sections": []
    }
  },
  "nbformat": 4,
  "nbformat_minor": 5
}