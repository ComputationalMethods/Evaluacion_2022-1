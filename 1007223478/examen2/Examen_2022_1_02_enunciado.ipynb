{
  "cells": [
    {
      "cell_type": "markdown",
      "id": "a3f0c1b2-a69e-4149-b747-97a5863134d9",
      "metadata": {
        "id": "a3f0c1b2-a69e-4149-b747-97a5863134d9"
      },
      "source": [
        "# Examen 2: Métodos computacionales\n",
        "A)\n",
        "1. Usando su número de cédula cómo semilla, obtenga un numero entero aleatorio, $n$, entre 2 y 20.\n",
        "2. Usando el $n$ obtenido, haga una estimación de la siguiente integral hasta dos cifras significativas, usando el método `quad` del módulo `integrate` de Scipy\n",
        "$$\n",
        "\\int_0^\\infty \\sin(x^n)\\operatorname{d}x\n",
        "$$\n",
        "Sugerencia. Compare con el valor obtenido desde https://www.wolframalpha.com/ o [sympy](https://stackoverflow.com/questions/65862611/integration-of-sin-x-dx-problem-in-python-programming-implementation)"
      ]
    },
    {
      "cell_type": "code",
      "execution_count": 3,
      "id": "62cbc669-9ed6-4f54-b4c9-5ac10f7c15d6",
      "metadata": {
        "id": "62cbc669-9ed6-4f54-b4c9-5ac10f7c15d6",
        "outputId": "5c28afac-046f-42c8-a5bb-c6515941761a",
        "colab": {
          "base_uri": "https://localhost:8080/"
        }
      },
      "outputs": [
        {
          "output_type": "execute_result",
          "data": {
            "text/plain": [
              "7"
            ]
          },
          "metadata": {},
          "execution_count": 3
        }
      ],
      "source": [
        "#libs\n",
        "\n",
        "import numpy as np\n",
        "import scipy as sp\n",
        "from scipy import integrate\n",
        "import pandas as pd\n",
        "import requests\n",
        "\n",
        "#1)\n",
        "np.random.seed(1007223478)\n",
        "n = np.random.randint(2,21)\n",
        "n"
      ]
    },
    {
      "cell_type": "code",
      "source": [
        "#2)\n",
        "\n",
        "def f(x):\n",
        "  return np.sin(x**7)\n",
        "\n",
        "integral = integrate.quad(f,0,np.inf)\n",
        "integral[0]"
      ],
      "metadata": {
        "id": "syZr7wvjmTfU",
        "outputId": "4b2b5fe7-5379-42b0-bd11-fc8caca61633",
        "colab": {
          "base_uri": "https://localhost:8080/"
        }
      },
      "id": "syZr7wvjmTfU",
      "execution_count": 49,
      "outputs": [
        {
          "output_type": "stream",
          "name": "stderr",
          "text": [
            "/usr/local/lib/python3.7/dist-packages/ipykernel_launcher.py:6: IntegrationWarning: The maximum number of subdivisions (50) has been achieved.\n",
            "  If increasing the limit yields no improvement it is advised to analyze \n",
            "  the integrand in order to determine the difficulties.  If the position of a \n",
            "  local difficulty can be determined (singularity, discontinuity) one will \n",
            "  probably gain from splitting up the interval and calling the integrator \n",
            "  on the subranges.  Perhaps a special-purpose integrator should be used.\n",
            "  \n"
          ]
        },
        {
          "output_type": "execute_result",
          "data": {
            "text/plain": [
              "1186561.1432248745"
            ]
          },
          "metadata": {},
          "execution_count": 49
        }
      ]
    },
    {
      "cell_type": "code",
      "source": [],
      "metadata": {
        "id": "YeLRAHOjm3ac"
      },
      "id": "YeLRAHOjm3ac",
      "execution_count": null,
      "outputs": []
    },
    {
      "cell_type": "markdown",
      "id": "0949b7a5-6d81-4e98-adc7-a7a1867266a3",
      "metadata": {
        "id": "0949b7a5-6d81-4e98-adc7-a7a1867266a3"
      },
      "source": [
        "B) Cargue los datos disponibles en:\n",
        "\n",
        "https://raw.githubusercontent.com/ComputationalMethods/Evaluacion_2022-1/main/data/lista_pares.json\n",
        "\n",
        "como un DataFrame de pandas. Este contendrá dos columnas. La columna `lista`, con una lista de 8 enteros (algunos de ellos repetidos) y una columna `pares` correspondiente a un diccionario\n",
        "con dos items: un entero rotulado con `'S'` y una lista de pares de enteros routulada con `'ψ'`. Note que el resultado de la suma en valor absoluto de los dos enteros en cada uno de los pares reproduce el valor del correspondiente `'S'` \n",
        "\n",
        "Seleccione la fila del DataFrame con el índice correspondiente a los dos últimos dígitos de su cédula y desarrolle los siguientes puntos con la correspondiente  `lista` y `pares`:\n",
        "1. Construya una matrix $8\\times 8$ _simétrica_ donde cada fila y la correspondiente columna correspondan a un entero de la `lista` (incluyendo los repetidos); de manera que en los cruces de filas y columnas definidos por los pares de enteros de `'ψ'`, se genere una entrada aleatoria mayor que cero y menor o igual que 1, con las demas entradas iguales a cero.\n",
        "1. Calcule el determinante y establezca explícitamente si es diferente cero (tenga en cuenta la precisión numérica). Recuerde que si el determinante es cero, se espera que al menos uno de los autovalores sea cero\n",
        "2. Organize los autovalores y autovectores de menor a mayor en valor absoluto y compruebe que las matriz de autovectores organizada da lugar a los autovalores en el orden correcto. \n",
        "3. Establezca explícitamente _cuantos_ autovalores son degenerados en valor absoluto."
      ]
    },
    {
      "cell_type": "code",
      "execution_count": 4,
      "id": "2df48495-196b-4fa4-8206-466cd33658e2",
      "metadata": {
        "id": "2df48495-196b-4fa4-8206-466cd33658e2",
        "outputId": "96148ebd-64cf-44ac-99dc-0939fe7dcff3",
        "colab": {
          "base_uri": "https://localhost:8080/"
        }
      },
      "outputs": [
        {
          "output_type": "execute_result",
          "data": {
            "text/plain": [
              "lista                      [2, -5, -6, 8, -9, 12, 13, -15]\n",
              "pares    {'S': 7, 'ψ': [[8, -15], [-5, 12], [-6, 13], [...\n",
              "Name: 78, dtype: object"
            ]
          },
          "metadata": {},
          "execution_count": 4
        }
      ],
      "source": [
        "# Import\n",
        "\n",
        "response = requests.get(\"https://raw.githubusercontent.com/ComputationalMethods/Evaluacion_2022-1/main/data/lista_pares.json\")\n",
        "rawjson = response.json()\n",
        "df_json = pd.DataFrame(rawjson)\n",
        "#1007223478\n",
        "data = df_json.iloc[78]\n",
        "data"
      ]
    },
    {
      "cell_type": "code",
      "source": [
        "#1)\n",
        "\n",
        "num_list = data[\"lista\"]\n",
        "ψ = data[\"pares\"][\"ψ\"]\n",
        "\n",
        "\n",
        "#Symmetrical matrix building with pairs\n",
        "M = np.zeros((8,8))\n",
        "\n",
        "#We're gonna go trough the list and build each possible pair, if it is in our selected pairs ψ then we will do a random, else, it will be 0\n",
        "for i in range(0,8):\n",
        "  for j in range(0,8):\n",
        "\n",
        "    pair = [num_list[i],num_list[j]]\n",
        "\n",
        "    if pair in ψ:\n",
        "      M[i,j] = np.round_(np.random.random(), 3)\n",
        "    else:\n",
        "      M[i,j] = 0\n",
        "\n",
        "M"
      ],
      "metadata": {
        "id": "RFE8Y5CoryC_",
        "outputId": "9fbdecdd-68ae-49a2-f079-62ae9add2184",
        "colab": {
          "base_uri": "https://localhost:8080/"
        }
      },
      "id": "RFE8Y5CoryC_",
      "execution_count": 8,
      "outputs": [
        {
          "output_type": "execute_result",
          "data": {
            "text/plain": [
              "array([[0.   , 0.   , 0.   , 0.   , 0.809, 0.   , 0.   , 0.   ],\n",
              "       [0.   , 0.   , 0.   , 0.   , 0.   , 0.893, 0.   , 0.   ],\n",
              "       [0.   , 0.   , 0.   , 0.   , 0.   , 0.   , 0.615, 0.   ],\n",
              "       [0.   , 0.   , 0.   , 0.   , 0.   , 0.   , 0.   , 0.804],\n",
              "       [0.031, 0.   , 0.   , 0.   , 0.   , 0.   , 0.   , 0.   ],\n",
              "       [0.   , 0.705, 0.   , 0.   , 0.   , 0.   , 0.   , 0.   ],\n",
              "       [0.   , 0.   , 0.588, 0.   , 0.   , 0.   , 0.   , 0.   ],\n",
              "       [0.   , 0.   , 0.   , 0.956, 0.   , 0.   , 0.   , 0.   ]])"
            ]
          },
          "metadata": {},
          "execution_count": 8
        }
      ]
    },
    {
      "cell_type": "code",
      "source": [
        "# 2)\n",
        "\n",
        "det = np.linalg.det(M)\n",
        "#How much is the determinant?\n",
        "print(det)\n",
        "#Is it close to zero from a computer-precision point?\n",
        "print(det < 10**-16)"
      ],
      "metadata": {
        "id": "fNN-2rd2wBN2",
        "outputId": "4def36c6-2680-4788-b171-01b3ec1474e2",
        "colab": {
          "base_uri": "https://localhost:8080/"
        }
      },
      "id": "fNN-2rd2wBN2",
      "execution_count": 12,
      "outputs": [
        {
          "output_type": "stream",
          "name": "stdout",
          "text": [
            "0.004388510827508927\n",
            "False\n"
          ]
        }
      ]
    },
    {
      "cell_type": "code",
      "source": [
        "#3)\n",
        "\n",
        "lamb , v = np.linalg.eig(M)\n",
        "\n",
        "absolute_lamb = [abs(x) for x in lamb]\n",
        "absolute_lamb.sort()\n",
        "print(absolute_lamb)\n",
        "print(v)\n",
        "\n",
        "# I don't really know what does it mean to sort vectors from min to max...? is that even possible?"
      ],
      "metadata": {
        "id": "M-G8IhsisZ6i",
        "outputId": "341f1bd8-0531-40c8-85c8-ace94195c782",
        "colab": {
          "base_uri": "https://localhost:8080/"
        }
      },
      "id": "M-G8IhsisZ6i",
      "execution_count": 15,
      "outputs": [
        {
          "output_type": "stream",
          "name": "stdout",
          "text": [
            "[0.15836350589703424, 0.15836350589703427, 0.6013484846576068, 0.6013484846576068, 0.7934513217583042, 0.7934513217583042, 0.8767120393835138, 0.8767120393835139]\n",
            "[[ 0.98137416  0.98137416  0.          0.          0.          0.\n",
            "   0.          0.        ]\n",
            " [ 0.          0.          0.          0.         -0.747545   -0.747545\n",
            "   0.          0.        ]\n",
            " [ 0.          0.          0.71499786  0.71499786  0.          0.\n",
            "   0.          0.        ]\n",
            " [ 0.          0.          0.          0.          0.          0.\n",
            "  -0.67588326 -0.67588326]\n",
            " [ 0.19210612 -0.19210612  0.          0.          0.          0.\n",
            "   0.          0.        ]\n",
            " [ 0.          0.          0.          0.         -0.66421116  0.66421116\n",
            "   0.          0.        ]\n",
            " [ 0.          0.          0.69912664 -0.69912664  0.          0.\n",
            "   0.          0.        ]\n",
            " [ 0.          0.          0.          0.          0.          0.\n",
            "  -0.7370087   0.7370087 ]]\n"
          ]
        }
      ]
    },
    {
      "cell_type": "code",
      "source": [
        "#4)\n",
        "\n",
        "#An eigenvalue is degenerated when its value its equal to other eigenvalue\n",
        "#This implies a root that is present more than one time in the matrix's characteristic polynomial\n",
        "#When we take the absolutew value of lambda we can see 4 degenerated eigenvalues:\n",
        "\n",
        "absolute_lamb"
      ],
      "metadata": {
        "id": "sP9m-R6xtSGc",
        "outputId": "285feac5-e4e9-4cb4-e663-0b40fefc40ef",
        "colab": {
          "base_uri": "https://localhost:8080/"
        }
      },
      "id": "sP9m-R6xtSGc",
      "execution_count": 17,
      "outputs": [
        {
          "output_type": "execute_result",
          "data": {
            "text/plain": [
              "[0.15836350589703424,\n",
              " 0.15836350589703427,\n",
              " 0.6013484846576068,\n",
              " 0.6013484846576068,\n",
              " 0.7934513217583042,\n",
              " 0.7934513217583042,\n",
              " 0.8767120393835138,\n",
              " 0.8767120393835139]"
            ]
          },
          "metadata": {},
          "execution_count": 17
        }
      ]
    },
    {
      "cell_type": "code",
      "source": [],
      "metadata": {
        "id": "utGy8yFdweUM"
      },
      "id": "utGy8yFdweUM",
      "execution_count": null,
      "outputs": []
    }
  ],
  "metadata": {
    "kernelspec": {
      "display_name": "Python 3 (ipykernel)",
      "language": "python",
      "name": "python3"
    },
    "language_info": {
      "codemirror_mode": {
        "name": "ipython",
        "version": 3
      },
      "file_extension": ".py",
      "mimetype": "text/x-python",
      "name": "python",
      "nbconvert_exporter": "python",
      "pygments_lexer": "ipython3",
      "version": "3.9.2"
    },
    "colab": {
      "provenance": []
    }
  },
  "nbformat": 4,
  "nbformat_minor": 5
}