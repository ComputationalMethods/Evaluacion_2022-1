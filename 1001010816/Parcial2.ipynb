{
  "cells": [
    {
      "cell_type": "code",
      "source": [
        "import numpy as np\n",
        "import pandas as pd\n",
        "from scipy import integrate\n",
        "import sympy as sp"
      ],
      "metadata": {
        "id": "0MLN79p4IqR4"
      },
      "id": "0MLN79p4IqR4",
      "execution_count": null,
      "outputs": []
    },
    {
      "cell_type": "markdown",
      "id": "a3f0c1b2-a69e-4149-b747-97a5863134d9",
      "metadata": {
        "id": "a3f0c1b2-a69e-4149-b747-97a5863134d9"
      },
      "source": [
        "# Examen 2: Métodos computacionales\n",
        "A)\n",
        "1. Usando su número de cédula cómo semilla, obtenga un numero entero aleatorio, $n$, entre 2 y 20.\n",
        "2. Usando el $n$ obtenido, haga una estimación de la siguiente integral hasta dos cifras significativas, usando el método `quad` del módulo `integrate` de Scipy\n",
        "$$\n",
        "\\int_0^\\infty \\sin(x^n)\\operatorname{d}x\n",
        "$$\n",
        "Sugerencia. Compare con el valor obtenido desde https://www.wolframalpha.com/ o [sympy](https://stackoverflow.com/questions/65862611/integration-of-sin-x-dx-problem-in-python-programming-implementation)"
      ]
    },
    {
      "cell_type": "code",
      "execution_count": null,
      "id": "62cbc669-9ed6-4f54-b4c9-5ac10f7c15d6",
      "metadata": {
        "id": "62cbc669-9ed6-4f54-b4c9-5ac10f7c15d6",
        "outputId": "cf93e9cf-1321-4e31-c87d-88d2849f2c13",
        "colab": {
          "base_uri": "https://localhost:8080/"
        }
      },
      "outputs": [
        {
          "output_type": "execute_result",
          "data": {
            "text/plain": [
              "10"
            ]
          },
          "metadata": {},
          "execution_count": 2
        }
      ],
      "source": [
        "np.random.seed(1001010816) # semilla con numero de cédula\n",
        "n=np.random.randint(2,20) # número aleatorio resultante\n",
        "n"
      ]
    },
    {
      "cell_type": "markdown",
      "source": [
        "$$\\int_0^∞{\\sin({x^{10})}}\\mathrm{d}x$$"
      ],
      "metadata": {
        "id": "By7O2xHpJFGR"
      },
      "id": "By7O2xHpJFGR"
    },
    {
      "cell_type": "code",
      "source": [
        "f1 = lambda x: np.sin(x**10)\n",
        "val=integrate.quad(f1,0,np.inf)\n",
        "val[0]"
      ],
      "metadata": {
        "id": "ZFSMMLDNJcRj",
        "outputId": "7b78452a-16aa-41ff-820e-fdd4419c72e8",
        "colab": {
          "base_uri": "https://localhost:8080/"
        }
      },
      "id": "ZFSMMLDNJcRj",
      "execution_count": null,
      "outputs": [
        {
          "output_type": "stream",
          "name": "stderr",
          "text": [
            "/usr/local/lib/python3.7/dist-packages/ipykernel_launcher.py:2: IntegrationWarning: The integral is probably divergent, or slowly convergent.\n",
            "  \n"
          ]
        },
        {
          "output_type": "execute_result",
          "data": {
            "text/plain": [
              "16917.089027769365"
            ]
          },
          "metadata": {},
          "execution_count": 3
        }
      ]
    },
    {
      "cell_type": "markdown",
      "source": [
        "Se puede ver que el valor obtenido no corresponde con el arrojado por wolfram, entonces se intenta la sustitución $u = x^{10}$, obteniendo así la integral equivalente:  \n",
        "$$\\int_0^\\infty{\\frac{\\sin{u}}{10u^{9/10}}}\\mathrm{d}u$$  \n",
        "Como en este caso el infinito es un valor numérico podemos utilizar como límite superior 1000 obteniendo un valor bastante aproximado al que da wolfram."
      ],
      "metadata": {
        "id": "lX9zmJEgPyhu"
      },
      "id": "lX9zmJEgPyhu"
    },
    {
      "cell_type": "code",
      "source": [
        "f2 = lambda u: np.sin(u)/(10*u**.9)\n",
        "val2 = (integrate.quad(f2,0,1000)[0])"
      ],
      "metadata": {
        "id": "at52r9p7LzS7",
        "outputId": "d7b85e32-e144-4005-fc21-e9f648981612",
        "colab": {
          "base_uri": "https://localhost:8080/"
        }
      },
      "id": "at52r9p7LzS7",
      "execution_count": null,
      "outputs": [
        {
          "output_type": "stream",
          "name": "stderr",
          "text": [
            "/usr/local/lib/python3.7/dist-packages/ipykernel_launcher.py:2: IntegrationWarning: The maximum number of subdivisions (50) has been achieved.\n",
            "  If increasing the limit yields no improvement it is advised to analyze \n",
            "  the integrand in order to determine the difficulties.  If the position of a \n",
            "  local difficulty can be determined (singularity, discontinuity) one will \n",
            "  probably gain from splitting up the interval and calling the integrator \n",
            "  on the subranges.  Perhaps a special-purpose integrator should be used.\n",
            "  \n"
          ]
        }
      ]
    },
    {
      "cell_type": "code",
      "source": [
        "print('El valor de la integral definida es, ', round(val2,2))"
      ],
      "metadata": {
        "id": "DPcEMuuQSiNT",
        "outputId": "9fb2c690-1e90-42f2-8e64-faae5e249b20",
        "colab": {
          "base_uri": "https://localhost:8080/"
        }
      },
      "id": "DPcEMuuQSiNT",
      "execution_count": null,
      "outputs": [
        {
          "output_type": "stream",
          "name": "stdout",
          "text": [
            "El valor de la integral definida es,  0.15\n"
          ]
        }
      ]
    },
    {
      "cell_type": "markdown",
      "id": "0949b7a5-6d81-4e98-adc7-a7a1867266a3",
      "metadata": {
        "id": "0949b7a5-6d81-4e98-adc7-a7a1867266a3"
      },
      "source": [
        "B) Cargue los datos disponibles en:\n",
        "\n",
        "[https://github.com/ComputationalMethods/Evaluacion_2022-1/blob/main/data/lista_pares.json](https://raw.githubusercontent.com/ComputationalMethods/Evaluacion_2022-1/main/data/lista_pares.json)\n",
        "\n",
        "como un DataFrame de pandas. Este contendrá dos columnas. La columna `lista`, con una lista de 8 enteros (algunos de ellos repetidos) y una columna `pares` correspondiente a un diccionario\n",
        "con dos items: un entero rotulado con `'S'` y una lista de pares de enteros routulada con `'ψ'`. Note que el resultado de la suma en valor absoluto de los dos enteros en cada uno de los pares reproduce el valor del correspondiente `'S'` \n",
        "\n",
        "Seleccione la fila del DataFrame con el índice correspondiente a los dos últimos dígitos de su cédula y desarrolle los siguientes puntos con la correspondiente  `lista` y `pares`:\n",
        "1. Construya una matrix $8\\times 8$ _simétrica_ donde cada fila y la correspondiente columna correspondan a un entero de la `lista` (incluyendo los repetidos); de manera que en los cruces de filas y columnas definidos por los pares de enteros de `'ψ'`, se genere una entrada aleatoria mayor que cero y menor o igual que 1, con las demas entradas iguales a cero.\n",
        "1. Calcule el determinante y establezca explícitamente si es diferente cero (tenga en cuenta la precisión numérica). Recuerde que si el determinante es cero, se espera que al menos uno de los autovalores sea cero\n",
        "2. Organize los autovalores y autovectores de menor a mayor en valor absoluto y compruebe que las matriz de autovectores organizada da lugar a los autovalores en el orden correcto. \n",
        "3. Establezca explícitamente _cuantos_ autovalores son degenerados en valor absoluto."
      ]
    },
    {
      "cell_type": "code",
      "source": [
        "B=pd.read_json('https://raw.githubusercontent.com/ComputationalMethods/Evaluacion_2022-1/main/data/lista_pares.json')\n",
        "fila=B.iloc[16] #CC : 1001010816"
      ],
      "metadata": {
        "id": "z_zXLsfxaxwr"
      },
      "id": "z_zXLsfxaxwr",
      "execution_count": null,
      "outputs": []
    },
    {
      "cell_type": "code",
      "source": [
        "fila['lista']"
      ],
      "metadata": {
        "id": "lMTws4gYmpG4",
        "outputId": "1ea7261a-5eb9-4f92-ac78-93c5c97d15d8",
        "colab": {
          "base_uri": "https://localhost:8080/"
        }
      },
      "id": "lMTws4gYmpG4",
      "execution_count": null,
      "outputs": [
        {
          "output_type": "execute_result",
          "data": {
            "text/plain": [
              "[1, -3, -5, -6, 7, 8, 8, -10]"
            ]
          },
          "metadata": {},
          "execution_count": 7
        }
      ]
    },
    {
      "cell_type": "code",
      "source": [
        "parejas=fila['pares']['ψ']\n",
        "parejas"
      ],
      "metadata": {
        "id": "HEcy1RVRm02r",
        "outputId": "d3433341-c353-483a-ee7f-04809ec35b25",
        "colab": {
          "base_uri": "https://localhost:8080/"
        }
      },
      "id": "HEcy1RVRm02r",
      "execution_count": null,
      "outputs": [
        {
          "output_type": "execute_result",
          "data": {
            "text/plain": [
              "[[1, -3],\n",
              " [8, -10],\n",
              " [-5, 7],\n",
              " [-6, 8],\n",
              " [1, 1],\n",
              " [-3, 1],\n",
              " [-10, 8],\n",
              " [7, -5],\n",
              " [8, -6]]"
            ]
          },
          "metadata": {},
          "execution_count": 8
        }
      ]
    },
    {
      "cell_type": "markdown",
      "source": [
        "## 1)"
      ],
      "metadata": {
        "id": "O6bRVoT0brxC"
      },
      "id": "O6bRVoT0brxC"
    },
    {
      "cell_type": "code",
      "source": [
        "np.random.seed(1001010816)\n",
        "\n",
        "M=np.zeros((8,8))\n",
        "for i in range(8):\n",
        "  M[i,i]=fila['lista'][i]\n",
        "\n",
        "M[1,3]=M[-3,1]=np.random.random()\n",
        "M[-5,7]=M[7,-5]=np.random.random()  #Se quitaron las que están fuera del rango\n",
        "M[1,1]=np.random.random()"
      ],
      "metadata": {
        "id": "iyirHH_OjvqB"
      },
      "id": "iyirHH_OjvqB",
      "execution_count": null,
      "outputs": []
    },
    {
      "cell_type": "code",
      "source": [
        "sp.Matrix(M)"
      ],
      "metadata": {
        "id": "TVYq8DO6ka-g",
        "outputId": "7679d6ef-e17e-42b6-e9b3-54ff660f8e38",
        "colab": {
          "base_uri": "https://localhost:8080/",
          "height": 180
        }
      },
      "id": "TVYq8DO6ka-g",
      "execution_count": null,
      "outputs": [
        {
          "output_type": "execute_result",
          "data": {
            "text/plain": [
              "Matrix([\n",
              "[1.0,               0.0,  0.0,               0.0, 0.0, 0.0, 0.0,               0.0],\n",
              "[0.0, 0.793322922925144,  0.0, 0.775306622333622, 0.0, 0.0, 0.0,               0.0],\n",
              "[0.0,               0.0, -5.0,               0.0, 0.0, 0.0, 0.0,               0.0],\n",
              "[0.0,               0.0,  0.0,              -6.0, 0.0, 0.0, 0.0, 0.845864356831695],\n",
              "[0.0,               0.0,  0.0,               0.0, 7.0, 0.0, 0.0,               0.0],\n",
              "[0.0, 0.775306622333622,  0.0,               0.0, 0.0, 8.0, 0.0,               0.0],\n",
              "[0.0,               0.0,  0.0,               0.0, 0.0, 0.0, 8.0,               0.0],\n",
              "[0.0,               0.0,  0.0, 0.845864356831695, 0.0, 0.0, 0.0,             -10.0]])"
            ],
            "text/latex": "$\\displaystyle \\left[\\begin{matrix}1.0 & 0.0 & 0.0 & 0.0 & 0.0 & 0.0 & 0.0 & 0.0\\\\0.0 & 0.793322922925144 & 0.0 & 0.775306622333622 & 0.0 & 0.0 & 0.0 & 0.0\\\\0.0 & 0.0 & -5.0 & 0.0 & 0.0 & 0.0 & 0.0 & 0.0\\\\0.0 & 0.0 & 0.0 & -6.0 & 0.0 & 0.0 & 0.0 & 0.845864356831695\\\\0.0 & 0.0 & 0.0 & 0.0 & 7.0 & 0.0 & 0.0 & 0.0\\\\0.0 & 0.775306622333622 & 0.0 & 0.0 & 0.0 & 8.0 & 0.0 & 0.0\\\\0.0 & 0.0 & 0.0 & 0.0 & 0.0 & 0.0 & 8.0 & 0.0\\\\0.0 & 0.0 & 0.0 & 0.845864356831695 & 0.0 & 0.0 & 0.0 & -10.0\\end{matrix}\\right]$"
          },
          "metadata": {},
          "execution_count": 16
        }
      ]
    },
    {
      "cell_type": "markdown",
      "source": [
        "## 2)"
      ],
      "metadata": {
        "id": "Q_eIzpfzb2iD"
      },
      "id": "Q_eIzpfzb2iD"
    },
    {
      "cell_type": "code",
      "source": [
        "det=np.linalg.det(M)\n",
        "print('el determinante es ', det.round(2))"
      ],
      "metadata": {
        "id": "m_UVJp_DohI5",
        "outputId": "aeb55571-3d5c-4da2-a3aa-672abf968628",
        "colab": {
          "base_uri": "https://localhost:8080/"
        }
      },
      "id": "m_UVJp_DohI5",
      "execution_count": null,
      "outputs": [
        {
          "output_type": "stream",
          "name": "stdout",
          "text": [
            "el determinante es  -105351.15\n"
          ]
        }
      ]
    },
    {
      "cell_type": "markdown",
      "source": [
        "Claramente el determinante no es cero."
      ],
      "metadata": {
        "id": "h5Ege5tHcFae"
      },
      "id": "h5Ege5tHcFae"
    },
    {
      "cell_type": "markdown",
      "source": [
        "## 3)"
      ],
      "metadata": {
        "id": "tFg7ugFjcLvN"
      },
      "id": "tFg7ugFjcLvN"
    },
    {
      "cell_type": "code",
      "source": [
        "λ,V = np.linalg.eig(M)\n",
        "λ # Lista de autovalores"
      ],
      "metadata": {
        "id": "sQ9CmF1spC3P",
        "outputId": "5ddfcac6-6671-4f0e-ab8e-57eca542c053",
        "colab": {
          "base_uri": "https://localhost:8080/"
        }
      },
      "id": "sQ9CmF1spC3P",
      "execution_count": null,
      "outputs": [
        {
          "output_type": "execute_result",
          "data": {
            "text/plain": [
              "array([  8.        ,   0.79332292, -10.1715171 ,  -5.8284829 ,\n",
              "         1.        ,  -5.        ,   7.        ,   8.        ])"
            ]
          },
          "metadata": {},
          "execution_count": 18
        }
      ]
    },
    {
      "cell_type": "code",
      "source": [
        "# Se crean las columnas correspondientes a cada autovector\n",
        "V0=np.c_[ V[:,0] ]\n",
        "V1=np.c_[ V[:,1] ]\n",
        "V2=np.c_[ V[:,2] ]\n",
        "V3=np.c_[ V[:,3] ]\n",
        "V4=np.c_[ V[:,4] ]\n",
        "V5=np.c_[ V[:,5] ]\n",
        "V6=np.c_[ V[:,6] ]\n",
        "V7=np.c_[ V[:,7] ]\n",
        "\n",
        "# Se organizan por orden ascendente del auntovalor correspondiente\n",
        "Vo=np.c_[ V1,V4,V5,V3,V6,V0,V7,V2].round(13)\n",
        "sp.Matrix(Vo)"
      ],
      "metadata": {
        "id": "QEBUKSghuNN4",
        "outputId": "10c64cd8-7b02-40c4-bb98-4077cf2dc40f",
        "colab": {
          "base_uri": "https://localhost:8080/",
          "height": 180
        }
      },
      "id": "QEBUKSghuNN4",
      "execution_count": null,
      "outputs": [
        {
          "output_type": "execute_result",
          "data": {
            "text/plain": [
              "Matrix([\n",
              "[             0.0, 1.0, 0.0,              0.0, 0.0, 0.0, 0.0,              0.0],\n",
              "[ 0.9942628410444, 0.0, 0.0,  0.1139982017436, 0.0, 0.0, 0.0, -0.0140502913782],\n",
              "[             0.0, 0.0, 1.0,              0.0, 0.0, 0.0, 0.0,              0.0],\n",
              "[             0.0, 0.0, 0.0, -0.9736456964337, 0.0, 0.0, 0.0,  0.1987074439743],\n",
              "[             0.0, 0.0, 0.0,              0.0, 1.0, 0.0, 0.0,              0.0],\n",
              "[-0.1069644937268, 0.0, 0.0, -0.0063914141108, 0.0, 1.0, 0.0,  0.0005994702529],\n",
              "[             0.0, 0.0, 0.0,              0.0, 0.0, 0.0, 1.0,              0.0],\n",
              "[             0.0, 0.0, 0.0, -0.1974274997082, 0.0, 0.0, 0.0, -0.9799579489227]])"
            ],
            "text/latex": "$\\displaystyle \\left[\\begin{matrix}0.0 & 1.0 & 0.0 & 0.0 & 0.0 & 0.0 & 0.0 & 0.0\\\\0.9942628410444 & 0.0 & 0.0 & 0.1139982017436 & 0.0 & 0.0 & 0.0 & -0.0140502913782\\\\0.0 & 0.0 & 1.0 & 0.0 & 0.0 & 0.0 & 0.0 & 0.0\\\\0.0 & 0.0 & 0.0 & -0.9736456964337 & 0.0 & 0.0 & 0.0 & 0.1987074439743\\\\0.0 & 0.0 & 0.0 & 0.0 & 1.0 & 0.0 & 0.0 & 0.0\\\\-0.1069644937268 & 0.0 & 0.0 & -0.0063914141108 & 0.0 & 1.0 & 0.0 & 0.0005994702529\\\\0.0 & 0.0 & 0.0 & 0.0 & 0.0 & 0.0 & 1.0 & 0.0\\\\0.0 & 0.0 & 0.0 & -0.1974274997082 & 0.0 & 0.0 & 0.0 & -0.9799579489227\\end{matrix}\\right]$"
          },
          "metadata": {},
          "execution_count": 24
        }
      ]
    },
    {
      "cell_type": "code",
      "source": [
        "Vo_diag=(Vo.transpose()@M@Vo)"
      ],
      "metadata": {
        "id": "DHEk879m52lP"
      },
      "id": "DHEk879m52lP",
      "execution_count": null,
      "outputs": []
    },
    {
      "cell_type": "code",
      "source": [
        "sp.Matrix(np.diag(Vo_diag)) # Lista de autovalores organizada"
      ],
      "metadata": {
        "colab": {
          "base_uri": "https://localhost:8080/",
          "height": 180
        },
        "id": "6U4d6FUneV_3",
        "outputId": "d2c1ac1e-426c-42c4-d07a-4ef4b5d14f2a"
      },
      "id": "6U4d6FUneV_3",
      "execution_count": null,
      "outputs": [
        {
          "output_type": "execute_result",
          "data": {
            "text/plain": [
              "Matrix([\n",
              "[0.793322922925062],\n",
              "[              1.0],\n",
              "[             -5.0],\n",
              "[-5.82848290125129],\n",
              "[              7.0],\n",
              "[              8.0],\n",
              "[              8.0],\n",
              "[-10.1715170987486]])"
            ],
            "text/latex": "$\\displaystyle \\left[\\begin{matrix}0.793322922925062\\\\1.0\\\\-5.0\\\\-5.82848290125129\\\\7.0\\\\8.0\\\\8.0\\\\-10.1715170987486\\end{matrix}\\right]$"
          },
          "metadata": {},
          "execution_count": 40
        }
      ]
    },
    {
      "cell_type": "code",
      "source": [
        "sp.Matrix(λ) # Lista de autovalores original"
      ],
      "metadata": {
        "colab": {
          "base_uri": "https://localhost:8080/",
          "height": 180
        },
        "id": "NOUZrEHGeq5M",
        "outputId": "5b53d6a0-fbac-43b9-9a45-4282ff35c405"
      },
      "id": "NOUZrEHGeq5M",
      "execution_count": null,
      "outputs": [
        {
          "output_type": "execute_result",
          "data": {
            "text/plain": [
              "Matrix([\n",
              "[              8.0],\n",
              "[0.793322922925144],\n",
              "[-10.1715170987488],\n",
              "[-5.82848290125122],\n",
              "[              1.0],\n",
              "[             -5.0],\n",
              "[              7.0],\n",
              "[              8.0]])"
            ],
            "text/latex": "$\\displaystyle \\left[\\begin{matrix}8.0\\\\0.793322922925144\\\\-10.1715170987488\\\\-5.82848290125122\\\\1.0\\\\-5.0\\\\7.0\\\\8.0\\end{matrix}\\right]$"
          },
          "metadata": {},
          "execution_count": 42
        }
      ]
    },
    {
      "cell_type": "markdown",
      "source": [
        "Se comprueba que los autovalores eon los mismos pero ordenados ascendentemente por sus valores absolutos"
      ],
      "metadata": {
        "id": "EVJzRdVKcsoz"
      },
      "id": "EVJzRdVKcsoz"
    },
    {
      "cell_type": "markdown",
      "source": [
        "## 4) No hay autovalores degenerados"
      ],
      "metadata": {
        "id": "c30IEE-O816p"
      },
      "id": "c30IEE-O816p"
    },
    {
      "cell_type": "code",
      "source": [],
      "metadata": {
        "id": "BlTQthip7k9b"
      },
      "id": "BlTQthip7k9b",
      "execution_count": null,
      "outputs": []
    }
  ],
  "metadata": {
    "kernelspec": {
      "display_name": "Python 3 (ipykernel)",
      "language": "python",
      "name": "python3"
    },
    "language_info": {
      "codemirror_mode": {
        "name": "ipython",
        "version": 3
      },
      "file_extension": ".py",
      "mimetype": "text/x-python",
      "name": "python",
      "nbconvert_exporter": "python",
      "pygments_lexer": "ipython3",
      "version": "3.9.2"
    },
    "colab": {
      "provenance": [],
      "collapsed_sections": []
    }
  },
  "nbformat": 4,
  "nbformat_minor": 5
}